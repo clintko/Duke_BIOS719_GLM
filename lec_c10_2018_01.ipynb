{
 "cells": [
  {
   "cell_type": "code",
   "execution_count": null,
   "metadata": {},
   "outputs": [],
   "source": []
  },
  {
   "cell_type": "code",
   "execution_count": null,
   "metadata": {},
   "outputs": [],
   "source": []
  },
  {
   "cell_type": "code",
   "execution_count": null,
   "metadata": {},
   "outputs": [],
   "source": []
  },
  {
   "cell_type": "code",
   "execution_count": 7,
   "metadata": {},
   "outputs": [],
   "source": [
    "library(tidyverse)\n",
    "library(generalhoslem)\n",
    "library(IRdisplay)"
   ]
  },
  {
   "cell_type": "code",
   "execution_count": 32,
   "metadata": {},
   "outputs": [],
   "source": [
    "source(\"./codesnippet_r/f_hosmerlem.R\")"
   ]
  },
  {
   "cell_type": "markdown",
   "metadata": {},
   "source": [
    "# import data"
   ]
  },
  {
   "cell_type": "code",
   "execution_count": 22,
   "metadata": {},
   "outputs": [
    {
     "data": {
      "text/html": [
       "<table>\n",
       "<thead><tr><th scope=col>cs</th><th scope=col>batch</th><th scope=col>y</th><th scope=col>n</th></tr></thead>\n",
       "<tbody>\n",
       "\t<tr><td>49.06</td><td>0    </td><td> 2   </td><td>29   </td></tr>\n",
       "\t<tr><td>49.06</td><td>1    </td><td> 4   </td><td>30   </td></tr>\n",
       "\t<tr><td>52.99</td><td>0    </td><td> 7   </td><td>30   </td></tr>\n",
       "\t<tr><td>52.99</td><td>1    </td><td> 6   </td><td>30   </td></tr>\n",
       "\t<tr><td>56.91</td><td>0    </td><td> 9   </td><td>28   </td></tr>\n",
       "\t<tr><td>56.91</td><td>1    </td><td> 9   </td><td>34   </td></tr>\n",
       "\t<tr><td>60.84</td><td>0    </td><td>14   </td><td>27   </td></tr>\n",
       "\t<tr><td>60.84</td><td>1    </td><td>14   </td><td>29   </td></tr>\n",
       "\t<tr><td>64.76</td><td>0    </td><td>23   </td><td>30   </td></tr>\n",
       "\t<tr><td>64.76</td><td>1    </td><td>29   </td><td>33   </td></tr>\n",
       "\t<tr><td>68.69</td><td>0    </td><td>29   </td><td>31   </td></tr>\n",
       "\t<tr><td>68.69</td><td>1    </td><td>24   </td><td>28   </td></tr>\n",
       "\t<tr><td>72.61</td><td>0    </td><td>29   </td><td>30   </td></tr>\n",
       "\t<tr><td>72.61</td><td>1    </td><td>32   </td><td>32   </td></tr>\n",
       "\t<tr><td>76.54</td><td>0    </td><td>29   </td><td>29   </td></tr>\n",
       "\t<tr><td>76.54</td><td>1    </td><td>31   </td><td>31   </td></tr>\n",
       "</tbody>\n",
       "</table>\n"
      ],
      "text/latex": [
       "\\begin{tabular}{r|llll}\n",
       " cs & batch & y & n\\\\\n",
       "\\hline\n",
       "\t 49.06 & 0     &  2    & 29   \\\\\n",
       "\t 49.06 & 1     &  4    & 30   \\\\\n",
       "\t 52.99 & 0     &  7    & 30   \\\\\n",
       "\t 52.99 & 1     &  6    & 30   \\\\\n",
       "\t 56.91 & 0     &  9    & 28   \\\\\n",
       "\t 56.91 & 1     &  9    & 34   \\\\\n",
       "\t 60.84 & 0     & 14    & 27   \\\\\n",
       "\t 60.84 & 1     & 14    & 29   \\\\\n",
       "\t 64.76 & 0     & 23    & 30   \\\\\n",
       "\t 64.76 & 1     & 29    & 33   \\\\\n",
       "\t 68.69 & 0     & 29    & 31   \\\\\n",
       "\t 68.69 & 1     & 24    & 28   \\\\\n",
       "\t 72.61 & 0     & 29    & 30   \\\\\n",
       "\t 72.61 & 1     & 32    & 32   \\\\\n",
       "\t 76.54 & 0     & 29    & 29   \\\\\n",
       "\t 76.54 & 1     & 31    & 31   \\\\\n",
       "\\end{tabular}\n"
      ],
      "text/markdown": [
       "\n",
       "cs | batch | y | n | \n",
       "|---|---|---|---|---|---|---|---|---|---|---|---|---|---|---|---|\n",
       "| 49.06 | 0     |  2    | 29    | \n",
       "| 49.06 | 1     |  4    | 30    | \n",
       "| 52.99 | 0     |  7    | 30    | \n",
       "| 52.99 | 1     |  6    | 30    | \n",
       "| 56.91 | 0     |  9    | 28    | \n",
       "| 56.91 | 1     |  9    | 34    | \n",
       "| 60.84 | 0     | 14    | 27    | \n",
       "| 60.84 | 1     | 14    | 29    | \n",
       "| 64.76 | 0     | 23    | 30    | \n",
       "| 64.76 | 1     | 29    | 33    | \n",
       "| 68.69 | 0     | 29    | 31    | \n",
       "| 68.69 | 1     | 24    | 28    | \n",
       "| 72.61 | 0     | 29    | 30    | \n",
       "| 72.61 | 1     | 32    | 32    | \n",
       "| 76.54 | 0     | 29    | 29    | \n",
       "| 76.54 | 1     | 31    | 31    | \n",
       "\n",
       "\n"
      ],
      "text/plain": [
       "   cs    batch y  n \n",
       "1  49.06 0      2 29\n",
       "2  49.06 1      4 30\n",
       "3  52.99 0      7 30\n",
       "4  52.99 1      6 30\n",
       "5  56.91 0      9 28\n",
       "6  56.91 1      9 34\n",
       "7  60.84 0     14 27\n",
       "8  60.84 1     14 29\n",
       "9  64.76 0     23 30\n",
       "10 64.76 1     29 33\n",
       "11 68.69 0     29 31\n",
       "12 68.69 1     24 28\n",
       "13 72.61 0     29 30\n",
       "14 72.61 1     32 32\n",
       "15 76.54 0     29 29\n",
       "16 76.54 1     31 31"
      ]
     },
     "metadata": {},
     "output_type": "display_data"
    },
    {
     "data": {
      "text/html": [
       "<table>\n",
       "<thead><tr><th scope=col>cs</th><th scope=col>n</th><th scope=col>y</th></tr></thead>\n",
       "<tbody>\n",
       "\t<tr><td>49.06</td><td>1    </td><td>1    </td></tr>\n",
       "\t<tr><td>49.06</td><td>1    </td><td>1    </td></tr>\n",
       "\t<tr><td>49.06</td><td>1    </td><td>1    </td></tr>\n",
       "\t<tr><td>49.06</td><td>1    </td><td>1    </td></tr>\n",
       "\t<tr><td>49.06</td><td>1    </td><td>1    </td></tr>\n",
       "\t<tr><td>49.06</td><td>1    </td><td>1    </td></tr>\n",
       "\t<tr><td>52.99</td><td>1    </td><td>1    </td></tr>\n",
       "\t<tr><td>52.99</td><td>1    </td><td>1    </td></tr>\n",
       "\t<tr><td>52.99</td><td>1    </td><td>1    </td></tr>\n",
       "\t<tr><td>52.99</td><td>1    </td><td>1    </td></tr>\n",
       "\t<tr><td>52.99</td><td>1    </td><td>1    </td></tr>\n",
       "\t<tr><td>52.99</td><td>1    </td><td>1    </td></tr>\n",
       "\t<tr><td>52.99</td><td>1    </td><td>1    </td></tr>\n",
       "\t<tr><td>52.99</td><td>1    </td><td>1    </td></tr>\n",
       "\t<tr><td>52.99</td><td>1    </td><td>1    </td></tr>\n",
       "\t<tr><td>52.99</td><td>1    </td><td>1    </td></tr>\n",
       "\t<tr><td>52.99</td><td>1    </td><td>1    </td></tr>\n",
       "\t<tr><td>52.99</td><td>1    </td><td>1    </td></tr>\n",
       "\t<tr><td>52.99</td><td>1    </td><td>1    </td></tr>\n",
       "\t<tr><td>56.91</td><td>1    </td><td>1    </td></tr>\n",
       "\t<tr><td>56.91</td><td>1    </td><td>1    </td></tr>\n",
       "\t<tr><td>56.91</td><td>1    </td><td>1    </td></tr>\n",
       "\t<tr><td>56.91</td><td>1    </td><td>1    </td></tr>\n",
       "\t<tr><td>56.91</td><td>1    </td><td>1    </td></tr>\n",
       "\t<tr><td>56.91</td><td>1    </td><td>1    </td></tr>\n",
       "\t<tr><td>56.91</td><td>1    </td><td>1    </td></tr>\n",
       "\t<tr><td>56.91</td><td>1    </td><td>1    </td></tr>\n",
       "\t<tr><td>56.91</td><td>1    </td><td>1    </td></tr>\n",
       "\t<tr><td>56.91</td><td>1    </td><td>1    </td></tr>\n",
       "\t<tr><td>56.91</td><td>1    </td><td>1    </td></tr>\n",
       "\t<tr><td>⋮</td><td>⋮</td><td>⋮</td></tr>\n",
       "\t<tr><td>60.84</td><td>1    </td><td>0    </td></tr>\n",
       "\t<tr><td>60.84</td><td>1    </td><td>0    </td></tr>\n",
       "\t<tr><td>60.84</td><td>1    </td><td>0    </td></tr>\n",
       "\t<tr><td>60.84</td><td>1    </td><td>0    </td></tr>\n",
       "\t<tr><td>60.84</td><td>1    </td><td>0    </td></tr>\n",
       "\t<tr><td>60.84</td><td>1    </td><td>0    </td></tr>\n",
       "\t<tr><td>60.84</td><td>1    </td><td>0    </td></tr>\n",
       "\t<tr><td>60.84</td><td>1    </td><td>0    </td></tr>\n",
       "\t<tr><td>60.84</td><td>1    </td><td>0    </td></tr>\n",
       "\t<tr><td>60.84</td><td>1    </td><td>0    </td></tr>\n",
       "\t<tr><td>60.84</td><td>1    </td><td>0    </td></tr>\n",
       "\t<tr><td>60.84</td><td>1    </td><td>0    </td></tr>\n",
       "\t<tr><td>64.76</td><td>1    </td><td>0    </td></tr>\n",
       "\t<tr><td>64.76</td><td>1    </td><td>0    </td></tr>\n",
       "\t<tr><td>64.76</td><td>1    </td><td>0    </td></tr>\n",
       "\t<tr><td>64.76</td><td>1    </td><td>0    </td></tr>\n",
       "\t<tr><td>64.76</td><td>1    </td><td>0    </td></tr>\n",
       "\t<tr><td>64.76</td><td>1    </td><td>0    </td></tr>\n",
       "\t<tr><td>64.76</td><td>1    </td><td>0    </td></tr>\n",
       "\t<tr><td>64.76</td><td>1    </td><td>0    </td></tr>\n",
       "\t<tr><td>64.76</td><td>1    </td><td>0    </td></tr>\n",
       "\t<tr><td>64.76</td><td>1    </td><td>0    </td></tr>\n",
       "\t<tr><td>64.76</td><td>1    </td><td>0    </td></tr>\n",
       "\t<tr><td>68.69</td><td>1    </td><td>0    </td></tr>\n",
       "\t<tr><td>68.69</td><td>1    </td><td>0    </td></tr>\n",
       "\t<tr><td>68.69</td><td>1    </td><td>0    </td></tr>\n",
       "\t<tr><td>68.69</td><td>1    </td><td>0    </td></tr>\n",
       "\t<tr><td>68.69</td><td>1    </td><td>0    </td></tr>\n",
       "\t<tr><td>68.69</td><td>1    </td><td>0    </td></tr>\n",
       "\t<tr><td>72.61</td><td>1    </td><td>0    </td></tr>\n",
       "</tbody>\n",
       "</table>\n"
      ],
      "text/latex": [
       "\\begin{tabular}{r|lll}\n",
       " cs & n & y\\\\\n",
       "\\hline\n",
       "\t 49.06 & 1     & 1    \\\\\n",
       "\t 49.06 & 1     & 1    \\\\\n",
       "\t 49.06 & 1     & 1    \\\\\n",
       "\t 49.06 & 1     & 1    \\\\\n",
       "\t 49.06 & 1     & 1    \\\\\n",
       "\t 49.06 & 1     & 1    \\\\\n",
       "\t 52.99 & 1     & 1    \\\\\n",
       "\t 52.99 & 1     & 1    \\\\\n",
       "\t 52.99 & 1     & 1    \\\\\n",
       "\t 52.99 & 1     & 1    \\\\\n",
       "\t 52.99 & 1     & 1    \\\\\n",
       "\t 52.99 & 1     & 1    \\\\\n",
       "\t 52.99 & 1     & 1    \\\\\n",
       "\t 52.99 & 1     & 1    \\\\\n",
       "\t 52.99 & 1     & 1    \\\\\n",
       "\t 52.99 & 1     & 1    \\\\\n",
       "\t 52.99 & 1     & 1    \\\\\n",
       "\t 52.99 & 1     & 1    \\\\\n",
       "\t 52.99 & 1     & 1    \\\\\n",
       "\t 56.91 & 1     & 1    \\\\\n",
       "\t 56.91 & 1     & 1    \\\\\n",
       "\t 56.91 & 1     & 1    \\\\\n",
       "\t 56.91 & 1     & 1    \\\\\n",
       "\t 56.91 & 1     & 1    \\\\\n",
       "\t 56.91 & 1     & 1    \\\\\n",
       "\t 56.91 & 1     & 1    \\\\\n",
       "\t 56.91 & 1     & 1    \\\\\n",
       "\t 56.91 & 1     & 1    \\\\\n",
       "\t 56.91 & 1     & 1    \\\\\n",
       "\t 56.91 & 1     & 1    \\\\\n",
       "\t ⋮ & ⋮ & ⋮\\\\\n",
       "\t 60.84 & 1     & 0    \\\\\n",
       "\t 60.84 & 1     & 0    \\\\\n",
       "\t 60.84 & 1     & 0    \\\\\n",
       "\t 60.84 & 1     & 0    \\\\\n",
       "\t 60.84 & 1     & 0    \\\\\n",
       "\t 60.84 & 1     & 0    \\\\\n",
       "\t 60.84 & 1     & 0    \\\\\n",
       "\t 60.84 & 1     & 0    \\\\\n",
       "\t 60.84 & 1     & 0    \\\\\n",
       "\t 60.84 & 1     & 0    \\\\\n",
       "\t 60.84 & 1     & 0    \\\\\n",
       "\t 60.84 & 1     & 0    \\\\\n",
       "\t 64.76 & 1     & 0    \\\\\n",
       "\t 64.76 & 1     & 0    \\\\\n",
       "\t 64.76 & 1     & 0    \\\\\n",
       "\t 64.76 & 1     & 0    \\\\\n",
       "\t 64.76 & 1     & 0    \\\\\n",
       "\t 64.76 & 1     & 0    \\\\\n",
       "\t 64.76 & 1     & 0    \\\\\n",
       "\t 64.76 & 1     & 0    \\\\\n",
       "\t 64.76 & 1     & 0    \\\\\n",
       "\t 64.76 & 1     & 0    \\\\\n",
       "\t 64.76 & 1     & 0    \\\\\n",
       "\t 68.69 & 1     & 0    \\\\\n",
       "\t 68.69 & 1     & 0    \\\\\n",
       "\t 68.69 & 1     & 0    \\\\\n",
       "\t 68.69 & 1     & 0    \\\\\n",
       "\t 68.69 & 1     & 0    \\\\\n",
       "\t 68.69 & 1     & 0    \\\\\n",
       "\t 72.61 & 1     & 0    \\\\\n",
       "\\end{tabular}\n"
      ],
      "text/markdown": [
       "\n",
       "cs | n | y | \n",
       "|---|---|---|---|---|---|---|---|---|---|---|---|---|---|---|---|---|---|---|---|---|---|---|---|---|---|---|---|---|---|---|---|---|---|---|---|---|---|---|---|---|---|---|---|---|---|---|---|---|---|---|---|---|---|---|---|---|---|---|---|---|\n",
       "| 49.06 | 1     | 1     | \n",
       "| 49.06 | 1     | 1     | \n",
       "| 49.06 | 1     | 1     | \n",
       "| 49.06 | 1     | 1     | \n",
       "| 49.06 | 1     | 1     | \n",
       "| 49.06 | 1     | 1     | \n",
       "| 52.99 | 1     | 1     | \n",
       "| 52.99 | 1     | 1     | \n",
       "| 52.99 | 1     | 1     | \n",
       "| 52.99 | 1     | 1     | \n",
       "| 52.99 | 1     | 1     | \n",
       "| 52.99 | 1     | 1     | \n",
       "| 52.99 | 1     | 1     | \n",
       "| 52.99 | 1     | 1     | \n",
       "| 52.99 | 1     | 1     | \n",
       "| 52.99 | 1     | 1     | \n",
       "| 52.99 | 1     | 1     | \n",
       "| 52.99 | 1     | 1     | \n",
       "| 52.99 | 1     | 1     | \n",
       "| 56.91 | 1     | 1     | \n",
       "| 56.91 | 1     | 1     | \n",
       "| 56.91 | 1     | 1     | \n",
       "| 56.91 | 1     | 1     | \n",
       "| 56.91 | 1     | 1     | \n",
       "| 56.91 | 1     | 1     | \n",
       "| 56.91 | 1     | 1     | \n",
       "| 56.91 | 1     | 1     | \n",
       "| 56.91 | 1     | 1     | \n",
       "| 56.91 | 1     | 1     | \n",
       "| 56.91 | 1     | 1     | \n",
       "| ⋮ | ⋮ | ⋮ | \n",
       "| 60.84 | 1     | 0     | \n",
       "| 60.84 | 1     | 0     | \n",
       "| 60.84 | 1     | 0     | \n",
       "| 60.84 | 1     | 0     | \n",
       "| 60.84 | 1     | 0     | \n",
       "| 60.84 | 1     | 0     | \n",
       "| 60.84 | 1     | 0     | \n",
       "| 60.84 | 1     | 0     | \n",
       "| 60.84 | 1     | 0     | \n",
       "| 60.84 | 1     | 0     | \n",
       "| 60.84 | 1     | 0     | \n",
       "| 60.84 | 1     | 0     | \n",
       "| 64.76 | 1     | 0     | \n",
       "| 64.76 | 1     | 0     | \n",
       "| 64.76 | 1     | 0     | \n",
       "| 64.76 | 1     | 0     | \n",
       "| 64.76 | 1     | 0     | \n",
       "| 64.76 | 1     | 0     | \n",
       "| 64.76 | 1     | 0     | \n",
       "| 64.76 | 1     | 0     | \n",
       "| 64.76 | 1     | 0     | \n",
       "| 64.76 | 1     | 0     | \n",
       "| 64.76 | 1     | 0     | \n",
       "| 68.69 | 1     | 0     | \n",
       "| 68.69 | 1     | 0     | \n",
       "| 68.69 | 1     | 0     | \n",
       "| 68.69 | 1     | 0     | \n",
       "| 68.69 | 1     | 0     | \n",
       "| 68.69 | 1     | 0     | \n",
       "| 72.61 | 1     | 0     | \n",
       "\n",
       "\n"
      ],
      "text/plain": [
       "    cs    n y\n",
       "1   49.06 1 1\n",
       "2   49.06 1 1\n",
       "3   49.06 1 1\n",
       "4   49.06 1 1\n",
       "5   49.06 1 1\n",
       "6   49.06 1 1\n",
       "7   52.99 1 1\n",
       "8   52.99 1 1\n",
       "9   52.99 1 1\n",
       "10  52.99 1 1\n",
       "11  52.99 1 1\n",
       "12  52.99 1 1\n",
       "13  52.99 1 1\n",
       "14  52.99 1 1\n",
       "15  52.99 1 1\n",
       "16  52.99 1 1\n",
       "17  52.99 1 1\n",
       "18  52.99 1 1\n",
       "19  52.99 1 1\n",
       "20  56.91 1 1\n",
       "21  56.91 1 1\n",
       "22  56.91 1 1\n",
       "23  56.91 1 1\n",
       "24  56.91 1 1\n",
       "25  56.91 1 1\n",
       "26  56.91 1 1\n",
       "27  56.91 1 1\n",
       "28  56.91 1 1\n",
       "29  56.91 1 1\n",
       "30  56.91 1 1\n",
       "⋮   ⋮     ⋮ ⋮\n",
       "452 60.84 1 0\n",
       "453 60.84 1 0\n",
       "454 60.84 1 0\n",
       "455 60.84 1 0\n",
       "456 60.84 1 0\n",
       "457 60.84 1 0\n",
       "458 60.84 1 0\n",
       "459 60.84 1 0\n",
       "460 60.84 1 0\n",
       "461 60.84 1 0\n",
       "462 60.84 1 0\n",
       "463 60.84 1 0\n",
       "464 64.76 1 0\n",
       "465 64.76 1 0\n",
       "466 64.76 1 0\n",
       "467 64.76 1 0\n",
       "468 64.76 1 0\n",
       "469 64.76 1 0\n",
       "470 64.76 1 0\n",
       "471 64.76 1 0\n",
       "472 64.76 1 0\n",
       "473 64.76 1 0\n",
       "474 64.76 1 0\n",
       "475 68.69 1 0\n",
       "476 68.69 1 0\n",
       "477 68.69 1 0\n",
       "478 68.69 1 0\n",
       "479 68.69 1 0\n",
       "480 68.69 1 0\n",
       "481 72.61 1 0"
      ]
     },
     "metadata": {},
     "output_type": "display_data"
    }
   ],
   "source": [
    "source(\"./data/flour_beetle.R\")\n",
    "display(flour)\n",
    "display(flour_n1)"
   ]
  },
  {
   "cell_type": "code",
   "execution_count": 28,
   "metadata": {},
   "outputs": [],
   "source": [
    "flour_fit    = glm(cbind(y, n-y) ~ cs, data = flour,    family = binomial(link = \"logit\"))\n",
    "flour_n1_fit = glm(y ~ cs,             data = flour_n1, family = binomial(link = \"logit\"), x = T, eps = 1e-10)"
   ]
  },
  {
   "cell_type": "markdown",
   "metadata": {},
   "source": []
  },
  {
   "cell_type": "code",
   "execution_count": 21,
   "metadata": {},
   "outputs": [
    {
     "name": "stderr",
     "output_type": "stream",
     "text": [
      "Warning message in logitgof(obs = flour$y/flour$n, exp = flour_fit$fitted.values, :\n",
      "“At least one cell in the expected frequencies table is < 1. Chi-square approximation may be incorrect.”"
     ]
    },
    {
     "data": {
      "text/plain": [
       "\n",
       "\tHosmer and Lemeshow test (binary model)\n",
       "\n",
       "data:  flour$y/flour$n, flour_fit$fitted.values\n",
       "X-squared = NaN, df = 8, p-value = NA\n"
      ]
     },
     "metadata": {},
     "output_type": "display_data"
    }
   ],
   "source": [
    "logitgof(obs = flour$y / flour$n, exp = flour_fit$fitted.values, g = 10)"
   ]
  },
  {
   "cell_type": "code",
   "execution_count": 33,
   "metadata": {},
   "outputs": [
    {
     "data": {
      "text/html": [
       "<dl>\n",
       "\t<dt>$chisq</dt>\n",
       "\t\t<dd>NaN</dd>\n",
       "\t<dt>$p.value</dt>\n",
       "\t\t<dd>NaN</dd>\n",
       "</dl>\n"
      ],
      "text/latex": [
       "\\begin{description}\n",
       "\\item[\\$chisq] NaN\n",
       "\\item[\\$p.value] NaN\n",
       "\\end{description}\n"
      ],
      "text/markdown": [
       "$chisq\n",
       ":   NaN\n",
       "$p.value\n",
       ":   NaN\n",
       "\n",
       "\n"
      ],
      "text/plain": [
       "$chisq\n",
       "[1] NaN\n",
       "\n",
       "$p.value\n",
       "[1] NaN\n"
      ]
     },
     "metadata": {},
     "output_type": "display_data"
    }
   ],
   "source": [
    "f_hosmerlem(flour$y / flour$n, flour_fit$fitted.values, g = 10)"
   ]
  },
  {
   "cell_type": "code",
   "execution_count": null,
   "metadata": {},
   "outputs": [],
   "source": []
  },
  {
   "cell_type": "code",
   "execution_count": 34,
   "metadata": {},
   "outputs": [
    {
     "name": "stderr",
     "output_type": "stream",
     "text": [
      "Warning message in logitgof(obs = flour_n1$y, exp = flour_n1_fit$fitted.values, :\n",
      "“At least one cell in the expected frequencies table is < 1. Chi-square approximation may be incorrect.”Warning message in logitgof(obs = flour_n1$y, exp = flour_n1_fit$fitted.values, :\n",
      "“Not possible to compute 8 rows. There might be too few observations.”"
     ]
    },
    {
     "data": {
      "text/plain": [
       "\n",
       "\tHosmer and Lemeshow test (binary model)\n",
       "\n",
       "data:  flour_n1$y, flour_n1_fit$fitted.values\n",
       "X-squared = 4.6967, df = 4, p-value = 0.3199\n"
      ]
     },
     "metadata": {},
     "output_type": "display_data"
    }
   ],
   "source": [
    "logitgof(obs = flour_n1$y, \n",
    "         exp = flour_n1_fit$fitted.values, \n",
    "         g   = 8)"
   ]
  },
  {
   "cell_type": "code",
   "execution_count": 35,
   "metadata": {},
   "outputs": [
    {
     "data": {
      "text/html": [
       "<dl>\n",
       "\t<dt>$chisq</dt>\n",
       "\t\t<dd>6.70889656799785</dd>\n",
       "\t<dt>$p.value</dt>\n",
       "\t\t<dd>0.34860908654633</dd>\n",
       "</dl>\n"
      ],
      "text/latex": [
       "\\begin{description}\n",
       "\\item[\\$chisq] 6.70889656799785\n",
       "\\item[\\$p.value] 0.34860908654633\n",
       "\\end{description}\n"
      ],
      "text/markdown": [
       "$chisq\n",
       ":   6.70889656799785\n",
       "$p.value\n",
       ":   0.34860908654633\n",
       "\n",
       "\n"
      ],
      "text/plain": [
       "$chisq\n",
       "[1] 6.708897\n",
       "\n",
       "$p.value\n",
       "[1] 0.3486091\n"
      ]
     },
     "metadata": {},
     "output_type": "display_data"
    }
   ],
   "source": [
    "f_hosmerlem(y    = flour_n1$y, \n",
    "            yhat = flour_n1_fit$fitted.values, \n",
    "            g    = 8)"
   ]
  },
  {
   "cell_type": "code",
   "execution_count": 15,
   "metadata": {},
   "outputs": [
    {
     "data": {
      "text/html": [
       "<dl class=dl-horizontal>\n",
       "\t<dt>1</dt>\n",
       "\t\t<dd>0.0701659029203667</dd>\n",
       "\t<dt>2</dt>\n",
       "\t\t<dd>0.0701659029203667</dd>\n",
       "\t<dt>3</dt>\n",
       "\t\t<dd>0.16729737226103</dd>\n",
       "\t<dt>4</dt>\n",
       "\t\t<dd>0.16729737226103</dd>\n",
       "\t<dt>5</dt>\n",
       "\t\t<dd>0.34792891732979</dd>\n",
       "\t<dt>6</dt>\n",
       "\t\t<dd>0.34792891732979</dd>\n",
       "\t<dt>7</dt>\n",
       "\t\t<dd>0.586880574721414</dd>\n",
       "\t<dt>8</dt>\n",
       "\t\t<dd>0.586880574721414</dd>\n",
       "\t<dt>9</dt>\n",
       "\t\t<dd>0.790481951744897</dd>\n",
       "\t<dt>10</dt>\n",
       "\t\t<dd>0.790481951744897</dd>\n",
       "\t<dt>11</dt>\n",
       "\t\t<dd>0.909461126264501</dd>\n",
       "\t<dt>12</dt>\n",
       "\t\t<dd>0.909461126264501</dd>\n",
       "\t<dt>13</dt>\n",
       "\t\t<dd>0.963869595152768</dd>\n",
       "\t<dt>14</dt>\n",
       "\t\t<dd>0.963869595152768</dd>\n",
       "\t<dt>15</dt>\n",
       "\t\t<dd>0.986116333735456</dd>\n",
       "\t<dt>16</dt>\n",
       "\t\t<dd>0.986116333735456</dd>\n",
       "</dl>\n"
      ],
      "text/latex": [
       "\\begin{description*}\n",
       "\\item[1] 0.0701659029203667\n",
       "\\item[2] 0.0701659029203667\n",
       "\\item[3] 0.16729737226103\n",
       "\\item[4] 0.16729737226103\n",
       "\\item[5] 0.34792891732979\n",
       "\\item[6] 0.34792891732979\n",
       "\\item[7] 0.586880574721414\n",
       "\\item[8] 0.586880574721414\n",
       "\\item[9] 0.790481951744897\n",
       "\\item[10] 0.790481951744897\n",
       "\\item[11] 0.909461126264501\n",
       "\\item[12] 0.909461126264501\n",
       "\\item[13] 0.963869595152768\n",
       "\\item[14] 0.963869595152768\n",
       "\\item[15] 0.986116333735456\n",
       "\\item[16] 0.986116333735456\n",
       "\\end{description*}\n"
      ],
      "text/markdown": [
       "1\n",
       ":   0.07016590292036672\n",
       ":   0.07016590292036673\n",
       ":   0.167297372261034\n",
       ":   0.167297372261035\n",
       ":   0.347928917329796\n",
       ":   0.347928917329797\n",
       ":   0.5868805747214148\n",
       ":   0.5868805747214149\n",
       ":   0.79048195174489710\n",
       ":   0.79048195174489711\n",
       ":   0.90946112626450112\n",
       ":   0.90946112626450113\n",
       ":   0.96386959515276814\n",
       ":   0.96386959515276815\n",
       ":   0.98611633373545616\n",
       ":   0.986116333735456\n",
       "\n"
      ],
      "text/plain": [
       "        1         2         3         4         5         6         7         8 \n",
       "0.0701659 0.0701659 0.1672974 0.1672974 0.3479289 0.3479289 0.5868806 0.5868806 \n",
       "        9        10        11        12        13        14        15        16 \n",
       "0.7904820 0.7904820 0.9094611 0.9094611 0.9638696 0.9638696 0.9861163 0.9861163 "
      ]
     },
     "metadata": {},
     "output_type": "display_data"
    }
   ],
   "source": [
    "flour_fit$fitted.values"
   ]
  },
  {
   "cell_type": "markdown",
   "metadata": {},
   "source": [
    "### Another approach to checking for linearity of effect for an ordinal variable"
   ]
  },
  {
   "cell_type": "code",
   "execution_count": 41,
   "metadata": {},
   "outputs": [],
   "source": [
    "flour_ordinal = flour %>%\n",
    "    mutate(ct = as.numeric(\n",
    "        cut(\n",
    "            cs, \n",
    "            breaks = quantile(\n",
    "                flour$cs, \n",
    "                prob = seq(0, 1, by = 0.25)), \n",
    "                include.lowest = T)) - 1) %>%\n",
    "    mutate(c0 = ifelse(ct == 0, 1, 0)) %>%\n",
    "    mutate(c1 = ifelse(ct == 1, 1, 0)) %>%\n",
    "    mutate(c2 = ifelse(ct == 2, 1, 0)) %>%\n",
    "    mutate(c3 = ifelse(ct == 3, 1, 0))"
   ]
  },
  {
   "cell_type": "code",
   "execution_count": null,
   "metadata": {},
   "outputs": [],
   "source": [
    "flour_ordinal"
   ]
  },
  {
   "cell_type": "code",
   "execution_count": 42,
   "metadata": {},
   "outputs": [],
   "source": [
    "flour_ordinal_fit01 = glm(cbind(y, n - y) ~ c1 + c2 + c3, data = flour_ordinal, family = binomial)\n",
    "flour_ordinal_fit02 = glm(cbind(y, n - y) ~ ct + c2 + c3, data = flour_ordinal, family = binomial)\n",
    "flour_ordinal_fit03 = glm(cbind(y, n - y) ~ ct,           data = flour_ordinal, family = binomial)"
   ]
  },
  {
   "cell_type": "code",
   "execution_count": 55,
   "metadata": {
    "scrolled": false
   },
   "outputs": [
    {
     "name": "stdout",
     "output_type": "stream",
     "text": [
      "$c1_c2_c3\n",
      "(Intercept)          c1          c2          c3 \n",
      "  -1.660731    1.212706    3.481478    6.456522 \n",
      "\n",
      "$ct_c2_c3\n",
      "(Intercept)          ct          c2          c3 \n",
      "  -1.660731    1.212706    1.056065    2.818402 \n",
      "\n",
      "$ct\n",
      "(Intercept)          ct \n",
      "  -2.044451    1.895159 \n",
      "\n"
     ]
    }
   ],
   "source": [
    "tmp = list(\n",
    "    \"c1_c2_c3\" = flour_ordinal_fit01$coefficients,\n",
    "    \"ct_c2_c3\" = flour_ordinal_fit02$coefficients,\n",
    "    \"ct\"           = flour_ordinal_fit03$coefficients)\n",
    "\n",
    "print(tmp)"
   ]
  },
  {
   "cell_type": "markdown",
   "metadata": {},
   "source": [
    "**observation**"
   ]
  },
  {
   "cell_type": "code",
   "execution_count": 60,
   "metadata": {},
   "outputs": [
    {
     "name": "stdout",
     "output_type": "stream",
     "text": [
      "      c2 \n",
      "1.056065 \n",
      "      c3 \n",
      "2.818402 \n"
     ]
    }
   ],
   "source": [
    "print(tmp$c1_c2_c3['c2'] - 2 * tmp$c1_c2_c3['c1'])\n",
    "print(tmp$c1_c2_c3['c3'] - 3 * tmp$c1_c2_c3['c1'])"
   ]
  },
  {
   "cell_type": "markdown",
   "metadata": {},
   "source": [
    "**observation**"
   ]
  },
  {
   "cell_type": "code",
   "execution_count": 62,
   "metadata": {},
   "outputs": [
    {
     "data": {
      "text/html": [
       "<table>\n",
       "<thead><tr><th></th><th scope=col>Df</th><th scope=col>Deviance</th><th scope=col>Resid. Df</th><th scope=col>Resid. Dev</th><th scope=col>Pr(&gt;Chi)</th></tr></thead>\n",
       "<tbody>\n",
       "\t<tr><th scope=row>NULL</th><td>NA          </td><td>         NA </td><td>15          </td><td>289.14129   </td><td>          NA</td></tr>\n",
       "\t<tr><th scope=row>ct</th><td> 1          </td><td>266.2193483 </td><td>14          </td><td> 22.92195   </td><td>7.566708e-60</td></tr>\n",
       "\t<tr><th scope=row>c2</th><td> 1          </td><td>  0.1790424 </td><td>13          </td><td> 22.74290   </td><td>6.721975e-01</td></tr>\n",
       "\t<tr><th scope=row>c3</th><td> 1          </td><td>  6.6072890 </td><td>12          </td><td> 16.13561   </td><td>1.015622e-02</td></tr>\n",
       "</tbody>\n",
       "</table>\n"
      ],
      "text/latex": [
       "\\begin{tabular}{r|lllll}\n",
       "  & Df & Deviance & Resid. Df & Resid. Dev & Pr(>Chi)\\\\\n",
       "\\hline\n",
       "\tNULL & NA           &          NA  & 15           & 289.14129    &           NA\\\\\n",
       "\tct &  1           & 266.2193483  & 14           &  22.92195    & 7.566708e-60\\\\\n",
       "\tc2 &  1           &   0.1790424  & 13           &  22.74290    & 6.721975e-01\\\\\n",
       "\tc3 &  1           &   6.6072890  & 12           &  16.13561    & 1.015622e-02\\\\\n",
       "\\end{tabular}\n"
      ],
      "text/markdown": [
       "\n",
       "| <!--/--> | Df | Deviance | Resid. Df | Resid. Dev | Pr(>Chi) | \n",
       "|---|---|---|---|\n",
       "| NULL | NA           |          NA  | 15           | 289.14129    |           NA | \n",
       "| ct |  1           | 266.2193483  | 14           |  22.92195    | 7.566708e-60 | \n",
       "| c2 |  1           |   0.1790424  | 13           |  22.74290    | 6.721975e-01 | \n",
       "| c3 |  1           |   6.6072890  | 12           |  16.13561    | 1.015622e-02 | \n",
       "\n",
       "\n"
      ],
      "text/plain": [
       "     Df Deviance    Resid. Df Resid. Dev Pr(>Chi)    \n",
       "NULL NA          NA 15        289.14129            NA\n",
       "ct    1 266.2193483 14         22.92195  7.566708e-60\n",
       "c2    1   0.1790424 13         22.74290  6.721975e-01\n",
       "c3    1   6.6072890 12         16.13561  1.015622e-02"
      ]
     },
     "metadata": {},
     "output_type": "display_data"
    }
   ],
   "source": [
    "anova(flour_ordinal_fit02, test = \"Chisq\")"
   ]
  },
  {
   "cell_type": "markdown",
   "metadata": {},
   "source": [
    "**observation**"
   ]
  },
  {
   "cell_type": "code",
   "execution_count": 66,
   "metadata": {},
   "outputs": [
    {
     "name": "stdout",
     "output_type": "stream",
     "text": [
      " 16.13561 \n",
      " 16.13561 \n",
      " 22.92195 \n"
     ]
    }
   ],
   "source": [
    "cat(\"\", \n",
    "    flour_ordinal_fit01$deviance, \"\\n\",\n",
    "    flour_ordinal_fit02$deviance, \"\\n\",\n",
    "    flour_ordinal_fit03$deviance, \"\\n\")"
   ]
  },
  {
   "cell_type": "code",
   "execution_count": null,
   "metadata": {},
   "outputs": [],
   "source": []
  },
  {
   "cell_type": "code",
   "execution_count": null,
   "metadata": {},
   "outputs": [],
   "source": []
  }
 ],
 "metadata": {
  "kernelspec": {
   "display_name": "R",
   "language": "R",
   "name": "ir"
  },
  "language_info": {
   "codemirror_mode": "r",
   "file_extension": ".r",
   "mimetype": "text/x-r-source",
   "name": "R",
   "pygments_lexer": "r",
   "version": "3.5.1"
  }
 },
 "nbformat": 4,
 "nbformat_minor": 2
}
