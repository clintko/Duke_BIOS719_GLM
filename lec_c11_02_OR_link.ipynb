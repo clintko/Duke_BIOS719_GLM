{
 "cells": [
  {
   "cell_type": "markdown",
   "metadata": {},
   "source": [
    "# Set environment"
   ]
  },
  {
   "cell_type": "code",
   "execution_count": 2,
   "metadata": {},
   "outputs": [
    {
     "name": "stderr",
     "output_type": "stream",
     "text": [
      "── Attaching packages ─────────────────────────────────────── tidyverse 1.2.1 ──\n",
      "✔ ggplot2 3.0.0     ✔ purrr   0.2.5\n",
      "✔ tibble  1.4.2     ✔ dplyr   0.7.6\n",
      "✔ tidyr   0.8.1     ✔ stringr 1.3.1\n",
      "✔ readr   1.1.1     ✔ forcats 0.3.0\n",
      "── Conflicts ────────────────────────────────────────── tidyverse_conflicts() ──\n",
      "✖ dplyr::filter() masks stats::filter()\n",
      "✖ dplyr::lag()    masks stats::lag()\n"
     ]
    }
   ],
   "source": [
    "library(tidyverse)\n",
    "library(IRdisplay)"
   ]
  },
  {
   "cell_type": "code",
   "execution_count": 98,
   "metadata": {},
   "outputs": [
    {
     "data": {
      "text/html": [
       "<table>\n",
       "<thead><tr><th scope=col>dose</th><th scope=col>n</th><th scope=col>y</th><th scope=col>n_y</th></tr></thead>\n",
       "<tbody>\n",
       "\t<tr><td>1.6907</td><td>59    </td><td> 6    </td><td>53    </td></tr>\n",
       "\t<tr><td>1.7242</td><td>60    </td><td>13    </td><td>47    </td></tr>\n",
       "\t<tr><td>1.7552</td><td>62    </td><td>18    </td><td>44    </td></tr>\n",
       "\t<tr><td>1.7842</td><td>56    </td><td>28    </td><td>28    </td></tr>\n",
       "\t<tr><td>1.8113</td><td>63    </td><td>52    </td><td>11    </td></tr>\n",
       "\t<tr><td>1.8369</td><td>59    </td><td>53    </td><td> 6    </td></tr>\n",
       "\t<tr><td>1.8610</td><td>62    </td><td>61    </td><td> 1    </td></tr>\n",
       "\t<tr><td>1.8839</td><td>60    </td><td>60    </td><td> 0    </td></tr>\n",
       "</tbody>\n",
       "</table>\n"
      ],
      "text/latex": [
       "\\begin{tabular}{r|llll}\n",
       " dose & n & y & n\\_y\\\\\n",
       "\\hline\n",
       "\t 1.6907 & 59     &  6     & 53    \\\\\n",
       "\t 1.7242 & 60     & 13     & 47    \\\\\n",
       "\t 1.7552 & 62     & 18     & 44    \\\\\n",
       "\t 1.7842 & 56     & 28     & 28    \\\\\n",
       "\t 1.8113 & 63     & 52     & 11    \\\\\n",
       "\t 1.8369 & 59     & 53     &  6    \\\\\n",
       "\t 1.8610 & 62     & 61     &  1    \\\\\n",
       "\t 1.8839 & 60     & 60     &  0    \\\\\n",
       "\\end{tabular}\n"
      ],
      "text/markdown": [
       "\n",
       "dose | n | y | n_y | \n",
       "|---|---|---|---|---|---|---|---|\n",
       "| 1.6907 | 59     |  6     | 53     | \n",
       "| 1.7242 | 60     | 13     | 47     | \n",
       "| 1.7552 | 62     | 18     | 44     | \n",
       "| 1.7842 | 56     | 28     | 28     | \n",
       "| 1.8113 | 63     | 52     | 11     | \n",
       "| 1.8369 | 59     | 53     |  6     | \n",
       "| 1.8610 | 62     | 61     |  1     | \n",
       "| 1.8839 | 60     | 60     |  0     | \n",
       "\n",
       "\n"
      ],
      "text/plain": [
       "  dose   n  y  n_y\n",
       "1 1.6907 59  6 53 \n",
       "2 1.7242 60 13 47 \n",
       "3 1.7552 62 18 44 \n",
       "4 1.7842 56 28 28 \n",
       "5 1.8113 63 52 11 \n",
       "6 1.8369 59 53  6 \n",
       "7 1.8610 62 61  1 \n",
       "8 1.8839 60 60  0 "
      ]
     },
     "metadata": {},
     "output_type": "display_data"
    }
   ],
   "source": [
    "source(\"./data/beetle.R\")\n",
    "beetle"
   ]
  },
  {
   "cell_type": "code",
   "execution_count": 4,
   "metadata": {},
   "outputs": [],
   "source": [
    "fit_logit   = glm(cbind(y, n-y) ~ dose, data = beetle, binomial(link = \"logit\"))\n",
    "fit_cloglog = glm(cbind(y, n-y) ~ dose, data = beetle, binomial(link = \"cloglog\"))"
   ]
  },
  {
   "cell_type": "code",
   "execution_count": 5,
   "metadata": {},
   "outputs": [
    {
     "data": {
      "text/html": [
       "<dl class=dl-horizontal>\n",
       "\t<dt>(Intercept)</dt>\n",
       "\t\t<dd>-60.7174545613745</dd>\n",
       "\t<dt>dose</dt>\n",
       "\t\t<dd>34.2703257339996</dd>\n",
       "</dl>\n"
      ],
      "text/latex": [
       "\\begin{description*}\n",
       "\\item[(Intercept)] -60.7174545613745\n",
       "\\item[dose] 34.2703257339996\n",
       "\\end{description*}\n"
      ],
      "text/markdown": [
       "(Intercept)\n",
       ":   -60.7174545613745dose\n",
       ":   34.2703257339996\n",
       "\n"
      ],
      "text/plain": [
       "(Intercept)        dose \n",
       "  -60.71745    34.27033 "
      ]
     },
     "metadata": {},
     "output_type": "display_data"
    }
   ],
   "source": [
    "fit_logit$coef"
   ]
  },
  {
   "cell_type": "code",
   "execution_count": 6,
   "metadata": {},
   "outputs": [
    {
     "data": {
      "text/html": [
       "<dl class=dl-horizontal>\n",
       "\t<dt>(Intercept)</dt>\n",
       "\t\t<dd>-39.5723092142106</dd>\n",
       "\t<dt>dose</dt>\n",
       "\t\t<dd>22.0411690452657</dd>\n",
       "</dl>\n"
      ],
      "text/latex": [
       "\\begin{description*}\n",
       "\\item[(Intercept)] -39.5723092142106\n",
       "\\item[dose] 22.0411690452657\n",
       "\\end{description*}\n"
      ],
      "text/markdown": [
       "(Intercept)\n",
       ":   -39.5723092142106dose\n",
       ":   22.0411690452657\n",
       "\n"
      ],
      "text/plain": [
       "(Intercept)        dose \n",
       "  -39.57231    22.04117 "
      ]
     },
     "metadata": {},
     "output_type": "display_data"
    }
   ],
   "source": [
    "fit_cloglog$coef"
   ]
  },
  {
   "cell_type": "markdown",
   "metadata": {},
   "source": [
    "- pattern 1 dose = 1.8\n",
    "- pattern 2 dose = 1.81"
   ]
  },
  {
   "cell_type": "code",
   "execution_count": 7,
   "metadata": {},
   "outputs": [],
   "source": [
    "pattern1 = c(1, 1.80)\n",
    "pattern2 = c(1, 1.81)"
   ]
  },
  {
   "cell_type": "markdown",
   "metadata": {},
   "source": [
    "# link: logit\n",
    "\n",
    "$g(p) = logit(p) = log(\\frac{p}{1-p}) = log(odds)$\n",
    "\n",
    "OR_<sub>pattern 2 vs pattern 1</sub>\n",
    "\n",
    "$= \\frac{\n",
    "    odds (pattern 2)\n",
    "}{\n",
    "    odds (pattern 1)\n",
    "}$\n",
    "\n",
    "$= \\frac{\n",
    "    exp \\big( \\beta_1 + \\beta_2 * 1.81 \\big)\n",
    "}{\n",
    "    exp \\big( \\beta_1 + \\beta_2 * 1.80 \\big)\n",
    "}$\n",
    "\n",
    "$= exp \\big( \\beta_2 * 0.01 \\big)$"
   ]
  },
  {
   "cell_type": "markdown",
   "metadata": {},
   "source": [
    "$$\\eta = \\beta_1 + \\beta_2 * x$$"
   ]
  },
  {
   "cell_type": "code",
   "execution_count": 8,
   "metadata": {},
   "outputs": [
    {
     "data": {
      "text/html": [
       "0.969131759824876"
      ],
      "text/latex": [
       "0.969131759824876"
      ],
      "text/markdown": [
       "0.969131759824876"
      ],
      "text/plain": [
       "[1] 0.9691318"
      ]
     },
     "metadata": {},
     "output_type": "display_data"
    }
   ],
   "source": [
    "eta1 = pattern1 %*% fit_logit$coef %>% as.vector\n",
    "display(eta1)"
   ]
  },
  {
   "cell_type": "code",
   "execution_count": 9,
   "metadata": {},
   "outputs": [
    {
     "data": {
      "text/html": [
       "1.31183501716487"
      ],
      "text/latex": [
       "1.31183501716487"
      ],
      "text/markdown": [
       "1.31183501716487"
      ],
      "text/plain": [
       "[1] 1.311835"
      ]
     },
     "metadata": {},
     "output_type": "display_data"
    }
   ],
   "source": [
    "eta2 = pattern2 %*% fit_logit$coef %>% as.vector\n",
    "display(eta2)"
   ]
  },
  {
   "cell_type": "markdown",
   "metadata": {},
   "source": [
    "$$g(p) = logit(p) = log(\\frac{p}{1-p})$$\n",
    "\n",
    "$$p = g^{-1}(\\eta) = \\frac{1}{1 + exp(\\eta)}$$"
   ]
  },
  {
   "cell_type": "code",
   "execution_count": 10,
   "metadata": {},
   "outputs": [],
   "source": [
    "g_inv = function(eta){\n",
    "    1 / (1 + exp(-eta))\n",
    "} # end func"
   ]
  },
  {
   "cell_type": "code",
   "execution_count": 11,
   "metadata": {},
   "outputs": [
    {
     "data": {
      "text/html": [
       "0.724946405284653"
      ],
      "text/latex": [
       "0.724946405284653"
      ],
      "text/markdown": [
       "0.724946405284653"
      ],
      "text/plain": [
       "[1] 0.7249464"
      ]
     },
     "metadata": {},
     "output_type": "display_data"
    }
   ],
   "source": [
    "p1 = g_inv(eta1)\n",
    "display(p1)"
   ]
  },
  {
   "cell_type": "code",
   "execution_count": 12,
   "metadata": {},
   "outputs": [
    {
     "data": {
      "text/html": [
       "0.787820058644169"
      ],
      "text/latex": [
       "0.787820058644169"
      ],
      "text/markdown": [
       "0.787820058644169"
      ],
      "text/plain": [
       "[1] 0.7878201"
      ]
     },
     "metadata": {},
     "output_type": "display_data"
    }
   ],
   "source": [
    "p2 = g_inv(eta2)\n",
    "display(p2)"
   ]
  },
  {
   "cell_type": "markdown",
   "metadata": {},
   "source": [
    "$$odds = \\frac{p}{1-p}$$"
   ]
  },
  {
   "cell_type": "code",
   "execution_count": 13,
   "metadata": {},
   "outputs": [
    {
     "data": {
      "text/html": [
       "2.63565508400244"
      ],
      "text/latex": [
       "2.63565508400244"
      ],
      "text/markdown": [
       "2.63565508400244"
      ],
      "text/plain": [
       "[1] 2.635655"
      ]
     },
     "metadata": {},
     "output_type": "display_data"
    }
   ],
   "source": [
    "odds1 = p1 / (1 - p1)\n",
    "display(odds1)"
   ]
  },
  {
   "cell_type": "code",
   "execution_count": 14,
   "metadata": {},
   "outputs": [
    {
     "data": {
      "text/html": [
       "3.71298084828375"
      ],
      "text/latex": [
       "3.71298084828375"
      ],
      "text/markdown": [
       "3.71298084828375"
      ],
      "text/plain": [
       "[1] 3.712981"
      ]
     },
     "metadata": {},
     "output_type": "display_data"
    }
   ],
   "source": [
    "odds2 = p2 / (1 - p2)\n",
    "display(odds2)"
   ]
  },
  {
   "cell_type": "markdown",
   "metadata": {},
   "source": [
    "$$OR_{\\text{pattern 2 vs pattern 1}} = \\frac{\n",
    "    odds (\\text{pattern 2})\n",
    "}{\n",
    "    odds (\\text{pattern 1})\n",
    "}$$"
   ]
  },
  {
   "cell_type": "code",
   "execution_count": 15,
   "metadata": {},
   "outputs": [
    {
     "data": {
      "text/html": [
       "1.40875066347654"
      ],
      "text/latex": [
       "1.40875066347654"
      ],
      "text/markdown": [
       "1.40875066347654"
      ],
      "text/plain": [
       "[1] 1.408751"
      ]
     },
     "metadata": {},
     "output_type": "display_data"
    }
   ],
   "source": [
    "odds2 / odds1"
   ]
  },
  {
   "cell_type": "markdown",
   "metadata": {},
   "source": [
    "since the regression use logit link, we can calculate the odds ratio from $\\beta$ directly"
   ]
  },
  {
   "cell_type": "code",
   "execution_count": 16,
   "metadata": {},
   "outputs": [
    {
     "data": {
      "text/html": [
       "<strong>dose:</strong> 1.40875066347653"
      ],
      "text/latex": [
       "\\textbf{dose:} 1.40875066347653"
      ],
      "text/markdown": [
       "**dose:** 1.40875066347653"
      ],
      "text/plain": [
       "    dose \n",
       "1.408751 "
      ]
     },
     "metadata": {},
     "output_type": "display_data"
    }
   ],
   "source": [
    "exp(fit_logit$coefficients[2] * (0.01))"
   ]
  },
  {
   "cell_type": "markdown",
   "metadata": {},
   "source": [
    "# link: cloglog"
   ]
  },
  {
   "cell_type": "markdown",
   "metadata": {},
   "source": [
    "$$\\eta = \\beta_1 + \\beta_2 * x$$"
   ]
  },
  {
   "cell_type": "code",
   "execution_count": 17,
   "metadata": {},
   "outputs": [
    {
     "data": {
      "text/html": [
       "0.101795067267666"
      ],
      "text/latex": [
       "0.101795067267666"
      ],
      "text/markdown": [
       "0.101795067267666"
      ],
      "text/plain": [
       "[1] 0.1017951"
      ]
     },
     "metadata": {},
     "output_type": "display_data"
    }
   ],
   "source": [
    "eta1 = pattern1 %*% fit_cloglog$coef %>% as.vector\n",
    "display(eta1)"
   ]
  },
  {
   "cell_type": "code",
   "execution_count": 18,
   "metadata": {},
   "outputs": [
    {
     "data": {
      "text/html": [
       "0.322206757720323"
      ],
      "text/latex": [
       "0.322206757720323"
      ],
      "text/markdown": [
       "0.322206757720323"
      ],
      "text/plain": [
       "[1] 0.3222068"
      ]
     },
     "metadata": {},
     "output_type": "display_data"
    }
   ],
   "source": [
    "eta2 = pattern2 %*% fit_cloglog$coef %>% as.vector\n",
    "display(eta2)"
   ]
  },
  {
   "cell_type": "markdown",
   "metadata": {},
   "source": [
    "$$g(p) = log[-log(1-p)] = \\eta$$\n",
    "\n",
    "$$p = g^{-1}(\\eta) = 1 - exp(-exp(\\eta))$$\n"
   ]
  },
  {
   "cell_type": "code",
   "execution_count": 19,
   "metadata": {},
   "outputs": [],
   "source": [
    "g_inv = function(eta){\n",
    "    1 - exp(-exp(eta))\n",
    "} # end func"
   ]
  },
  {
   "cell_type": "code",
   "execution_count": 20,
   "metadata": {},
   "outputs": [
    {
     "data": {
      "text/html": [
       "0.669502622893438"
      ],
      "text/latex": [
       "0.669502622893438"
      ],
      "text/markdown": [
       "0.669502622893438"
      ],
      "text/plain": [
       "[1] 0.6695026"
      ]
     },
     "metadata": {},
     "output_type": "display_data"
    }
   ],
   "source": [
    "p1 = g_inv(eta1)\n",
    "display(p1)"
   ]
  },
  {
   "cell_type": "code",
   "execution_count": 21,
   "metadata": {},
   "outputs": [
    {
     "data": {
      "text/html": [
       "0.748464238644934"
      ],
      "text/latex": [
       "0.748464238644934"
      ],
      "text/markdown": [
       "0.748464238644934"
      ],
      "text/plain": [
       "[1] 0.7484642"
      ]
     },
     "metadata": {},
     "output_type": "display_data"
    }
   ],
   "source": [
    "p2 = g_inv(eta2)\n",
    "display(p2)"
   ]
  },
  {
   "cell_type": "markdown",
   "metadata": {},
   "source": [
    "$$odds = \\frac{p}{1-p}$$"
   ]
  },
  {
   "cell_type": "code",
   "execution_count": 22,
   "metadata": {},
   "outputs": [
    {
     "data": {
      "text/html": [
       "2.02574262087886"
      ],
      "text/latex": [
       "2.02574262087886"
      ],
      "text/markdown": [
       "2.02574262087886"
      ],
      "text/plain": [
       "[1] 2.025743"
      ]
     },
     "metadata": {},
     "output_type": "display_data"
    }
   ],
   "source": [
    "odds1 = p1 / (1 - p1)\n",
    "display(odds1)"
   ]
  },
  {
   "cell_type": "code",
   "execution_count": 23,
   "metadata": {},
   "outputs": [
    {
     "data": {
      "text/html": [
       "2.97557784472805"
      ],
      "text/latex": [
       "2.97557784472805"
      ],
      "text/markdown": [
       "2.97557784472805"
      ],
      "text/plain": [
       "[1] 2.975578"
      ]
     },
     "metadata": {},
     "output_type": "display_data"
    }
   ],
   "source": [
    "odds2 = p2 / (1 - p2)\n",
    "display(odds2)"
   ]
  },
  {
   "cell_type": "markdown",
   "metadata": {},
   "source": [
    "$$OR_{\\text{pattern 2 vs pattern 1}} = \\frac{\n",
    "    odds (\\text{pattern 2})\n",
    "}{\n",
    "    odds (\\text{pattern 1})\n",
    "}$$"
   ]
  },
  {
   "cell_type": "code",
   "execution_count": 24,
   "metadata": {},
   "outputs": [
    {
     "data": {
      "text/html": [
       "1.46888247996535"
      ],
      "text/latex": [
       "1.46888247996535"
      ],
      "text/markdown": [
       "1.46888247996535"
      ],
      "text/plain": [
       "[1] 1.468882"
      ]
     },
     "metadata": {},
     "output_type": "display_data"
    }
   ],
   "source": [
    "odds2 / odds1"
   ]
  },
  {
   "cell_type": "markdown",
   "metadata": {},
   "source": [
    "# Compare link logit and cloglog"
   ]
  },
  {
   "cell_type": "code",
   "execution_count": 25,
   "metadata": {},
   "outputs": [],
   "source": [
    "fit_logit   = glm(cbind(y, n-y) ~ dose, data = beetle, binomial(link = \"logit\"))\n",
    "fit_cloglog = glm(cbind(y, n-y) ~ dose, data = beetle, binomial(link = \"cloglog\"))"
   ]
  },
  {
   "cell_type": "code",
   "execution_count": 26,
   "metadata": {},
   "outputs": [],
   "source": [
    "g_inv_logit = function(eta){\n",
    "    1 / (1 + exp(-eta))\n",
    "} # end func\n",
    "\n",
    "g_inv_cloglog = function(eta){\n",
    "    1 - exp(-exp(eta))\n",
    "} # end func"
   ]
  },
  {
   "cell_type": "code",
   "execution_count": 27,
   "metadata": {},
   "outputs": [],
   "source": [
    "get_odds = function(p){\n",
    "    p / (1-p)\n",
    "}"
   ]
  },
  {
   "cell_type": "code",
   "execution_count": 28,
   "metadata": {},
   "outputs": [
    {
     "data": {
      "text/html": [
       "<table>\n",
       "<thead><tr><th></th><th scope=col>logit</th><th scope=col>cloglog</th></tr></thead>\n",
       "<tbody>\n",
       "\t<tr><th scope=row>1.81 vs 1.80</th><td>NA</td><td>NA</td></tr>\n",
       "\t<tr><th scope=row>1.71 vs 1.70</th><td>NA</td><td>NA</td></tr>\n",
       "</tbody>\n",
       "</table>\n"
      ],
      "text/latex": [
       "\\begin{tabular}{r|ll}\n",
       "  & logit & cloglog\\\\\n",
       "\\hline\n",
       "\t1.81 vs 1.80 & NA & NA\\\\\n",
       "\t1.71 vs 1.70 & NA & NA\\\\\n",
       "\\end{tabular}\n"
      ],
      "text/markdown": [
       "\n",
       "| <!--/--> | logit | cloglog | \n",
       "|---|---|\n",
       "| 1.81 vs 1.80 | NA | NA | \n",
       "| 1.71 vs 1.70 | NA | NA | \n",
       "\n",
       "\n"
      ],
      "text/plain": [
       "             logit cloglog\n",
       "1.81 vs 1.80 NA    NA     \n",
       "1.71 vs 1.70 NA    NA     "
      ]
     },
     "metadata": {},
     "output_type": "display_data"
    }
   ],
   "source": [
    "mat = matrix(c(NA, NA, NA, NA), 2, 2)\n",
    "rownames(mat) = c(\"1.81 vs 1.80\", \"1.71 vs 1.70\")\n",
    "colnames(mat) = c(\"logit\", \"cloglog\")\n",
    "mat"
   ]
  },
  {
   "cell_type": "code",
   "execution_count": 29,
   "metadata": {},
   "outputs": [
    {
     "data": {
      "text/html": [
       "<table>\n",
       "<thead><tr><th></th><th scope=col>logit</th><th scope=col>cloglog</th></tr></thead>\n",
       "<tbody>\n",
       "\t<tr><th scope=row>1.81 vs 1.80</th><td>1.408751</td><td>1.468882</td></tr>\n",
       "\t<tr><th scope=row>1.71 vs 1.70</th><td>1.408751</td><td>1.265946</td></tr>\n",
       "</tbody>\n",
       "</table>\n"
      ],
      "text/latex": [
       "\\begin{tabular}{r|ll}\n",
       "  & logit & cloglog\\\\\n",
       "\\hline\n",
       "\t1.81 vs 1.80 & 1.408751 & 1.468882\\\\\n",
       "\t1.71 vs 1.70 & 1.408751 & 1.265946\\\\\n",
       "\\end{tabular}\n"
      ],
      "text/markdown": [
       "\n",
       "| <!--/--> | logit | cloglog | \n",
       "|---|---|\n",
       "| 1.81 vs 1.80 | 1.408751 | 1.468882 | \n",
       "| 1.71 vs 1.70 | 1.408751 | 1.265946 | \n",
       "\n",
       "\n"
      ],
      "text/plain": [
       "             logit    cloglog \n",
       "1.81 vs 1.80 1.408751 1.468882\n",
       "1.71 vs 1.70 1.408751 1.265946"
      ]
     },
     "metadata": {},
     "output_type": "display_data"
    }
   ],
   "source": [
    "pattern1 = c(1, 1.80)\n",
    "pattern2 = c(1, 1.81)\n",
    "\n",
    "odds1 = pattern1 %*% fit_logit$coef %>% g_inv_logit %>% get_odds\n",
    "odds2 = pattern2 %*% fit_logit$coef %>% g_inv_logit %>% get_odds\n",
    "mat[\"1.81 vs 1.80\", \"logit\"] = odds2 / odds1\n",
    "\n",
    "odds1 = pattern1 %*% fit_cloglog$coef %>% g_inv_cloglog %>% get_odds\n",
    "odds2 = pattern2 %*% fit_cloglog$coef %>% g_inv_cloglog %>% get_odds\n",
    "mat[\"1.81 vs 1.80\", \"cloglog\"] = odds2 / odds1\n",
    "\n",
    "pattern1 = c(1, 1.70)\n",
    "pattern2 = c(1, 1.71)\n",
    "\n",
    "odds1 = pattern1 %*% fit_logit$coef %>% g_inv_logit %>% get_odds\n",
    "odds2 = pattern2 %*% fit_logit$coef %>% g_inv_logit %>% get_odds\n",
    "mat[\"1.71 vs 1.70\", \"logit\"] = odds2 / odds1\n",
    "\n",
    "odds1 = pattern1 %*% fit_cloglog$coef %>% g_inv_cloglog %>% get_odds\n",
    "odds2 = pattern2 %*% fit_cloglog$coef %>% g_inv_cloglog %>% get_odds\n",
    "mat[\"1.71 vs 1.70\", \"cloglog\"] = odds2 / odds1\n",
    "\n",
    "display(mat)"
   ]
  },
  {
   "cell_type": "markdown",
   "metadata": {},
   "source": [
    "observation:\n",
    "\n",
    "In logit model, the **OR associated with 0.01 unit increase in dose** <font color = \"red\">does not depend</font> on dose\n",
    "\n",
    "In cloglog model, the **OR associated with 0.01 unit increase in dose** <font color = \"red\">depend</font> on dose"
   ]
  },
  {
   "cell_type": "markdown",
   "metadata": {},
   "source": [
    "The question is: <font color = \"red\">what link function to choose?</font> For logit and cloglog related link functions, there is a way to test which link function is better. \n",
    "\n",
    "Before introducing the test, we need to introduce the **general family of link functions**"
   ]
  },
  {
   "cell_type": "markdown",
   "metadata": {},
   "source": [
    "# General family of link functions\n",
    "\n",
    "[Aranda-Ordaz F (1981). \"On two families of transformations to additivity for binary response data\"](https://academic.oup.com/biomet/article-abstract/68/2/357/260360?redirectedFrom=PDF)"
   ]
  },
  {
   "cell_type": "markdown",
   "metadata": {},
   "source": [
    "$$g(p_i; \\alpha) = log \\Big\\{ \n",
    "    \\frac{\n",
    "        (1 - p_i)^{-\\alpha} - 1\n",
    "    }{\n",
    "        \\alpha\n",
    "    }\n",
    "\\Big\\}$$"
   ]
  },
  {
   "cell_type": "markdown",
   "metadata": {},
   "source": [
    "<font color = \"blue\">$\\alpha = 1$</font>\n",
    "\n",
    "$g(p_i; \\alpha) = log \\Big\\{ \n",
    "    \\frac{\n",
    "        (1 - p_i)^{-1} - 1\n",
    "    }{\n",
    "        1\n",
    "    }\n",
    "\\Big\\} = log \\Big\\{ \\frac{p_i}{1 - p_i} \\Big\\}$\n",
    "\n",
    "<font color = \"blue\">$\\alpha \\rightarrow 0$</font>\n",
    "\n",
    "$g(p_i; \\alpha) \\rightarrow log[-log(1-p)]$"
   ]
  },
  {
   "cell_type": "markdown",
   "metadata": {},
   "source": [
    "**1st order approximation of Taylor expansion**\n",
    "\n",
    "Suppose the true $\\alpha$ is $\\alpha_0$"
   ]
  },
  {
   "cell_type": "markdown",
   "metadata": {},
   "source": [
    "$$g(p_i ; \\alpha) \\sim g(p_i ; \\alpha_0) + (\\alpha - \\alpha_0) \\frac{\\partial g(p_i ; \\alpha)}{\\partial \\alpha} \\Big|_{\\alpha_0}$$"
   ]
  },
  {
   "cell_type": "markdown",
   "metadata": {},
   "source": [
    "$$g(p_i ; \\alpha) = \\eta_i \\sim g(p_i ; \\alpha_0) - \\gamma z_i$$ where $$\\gamma = \\alpha_0 - \\alpha ; z_i = \\frac{\\partial g(p_i ; \\alpha)}{\\partial \\alpha} \\Big|_{\\alpha_0}$$"
   ]
  },
  {
   "cell_type": "markdown",
   "metadata": {},
   "source": [
    "After rearrange\n",
    "$$g(p_i ; \\alpha_0) \\sim \\eta_i + \\gamma z_i$$"
   ]
  },
  {
   "cell_type": "markdown",
   "metadata": {},
   "source": [
    "recall that \n",
    "$$z_i = \\frac{\\partial g(p_i ; \\alpha)}{\\partial \\alpha} \\Big|_{\\alpha_0}$$\n",
    "\n",
    "Where we could derive \n",
    "\n",
    "$\\frac{\\partial g(p_i ; \\alpha)}{\\partial \\alpha}$\n",
    "\n",
    "$= \\frac{\\log{(1 - p_i)}}{(1 - p_i)^\\alpha - 1} - \\alpha^{-1}$"
   ]
  },
  {
   "cell_type": "code",
   "execution_count": 30,
   "metadata": {},
   "outputs": [],
   "source": [
    "dG = function(p, alpha){\n",
    "    log(1 - p) / ((1 - p)^alpha - 1) - alpha^{-1}\n",
    "} # end func"
   ]
  },
  {
   "cell_type": "markdown",
   "metadata": {},
   "source": [
    "## original model $\\alpha_0 = 1$"
   ]
  },
  {
   "cell_type": "code",
   "execution_count": 31,
   "metadata": {},
   "outputs": [],
   "source": [
    "fit_logit = glm(cbind(y, n - y) ~ dose, data = beetle, family = binomial(link = \"logit\"))"
   ]
  },
  {
   "cell_type": "markdown",
   "metadata": {},
   "source": [
    "## fit a glm model to test current $\\alpha$"
   ]
  },
  {
   "cell_type": "markdown",
   "metadata": {},
   "source": [
    "calculate $z_i$ using $\\hat{p_i}$ and $\\alpha$"
   ]
  },
  {
   "cell_type": "code",
   "execution_count": 35,
   "metadata": {},
   "outputs": [
    {
     "data": {
      "text/html": [
       "<table>\n",
       "<thead><tr><th scope=col>dose</th><th scope=col>n</th><th scope=col>y</th><th scope=col>n_y</th><th scope=col>z</th></tr></thead>\n",
       "<tbody>\n",
       "\t<tr><td>1.6907    </td><td>59        </td><td> 6        </td><td>53        </td><td>0.03049800</td></tr>\n",
       "\t<tr><td>1.7242    </td><td>60        </td><td>13        </td><td>47        </td><td>0.09225343</td></tr>\n",
       "\t<tr><td>1.7552    </td><td>62        </td><td>18        </td><td>44        </td><td>0.24159057</td></tr>\n",
       "\t<tr><td>1.7842    </td><td>56        </td><td>28        </td><td>28        </td><td>0.53584036</td></tr>\n",
       "\t<tr><td>1.8113    </td><td>63        </td><td>52        </td><td>11        </td><td>0.99401390</td></tr>\n",
       "\t<tr><td>1.8369    </td><td>59        </td><td>53        </td><td> 6        </td><td>1.58567955</td></tr>\n",
       "\t<tr><td>1.8610    </td><td>62        </td><td>61        </td><td> 1        </td><td>2.25112322</td></tr>\n",
       "\t<tr><td>1.8839    </td><td>60        </td><td>60        </td><td> 0        </td><td>2.94830490</td></tr>\n",
       "</tbody>\n",
       "</table>\n"
      ],
      "text/latex": [
       "\\begin{tabular}{r|lllll}\n",
       " dose & n & y & n\\_y & z\\\\\n",
       "\\hline\n",
       "\t 1.6907     & 59         &  6         & 53         & 0.03049800\\\\\n",
       "\t 1.7242     & 60         & 13         & 47         & 0.09225343\\\\\n",
       "\t 1.7552     & 62         & 18         & 44         & 0.24159057\\\\\n",
       "\t 1.7842     & 56         & 28         & 28         & 0.53584036\\\\\n",
       "\t 1.8113     & 63         & 52         & 11         & 0.99401390\\\\\n",
       "\t 1.8369     & 59         & 53         &  6         & 1.58567955\\\\\n",
       "\t 1.8610     & 62         & 61         &  1         & 2.25112322\\\\\n",
       "\t 1.8839     & 60         & 60         &  0         & 2.94830490\\\\\n",
       "\\end{tabular}\n"
      ],
      "text/markdown": [
       "\n",
       "dose | n | y | n_y | z | \n",
       "|---|---|---|---|---|---|---|---|\n",
       "| 1.6907     | 59         |  6         | 53         | 0.03049800 | \n",
       "| 1.7242     | 60         | 13         | 47         | 0.09225343 | \n",
       "| 1.7552     | 62         | 18         | 44         | 0.24159057 | \n",
       "| 1.7842     | 56         | 28         | 28         | 0.53584036 | \n",
       "| 1.8113     | 63         | 52         | 11         | 0.99401390 | \n",
       "| 1.8369     | 59         | 53         |  6         | 1.58567955 | \n",
       "| 1.8610     | 62         | 61         |  1         | 2.25112322 | \n",
       "| 1.8839     | 60         | 60         |  0         | 2.94830490 | \n",
       "\n",
       "\n"
      ],
      "text/plain": [
       "  dose   n  y  n_y z         \n",
       "1 1.6907 59  6 53  0.03049800\n",
       "2 1.7242 60 13 47  0.09225343\n",
       "3 1.7552 62 18 44  0.24159057\n",
       "4 1.7842 56 28 28  0.53584036\n",
       "5 1.8113 63 52 11  0.99401390\n",
       "6 1.8369 59 53  6  1.58567955\n",
       "7 1.8610 62 61  1  2.25112322\n",
       "8 1.8839 60 60  0  2.94830490"
      ]
     },
     "metadata": {},
     "output_type": "display_data"
    }
   ],
   "source": [
    "tmp   = beetle\n",
    "tmp$z = dG(fit_logit$fitted.values, 1)\n",
    "display(tmp)"
   ]
  },
  {
   "cell_type": "markdown",
   "metadata": {},
   "source": [
    "fit into regression model to get $\\gamma$\n",
    "\n",
    "$g(p_i ; \\alpha_0) \\sim \\eta_i + \\gamma z_i$"
   ]
  },
  {
   "cell_type": "code",
   "execution_count": 36,
   "metadata": {},
   "outputs": [
    {
     "data": {
      "text/plain": [
       "\n",
       "Call:  glm(formula = cbind(y, n - y) ~ dose + z, family = binomial(link = \"logit\"), \n",
       "    data = tmp)\n",
       "\n",
       "Coefficients:\n",
       "(Intercept)         dose            z  \n",
       "    -25.956       14.105        1.664  \n",
       "\n",
       "Degrees of Freedom: 7 Total (i.e. Null);  5 Residual\n",
       "Null Deviance:\t    284.2 \n",
       "Residual Deviance: 2.953 \tAIC: 35.15"
      ]
     },
     "metadata": {},
     "output_type": "display_data"
    }
   ],
   "source": [
    "fit_link = glm(cbind(y, n - y) ~ dose + z, data = tmp, family = binomial(link = \"logit\"))\n",
    "fit_link"
   ]
  },
  {
   "cell_type": "code",
   "execution_count": 42,
   "metadata": {},
   "outputs": [
    {
     "data": {
      "text/html": [
       "<strong>z:</strong> 1.66377486139612"
      ],
      "text/latex": [
       "\\textbf{z:} 1.66377486139612"
      ],
      "text/markdown": [
       "**z:** 1.66377486139612"
      ],
      "text/plain": [
       "       z \n",
       "1.663775 "
      ]
     },
     "metadata": {},
     "output_type": "display_data"
    }
   ],
   "source": [
    "gamma = fit_link$coef[\"z\"]\n",
    "display(gamma)"
   ]
  },
  {
   "cell_type": "markdown",
   "metadata": {},
   "source": [
    "## test whether the parameter $\\gamma$ is significant or not \n",
    "\n",
    "if <font color = \"blue\">not significant</font>, we could not reject $\\gamma = 0$; that is, not rejecting $\\alpha = \\alpha_0$\n",
    "\n",
    "if <font color = \"red\">significant</font>, we reject $\\gamma = 0$; that is, decide $\\alpha \\neq \\alpha_0$"
   ]
  },
  {
   "cell_type": "code",
   "execution_count": 38,
   "metadata": {},
   "outputs": [
    {
     "data": {
      "text/html": [
       "<table>\n",
       "<thead><tr><th></th><th scope=col>Df</th><th scope=col>Deviance</th><th scope=col>Resid. Df</th><th scope=col>Resid. Dev</th><th scope=col>Pr(&gt;Chi)</th></tr></thead>\n",
       "<tbody>\n",
       "\t<tr><th scope=row>NULL</th><td>NA          </td><td>        NA  </td><td>7           </td><td>284.202449  </td><td>          NA</td></tr>\n",
       "\t<tr><th scope=row>dose</th><td> 1          </td><td>272.970218  </td><td>6           </td><td> 11.232231  </td><td>2.556089e-61</td></tr>\n",
       "\t<tr><th scope=row>z</th><td> 1          </td><td>  8.279424  </td><td>5           </td><td>  2.952807  </td><td>4.009684e-03</td></tr>\n",
       "</tbody>\n",
       "</table>\n"
      ],
      "text/latex": [
       "\\begin{tabular}{r|lllll}\n",
       "  & Df & Deviance & Resid. Df & Resid. Dev & Pr(>Chi)\\\\\n",
       "\\hline\n",
       "\tNULL & NA           &         NA   & 7            & 284.202449   &           NA\\\\\n",
       "\tdose &  1           & 272.970218   & 6            &  11.232231   & 2.556089e-61\\\\\n",
       "\tz &  1           &   8.279424   & 5            &   2.952807   & 4.009684e-03\\\\\n",
       "\\end{tabular}\n"
      ],
      "text/markdown": [
       "\n",
       "| <!--/--> | Df | Deviance | Resid. Df | Resid. Dev | Pr(>Chi) | \n",
       "|---|---|---|\n",
       "| NULL | NA           |         NA   | 7            | 284.202449   |           NA | \n",
       "| dose |  1           | 272.970218   | 6            |  11.232231   | 2.556089e-61 | \n",
       "| z |  1           |   8.279424   | 5            |   2.952807   | 4.009684e-03 | \n",
       "\n",
       "\n"
      ],
      "text/plain": [
       "     Df Deviance   Resid. Df Resid. Dev Pr(>Chi)    \n",
       "NULL NA         NA 7         284.202449           NA\n",
       "dose  1 272.970218 6          11.232231 2.556089e-61\n",
       "z     1   8.279424 5           2.952807 4.009684e-03"
      ]
     },
     "metadata": {},
     "output_type": "display_data"
    }
   ],
   "source": [
    "anova(fit_link, test = \"Chisq\")"
   ]
  },
  {
   "cell_type": "markdown",
   "metadata": {},
   "source": [
    "## Since it is significant, we need to calculate possible $\\alpha$\n",
    "\n",
    "current $\\alpha_0 = 1$ and $\\gamma = \\alpha_0 - \\alpha$\n",
    "\n",
    "Therefore, a new $\\hat{\\alpha} =  \\alpha_0 - \\gamma$"
   ]
  },
  {
   "cell_type": "code",
   "execution_count": 43,
   "metadata": {},
   "outputs": [
    {
     "data": {
      "text/html": [
       "<strong>z:</strong> -0.663774861396117"
      ],
      "text/latex": [
       "\\textbf{z:} -0.663774861396117"
      ],
      "text/markdown": [
       "**z:** -0.663774861396117"
      ],
      "text/plain": [
       "         z \n",
       "-0.6637749 "
      ]
     },
     "metadata": {},
     "output_type": "display_data"
    }
   ],
   "source": [
    "alpha_hat = 1 - gamma\n",
    "display(alpha_hat)"
   ]
  },
  {
   "cell_type": "markdown",
   "metadata": {},
   "source": [
    "Since $0 < \\alpha \\leq 1$, we could suggest a better $\\hat{\\alpha} = 0$; that is, we will fit a **cloglog** link"
   ]
  },
  {
   "cell_type": "code",
   "execution_count": 44,
   "metadata": {},
   "outputs": [],
   "source": [
    "fit_logit   = glm(cbind(y, n-y) ~ dose, data = beetle, binomial(link = \"logit\"))\n",
    "fit_cloglog = glm(cbind(y, n-y) ~ dose, data = beetle, binomial(link = \"cloglog\"))"
   ]
  },
  {
   "cell_type": "markdown",
   "metadata": {},
   "source": [
    "### compare two models"
   ]
  },
  {
   "cell_type": "markdown",
   "metadata": {},
   "source": [
    "predicted values"
   ]
  },
  {
   "cell_type": "code",
   "execution_count": 86,
   "metadata": {},
   "outputs": [
    {
     "data": {
      "text/html": [
       "<table>\n",
       "<thead><tr><th></th><th scope=col>y</th><th scope=col>logit</th><th scope=col>cloglog</th></tr></thead>\n",
       "<tbody>\n",
       "\t<tr><th scope=row>1</th><td> 6       </td><td> 3.457461</td><td> 5.58945 </td></tr>\n",
       "\t<tr><th scope=row>2</th><td>13       </td><td> 9.841672</td><td>11.28068 </td></tr>\n",
       "\t<tr><th scope=row>3</th><td>18       </td><td>22.451378</td><td>20.95422 </td></tr>\n",
       "\t<tr><th scope=row>4</th><td>28       </td><td>33.897635</td><td>30.36944 </td></tr>\n",
       "\t<tr><th scope=row>5</th><td>52       </td><td>50.095822</td><td>47.77642 </td></tr>\n",
       "\t<tr><th scope=row>6</th><td>53       </td><td>53.290913</td><td>54.14273 </td></tr>\n",
       "\t<tr><th scope=row>7</th><td>61       </td><td>59.222159</td><td>61.11331 </td></tr>\n",
       "\t<tr><th scope=row>8</th><td>60       </td><td>58.742961</td><td>59.94723 </td></tr>\n",
       "</tbody>\n",
       "</table>\n"
      ],
      "text/latex": [
       "\\begin{tabular}{r|lll}\n",
       "  & y & logit & cloglog\\\\\n",
       "\\hline\n",
       "\t1 &  6        &  3.457461 &  5.58945 \\\\\n",
       "\t2 & 13        &  9.841672 & 11.28068 \\\\\n",
       "\t3 & 18        & 22.451378 & 20.95422 \\\\\n",
       "\t4 & 28        & 33.897635 & 30.36944 \\\\\n",
       "\t5 & 52        & 50.095822 & 47.77642 \\\\\n",
       "\t6 & 53        & 53.290913 & 54.14273 \\\\\n",
       "\t7 & 61        & 59.222159 & 61.11331 \\\\\n",
       "\t8 & 60        & 58.742961 & 59.94723 \\\\\n",
       "\\end{tabular}\n"
      ],
      "text/markdown": [
       "\n",
       "| <!--/--> | y | logit | cloglog | \n",
       "|---|---|---|---|---|---|---|---|\n",
       "| 1 |  6        |  3.457461 |  5.58945  | \n",
       "| 2 | 13        |  9.841672 | 11.28068  | \n",
       "| 3 | 18        | 22.451378 | 20.95422  | \n",
       "| 4 | 28        | 33.897635 | 30.36944  | \n",
       "| 5 | 52        | 50.095822 | 47.77642  | \n",
       "| 6 | 53        | 53.290913 | 54.14273  | \n",
       "| 7 | 61        | 59.222159 | 61.11331  | \n",
       "| 8 | 60        | 58.742961 | 59.94723  | \n",
       "\n",
       "\n"
      ],
      "text/plain": [
       "  y  logit     cloglog \n",
       "1  6  3.457461  5.58945\n",
       "2 13  9.841672 11.28068\n",
       "3 18 22.451378 20.95422\n",
       "4 28 33.897635 30.36944\n",
       "5 52 50.095822 47.77642\n",
       "6 53 53.290913 54.14273\n",
       "7 61 59.222159 61.11331\n",
       "8 60 58.742961 59.94723"
      ]
     },
     "metadata": {},
     "output_type": "display_data"
    }
   ],
   "source": [
    "mat = cbind(beetle$y, beetle$n * fit_logit$fitted.values, beetle$n * fit_cloglog$fitted.values)\n",
    "colnames(mat) = c(\"y\", \"logit\", \"cloglog\")\n",
    "display(mat)"
   ]
  },
  {
   "cell_type": "markdown",
   "metadata": {},
   "source": [
    "model comparison"
   ]
  },
  {
   "cell_type": "code",
   "execution_count": 80,
   "metadata": {},
   "outputs": [
    {
     "data": {
      "text/html": [
       "<table>\n",
       "<thead><tr><th></th><th scope=col>logit</th><th scope=col>cloglog</th></tr></thead>\n",
       "<tbody>\n",
       "\t<tr><th scope=row>Deviance</th><td>11.23223 </td><td> 3.446439</td></tr>\n",
       "\t<tr><th scope=row>Pearson X2</th><td>10.02682 </td><td> 3.294694</td></tr>\n",
       "\t<tr><th scope=row>AIC</th><td>41.43027 </td><td>33.644477</td></tr>\n",
       "</tbody>\n",
       "</table>\n"
      ],
      "text/latex": [
       "\\begin{tabular}{r|ll}\n",
       "  & logit & cloglog\\\\\n",
       "\\hline\n",
       "\tDeviance & 11.23223  &  3.446439\\\\\n",
       "\tPearson X2 & 10.02682  &  3.294694\\\\\n",
       "\tAIC & 41.43027  & 33.644477\\\\\n",
       "\\end{tabular}\n"
      ],
      "text/markdown": [
       "\n",
       "| <!--/--> | logit | cloglog | \n",
       "|---|---|---|\n",
       "| Deviance | 11.23223  |  3.446439 | \n",
       "| Pearson X2 | 10.02682  |  3.294694 | \n",
       "| AIC | 41.43027  | 33.644477 | \n",
       "\n",
       "\n"
      ],
      "text/plain": [
       "           logit    cloglog  \n",
       "Deviance   11.23223  3.446439\n",
       "Pearson X2 10.02682  3.294694\n",
       "AIC        41.43027 33.644477"
      ]
     },
     "metadata": {},
     "output_type": "display_data"
    }
   ],
   "source": [
    "mat = rbind(\n",
    "    ### deviance\n",
    "    c(fit_logit$deviance, \n",
    "      fit_cloglog$deviance),\n",
    "    \n",
    "    ### Pearson X2\n",
    "    c(sum(residuals(fit_logit,   type = \"pearson\")^2),\n",
    "      sum(residuals(fit_cloglog, type = \"pearson\")^2)),\n",
    "    \n",
    "    ### AIC\n",
    "    c(fit_logit$aic,\n",
    "      fit_cloglog$aic)\n",
    ") # end cbind\n",
    "\n",
    "rownames(mat) = c(\"Deviance\", \"Pearson X2\", \"AIC\")\n",
    "colnames(mat) = c(\"logit\", \"cloglog\")\n",
    "\n",
    "display(mat)"
   ]
  },
  {
   "cell_type": "markdown",
   "metadata": {},
   "source": [
    "Since they are not nested model, it is not exactly correct to compare using deviance. But expected value of deviance is the degree of freedom (n - p = 8 - 2 = 6). \n",
    "\n",
    "Another index to compare is AIC"
   ]
  },
  {
   "cell_type": "markdown",
   "metadata": {},
   "source": [
    "### Appendix: residuals of chi-square\n",
    "$$\\frac{y_i - n_i \\pi_i}{\\sqrt{n_i \\pi_i (1 - \\pi_i)}}$$"
   ]
  },
  {
   "cell_type": "markdown",
   "metadata": {},
   "source": [
    "calculate manually"
   ]
  },
  {
   "cell_type": "code",
   "execution_count": 73,
   "metadata": {},
   "outputs": [
    {
     "data": {
      "text/html": [
       "<dl class=dl-horizontal>\n",
       "\t<dt>1</dt>\n",
       "\t\t<dd>1.4092960458004</dd>\n",
       "\t<dt>2</dt>\n",
       "\t\t<dd>1.10110026185729</dd>\n",
       "\t<dt>3</dt>\n",
       "\t\t<dd>-1.17625958373682</dd>\n",
       "\t<dt>4</dt>\n",
       "\t\t<dd>-1.61238152281741</dd>\n",
       "\t<dt>5</dt>\n",
       "\t\t<dd>0.594445400684914</dd>\n",
       "\t<dt>6</dt>\n",
       "\t\t<dd>-0.128109031412368</dd>\n",
       "\t<dt>7</dt>\n",
       "\t\t<dd>1.09142278645206</dd>\n",
       "\t<dt>8</dt>\n",
       "\t\t<dd>1.13311019483318</dd>\n",
       "</dl>\n"
      ],
      "text/latex": [
       "\\begin{description*}\n",
       "\\item[1] 1.4092960458004\n",
       "\\item[2] 1.10110026185729\n",
       "\\item[3] -1.17625958373682\n",
       "\\item[4] -1.61238152281741\n",
       "\\item[5] 0.594445400684914\n",
       "\\item[6] -0.128109031412368\n",
       "\\item[7] 1.09142278645206\n",
       "\\item[8] 1.13311019483318\n",
       "\\end{description*}\n"
      ],
      "text/markdown": [
       "1\n",
       ":   1.40929604580042\n",
       ":   1.101100261857293\n",
       ":   -1.176259583736824\n",
       ":   -1.612381522817415\n",
       ":   0.5944454006849146\n",
       ":   -0.1281090314123687\n",
       ":   1.091422786452068\n",
       ":   1.13311019483318\n",
       "\n"
      ],
      "text/plain": [
       "         1          2          3          4          5          6          7 \n",
       " 1.4092960  1.1011003 -1.1762596 -1.6123815  0.5944454 -0.1281090  1.0914228 \n",
       "         8 \n",
       " 1.1331102 "
      ]
     },
     "metadata": {},
     "output_type": "display_data"
    }
   ],
   "source": [
    "(beetle$y - beetle$n * fit_logit$fitted.values) / (beetle$n * fit_logit$fitted.values * (1 - fit_logit$fitted.values))^0.5"
   ]
  },
  {
   "cell_type": "markdown",
   "metadata": {},
   "source": [
    "use function residuals with type = \"pearson\""
   ]
  },
  {
   "cell_type": "code",
   "execution_count": 69,
   "metadata": {},
   "outputs": [
    {
     "data": {
      "text/html": [
       "<dl class=dl-horizontal>\n",
       "\t<dt>1</dt>\n",
       "\t\t<dd>1.4092960458004</dd>\n",
       "\t<dt>2</dt>\n",
       "\t\t<dd>1.10110026185729</dd>\n",
       "\t<dt>3</dt>\n",
       "\t\t<dd>-1.17625958373682</dd>\n",
       "\t<dt>4</dt>\n",
       "\t\t<dd>-1.61238152281741</dd>\n",
       "\t<dt>5</dt>\n",
       "\t\t<dd>0.594445400684913</dd>\n",
       "\t<dt>6</dt>\n",
       "\t\t<dd>-0.128109031412367</dd>\n",
       "\t<dt>7</dt>\n",
       "\t\t<dd>1.09142278645206</dd>\n",
       "\t<dt>8</dt>\n",
       "\t\t<dd>1.13311019483318</dd>\n",
       "</dl>\n"
      ],
      "text/latex": [
       "\\begin{description*}\n",
       "\\item[1] 1.4092960458004\n",
       "\\item[2] 1.10110026185729\n",
       "\\item[3] -1.17625958373682\n",
       "\\item[4] -1.61238152281741\n",
       "\\item[5] 0.594445400684913\n",
       "\\item[6] -0.128109031412367\n",
       "\\item[7] 1.09142278645206\n",
       "\\item[8] 1.13311019483318\n",
       "\\end{description*}\n"
      ],
      "text/markdown": [
       "1\n",
       ":   1.40929604580042\n",
       ":   1.101100261857293\n",
       ":   -1.176259583736824\n",
       ":   -1.612381522817415\n",
       ":   0.5944454006849136\n",
       ":   -0.1281090314123677\n",
       ":   1.091422786452068\n",
       ":   1.13311019483318\n",
       "\n"
      ],
      "text/plain": [
       "         1          2          3          4          5          6          7 \n",
       " 1.4092960  1.1011003 -1.1762596 -1.6123815  0.5944454 -0.1281090  1.0914228 \n",
       "         8 \n",
       " 1.1331102 "
      ]
     },
     "metadata": {},
     "output_type": "display_data"
    }
   ],
   "source": [
    "residuals(fit_logit, type = \"pearson\")"
   ]
  },
  {
   "cell_type": "markdown",
   "metadata": {},
   "source": [
    "calcualte pearson chi-square"
   ]
  },
  {
   "cell_type": "code",
   "execution_count": 89,
   "metadata": {},
   "outputs": [
    {
     "data": {
      "text/html": [
       "10.0268175855731"
      ],
      "text/latex": [
       "10.0268175855731"
      ],
      "text/markdown": [
       "10.0268175855731"
      ],
      "text/plain": [
       "[1] 10.02682"
      ]
     },
     "metadata": {},
     "output_type": "display_data"
    }
   ],
   "source": [
    "sum(residuals(fit_logit,   type = \"pearson\")^2)"
   ]
  },
  {
   "cell_type": "markdown",
   "metadata": {},
   "source": [
    "### residuals"
   ]
  },
  {
   "cell_type": "code",
   "execution_count": 94,
   "metadata": {},
   "outputs": [
    {
     "data": {
      "text/html": [
       "<dl class=dl-horizontal>\n",
       "\t<dt>1</dt>\n",
       "\t\t<dd>0.781154176360813</dd>\n",
       "\t<dt>2</dt>\n",
       "\t\t<dd>0.383880913611907</dd>\n",
       "\t<dt>3</dt>\n",
       "\t\t<dd>-0.310822063449799</dd>\n",
       "\t<dt>4</dt>\n",
       "\t\t<dd>-0.440816409168833</dd>\n",
       "\t<dt>5</dt>\n",
       "\t\t<dd>0.185573652291061</dd>\n",
       "\t<dt>6</dt>\n",
       "\t\t<dd>-0.0564151638882155</dd>\n",
       "\t<dt>7</dt>\n",
       "\t\t<dd>0.670028110272795</dd>\n",
       "\t<dt>8</dt>\n",
       "\t\t<dd>1.02139897856058</dd>\n",
       "</dl>\n"
      ],
      "text/latex": [
       "\\begin{description*}\n",
       "\\item[1] 0.781154176360813\n",
       "\\item[2] 0.383880913611907\n",
       "\\item[3] -0.310822063449799\n",
       "\\item[4] -0.440816409168833\n",
       "\\item[5] 0.185573652291061\n",
       "\\item[6] -0.0564151638882155\n",
       "\\item[7] 0.670028110272795\n",
       "\\item[8] 1.02139897856058\n",
       "\\end{description*}\n"
      ],
      "text/markdown": [
       "1\n",
       ":   0.7811541763608132\n",
       ":   0.3838809136119073\n",
       ":   -0.3108220634497994\n",
       ":   -0.4408164091688335\n",
       ":   0.1855736522910616\n",
       ":   -0.05641516388821557\n",
       ":   0.6700281102727958\n",
       ":   1.02139897856058\n",
       "\n"
      ],
      "text/plain": [
       "          1           2           3           4           5           6 \n",
       " 0.78115418  0.38388091 -0.31082206 -0.44081641  0.18557365 -0.05641516 \n",
       "          7           8 \n",
       " 0.67002811  1.02139898 "
      ]
     },
     "metadata": {},
     "output_type": "display_data"
    }
   ],
   "source": [
    "fit_logit$residuals"
   ]
  },
  {
   "cell_type": "markdown",
   "metadata": {},
   "source": [
    "### deviance residuals"
   ]
  },
  {
   "cell_type": "code",
   "execution_count": 93,
   "metadata": {},
   "outputs": [
    {
     "data": {
      "text/html": [
       "<dl class=dl-horizontal>\n",
       "\t<dt>1</dt>\n",
       "\t\t<dd>0.0430938897376712</dd>\n",
       "\t<dt>2</dt>\n",
       "\t\t<dd>0.052638797765632</dd>\n",
       "\t<dt>3</dt>\n",
       "\t\t<dd>-0.0717964252278012</dd>\n",
       "\t<dt>4</dt>\n",
       "\t\t<dd>-0.105314906332584</dd>\n",
       "\t<dt>5</dt>\n",
       "\t\t<dd>0.0302250534630593</dd>\n",
       "\t<dt>6</dt>\n",
       "\t\t<dd>-0.00493073462916194</dd>\n",
       "\t<dt>7</dt>\n",
       "\t\t<dd>0.0286748609335741</dd>\n",
       "\t<dt>8</dt>\n",
       "\t\t<dd>0.0209506559236413</dd>\n",
       "</dl>\n"
      ],
      "text/latex": [
       "\\begin{description*}\n",
       "\\item[1] 0.0430938897376712\n",
       "\\item[2] 0.052638797765632\n",
       "\\item[3] -0.0717964252278012\n",
       "\\item[4] -0.105314906332584\n",
       "\\item[5] 0.0302250534630593\n",
       "\\item[6] -0.00493073462916194\n",
       "\\item[7] 0.0286748609335741\n",
       "\\item[8] 0.0209506559236413\n",
       "\\end{description*}\n"
      ],
      "text/markdown": [
       "1\n",
       ":   0.04309388973767122\n",
       ":   0.0526387977656323\n",
       ":   -0.07179642522780124\n",
       ":   -0.1053149063325845\n",
       ":   0.03022505346305936\n",
       ":   -0.004930734629161947\n",
       ":   0.02867486093357418\n",
       ":   0.0209506559236413\n",
       "\n"
      ],
      "text/plain": [
       "           1            2            3            4            5            6 \n",
       " 0.043093890  0.052638798 -0.071796425 -0.105314906  0.030225053 -0.004930735 \n",
       "           7            8 \n",
       " 0.028674861  0.020950656 "
      ]
     },
     "metadata": {},
     "output_type": "display_data"
    }
   ],
   "source": [
    "beetle$y / beetle$n - fit_logit$fitted.values"
   ]
  },
  {
   "cell_type": "code",
   "execution_count": 92,
   "metadata": {},
   "outputs": [
    {
     "data": {
      "text/html": [
       "<dl class=dl-horizontal>\n",
       "\t<dt>1</dt>\n",
       "\t\t<dd>2.5425394945226</dd>\n",
       "\t<dt>2</dt>\n",
       "\t\t<dd>3.15832786593792</dd>\n",
       "\t<dt>3</dt>\n",
       "\t\t<dd>-4.45137836412367</dd>\n",
       "\t<dt>4</dt>\n",
       "\t\t<dd>-5.89763475462472</dd>\n",
       "\t<dt>5</dt>\n",
       "\t\t<dd>1.90417836817274</dd>\n",
       "\t<dt>6</dt>\n",
       "\t\t<dd>-0.290913343120557</dd>\n",
       "\t<dt>7</dt>\n",
       "\t\t<dd>1.77784137788159</dd>\n",
       "\t<dt>8</dt>\n",
       "\t\t<dd>1.25703935541848</dd>\n",
       "</dl>\n"
      ],
      "text/latex": [
       "\\begin{description*}\n",
       "\\item[1] 2.5425394945226\n",
       "\\item[2] 3.15832786593792\n",
       "\\item[3] -4.45137836412367\n",
       "\\item[4] -5.89763475462472\n",
       "\\item[5] 1.90417836817274\n",
       "\\item[6] -0.290913343120557\n",
       "\\item[7] 1.77784137788159\n",
       "\\item[8] 1.25703935541848\n",
       "\\end{description*}\n"
      ],
      "text/markdown": [
       "1\n",
       ":   2.54253949452262\n",
       ":   3.158327865937923\n",
       ":   -4.451378364123674\n",
       ":   -5.897634754624725\n",
       ":   1.904178368172746\n",
       ":   -0.2909133431205577\n",
       ":   1.777841377881598\n",
       ":   1.25703935541848\n",
       "\n"
      ],
      "text/plain": [
       "         1          2          3          4          5          6          7 \n",
       " 2.5425395  3.1583279 -4.4513784 -5.8976348  1.9041784 -0.2909133  1.7778414 \n",
       "         8 \n",
       " 1.2570394 "
      ]
     },
     "metadata": {},
     "output_type": "display_data"
    }
   ],
   "source": [
    "beetle$y - beetle$n * fit_logit$fitted.values"
   ]
  },
  {
   "cell_type": "code",
   "execution_count": 90,
   "metadata": {},
   "outputs": [
    {
     "data": {
      "text/html": [
       "<dl class=dl-horizontal>\n",
       "\t<dt>1</dt>\n",
       "\t\t<dd>1.28367770357815</dd>\n",
       "\t<dt>2</dt>\n",
       "\t\t<dd>1.05968999443566</dd>\n",
       "\t<dt>3</dt>\n",
       "\t\t<dd>-1.19611228492938</dd>\n",
       "\t<dt>4</dt>\n",
       "\t\t<dd>-1.59412437460781</dd>\n",
       "\t<dt>5</dt>\n",
       "\t\t<dd>0.606140509529799</dd>\n",
       "\t<dt>6</dt>\n",
       "\t\t<dd>-0.127158398127114</dd>\n",
       "\t<dt>7</dt>\n",
       "\t\t<dd>1.25107108030915</dd>\n",
       "\t<dt>8</dt>\n",
       "\t\t<dd>1.59398501344199</dd>\n",
       "</dl>\n"
      ],
      "text/latex": [
       "\\begin{description*}\n",
       "\\item[1] 1.28367770357815\n",
       "\\item[2] 1.05968999443566\n",
       "\\item[3] -1.19611228492938\n",
       "\\item[4] -1.59412437460781\n",
       "\\item[5] 0.606140509529799\n",
       "\\item[6] -0.127158398127114\n",
       "\\item[7] 1.25107108030915\n",
       "\\item[8] 1.59398501344199\n",
       "\\end{description*}\n"
      ],
      "text/markdown": [
       "1\n",
       ":   1.283677703578152\n",
       ":   1.059689994435663\n",
       ":   -1.196112284929384\n",
       ":   -1.594124374607815\n",
       ":   0.6061405095297996\n",
       ":   -0.1271583981271147\n",
       ":   1.251071080309158\n",
       ":   1.59398501344199\n",
       "\n"
      ],
      "text/plain": [
       "         1          2          3          4          5          6          7 \n",
       " 1.2836777  1.0596900 -1.1961123 -1.5941244  0.6061405 -0.1271584  1.2510711 \n",
       "         8 \n",
       " 1.5939850 "
      ]
     },
     "metadata": {},
     "output_type": "display_data"
    }
   ],
   "source": [
    "residuals(fit_logit, type = \"deviance\")"
   ]
  },
  {
   "cell_type": "code",
   "execution_count": 96,
   "metadata": {
    "scrolled": true
   },
   "outputs": [
    {
     "data": {
      "text/html": [
       "2.87716924363045"
      ],
      "text/latex": [
       "2.87716924363045"
      ],
      "text/markdown": [
       "2.87716924363045"
      ],
      "text/plain": [
       "[1] 2.877169"
      ]
     },
     "metadata": {},
     "output_type": "display_data"
    }
   ],
   "source": [
    "sum(residuals(fit_logit, type = \"deviance\"))"
   ]
  },
  {
   "cell_type": "code",
   "execution_count": null,
   "metadata": {},
   "outputs": [],
   "source": []
  },
  {
   "cell_type": "code",
   "execution_count": null,
   "metadata": {},
   "outputs": [],
   "source": []
  },
  {
   "cell_type": "code",
   "execution_count": null,
   "metadata": {},
   "outputs": [],
   "source": []
  },
  {
   "cell_type": "code",
   "execution_count": 100,
   "metadata": {},
   "outputs": [
    {
     "data": {
      "text/html": [
       "<table>\n",
       "<thead><tr><th scope=col>dose</th><th scope=col>n</th><th scope=col>y</th><th scope=col>n_y</th></tr></thead>\n",
       "<tbody>\n",
       "\t<tr><td>1.6907</td><td>59    </td><td> 6    </td><td>53    </td></tr>\n",
       "\t<tr><td>1.7242</td><td>60    </td><td>13    </td><td>47    </td></tr>\n",
       "\t<tr><td>1.7552</td><td>62    </td><td>18    </td><td>44    </td></tr>\n",
       "\t<tr><td>1.7842</td><td>56    </td><td>28    </td><td>28    </td></tr>\n",
       "\t<tr><td>1.8113</td><td>63    </td><td>52    </td><td>11    </td></tr>\n",
       "\t<tr><td>1.8369</td><td>59    </td><td>53    </td><td> 6    </td></tr>\n",
       "\t<tr><td>1.8610</td><td>62    </td><td>61    </td><td> 1    </td></tr>\n",
       "\t<tr><td>1.8839</td><td>60    </td><td>60    </td><td> 0    </td></tr>\n",
       "</tbody>\n",
       "</table>\n"
      ],
      "text/latex": [
       "\\begin{tabular}{r|llll}\n",
       " dose & n & y & n\\_y\\\\\n",
       "\\hline\n",
       "\t 1.6907 & 59     &  6     & 53    \\\\\n",
       "\t 1.7242 & 60     & 13     & 47    \\\\\n",
       "\t 1.7552 & 62     & 18     & 44    \\\\\n",
       "\t 1.7842 & 56     & 28     & 28    \\\\\n",
       "\t 1.8113 & 63     & 52     & 11    \\\\\n",
       "\t 1.8369 & 59     & 53     &  6    \\\\\n",
       "\t 1.8610 & 62     & 61     &  1    \\\\\n",
       "\t 1.8839 & 60     & 60     &  0    \\\\\n",
       "\\end{tabular}\n"
      ],
      "text/markdown": [
       "\n",
       "dose | n | y | n_y | \n",
       "|---|---|---|---|---|---|---|---|\n",
       "| 1.6907 | 59     |  6     | 53     | \n",
       "| 1.7242 | 60     | 13     | 47     | \n",
       "| 1.7552 | 62     | 18     | 44     | \n",
       "| 1.7842 | 56     | 28     | 28     | \n",
       "| 1.8113 | 63     | 52     | 11     | \n",
       "| 1.8369 | 59     | 53     |  6     | \n",
       "| 1.8610 | 62     | 61     |  1     | \n",
       "| 1.8839 | 60     | 60     |  0     | \n",
       "\n",
       "\n"
      ],
      "text/plain": [
       "  dose   n  y  n_y\n",
       "1 1.6907 59  6 53 \n",
       "2 1.7242 60 13 47 \n",
       "3 1.7552 62 18 44 \n",
       "4 1.7842 56 28 28 \n",
       "5 1.8113 63 52 11 \n",
       "6 1.8369 59 53  6 \n",
       "7 1.8610 62 61  1 \n",
       "8 1.8839 60 60  0 "
      ]
     },
     "metadata": {},
     "output_type": "display_data"
    }
   ],
   "source": [
    "beetle"
   ]
  },
  {
   "cell_type": "code",
   "execution_count": 108,
   "metadata": {},
   "outputs": [
    {
     "data": {
      "text/html": [
       "<ol class=list-inline>\n",
       "\t<li>481</li>\n",
       "\t<li>3</li>\n",
       "</ol>\n"
      ],
      "text/latex": [
       "\\begin{enumerate*}\n",
       "\\item 481\n",
       "\\item 3\n",
       "\\end{enumerate*}\n"
      ],
      "text/markdown": [
       "1. 481\n",
       "2. 3\n",
       "\n",
       "\n"
      ],
      "text/plain": [
       "[1] 481   3"
      ]
     },
     "metadata": {},
     "output_type": "display_data"
    }
   ],
   "source": [
    "tmp = beetle_n1 #%>% unique\n",
    "dim(tmp)"
   ]
  },
  {
   "cell_type": "code",
   "execution_count": 107,
   "metadata": {},
   "outputs": [
    {
     "data": {
      "text/html": [
       "<dl class=dl-horizontal>\n",
       "\t<dt>1</dt>\n",
       "\t\t<dd>0.0586010255272559</dd>\n",
       "\t<dt>2</dt>\n",
       "\t\t<dd>0.0586010255272559</dd>\n",
       "\t<dt>3</dt>\n",
       "\t\t<dd>0.0586010255272559</dd>\n",
       "\t<dt>4</dt>\n",
       "\t\t<dd>0.0586010255272559</dd>\n",
       "\t<dt>5</dt>\n",
       "\t\t<dd>0.0586010255272559</dd>\n",
       "\t<dt>6</dt>\n",
       "\t\t<dd>0.0586010255272559</dd>\n",
       "\t<dt>7</dt>\n",
       "\t\t<dd>0.164027868915411</dd>\n",
       "\t<dt>8</dt>\n",
       "\t\t<dd>0.164027868915411</dd>\n",
       "\t<dt>9</dt>\n",
       "\t\t<dd>0.164027868915411</dd>\n",
       "\t<dt>10</dt>\n",
       "\t\t<dd>0.164027868915411</dd>\n",
       "\t<dt>11</dt>\n",
       "\t\t<dd>0.164027868915411</dd>\n",
       "\t<dt>12</dt>\n",
       "\t\t<dd>0.164027868915411</dd>\n",
       "\t<dt>13</dt>\n",
       "\t\t<dd>0.164027868915411</dd>\n",
       "\t<dt>14</dt>\n",
       "\t\t<dd>0.164027868915411</dd>\n",
       "\t<dt>15</dt>\n",
       "\t\t<dd>0.164027868915411</dd>\n",
       "\t<dt>16</dt>\n",
       "\t\t<dd>0.164027868915411</dd>\n",
       "\t<dt>17</dt>\n",
       "\t\t<dd>0.164027868915411</dd>\n",
       "\t<dt>18</dt>\n",
       "\t\t<dd>0.164027868915411</dd>\n",
       "\t<dt>19</dt>\n",
       "\t\t<dd>0.164027868915411</dd>\n",
       "\t<dt>20</dt>\n",
       "\t\t<dd>0.36211900587817</dd>\n",
       "\t<dt>21</dt>\n",
       "\t\t<dd>0.36211900587817</dd>\n",
       "\t<dt>22</dt>\n",
       "\t\t<dd>0.36211900587817</dd>\n",
       "\t<dt>23</dt>\n",
       "\t\t<dd>0.36211900587817</dd>\n",
       "\t<dt>24</dt>\n",
       "\t\t<dd>0.36211900587817</dd>\n",
       "\t<dt>25</dt>\n",
       "\t\t<dd>0.36211900587817</dd>\n",
       "\t<dt>26</dt>\n",
       "\t\t<dd>0.36211900587817</dd>\n",
       "\t<dt>27</dt>\n",
       "\t\t<dd>0.36211900587817</dd>\n",
       "\t<dt>28</dt>\n",
       "\t\t<dd>0.36211900587817</dd>\n",
       "\t<dt>29</dt>\n",
       "\t\t<dd>0.36211900587817</dd>\n",
       "\t<dt>30</dt>\n",
       "\t\t<dd>0.36211900587817</dd>\n",
       "\t<dt>31</dt>\n",
       "\t\t<dd>0.36211900587817</dd>\n",
       "\t<dt>32</dt>\n",
       "\t\t<dd>0.36211900587817</dd>\n",
       "\t<dt>33</dt>\n",
       "\t\t<dd>0.36211900587817</dd>\n",
       "\t<dt>34</dt>\n",
       "\t\t<dd>0.36211900587817</dd>\n",
       "\t<dt>35</dt>\n",
       "\t\t<dd>0.36211900587817</dd>\n",
       "\t<dt>36</dt>\n",
       "\t\t<dd>0.36211900587817</dd>\n",
       "\t<dt>37</dt>\n",
       "\t\t<dd>0.36211900587817</dd>\n",
       "\t<dt>38</dt>\n",
       "\t\t<dd>0.605314906319576</dd>\n",
       "\t<dt>39</dt>\n",
       "\t\t<dd>0.605314906319576</dd>\n",
       "\t<dt>40</dt>\n",
       "\t\t<dd>0.605314906319576</dd>\n",
       "\t<dt>41</dt>\n",
       "\t\t<dd>0.605314906319576</dd>\n",
       "\t<dt>42</dt>\n",
       "\t\t<dd>0.605314906319576</dd>\n",
       "\t<dt>43</dt>\n",
       "\t\t<dd>0.605314906319576</dd>\n",
       "\t<dt>44</dt>\n",
       "\t\t<dd>0.605314906319576</dd>\n",
       "\t<dt>45</dt>\n",
       "\t\t<dd>0.605314906319576</dd>\n",
       "\t<dt>46</dt>\n",
       "\t\t<dd>0.605314906319576</dd>\n",
       "\t<dt>47</dt>\n",
       "\t\t<dd>0.605314906319576</dd>\n",
       "\t<dt>48</dt>\n",
       "\t\t<dd>0.605314906319576</dd>\n",
       "\t<dt>49</dt>\n",
       "\t\t<dd>0.605314906319576</dd>\n",
       "\t<dt>50</dt>\n",
       "\t\t<dd>0.605314906319576</dd>\n",
       "\t<dt>51</dt>\n",
       "\t\t<dd>0.605314906319576</dd>\n",
       "\t<dt>52</dt>\n",
       "\t\t<dd>0.605314906319576</dd>\n",
       "\t<dt>53</dt>\n",
       "\t\t<dd>0.605314906319576</dd>\n",
       "\t<dt>54</dt>\n",
       "\t\t<dd>0.605314906319576</dd>\n",
       "\t<dt>55</dt>\n",
       "\t\t<dd>0.605314906319576</dd>\n",
       "\t<dt>56</dt>\n",
       "\t\t<dd>0.605314906319576</dd>\n",
       "\t<dt>57</dt>\n",
       "\t\t<dd>0.605314906319576</dd>\n",
       "\t<dt>58</dt>\n",
       "\t\t<dd>0.605314906319576</dd>\n",
       "\t<dt>59</dt>\n",
       "\t\t<dd>0.605314906319576</dd>\n",
       "\t<dt>60</dt>\n",
       "\t\t<dd>0.605314906319576</dd>\n",
       "\t<dt>61</dt>\n",
       "\t\t<dd>0.605314906319576</dd>\n",
       "\t<dt>62</dt>\n",
       "\t\t<dd>0.605314906319576</dd>\n",
       "\t<dt>63</dt>\n",
       "\t\t<dd>0.605314906319576</dd>\n",
       "\t<dt>64</dt>\n",
       "\t\t<dd>0.605314906319576</dd>\n",
       "\t<dt>65</dt>\n",
       "\t\t<dd>0.605314906319576</dd>\n",
       "\t<dt>66</dt>\n",
       "\t\t<dd>0.795171771913179</dd>\n",
       "\t<dt>67</dt>\n",
       "\t\t<dd>0.795171771913179</dd>\n",
       "\t<dt>68</dt>\n",
       "\t\t<dd>0.795171771913179</dd>\n",
       "\t<dt>69</dt>\n",
       "\t\t<dd>0.795171771913179</dd>\n",
       "\t<dt>70</dt>\n",
       "\t\t<dd>0.795171771913179</dd>\n",
       "\t<dt>71</dt>\n",
       "\t\t<dd>0.795171771913179</dd>\n",
       "\t<dt>72</dt>\n",
       "\t\t<dd>0.795171771913179</dd>\n",
       "\t<dt>73</dt>\n",
       "\t\t<dd>0.795171771913179</dd>\n",
       "\t<dt>74</dt>\n",
       "\t\t<dd>0.795171771913179</dd>\n",
       "\t<dt>75</dt>\n",
       "\t\t<dd>0.795171771913179</dd>\n",
       "\t<dt>76</dt>\n",
       "\t\t<dd>0.795171771913179</dd>\n",
       "\t<dt>77</dt>\n",
       "\t\t<dd>0.795171771913179</dd>\n",
       "\t<dt>78</dt>\n",
       "\t\t<dd>0.795171771913179</dd>\n",
       "\t<dt>79</dt>\n",
       "\t\t<dd>0.795171771913179</dd>\n",
       "\t<dt>80</dt>\n",
       "\t\t<dd>0.795171771913179</dd>\n",
       "\t<dt>81</dt>\n",
       "\t\t<dd>0.795171771913179</dd>\n",
       "\t<dt>82</dt>\n",
       "\t\t<dd>0.795171771913179</dd>\n",
       "\t<dt>83</dt>\n",
       "\t\t<dd>0.795171771913179</dd>\n",
       "\t<dt>84</dt>\n",
       "\t\t<dd>0.795171771913179</dd>\n",
       "\t<dt>85</dt>\n",
       "\t\t<dd>0.795171771913179</dd>\n",
       "\t<dt>86</dt>\n",
       "\t\t<dd>0.795171771913179</dd>\n",
       "\t<dt>87</dt>\n",
       "\t\t<dd>0.795171771913179</dd>\n",
       "\t<dt>88</dt>\n",
       "\t\t<dd>0.795171771913179</dd>\n",
       "\t<dt>89</dt>\n",
       "\t\t<dd>0.795171771913179</dd>\n",
       "\t<dt>90</dt>\n",
       "\t\t<dd>0.795171771913179</dd>\n",
       "\t<dt>91</dt>\n",
       "\t\t<dd>0.795171771913179</dd>\n",
       "\t<dt>92</dt>\n",
       "\t\t<dd>0.795171771913179</dd>\n",
       "\t<dt>93</dt>\n",
       "\t\t<dd>0.795171771913179</dd>\n",
       "\t<dt>94</dt>\n",
       "\t\t<dd>0.795171771913179</dd>\n",
       "\t<dt>95</dt>\n",
       "\t\t<dd>0.795171771913179</dd>\n",
       "\t<dt>96</dt>\n",
       "\t\t<dd>0.795171771913179</dd>\n",
       "\t<dt>97</dt>\n",
       "\t\t<dd>0.795171771913179</dd>\n",
       "\t<dt>98</dt>\n",
       "\t\t<dd>0.795171771913179</dd>\n",
       "\t<dt>99</dt>\n",
       "\t\t<dd>0.795171771913179</dd>\n",
       "\t<dt>100</dt>\n",
       "\t\t<dd>0.795171771913179</dd>\n",
       "\t<dt>101</dt>\n",
       "\t\t<dd>0.795171771913179</dd>\n",
       "\t<dt>102</dt>\n",
       "\t\t<dd>0.795171771913179</dd>\n",
       "\t<dt>103</dt>\n",
       "\t\t<dd>0.795171771913179</dd>\n",
       "\t<dt>104</dt>\n",
       "\t\t<dd>0.795171771913179</dd>\n",
       "\t<dt>105</dt>\n",
       "\t\t<dd>0.795171771913179</dd>\n",
       "\t<dt>106</dt>\n",
       "\t\t<dd>0.795171771913179</dd>\n",
       "\t<dt>107</dt>\n",
       "\t\t<dd>0.795171771913179</dd>\n",
       "\t<dt>108</dt>\n",
       "\t\t<dd>0.795171771913179</dd>\n",
       "\t<dt>109</dt>\n",
       "\t\t<dd>0.795171771913179</dd>\n",
       "\t<dt>110</dt>\n",
       "\t\t<dd>0.795171771913179</dd>\n",
       "\t<dt>111</dt>\n",
       "\t\t<dd>0.795171771913179</dd>\n",
       "\t<dt>112</dt>\n",
       "\t\t<dd>0.795171771913179</dd>\n",
       "\t<dt>113</dt>\n",
       "\t\t<dd>0.795171771913179</dd>\n",
       "\t<dt>114</dt>\n",
       "\t\t<dd>0.795171771913179</dd>\n",
       "\t<dt>115</dt>\n",
       "\t\t<dd>0.795171771913179</dd>\n",
       "\t<dt>116</dt>\n",
       "\t\t<dd>0.795171771913179</dd>\n",
       "\t<dt>117</dt>\n",
       "\t\t<dd>0.795171771913179</dd>\n",
       "\t<dt>118</dt>\n",
       "\t\t<dd>0.903235819357937</dd>\n",
       "\t<dt>119</dt>\n",
       "\t\t<dd>0.903235819357937</dd>\n",
       "\t<dt>120</dt>\n",
       "\t\t<dd>0.903235819357937</dd>\n",
       "\t<dt>121</dt>\n",
       "\t\t<dd>0.903235819357937</dd>\n",
       "\t<dt>122</dt>\n",
       "\t\t<dd>0.903235819357937</dd>\n",
       "\t<dt>123</dt>\n",
       "\t\t<dd>0.903235819357937</dd>\n",
       "\t<dt>124</dt>\n",
       "\t\t<dd>0.903235819357937</dd>\n",
       "\t<dt>125</dt>\n",
       "\t\t<dd>0.903235819357937</dd>\n",
       "\t<dt>126</dt>\n",
       "\t\t<dd>0.903235819357937</dd>\n",
       "\t<dt>127</dt>\n",
       "\t\t<dd>0.903235819357937</dd>\n",
       "\t<dt>128</dt>\n",
       "\t\t<dd>0.903235819357937</dd>\n",
       "\t<dt>129</dt>\n",
       "\t\t<dd>0.903235819357937</dd>\n",
       "\t<dt>130</dt>\n",
       "\t\t<dd>0.903235819357937</dd>\n",
       "\t<dt>131</dt>\n",
       "\t\t<dd>0.903235819357937</dd>\n",
       "\t<dt>132</dt>\n",
       "\t\t<dd>0.903235819357937</dd>\n",
       "\t<dt>133</dt>\n",
       "\t\t<dd>0.903235819357937</dd>\n",
       "\t<dt>134</dt>\n",
       "\t\t<dd>0.903235819357937</dd>\n",
       "\t<dt>135</dt>\n",
       "\t\t<dd>0.903235819357937</dd>\n",
       "\t<dt>136</dt>\n",
       "\t\t<dd>0.903235819357937</dd>\n",
       "\t<dt>137</dt>\n",
       "\t\t<dd>0.903235819357937</dd>\n",
       "\t<dt>138</dt>\n",
       "\t\t<dd>0.903235819357937</dd>\n",
       "\t<dt>139</dt>\n",
       "\t\t<dd>0.903235819357937</dd>\n",
       "\t<dt>140</dt>\n",
       "\t\t<dd>0.903235819357937</dd>\n",
       "\t<dt>141</dt>\n",
       "\t\t<dd>0.903235819357937</dd>\n",
       "\t<dt>142</dt>\n",
       "\t\t<dd>0.903235819357937</dd>\n",
       "\t<dt>143</dt>\n",
       "\t\t<dd>0.903235819357937</dd>\n",
       "\t<dt>144</dt>\n",
       "\t\t<dd>0.903235819357937</dd>\n",
       "\t<dt>145</dt>\n",
       "\t\t<dd>0.903235819357937</dd>\n",
       "\t<dt>146</dt>\n",
       "\t\t<dd>0.903235819357937</dd>\n",
       "\t<dt>147</dt>\n",
       "\t\t<dd>0.903235819357937</dd>\n",
       "\t<dt>148</dt>\n",
       "\t\t<dd>0.903235819357937</dd>\n",
       "\t<dt>149</dt>\n",
       "\t\t<dd>0.903235819357937</dd>\n",
       "\t<dt>150</dt>\n",
       "\t\t<dd>0.903235819357937</dd>\n",
       "\t<dt>151</dt>\n",
       "\t\t<dd>0.903235819357937</dd>\n",
       "\t<dt>152</dt>\n",
       "\t\t<dd>0.903235819357937</dd>\n",
       "\t<dt>153</dt>\n",
       "\t\t<dd>0.903235819357937</dd>\n",
       "\t<dt>154</dt>\n",
       "\t\t<dd>0.903235819357937</dd>\n",
       "\t<dt>155</dt>\n",
       "\t\t<dd>0.903235819357937</dd>\n",
       "\t<dt>156</dt>\n",
       "\t\t<dd>0.903235819357937</dd>\n",
       "\t<dt>157</dt>\n",
       "\t\t<dd>0.903235819357937</dd>\n",
       "\t<dt>158</dt>\n",
       "\t\t<dd>0.903235819357937</dd>\n",
       "\t<dt>159</dt>\n",
       "\t\t<dd>0.903235819357937</dd>\n",
       "\t<dt>160</dt>\n",
       "\t\t<dd>0.903235819357937</dd>\n",
       "\t<dt>161</dt>\n",
       "\t\t<dd>0.903235819357937</dd>\n",
       "\t<dt>162</dt>\n",
       "\t\t<dd>0.903235819357937</dd>\n",
       "\t<dt>163</dt>\n",
       "\t\t<dd>0.903235819357937</dd>\n",
       "\t<dt>164</dt>\n",
       "\t\t<dd>0.903235819357937</dd>\n",
       "\t<dt>165</dt>\n",
       "\t\t<dd>0.903235819357937</dd>\n",
       "\t<dt>166</dt>\n",
       "\t\t<dd>0.903235819357937</dd>\n",
       "\t<dt>167</dt>\n",
       "\t\t<dd>0.903235819357937</dd>\n",
       "\t<dt>168</dt>\n",
       "\t\t<dd>0.903235819357937</dd>\n",
       "\t<dt>169</dt>\n",
       "\t\t<dd>0.903235819357937</dd>\n",
       "\t<dt>170</dt>\n",
       "\t\t<dd>0.903235819357937</dd>\n",
       "\t<dt>171</dt>\n",
       "\t\t<dd>0.955196106797305</dd>\n",
       "\t<dt>172</dt>\n",
       "\t\t<dd>0.955196106797305</dd>\n",
       "\t<dt>173</dt>\n",
       "\t\t<dd>0.955196106797305</dd>\n",
       "\t<dt>174</dt>\n",
       "\t\t<dd>0.955196106797305</dd>\n",
       "\t<dt>175</dt>\n",
       "\t\t<dd>0.955196106797305</dd>\n",
       "\t<dt>176</dt>\n",
       "\t\t<dd>0.955196106797305</dd>\n",
       "\t<dt>177</dt>\n",
       "\t\t<dd>0.955196106797305</dd>\n",
       "\t<dt>178</dt>\n",
       "\t\t<dd>0.955196106797305</dd>\n",
       "\t<dt>179</dt>\n",
       "\t\t<dd>0.955196106797305</dd>\n",
       "\t<dt>180</dt>\n",
       "\t\t<dd>0.955196106797305</dd>\n",
       "\t<dt>181</dt>\n",
       "\t\t<dd>0.955196106797305</dd>\n",
       "\t<dt>182</dt>\n",
       "\t\t<dd>0.955196106797305</dd>\n",
       "\t<dt>183</dt>\n",
       "\t\t<dd>0.955196106797305</dd>\n",
       "\t<dt>184</dt>\n",
       "\t\t<dd>0.955196106797305</dd>\n",
       "\t<dt>185</dt>\n",
       "\t\t<dd>0.955196106797305</dd>\n",
       "\t<dt>186</dt>\n",
       "\t\t<dd>0.955196106797305</dd>\n",
       "\t<dt>187</dt>\n",
       "\t\t<dd>0.955196106797305</dd>\n",
       "\t<dt>188</dt>\n",
       "\t\t<dd>0.955196106797305</dd>\n",
       "\t<dt>189</dt>\n",
       "\t\t<dd>0.955196106797305</dd>\n",
       "\t<dt>190</dt>\n",
       "\t\t<dd>0.955196106797305</dd>\n",
       "\t<dt>191</dt>\n",
       "\t\t<dd>0.955196106797305</dd>\n",
       "\t<dt>192</dt>\n",
       "\t\t<dd>0.955196106797305</dd>\n",
       "\t<dt>193</dt>\n",
       "\t\t<dd>0.955196106797305</dd>\n",
       "\t<dt>194</dt>\n",
       "\t\t<dd>0.955196106797305</dd>\n",
       "\t<dt>195</dt>\n",
       "\t\t<dd>0.955196106797305</dd>\n",
       "\t<dt>196</dt>\n",
       "\t\t<dd>0.955196106797305</dd>\n",
       "\t<dt>197</dt>\n",
       "\t\t<dd>0.955196106797305</dd>\n",
       "\t<dt>198</dt>\n",
       "\t\t<dd>0.955196106797305</dd>\n",
       "\t<dt>199</dt>\n",
       "\t\t<dd>0.955196106797305</dd>\n",
       "\t<dt>200</dt>\n",
       "\t\t<dd>0.955196106797305</dd>\n",
       "\t<dt>201</dt>\n",
       "\t\t<dd>0.955196106797305</dd>\n",
       "\t<dt>202</dt>\n",
       "\t\t<dd>0.955196106797305</dd>\n",
       "\t<dt>203</dt>\n",
       "\t\t<dd>0.955196106797305</dd>\n",
       "\t<dt>204</dt>\n",
       "\t\t<dd>0.955196106797305</dd>\n",
       "\t<dt>205</dt>\n",
       "\t\t<dd>0.955196106797305</dd>\n",
       "\t<dt>206</dt>\n",
       "\t\t<dd>0.955196106797305</dd>\n",
       "\t<dt>207</dt>\n",
       "\t\t<dd>0.955196106797305</dd>\n",
       "\t<dt>208</dt>\n",
       "\t\t<dd>0.955196106797305</dd>\n",
       "\t<dt>209</dt>\n",
       "\t\t<dd>0.955196106797305</dd>\n",
       "\t<dt>210</dt>\n",
       "\t\t<dd>0.955196106797305</dd>\n",
       "\t<dt>211</dt>\n",
       "\t\t<dd>0.955196106797305</dd>\n",
       "\t<dt>212</dt>\n",
       "\t\t<dd>0.955196106797305</dd>\n",
       "\t<dt>213</dt>\n",
       "\t\t<dd>0.955196106797305</dd>\n",
       "\t<dt>214</dt>\n",
       "\t\t<dd>0.955196106797305</dd>\n",
       "\t<dt>215</dt>\n",
       "\t\t<dd>0.955196106797305</dd>\n",
       "\t<dt>216</dt>\n",
       "\t\t<dd>0.955196106797305</dd>\n",
       "\t<dt>217</dt>\n",
       "\t\t<dd>0.955196106797305</dd>\n",
       "\t<dt>218</dt>\n",
       "\t\t<dd>0.955196106797305</dd>\n",
       "\t<dt>219</dt>\n",
       "\t\t<dd>0.955196106797305</dd>\n",
       "\t<dt>220</dt>\n",
       "\t\t<dd>0.955196106797305</dd>\n",
       "\t<dt>221</dt>\n",
       "\t\t<dd>0.955196106797305</dd>\n",
       "\t<dt>222</dt>\n",
       "\t\t<dd>0.955196106797305</dd>\n",
       "\t<dt>223</dt>\n",
       "\t\t<dd>0.955196106797305</dd>\n",
       "\t<dt>224</dt>\n",
       "\t\t<dd>0.955196106797305</dd>\n",
       "\t<dt>225</dt>\n",
       "\t\t<dd>0.955196106797305</dd>\n",
       "\t<dt>226</dt>\n",
       "\t\t<dd>0.955196106797305</dd>\n",
       "\t<dt>227</dt>\n",
       "\t\t<dd>0.955196106797305</dd>\n",
       "\t<dt>228</dt>\n",
       "\t\t<dd>0.955196106797305</dd>\n",
       "\t<dt>229</dt>\n",
       "\t\t<dd>0.955196106797305</dd>\n",
       "\t<dt>230</dt>\n",
       "\t\t<dd>0.955196106797305</dd>\n",
       "\t<dt>231</dt>\n",
       "\t\t<dd>0.955196106797305</dd>\n",
       "\t<dt>232</dt>\n",
       "\t\t<dd>0.979049344069813</dd>\n",
       "\t<dt>233</dt>\n",
       "\t\t<dd>0.979049344069813</dd>\n",
       "\t<dt>234</dt>\n",
       "\t\t<dd>0.979049344069813</dd>\n",
       "\t<dt>235</dt>\n",
       "\t\t<dd>0.979049344069813</dd>\n",
       "\t<dt>236</dt>\n",
       "\t\t<dd>0.979049344069813</dd>\n",
       "\t<dt>237</dt>\n",
       "\t\t<dd>0.979049344069813</dd>\n",
       "\t<dt>238</dt>\n",
       "\t\t<dd>0.979049344069813</dd>\n",
       "\t<dt>239</dt>\n",
       "\t\t<dd>0.979049344069813</dd>\n",
       "\t<dt>240</dt>\n",
       "\t\t<dd>0.979049344069813</dd>\n",
       "\t<dt>241</dt>\n",
       "\t\t<dd>0.979049344069813</dd>\n",
       "\t<dt>242</dt>\n",
       "\t\t<dd>0.979049344069813</dd>\n",
       "\t<dt>243</dt>\n",
       "\t\t<dd>0.979049344069813</dd>\n",
       "\t<dt>244</dt>\n",
       "\t\t<dd>0.979049344069813</dd>\n",
       "\t<dt>245</dt>\n",
       "\t\t<dd>0.979049344069813</dd>\n",
       "\t<dt>246</dt>\n",
       "\t\t<dd>0.979049344069813</dd>\n",
       "\t<dt>247</dt>\n",
       "\t\t<dd>0.979049344069813</dd>\n",
       "\t<dt>248</dt>\n",
       "\t\t<dd>0.979049344069813</dd>\n",
       "\t<dt>249</dt>\n",
       "\t\t<dd>0.979049344069813</dd>\n",
       "\t<dt>250</dt>\n",
       "\t\t<dd>0.979049344069813</dd>\n",
       "\t<dt>251</dt>\n",
       "\t\t<dd>0.979049344069813</dd>\n",
       "\t<dt>252</dt>\n",
       "\t\t<dd>0.979049344069813</dd>\n",
       "\t<dt>253</dt>\n",
       "\t\t<dd>0.979049344069813</dd>\n",
       "\t<dt>254</dt>\n",
       "\t\t<dd>0.979049344069813</dd>\n",
       "\t<dt>255</dt>\n",
       "\t\t<dd>0.979049344069813</dd>\n",
       "\t<dt>256</dt>\n",
       "\t\t<dd>0.979049344069813</dd>\n",
       "\t<dt>257</dt>\n",
       "\t\t<dd>0.979049344069813</dd>\n",
       "\t<dt>258</dt>\n",
       "\t\t<dd>0.979049344069813</dd>\n",
       "\t<dt>259</dt>\n",
       "\t\t<dd>0.979049344069813</dd>\n",
       "\t<dt>260</dt>\n",
       "\t\t<dd>0.979049344069813</dd>\n",
       "\t<dt>261</dt>\n",
       "\t\t<dd>0.979049344069813</dd>\n",
       "\t<dt>262</dt>\n",
       "\t\t<dd>0.979049344069813</dd>\n",
       "\t<dt>263</dt>\n",
       "\t\t<dd>0.979049344069813</dd>\n",
       "\t<dt>264</dt>\n",
       "\t\t<dd>0.979049344069813</dd>\n",
       "\t<dt>265</dt>\n",
       "\t\t<dd>0.979049344069813</dd>\n",
       "\t<dt>266</dt>\n",
       "\t\t<dd>0.979049344069813</dd>\n",
       "\t<dt>267</dt>\n",
       "\t\t<dd>0.979049344069813</dd>\n",
       "\t<dt>268</dt>\n",
       "\t\t<dd>0.979049344069813</dd>\n",
       "\t<dt>269</dt>\n",
       "\t\t<dd>0.979049344069813</dd>\n",
       "\t<dt>270</dt>\n",
       "\t\t<dd>0.979049344069813</dd>\n",
       "\t<dt>271</dt>\n",
       "\t\t<dd>0.979049344069813</dd>\n",
       "\t<dt>272</dt>\n",
       "\t\t<dd>0.979049344069813</dd>\n",
       "\t<dt>273</dt>\n",
       "\t\t<dd>0.979049344069813</dd>\n",
       "\t<dt>274</dt>\n",
       "\t\t<dd>0.979049344069813</dd>\n",
       "\t<dt>275</dt>\n",
       "\t\t<dd>0.979049344069813</dd>\n",
       "\t<dt>276</dt>\n",
       "\t\t<dd>0.979049344069813</dd>\n",
       "\t<dt>277</dt>\n",
       "\t\t<dd>0.979049344069813</dd>\n",
       "\t<dt>278</dt>\n",
       "\t\t<dd>0.979049344069813</dd>\n",
       "\t<dt>279</dt>\n",
       "\t\t<dd>0.979049344069813</dd>\n",
       "\t<dt>280</dt>\n",
       "\t\t<dd>0.979049344069813</dd>\n",
       "\t<dt>281</dt>\n",
       "\t\t<dd>0.979049344069813</dd>\n",
       "\t<dt>282</dt>\n",
       "\t\t<dd>0.979049344069813</dd>\n",
       "\t<dt>283</dt>\n",
       "\t\t<dd>0.979049344069813</dd>\n",
       "\t<dt>284</dt>\n",
       "\t\t<dd>0.979049344069813</dd>\n",
       "\t<dt>285</dt>\n",
       "\t\t<dd>0.979049344069813</dd>\n",
       "\t<dt>286</dt>\n",
       "\t\t<dd>0.979049344069813</dd>\n",
       "\t<dt>287</dt>\n",
       "\t\t<dd>0.979049344069813</dd>\n",
       "\t<dt>288</dt>\n",
       "\t\t<dd>0.979049344069813</dd>\n",
       "\t<dt>289</dt>\n",
       "\t\t<dd>0.979049344069813</dd>\n",
       "\t<dt>290</dt>\n",
       "\t\t<dd>0.979049344069813</dd>\n",
       "\t<dt>291</dt>\n",
       "\t\t<dd>0.979049344069813</dd>\n",
       "\t<dt>292</dt>\n",
       "\t\t<dd>0.0586010255272559</dd>\n",
       "\t<dt>293</dt>\n",
       "\t\t<dd>0.0586010255272559</dd>\n",
       "\t<dt>294</dt>\n",
       "\t\t<dd>0.0586010255272559</dd>\n",
       "\t<dt>295</dt>\n",
       "\t\t<dd>0.0586010255272559</dd>\n",
       "\t<dt>296</dt>\n",
       "\t\t<dd>0.0586010255272559</dd>\n",
       "\t<dt>297</dt>\n",
       "\t\t<dd>0.0586010255272559</dd>\n",
       "\t<dt>298</dt>\n",
       "\t\t<dd>0.0586010255272559</dd>\n",
       "\t<dt>299</dt>\n",
       "\t\t<dd>0.0586010255272559</dd>\n",
       "\t<dt>300</dt>\n",
       "\t\t<dd>0.0586010255272559</dd>\n",
       "\t<dt>301</dt>\n",
       "\t\t<dd>0.0586010255272559</dd>\n",
       "\t<dt>302</dt>\n",
       "\t\t<dd>0.0586010255272559</dd>\n",
       "\t<dt>303</dt>\n",
       "\t\t<dd>0.0586010255272559</dd>\n",
       "\t<dt>304</dt>\n",
       "\t\t<dd>0.0586010255272559</dd>\n",
       "\t<dt>305</dt>\n",
       "\t\t<dd>0.0586010255272559</dd>\n",
       "\t<dt>306</dt>\n",
       "\t\t<dd>0.0586010255272559</dd>\n",
       "\t<dt>307</dt>\n",
       "\t\t<dd>0.0586010255272559</dd>\n",
       "\t<dt>308</dt>\n",
       "\t\t<dd>0.0586010255272559</dd>\n",
       "\t<dt>309</dt>\n",
       "\t\t<dd>0.0586010255272559</dd>\n",
       "\t<dt>310</dt>\n",
       "\t\t<dd>0.0586010255272559</dd>\n",
       "\t<dt>311</dt>\n",
       "\t\t<dd>0.0586010255272559</dd>\n",
       "\t<dt>312</dt>\n",
       "\t\t<dd>0.0586010255272559</dd>\n",
       "\t<dt>313</dt>\n",
       "\t\t<dd>0.0586010255272559</dd>\n",
       "\t<dt>314</dt>\n",
       "\t\t<dd>0.0586010255272559</dd>\n",
       "\t<dt>315</dt>\n",
       "\t\t<dd>0.0586010255272559</dd>\n",
       "\t<dt>316</dt>\n",
       "\t\t<dd>0.0586010255272559</dd>\n",
       "\t<dt>317</dt>\n",
       "\t\t<dd>0.0586010255272559</dd>\n",
       "\t<dt>318</dt>\n",
       "\t\t<dd>0.0586010255272559</dd>\n",
       "\t<dt>319</dt>\n",
       "\t\t<dd>0.0586010255272559</dd>\n",
       "\t<dt>320</dt>\n",
       "\t\t<dd>0.0586010255272559</dd>\n",
       "\t<dt>321</dt>\n",
       "\t\t<dd>0.0586010255272559</dd>\n",
       "\t<dt>322</dt>\n",
       "\t\t<dd>0.0586010255272559</dd>\n",
       "\t<dt>323</dt>\n",
       "\t\t<dd>0.0586010255272559</dd>\n",
       "\t<dt>324</dt>\n",
       "\t\t<dd>0.0586010255272559</dd>\n",
       "\t<dt>325</dt>\n",
       "\t\t<dd>0.0586010255272559</dd>\n",
       "\t<dt>326</dt>\n",
       "\t\t<dd>0.0586010255272559</dd>\n",
       "\t<dt>327</dt>\n",
       "\t\t<dd>0.0586010255272559</dd>\n",
       "\t<dt>328</dt>\n",
       "\t\t<dd>0.0586010255272559</dd>\n",
       "\t<dt>329</dt>\n",
       "\t\t<dd>0.0586010255272559</dd>\n",
       "\t<dt>330</dt>\n",
       "\t\t<dd>0.0586010255272559</dd>\n",
       "\t<dt>331</dt>\n",
       "\t\t<dd>0.0586010255272559</dd>\n",
       "\t<dt>332</dt>\n",
       "\t\t<dd>0.0586010255272559</dd>\n",
       "\t<dt>333</dt>\n",
       "\t\t<dd>0.0586010255272559</dd>\n",
       "\t<dt>334</dt>\n",
       "\t\t<dd>0.0586010255272559</dd>\n",
       "\t<dt>335</dt>\n",
       "\t\t<dd>0.0586010255272559</dd>\n",
       "\t<dt>336</dt>\n",
       "\t\t<dd>0.0586010255272559</dd>\n",
       "\t<dt>337</dt>\n",
       "\t\t<dd>0.0586010255272559</dd>\n",
       "\t<dt>338</dt>\n",
       "\t\t<dd>0.0586010255272559</dd>\n",
       "\t<dt>339</dt>\n",
       "\t\t<dd>0.0586010255272559</dd>\n",
       "\t<dt>340</dt>\n",
       "\t\t<dd>0.0586010255272559</dd>\n",
       "\t<dt>341</dt>\n",
       "\t\t<dd>0.0586010255272559</dd>\n",
       "\t<dt>342</dt>\n",
       "\t\t<dd>0.0586010255272559</dd>\n",
       "\t<dt>343</dt>\n",
       "\t\t<dd>0.0586010255272559</dd>\n",
       "\t<dt>344</dt>\n",
       "\t\t<dd>0.0586010255272559</dd>\n",
       "\t<dt>345</dt>\n",
       "\t\t<dd>0.164027868915411</dd>\n",
       "\t<dt>346</dt>\n",
       "\t\t<dd>0.164027868915411</dd>\n",
       "\t<dt>347</dt>\n",
       "\t\t<dd>0.164027868915411</dd>\n",
       "\t<dt>348</dt>\n",
       "\t\t<dd>0.164027868915411</dd>\n",
       "\t<dt>349</dt>\n",
       "\t\t<dd>0.164027868915411</dd>\n",
       "\t<dt>350</dt>\n",
       "\t\t<dd>0.164027868915411</dd>\n",
       "\t<dt>351</dt>\n",
       "\t\t<dd>0.164027868915411</dd>\n",
       "\t<dt>352</dt>\n",
       "\t\t<dd>0.164027868915411</dd>\n",
       "\t<dt>353</dt>\n",
       "\t\t<dd>0.164027868915411</dd>\n",
       "\t<dt>354</dt>\n",
       "\t\t<dd>0.164027868915411</dd>\n",
       "\t<dt>355</dt>\n",
       "\t\t<dd>0.164027868915411</dd>\n",
       "\t<dt>356</dt>\n",
       "\t\t<dd>0.164027868915411</dd>\n",
       "\t<dt>357</dt>\n",
       "\t\t<dd>0.164027868915411</dd>\n",
       "\t<dt>358</dt>\n",
       "\t\t<dd>0.164027868915411</dd>\n",
       "\t<dt>359</dt>\n",
       "\t\t<dd>0.164027868915411</dd>\n",
       "\t<dt>360</dt>\n",
       "\t\t<dd>0.164027868915411</dd>\n",
       "\t<dt>361</dt>\n",
       "\t\t<dd>0.164027868915411</dd>\n",
       "\t<dt>362</dt>\n",
       "\t\t<dd>0.164027868915411</dd>\n",
       "\t<dt>363</dt>\n",
       "\t\t<dd>0.164027868915411</dd>\n",
       "\t<dt>364</dt>\n",
       "\t\t<dd>0.164027868915411</dd>\n",
       "\t<dt>365</dt>\n",
       "\t\t<dd>0.164027868915411</dd>\n",
       "\t<dt>366</dt>\n",
       "\t\t<dd>0.164027868915411</dd>\n",
       "\t<dt>367</dt>\n",
       "\t\t<dd>0.164027868915411</dd>\n",
       "\t<dt>368</dt>\n",
       "\t\t<dd>0.164027868915411</dd>\n",
       "\t<dt>369</dt>\n",
       "\t\t<dd>0.164027868915411</dd>\n",
       "\t<dt>370</dt>\n",
       "\t\t<dd>0.164027868915411</dd>\n",
       "\t<dt>371</dt>\n",
       "\t\t<dd>0.164027868915411</dd>\n",
       "\t<dt>372</dt>\n",
       "\t\t<dd>0.164027868915411</dd>\n",
       "\t<dt>373</dt>\n",
       "\t\t<dd>0.164027868915411</dd>\n",
       "\t<dt>374</dt>\n",
       "\t\t<dd>0.164027868915411</dd>\n",
       "\t<dt>375</dt>\n",
       "\t\t<dd>0.164027868915411</dd>\n",
       "\t<dt>376</dt>\n",
       "\t\t<dd>0.164027868915411</dd>\n",
       "\t<dt>377</dt>\n",
       "\t\t<dd>0.164027868915411</dd>\n",
       "\t<dt>378</dt>\n",
       "\t\t<dd>0.164027868915411</dd>\n",
       "\t<dt>379</dt>\n",
       "\t\t<dd>0.164027868915411</dd>\n",
       "\t<dt>380</dt>\n",
       "\t\t<dd>0.164027868915411</dd>\n",
       "\t<dt>381</dt>\n",
       "\t\t<dd>0.164027868915411</dd>\n",
       "\t<dt>382</dt>\n",
       "\t\t<dd>0.164027868915411</dd>\n",
       "\t<dt>383</dt>\n",
       "\t\t<dd>0.164027868915411</dd>\n",
       "\t<dt>384</dt>\n",
       "\t\t<dd>0.164027868915411</dd>\n",
       "\t<dt>385</dt>\n",
       "\t\t<dd>0.164027868915411</dd>\n",
       "\t<dt>386</dt>\n",
       "\t\t<dd>0.164027868915411</dd>\n",
       "\t<dt>387</dt>\n",
       "\t\t<dd>0.164027868915411</dd>\n",
       "\t<dt>388</dt>\n",
       "\t\t<dd>0.164027868915411</dd>\n",
       "\t<dt>389</dt>\n",
       "\t\t<dd>0.164027868915411</dd>\n",
       "\t<dt>390</dt>\n",
       "\t\t<dd>0.164027868915411</dd>\n",
       "\t<dt>391</dt>\n",
       "\t\t<dd>0.164027868915411</dd>\n",
       "\t<dt>392</dt>\n",
       "\t\t<dd>0.36211900587817</dd>\n",
       "\t<dt>393</dt>\n",
       "\t\t<dd>0.36211900587817</dd>\n",
       "\t<dt>394</dt>\n",
       "\t\t<dd>0.36211900587817</dd>\n",
       "\t<dt>395</dt>\n",
       "\t\t<dd>0.36211900587817</dd>\n",
       "\t<dt>396</dt>\n",
       "\t\t<dd>0.36211900587817</dd>\n",
       "\t<dt>397</dt>\n",
       "\t\t<dd>0.36211900587817</dd>\n",
       "\t<dt>398</dt>\n",
       "\t\t<dd>0.36211900587817</dd>\n",
       "\t<dt>399</dt>\n",
       "\t\t<dd>0.36211900587817</dd>\n",
       "\t<dt>400</dt>\n",
       "\t\t<dd>0.36211900587817</dd>\n",
       "\t<dt>401</dt>\n",
       "\t\t<dd>0.36211900587817</dd>\n",
       "\t<dt>402</dt>\n",
       "\t\t<dd>0.36211900587817</dd>\n",
       "\t<dt>403</dt>\n",
       "\t\t<dd>0.36211900587817</dd>\n",
       "\t<dt>404</dt>\n",
       "\t\t<dd>0.36211900587817</dd>\n",
       "\t<dt>405</dt>\n",
       "\t\t<dd>0.36211900587817</dd>\n",
       "\t<dt>406</dt>\n",
       "\t\t<dd>0.36211900587817</dd>\n",
       "\t<dt>407</dt>\n",
       "\t\t<dd>0.36211900587817</dd>\n",
       "\t<dt>408</dt>\n",
       "\t\t<dd>0.36211900587817</dd>\n",
       "\t<dt>409</dt>\n",
       "\t\t<dd>0.36211900587817</dd>\n",
       "\t<dt>410</dt>\n",
       "\t\t<dd>0.36211900587817</dd>\n",
       "\t<dt>411</dt>\n",
       "\t\t<dd>0.36211900587817</dd>\n",
       "\t<dt>412</dt>\n",
       "\t\t<dd>0.36211900587817</dd>\n",
       "\t<dt>413</dt>\n",
       "\t\t<dd>0.36211900587817</dd>\n",
       "\t<dt>414</dt>\n",
       "\t\t<dd>0.36211900587817</dd>\n",
       "\t<dt>415</dt>\n",
       "\t\t<dd>0.36211900587817</dd>\n",
       "\t<dt>416</dt>\n",
       "\t\t<dd>0.36211900587817</dd>\n",
       "\t<dt>417</dt>\n",
       "\t\t<dd>0.36211900587817</dd>\n",
       "\t<dt>418</dt>\n",
       "\t\t<dd>0.36211900587817</dd>\n",
       "\t<dt>419</dt>\n",
       "\t\t<dd>0.36211900587817</dd>\n",
       "\t<dt>420</dt>\n",
       "\t\t<dd>0.36211900587817</dd>\n",
       "\t<dt>421</dt>\n",
       "\t\t<dd>0.36211900587817</dd>\n",
       "\t<dt>422</dt>\n",
       "\t\t<dd>0.36211900587817</dd>\n",
       "\t<dt>423</dt>\n",
       "\t\t<dd>0.36211900587817</dd>\n",
       "\t<dt>424</dt>\n",
       "\t\t<dd>0.36211900587817</dd>\n",
       "\t<dt>425</dt>\n",
       "\t\t<dd>0.36211900587817</dd>\n",
       "\t<dt>426</dt>\n",
       "\t\t<dd>0.36211900587817</dd>\n",
       "\t<dt>427</dt>\n",
       "\t\t<dd>0.36211900587817</dd>\n",
       "\t<dt>428</dt>\n",
       "\t\t<dd>0.36211900587817</dd>\n",
       "\t<dt>429</dt>\n",
       "\t\t<dd>0.36211900587817</dd>\n",
       "\t<dt>430</dt>\n",
       "\t\t<dd>0.36211900587817</dd>\n",
       "\t<dt>431</dt>\n",
       "\t\t<dd>0.36211900587817</dd>\n",
       "\t<dt>432</dt>\n",
       "\t\t<dd>0.36211900587817</dd>\n",
       "\t<dt>433</dt>\n",
       "\t\t<dd>0.36211900587817</dd>\n",
       "\t<dt>434</dt>\n",
       "\t\t<dd>0.36211900587817</dd>\n",
       "\t<dt>435</dt>\n",
       "\t\t<dd>0.36211900587817</dd>\n",
       "\t<dt>436</dt>\n",
       "\t\t<dd>0.605314906319576</dd>\n",
       "\t<dt>437</dt>\n",
       "\t\t<dd>0.605314906319576</dd>\n",
       "\t<dt>438</dt>\n",
       "\t\t<dd>0.605314906319576</dd>\n",
       "\t<dt>439</dt>\n",
       "\t\t<dd>0.605314906319576</dd>\n",
       "\t<dt>440</dt>\n",
       "\t\t<dd>0.605314906319576</dd>\n",
       "\t<dt>441</dt>\n",
       "\t\t<dd>0.605314906319576</dd>\n",
       "\t<dt>442</dt>\n",
       "\t\t<dd>0.605314906319576</dd>\n",
       "\t<dt>443</dt>\n",
       "\t\t<dd>0.605314906319576</dd>\n",
       "\t<dt>444</dt>\n",
       "\t\t<dd>0.605314906319576</dd>\n",
       "\t<dt>445</dt>\n",
       "\t\t<dd>0.605314906319576</dd>\n",
       "\t<dt>446</dt>\n",
       "\t\t<dd>0.605314906319576</dd>\n",
       "\t<dt>447</dt>\n",
       "\t\t<dd>0.605314906319576</dd>\n",
       "\t<dt>448</dt>\n",
       "\t\t<dd>0.605314906319576</dd>\n",
       "\t<dt>449</dt>\n",
       "\t\t<dd>0.605314906319576</dd>\n",
       "\t<dt>450</dt>\n",
       "\t\t<dd>0.605314906319576</dd>\n",
       "\t<dt>451</dt>\n",
       "\t\t<dd>0.605314906319576</dd>\n",
       "\t<dt>452</dt>\n",
       "\t\t<dd>0.605314906319576</dd>\n",
       "\t<dt>453</dt>\n",
       "\t\t<dd>0.605314906319576</dd>\n",
       "\t<dt>454</dt>\n",
       "\t\t<dd>0.605314906319576</dd>\n",
       "\t<dt>455</dt>\n",
       "\t\t<dd>0.605314906319576</dd>\n",
       "\t<dt>456</dt>\n",
       "\t\t<dd>0.605314906319576</dd>\n",
       "\t<dt>457</dt>\n",
       "\t\t<dd>0.605314906319576</dd>\n",
       "\t<dt>458</dt>\n",
       "\t\t<dd>0.605314906319576</dd>\n",
       "\t<dt>459</dt>\n",
       "\t\t<dd>0.605314906319576</dd>\n",
       "\t<dt>460</dt>\n",
       "\t\t<dd>0.605314906319576</dd>\n",
       "\t<dt>461</dt>\n",
       "\t\t<dd>0.605314906319576</dd>\n",
       "\t<dt>462</dt>\n",
       "\t\t<dd>0.605314906319576</dd>\n",
       "\t<dt>463</dt>\n",
       "\t\t<dd>0.605314906319576</dd>\n",
       "\t<dt>464</dt>\n",
       "\t\t<dd>0.795171771913179</dd>\n",
       "\t<dt>465</dt>\n",
       "\t\t<dd>0.795171771913179</dd>\n",
       "\t<dt>466</dt>\n",
       "\t\t<dd>0.795171771913179</dd>\n",
       "\t<dt>467</dt>\n",
       "\t\t<dd>0.795171771913179</dd>\n",
       "\t<dt>468</dt>\n",
       "\t\t<dd>0.795171771913179</dd>\n",
       "\t<dt>469</dt>\n",
       "\t\t<dd>0.795171771913179</dd>\n",
       "\t<dt>470</dt>\n",
       "\t\t<dd>0.795171771913179</dd>\n",
       "\t<dt>471</dt>\n",
       "\t\t<dd>0.795171771913179</dd>\n",
       "\t<dt>472</dt>\n",
       "\t\t<dd>0.795171771913179</dd>\n",
       "\t<dt>473</dt>\n",
       "\t\t<dd>0.795171771913179</dd>\n",
       "\t<dt>474</dt>\n",
       "\t\t<dd>0.795171771913179</dd>\n",
       "\t<dt>475</dt>\n",
       "\t\t<dd>0.903235819357937</dd>\n",
       "\t<dt>476</dt>\n",
       "\t\t<dd>0.903235819357937</dd>\n",
       "\t<dt>477</dt>\n",
       "\t\t<dd>0.903235819357937</dd>\n",
       "\t<dt>478</dt>\n",
       "\t\t<dd>0.903235819357937</dd>\n",
       "\t<dt>479</dt>\n",
       "\t\t<dd>0.903235819357937</dd>\n",
       "\t<dt>480</dt>\n",
       "\t\t<dd>0.903235819357937</dd>\n",
       "\t<dt>481</dt>\n",
       "\t\t<dd>0.955196106797305</dd>\n",
       "</dl>\n"
      ],
      "text/latex": [
       "\\begin{description*}\n",
       "\\item[1] 0.0586010255272559\n",
       "\\item[2] 0.0586010255272559\n",
       "\\item[3] 0.0586010255272559\n",
       "\\item[4] 0.0586010255272559\n",
       "\\item[5] 0.0586010255272559\n",
       "\\item[6] 0.0586010255272559\n",
       "\\item[7] 0.164027868915411\n",
       "\\item[8] 0.164027868915411\n",
       "\\item[9] 0.164027868915411\n",
       "\\item[10] 0.164027868915411\n",
       "\\item[11] 0.164027868915411\n",
       "\\item[12] 0.164027868915411\n",
       "\\item[13] 0.164027868915411\n",
       "\\item[14] 0.164027868915411\n",
       "\\item[15] 0.164027868915411\n",
       "\\item[16] 0.164027868915411\n",
       "\\item[17] 0.164027868915411\n",
       "\\item[18] 0.164027868915411\n",
       "\\item[19] 0.164027868915411\n",
       "\\item[20] 0.36211900587817\n",
       "\\item[21] 0.36211900587817\n",
       "\\item[22] 0.36211900587817\n",
       "\\item[23] 0.36211900587817\n",
       "\\item[24] 0.36211900587817\n",
       "\\item[25] 0.36211900587817\n",
       "\\item[26] 0.36211900587817\n",
       "\\item[27] 0.36211900587817\n",
       "\\item[28] 0.36211900587817\n",
       "\\item[29] 0.36211900587817\n",
       "\\item[30] 0.36211900587817\n",
       "\\item[31] 0.36211900587817\n",
       "\\item[32] 0.36211900587817\n",
       "\\item[33] 0.36211900587817\n",
       "\\item[34] 0.36211900587817\n",
       "\\item[35] 0.36211900587817\n",
       "\\item[36] 0.36211900587817\n",
       "\\item[37] 0.36211900587817\n",
       "\\item[38] 0.605314906319576\n",
       "\\item[39] 0.605314906319576\n",
       "\\item[40] 0.605314906319576\n",
       "\\item[41] 0.605314906319576\n",
       "\\item[42] 0.605314906319576\n",
       "\\item[43] 0.605314906319576\n",
       "\\item[44] 0.605314906319576\n",
       "\\item[45] 0.605314906319576\n",
       "\\item[46] 0.605314906319576\n",
       "\\item[47] 0.605314906319576\n",
       "\\item[48] 0.605314906319576\n",
       "\\item[49] 0.605314906319576\n",
       "\\item[50] 0.605314906319576\n",
       "\\item[51] 0.605314906319576\n",
       "\\item[52] 0.605314906319576\n",
       "\\item[53] 0.605314906319576\n",
       "\\item[54] 0.605314906319576\n",
       "\\item[55] 0.605314906319576\n",
       "\\item[56] 0.605314906319576\n",
       "\\item[57] 0.605314906319576\n",
       "\\item[58] 0.605314906319576\n",
       "\\item[59] 0.605314906319576\n",
       "\\item[60] 0.605314906319576\n",
       "\\item[61] 0.605314906319576\n",
       "\\item[62] 0.605314906319576\n",
       "\\item[63] 0.605314906319576\n",
       "\\item[64] 0.605314906319576\n",
       "\\item[65] 0.605314906319576\n",
       "\\item[66] 0.795171771913179\n",
       "\\item[67] 0.795171771913179\n",
       "\\item[68] 0.795171771913179\n",
       "\\item[69] 0.795171771913179\n",
       "\\item[70] 0.795171771913179\n",
       "\\item[71] 0.795171771913179\n",
       "\\item[72] 0.795171771913179\n",
       "\\item[73] 0.795171771913179\n",
       "\\item[74] 0.795171771913179\n",
       "\\item[75] 0.795171771913179\n",
       "\\item[76] 0.795171771913179\n",
       "\\item[77] 0.795171771913179\n",
       "\\item[78] 0.795171771913179\n",
       "\\item[79] 0.795171771913179\n",
       "\\item[80] 0.795171771913179\n",
       "\\item[81] 0.795171771913179\n",
       "\\item[82] 0.795171771913179\n",
       "\\item[83] 0.795171771913179\n",
       "\\item[84] 0.795171771913179\n",
       "\\item[85] 0.795171771913179\n",
       "\\item[86] 0.795171771913179\n",
       "\\item[87] 0.795171771913179\n",
       "\\item[88] 0.795171771913179\n",
       "\\item[89] 0.795171771913179\n",
       "\\item[90] 0.795171771913179\n",
       "\\item[91] 0.795171771913179\n",
       "\\item[92] 0.795171771913179\n",
       "\\item[93] 0.795171771913179\n",
       "\\item[94] 0.795171771913179\n",
       "\\item[95] 0.795171771913179\n",
       "\\item[96] 0.795171771913179\n",
       "\\item[97] 0.795171771913179\n",
       "\\item[98] 0.795171771913179\n",
       "\\item[99] 0.795171771913179\n",
       "\\item[100] 0.795171771913179\n",
       "\\item[101] 0.795171771913179\n",
       "\\item[102] 0.795171771913179\n",
       "\\item[103] 0.795171771913179\n",
       "\\item[104] 0.795171771913179\n",
       "\\item[105] 0.795171771913179\n",
       "\\item[106] 0.795171771913179\n",
       "\\item[107] 0.795171771913179\n",
       "\\item[108] 0.795171771913179\n",
       "\\item[109] 0.795171771913179\n",
       "\\item[110] 0.795171771913179\n",
       "\\item[111] 0.795171771913179\n",
       "\\item[112] 0.795171771913179\n",
       "\\item[113] 0.795171771913179\n",
       "\\item[114] 0.795171771913179\n",
       "\\item[115] 0.795171771913179\n",
       "\\item[116] 0.795171771913179\n",
       "\\item[117] 0.795171771913179\n",
       "\\item[118] 0.903235819357937\n",
       "\\item[119] 0.903235819357937\n",
       "\\item[120] 0.903235819357937\n",
       "\\item[121] 0.903235819357937\n",
       "\\item[122] 0.903235819357937\n",
       "\\item[123] 0.903235819357937\n",
       "\\item[124] 0.903235819357937\n",
       "\\item[125] 0.903235819357937\n",
       "\\item[126] 0.903235819357937\n",
       "\\item[127] 0.903235819357937\n",
       "\\item[128] 0.903235819357937\n",
       "\\item[129] 0.903235819357937\n",
       "\\item[130] 0.903235819357937\n",
       "\\item[131] 0.903235819357937\n",
       "\\item[132] 0.903235819357937\n",
       "\\item[133] 0.903235819357937\n",
       "\\item[134] 0.903235819357937\n",
       "\\item[135] 0.903235819357937\n",
       "\\item[136] 0.903235819357937\n",
       "\\item[137] 0.903235819357937\n",
       "\\item[138] 0.903235819357937\n",
       "\\item[139] 0.903235819357937\n",
       "\\item[140] 0.903235819357937\n",
       "\\item[141] 0.903235819357937\n",
       "\\item[142] 0.903235819357937\n",
       "\\item[143] 0.903235819357937\n",
       "\\item[144] 0.903235819357937\n",
       "\\item[145] 0.903235819357937\n",
       "\\item[146] 0.903235819357937\n",
       "\\item[147] 0.903235819357937\n",
       "\\item[148] 0.903235819357937\n",
       "\\item[149] 0.903235819357937\n",
       "\\item[150] 0.903235819357937\n",
       "\\item[151] 0.903235819357937\n",
       "\\item[152] 0.903235819357937\n",
       "\\item[153] 0.903235819357937\n",
       "\\item[154] 0.903235819357937\n",
       "\\item[155] 0.903235819357937\n",
       "\\item[156] 0.903235819357937\n",
       "\\item[157] 0.903235819357937\n",
       "\\item[158] 0.903235819357937\n",
       "\\item[159] 0.903235819357937\n",
       "\\item[160] 0.903235819357937\n",
       "\\item[161] 0.903235819357937\n",
       "\\item[162] 0.903235819357937\n",
       "\\item[163] 0.903235819357937\n",
       "\\item[164] 0.903235819357937\n",
       "\\item[165] 0.903235819357937\n",
       "\\item[166] 0.903235819357937\n",
       "\\item[167] 0.903235819357937\n",
       "\\item[168] 0.903235819357937\n",
       "\\item[169] 0.903235819357937\n",
       "\\item[170] 0.903235819357937\n",
       "\\item[171] 0.955196106797305\n",
       "\\item[172] 0.955196106797305\n",
       "\\item[173] 0.955196106797305\n",
       "\\item[174] 0.955196106797305\n",
       "\\item[175] 0.955196106797305\n",
       "\\item[176] 0.955196106797305\n",
       "\\item[177] 0.955196106797305\n",
       "\\item[178] 0.955196106797305\n",
       "\\item[179] 0.955196106797305\n",
       "\\item[180] 0.955196106797305\n",
       "\\item[181] 0.955196106797305\n",
       "\\item[182] 0.955196106797305\n",
       "\\item[183] 0.955196106797305\n",
       "\\item[184] 0.955196106797305\n",
       "\\item[185] 0.955196106797305\n",
       "\\item[186] 0.955196106797305\n",
       "\\item[187] 0.955196106797305\n",
       "\\item[188] 0.955196106797305\n",
       "\\item[189] 0.955196106797305\n",
       "\\item[190] 0.955196106797305\n",
       "\\item[191] 0.955196106797305\n",
       "\\item[192] 0.955196106797305\n",
       "\\item[193] 0.955196106797305\n",
       "\\item[194] 0.955196106797305\n",
       "\\item[195] 0.955196106797305\n",
       "\\item[196] 0.955196106797305\n",
       "\\item[197] 0.955196106797305\n",
       "\\item[198] 0.955196106797305\n",
       "\\item[199] 0.955196106797305\n",
       "\\item[200] 0.955196106797305\n",
       "\\item[201] 0.955196106797305\n",
       "\\item[202] 0.955196106797305\n",
       "\\item[203] 0.955196106797305\n",
       "\\item[204] 0.955196106797305\n",
       "\\item[205] 0.955196106797305\n",
       "\\item[206] 0.955196106797305\n",
       "\\item[207] 0.955196106797305\n",
       "\\item[208] 0.955196106797305\n",
       "\\item[209] 0.955196106797305\n",
       "\\item[210] 0.955196106797305\n",
       "\\item[211] 0.955196106797305\n",
       "\\item[212] 0.955196106797305\n",
       "\\item[213] 0.955196106797305\n",
       "\\item[214] 0.955196106797305\n",
       "\\item[215] 0.955196106797305\n",
       "\\item[216] 0.955196106797305\n",
       "\\item[217] 0.955196106797305\n",
       "\\item[218] 0.955196106797305\n",
       "\\item[219] 0.955196106797305\n",
       "\\item[220] 0.955196106797305\n",
       "\\item[221] 0.955196106797305\n",
       "\\item[222] 0.955196106797305\n",
       "\\item[223] 0.955196106797305\n",
       "\\item[224] 0.955196106797305\n",
       "\\item[225] 0.955196106797305\n",
       "\\item[226] 0.955196106797305\n",
       "\\item[227] 0.955196106797305\n",
       "\\item[228] 0.955196106797305\n",
       "\\item[229] 0.955196106797305\n",
       "\\item[230] 0.955196106797305\n",
       "\\item[231] 0.955196106797305\n",
       "\\item[232] 0.979049344069813\n",
       "\\item[233] 0.979049344069813\n",
       "\\item[234] 0.979049344069813\n",
       "\\item[235] 0.979049344069813\n",
       "\\item[236] 0.979049344069813\n",
       "\\item[237] 0.979049344069813\n",
       "\\item[238] 0.979049344069813\n",
       "\\item[239] 0.979049344069813\n",
       "\\item[240] 0.979049344069813\n",
       "\\item[241] 0.979049344069813\n",
       "\\item[242] 0.979049344069813\n",
       "\\item[243] 0.979049344069813\n",
       "\\item[244] 0.979049344069813\n",
       "\\item[245] 0.979049344069813\n",
       "\\item[246] 0.979049344069813\n",
       "\\item[247] 0.979049344069813\n",
       "\\item[248] 0.979049344069813\n",
       "\\item[249] 0.979049344069813\n",
       "\\item[250] 0.979049344069813\n",
       "\\item[251] 0.979049344069813\n",
       "\\item[252] 0.979049344069813\n",
       "\\item[253] 0.979049344069813\n",
       "\\item[254] 0.979049344069813\n",
       "\\item[255] 0.979049344069813\n",
       "\\item[256] 0.979049344069813\n",
       "\\item[257] 0.979049344069813\n",
       "\\item[258] 0.979049344069813\n",
       "\\item[259] 0.979049344069813\n",
       "\\item[260] 0.979049344069813\n",
       "\\item[261] 0.979049344069813\n",
       "\\item[262] 0.979049344069813\n",
       "\\item[263] 0.979049344069813\n",
       "\\item[264] 0.979049344069813\n",
       "\\item[265] 0.979049344069813\n",
       "\\item[266] 0.979049344069813\n",
       "\\item[267] 0.979049344069813\n",
       "\\item[268] 0.979049344069813\n",
       "\\item[269] 0.979049344069813\n",
       "\\item[270] 0.979049344069813\n",
       "\\item[271] 0.979049344069813\n",
       "\\item[272] 0.979049344069813\n",
       "\\item[273] 0.979049344069813\n",
       "\\item[274] 0.979049344069813\n",
       "\\item[275] 0.979049344069813\n",
       "\\item[276] 0.979049344069813\n",
       "\\item[277] 0.979049344069813\n",
       "\\item[278] 0.979049344069813\n",
       "\\item[279] 0.979049344069813\n",
       "\\item[280] 0.979049344069813\n",
       "\\item[281] 0.979049344069813\n",
       "\\item[282] 0.979049344069813\n",
       "\\item[283] 0.979049344069813\n",
       "\\item[284] 0.979049344069813\n",
       "\\item[285] 0.979049344069813\n",
       "\\item[286] 0.979049344069813\n",
       "\\item[287] 0.979049344069813\n",
       "\\item[288] 0.979049344069813\n",
       "\\item[289] 0.979049344069813\n",
       "\\item[290] 0.979049344069813\n",
       "\\item[291] 0.979049344069813\n",
       "\\item[292] 0.0586010255272559\n",
       "\\item[293] 0.0586010255272559\n",
       "\\item[294] 0.0586010255272559\n",
       "\\item[295] 0.0586010255272559\n",
       "\\item[296] 0.0586010255272559\n",
       "\\item[297] 0.0586010255272559\n",
       "\\item[298] 0.0586010255272559\n",
       "\\item[299] 0.0586010255272559\n",
       "\\item[300] 0.0586010255272559\n",
       "\\item[301] 0.0586010255272559\n",
       "\\item[302] 0.0586010255272559\n",
       "\\item[303] 0.0586010255272559\n",
       "\\item[304] 0.0586010255272559\n",
       "\\item[305] 0.0586010255272559\n",
       "\\item[306] 0.0586010255272559\n",
       "\\item[307] 0.0586010255272559\n",
       "\\item[308] 0.0586010255272559\n",
       "\\item[309] 0.0586010255272559\n",
       "\\item[310] 0.0586010255272559\n",
       "\\item[311] 0.0586010255272559\n",
       "\\item[312] 0.0586010255272559\n",
       "\\item[313] 0.0586010255272559\n",
       "\\item[314] 0.0586010255272559\n",
       "\\item[315] 0.0586010255272559\n",
       "\\item[316] 0.0586010255272559\n",
       "\\item[317] 0.0586010255272559\n",
       "\\item[318] 0.0586010255272559\n",
       "\\item[319] 0.0586010255272559\n",
       "\\item[320] 0.0586010255272559\n",
       "\\item[321] 0.0586010255272559\n",
       "\\item[322] 0.0586010255272559\n",
       "\\item[323] 0.0586010255272559\n",
       "\\item[324] 0.0586010255272559\n",
       "\\item[325] 0.0586010255272559\n",
       "\\item[326] 0.0586010255272559\n",
       "\\item[327] 0.0586010255272559\n",
       "\\item[328] 0.0586010255272559\n",
       "\\item[329] 0.0586010255272559\n",
       "\\item[330] 0.0586010255272559\n",
       "\\item[331] 0.0586010255272559\n",
       "\\item[332] 0.0586010255272559\n",
       "\\item[333] 0.0586010255272559\n",
       "\\item[334] 0.0586010255272559\n",
       "\\item[335] 0.0586010255272559\n",
       "\\item[336] 0.0586010255272559\n",
       "\\item[337] 0.0586010255272559\n",
       "\\item[338] 0.0586010255272559\n",
       "\\item[339] 0.0586010255272559\n",
       "\\item[340] 0.0586010255272559\n",
       "\\item[341] 0.0586010255272559\n",
       "\\item[342] 0.0586010255272559\n",
       "\\item[343] 0.0586010255272559\n",
       "\\item[344] 0.0586010255272559\n",
       "\\item[345] 0.164027868915411\n",
       "\\item[346] 0.164027868915411\n",
       "\\item[347] 0.164027868915411\n",
       "\\item[348] 0.164027868915411\n",
       "\\item[349] 0.164027868915411\n",
       "\\item[350] 0.164027868915411\n",
       "\\item[351] 0.164027868915411\n",
       "\\item[352] 0.164027868915411\n",
       "\\item[353] 0.164027868915411\n",
       "\\item[354] 0.164027868915411\n",
       "\\item[355] 0.164027868915411\n",
       "\\item[356] 0.164027868915411\n",
       "\\item[357] 0.164027868915411\n",
       "\\item[358] 0.164027868915411\n",
       "\\item[359] 0.164027868915411\n",
       "\\item[360] 0.164027868915411\n",
       "\\item[361] 0.164027868915411\n",
       "\\item[362] 0.164027868915411\n",
       "\\item[363] 0.164027868915411\n",
       "\\item[364] 0.164027868915411\n",
       "\\item[365] 0.164027868915411\n",
       "\\item[366] 0.164027868915411\n",
       "\\item[367] 0.164027868915411\n",
       "\\item[368] 0.164027868915411\n",
       "\\item[369] 0.164027868915411\n",
       "\\item[370] 0.164027868915411\n",
       "\\item[371] 0.164027868915411\n",
       "\\item[372] 0.164027868915411\n",
       "\\item[373] 0.164027868915411\n",
       "\\item[374] 0.164027868915411\n",
       "\\item[375] 0.164027868915411\n",
       "\\item[376] 0.164027868915411\n",
       "\\item[377] 0.164027868915411\n",
       "\\item[378] 0.164027868915411\n",
       "\\item[379] 0.164027868915411\n",
       "\\item[380] 0.164027868915411\n",
       "\\item[381] 0.164027868915411\n",
       "\\item[382] 0.164027868915411\n",
       "\\item[383] 0.164027868915411\n",
       "\\item[384] 0.164027868915411\n",
       "\\item[385] 0.164027868915411\n",
       "\\item[386] 0.164027868915411\n",
       "\\item[387] 0.164027868915411\n",
       "\\item[388] 0.164027868915411\n",
       "\\item[389] 0.164027868915411\n",
       "\\item[390] 0.164027868915411\n",
       "\\item[391] 0.164027868915411\n",
       "\\item[392] 0.36211900587817\n",
       "\\item[393] 0.36211900587817\n",
       "\\item[394] 0.36211900587817\n",
       "\\item[395] 0.36211900587817\n",
       "\\item[396] 0.36211900587817\n",
       "\\item[397] 0.36211900587817\n",
       "\\item[398] 0.36211900587817\n",
       "\\item[399] 0.36211900587817\n",
       "\\item[400] 0.36211900587817\n",
       "\\item[401] 0.36211900587817\n",
       "\\item[402] 0.36211900587817\n",
       "\\item[403] 0.36211900587817\n",
       "\\item[404] 0.36211900587817\n",
       "\\item[405] 0.36211900587817\n",
       "\\item[406] 0.36211900587817\n",
       "\\item[407] 0.36211900587817\n",
       "\\item[408] 0.36211900587817\n",
       "\\item[409] 0.36211900587817\n",
       "\\item[410] 0.36211900587817\n",
       "\\item[411] 0.36211900587817\n",
       "\\item[412] 0.36211900587817\n",
       "\\item[413] 0.36211900587817\n",
       "\\item[414] 0.36211900587817\n",
       "\\item[415] 0.36211900587817\n",
       "\\item[416] 0.36211900587817\n",
       "\\item[417] 0.36211900587817\n",
       "\\item[418] 0.36211900587817\n",
       "\\item[419] 0.36211900587817\n",
       "\\item[420] 0.36211900587817\n",
       "\\item[421] 0.36211900587817\n",
       "\\item[422] 0.36211900587817\n",
       "\\item[423] 0.36211900587817\n",
       "\\item[424] 0.36211900587817\n",
       "\\item[425] 0.36211900587817\n",
       "\\item[426] 0.36211900587817\n",
       "\\item[427] 0.36211900587817\n",
       "\\item[428] 0.36211900587817\n",
       "\\item[429] 0.36211900587817\n",
       "\\item[430] 0.36211900587817\n",
       "\\item[431] 0.36211900587817\n",
       "\\item[432] 0.36211900587817\n",
       "\\item[433] 0.36211900587817\n",
       "\\item[434] 0.36211900587817\n",
       "\\item[435] 0.36211900587817\n",
       "\\item[436] 0.605314906319576\n",
       "\\item[437] 0.605314906319576\n",
       "\\item[438] 0.605314906319576\n",
       "\\item[439] 0.605314906319576\n",
       "\\item[440] 0.605314906319576\n",
       "\\item[441] 0.605314906319576\n",
       "\\item[442] 0.605314906319576\n",
       "\\item[443] 0.605314906319576\n",
       "\\item[444] 0.605314906319576\n",
       "\\item[445] 0.605314906319576\n",
       "\\item[446] 0.605314906319576\n",
       "\\item[447] 0.605314906319576\n",
       "\\item[448] 0.605314906319576\n",
       "\\item[449] 0.605314906319576\n",
       "\\item[450] 0.605314906319576\n",
       "\\item[451] 0.605314906319576\n",
       "\\item[452] 0.605314906319576\n",
       "\\item[453] 0.605314906319576\n",
       "\\item[454] 0.605314906319576\n",
       "\\item[455] 0.605314906319576\n",
       "\\item[456] 0.605314906319576\n",
       "\\item[457] 0.605314906319576\n",
       "\\item[458] 0.605314906319576\n",
       "\\item[459] 0.605314906319576\n",
       "\\item[460] 0.605314906319576\n",
       "\\item[461] 0.605314906319576\n",
       "\\item[462] 0.605314906319576\n",
       "\\item[463] 0.605314906319576\n",
       "\\item[464] 0.795171771913179\n",
       "\\item[465] 0.795171771913179\n",
       "\\item[466] 0.795171771913179\n",
       "\\item[467] 0.795171771913179\n",
       "\\item[468] 0.795171771913179\n",
       "\\item[469] 0.795171771913179\n",
       "\\item[470] 0.795171771913179\n",
       "\\item[471] 0.795171771913179\n",
       "\\item[472] 0.795171771913179\n",
       "\\item[473] 0.795171771913179\n",
       "\\item[474] 0.795171771913179\n",
       "\\item[475] 0.903235819357937\n",
       "\\item[476] 0.903235819357937\n",
       "\\item[477] 0.903235819357937\n",
       "\\item[478] 0.903235819357937\n",
       "\\item[479] 0.903235819357937\n",
       "\\item[480] 0.903235819357937\n",
       "\\item[481] 0.955196106797305\n",
       "\\end{description*}\n"
      ],
      "text/markdown": [
       "1\n",
       ":   0.05860102552725592\n",
       ":   0.05860102552725593\n",
       ":   0.05860102552725594\n",
       ":   0.05860102552725595\n",
       ":   0.05860102552725596\n",
       ":   0.05860102552725597\n",
       ":   0.1640278689154118\n",
       ":   0.1640278689154119\n",
       ":   0.16402786891541110\n",
       ":   0.16402786891541111\n",
       ":   0.16402786891541112\n",
       ":   0.16402786891541113\n",
       ":   0.16402786891541114\n",
       ":   0.16402786891541115\n",
       ":   0.16402786891541116\n",
       ":   0.16402786891541117\n",
       ":   0.16402786891541118\n",
       ":   0.16402786891541119\n",
       ":   0.16402786891541120\n",
       ":   0.3621190058781721\n",
       ":   0.3621190058781722\n",
       ":   0.3621190058781723\n",
       ":   0.3621190058781724\n",
       ":   0.3621190058781725\n",
       ":   0.3621190058781726\n",
       ":   0.3621190058781727\n",
       ":   0.3621190058781728\n",
       ":   0.3621190058781729\n",
       ":   0.3621190058781730\n",
       ":   0.3621190058781731\n",
       ":   0.3621190058781732\n",
       ":   0.3621190058781733\n",
       ":   0.3621190058781734\n",
       ":   0.3621190058781735\n",
       ":   0.3621190058781736\n",
       ":   0.3621190058781737\n",
       ":   0.3621190058781738\n",
       ":   0.60531490631957639\n",
       ":   0.60531490631957640\n",
       ":   0.60531490631957641\n",
       ":   0.60531490631957642\n",
       ":   0.60531490631957643\n",
       ":   0.60531490631957644\n",
       ":   0.60531490631957645\n",
       ":   0.60531490631957646\n",
       ":   0.60531490631957647\n",
       ":   0.60531490631957648\n",
       ":   0.60531490631957649\n",
       ":   0.60531490631957650\n",
       ":   0.60531490631957651\n",
       ":   0.60531490631957652\n",
       ":   0.60531490631957653\n",
       ":   0.60531490631957654\n",
       ":   0.60531490631957655\n",
       ":   0.60531490631957656\n",
       ":   0.60531490631957657\n",
       ":   0.60531490631957658\n",
       ":   0.60531490631957659\n",
       ":   0.60531490631957660\n",
       ":   0.60531490631957661\n",
       ":   0.60531490631957662\n",
       ":   0.60531490631957663\n",
       ":   0.60531490631957664\n",
       ":   0.60531490631957665\n",
       ":   0.60531490631957666\n",
       ":   0.79517177191317967\n",
       ":   0.79517177191317968\n",
       ":   0.79517177191317969\n",
       ":   0.79517177191317970\n",
       ":   0.79517177191317971\n",
       ":   0.79517177191317972\n",
       ":   0.79517177191317973\n",
       ":   0.79517177191317974\n",
       ":   0.79517177191317975\n",
       ":   0.79517177191317976\n",
       ":   0.79517177191317977\n",
       ":   0.79517177191317978\n",
       ":   0.79517177191317979\n",
       ":   0.79517177191317980\n",
       ":   0.79517177191317981\n",
       ":   0.79517177191317982\n",
       ":   0.79517177191317983\n",
       ":   0.79517177191317984\n",
       ":   0.79517177191317985\n",
       ":   0.79517177191317986\n",
       ":   0.79517177191317987\n",
       ":   0.79517177191317988\n",
       ":   0.79517177191317989\n",
       ":   0.79517177191317990\n",
       ":   0.79517177191317991\n",
       ":   0.79517177191317992\n",
       ":   0.79517177191317993\n",
       ":   0.79517177191317994\n",
       ":   0.79517177191317995\n",
       ":   0.79517177191317996\n",
       ":   0.79517177191317997\n",
       ":   0.79517177191317998\n",
       ":   0.79517177191317999\n",
       ":   0.795171771913179100\n",
       ":   0.795171771913179101\n",
       ":   0.795171771913179102\n",
       ":   0.795171771913179103\n",
       ":   0.795171771913179104\n",
       ":   0.795171771913179105\n",
       ":   0.795171771913179106\n",
       ":   0.795171771913179107\n",
       ":   0.795171771913179108\n",
       ":   0.795171771913179109\n",
       ":   0.795171771913179110\n",
       ":   0.795171771913179111\n",
       ":   0.795171771913179112\n",
       ":   0.795171771913179113\n",
       ":   0.795171771913179114\n",
       ":   0.795171771913179115\n",
       ":   0.795171771913179116\n",
       ":   0.795171771913179117\n",
       ":   0.795171771913179118\n",
       ":   0.903235819357937119\n",
       ":   0.903235819357937120\n",
       ":   0.903235819357937121\n",
       ":   0.903235819357937122\n",
       ":   0.903235819357937123\n",
       ":   0.903235819357937124\n",
       ":   0.903235819357937125\n",
       ":   0.903235819357937126\n",
       ":   0.903235819357937127\n",
       ":   0.903235819357937128\n",
       ":   0.903235819357937129\n",
       ":   0.903235819357937130\n",
       ":   0.903235819357937131\n",
       ":   0.903235819357937132\n",
       ":   0.903235819357937133\n",
       ":   0.903235819357937134\n",
       ":   0.903235819357937135\n",
       ":   0.903235819357937136\n",
       ":   0.903235819357937137\n",
       ":   0.903235819357937138\n",
       ":   0.903235819357937139\n",
       ":   0.903235819357937140\n",
       ":   0.903235819357937141\n",
       ":   0.903235819357937142\n",
       ":   0.903235819357937143\n",
       ":   0.903235819357937144\n",
       ":   0.903235819357937145\n",
       ":   0.903235819357937146\n",
       ":   0.903235819357937147\n",
       ":   0.903235819357937148\n",
       ":   0.903235819357937149\n",
       ":   0.903235819357937150\n",
       ":   0.903235819357937151\n",
       ":   0.903235819357937152\n",
       ":   0.903235819357937153\n",
       ":   0.903235819357937154\n",
       ":   0.903235819357937155\n",
       ":   0.903235819357937156\n",
       ":   0.903235819357937157\n",
       ":   0.903235819357937158\n",
       ":   0.903235819357937159\n",
       ":   0.903235819357937160\n",
       ":   0.903235819357937161\n",
       ":   0.903235819357937162\n",
       ":   0.903235819357937163\n",
       ":   0.903235819357937164\n",
       ":   0.903235819357937165\n",
       ":   0.903235819357937166\n",
       ":   0.903235819357937167\n",
       ":   0.903235819357937168\n",
       ":   0.903235819357937169\n",
       ":   0.903235819357937170\n",
       ":   0.903235819357937171\n",
       ":   0.955196106797305172\n",
       ":   0.955196106797305173\n",
       ":   0.955196106797305174\n",
       ":   0.955196106797305175\n",
       ":   0.955196106797305176\n",
       ":   0.955196106797305177\n",
       ":   0.955196106797305178\n",
       ":   0.955196106797305179\n",
       ":   0.955196106797305180\n",
       ":   0.955196106797305181\n",
       ":   0.955196106797305182\n",
       ":   0.955196106797305183\n",
       ":   0.955196106797305184\n",
       ":   0.955196106797305185\n",
       ":   0.955196106797305186\n",
       ":   0.955196106797305187\n",
       ":   0.955196106797305188\n",
       ":   0.955196106797305189\n",
       ":   0.955196106797305190\n",
       ":   0.955196106797305191\n",
       ":   0.955196106797305192\n",
       ":   0.955196106797305193\n",
       ":   0.955196106797305194\n",
       ":   0.955196106797305195\n",
       ":   0.955196106797305196\n",
       ":   0.955196106797305197\n",
       ":   0.955196106797305198\n",
       ":   0.955196106797305199\n",
       ":   0.955196106797305200\n",
       ":   0.955196106797305201\n",
       ":   0.955196106797305202\n",
       ":   0.955196106797305203\n",
       ":   0.955196106797305204\n",
       ":   0.955196106797305205\n",
       ":   0.955196106797305206\n",
       ":   0.955196106797305207\n",
       ":   0.955196106797305208\n",
       ":   0.955196106797305209\n",
       ":   0.955196106797305210\n",
       ":   0.955196106797305211\n",
       ":   0.955196106797305212\n",
       ":   0.955196106797305213\n",
       ":   0.955196106797305214\n",
       ":   0.955196106797305215\n",
       ":   0.955196106797305216\n",
       ":   0.955196106797305217\n",
       ":   0.955196106797305218\n",
       ":   0.955196106797305219\n",
       ":   0.955196106797305220\n",
       ":   0.955196106797305221\n",
       ":   0.955196106797305222\n",
       ":   0.955196106797305223\n",
       ":   0.955196106797305224\n",
       ":   0.955196106797305225\n",
       ":   0.955196106797305226\n",
       ":   0.955196106797305227\n",
       ":   0.955196106797305228\n",
       ":   0.955196106797305229\n",
       ":   0.955196106797305230\n",
       ":   0.955196106797305231\n",
       ":   0.955196106797305232\n",
       ":   0.979049344069813233\n",
       ":   0.979049344069813234\n",
       ":   0.979049344069813235\n",
       ":   0.979049344069813236\n",
       ":   0.979049344069813237\n",
       ":   0.979049344069813238\n",
       ":   0.979049344069813239\n",
       ":   0.979049344069813240\n",
       ":   0.979049344069813241\n",
       ":   0.979049344069813242\n",
       ":   0.979049344069813243\n",
       ":   0.979049344069813244\n",
       ":   0.979049344069813245\n",
       ":   0.979049344069813246\n",
       ":   0.979049344069813247\n",
       ":   0.979049344069813248\n",
       ":   0.979049344069813249\n",
       ":   0.979049344069813250\n",
       ":   0.979049344069813251\n",
       ":   0.979049344069813252\n",
       ":   0.979049344069813253\n",
       ":   0.979049344069813254\n",
       ":   0.979049344069813255\n",
       ":   0.979049344069813256\n",
       ":   0.979049344069813257\n",
       ":   0.979049344069813258\n",
       ":   0.979049344069813259\n",
       ":   0.979049344069813260\n",
       ":   0.979049344069813261\n",
       ":   0.979049344069813262\n",
       ":   0.979049344069813263\n",
       ":   0.979049344069813264\n",
       ":   0.979049344069813265\n",
       ":   0.979049344069813266\n",
       ":   0.979049344069813267\n",
       ":   0.979049344069813268\n",
       ":   0.979049344069813269\n",
       ":   0.979049344069813270\n",
       ":   0.979049344069813271\n",
       ":   0.979049344069813272\n",
       ":   0.979049344069813273\n",
       ":   0.979049344069813274\n",
       ":   0.979049344069813275\n",
       ":   0.979049344069813276\n",
       ":   0.979049344069813277\n",
       ":   0.979049344069813278\n",
       ":   0.979049344069813279\n",
       ":   0.979049344069813280\n",
       ":   0.979049344069813281\n",
       ":   0.979049344069813282\n",
       ":   0.979049344069813283\n",
       ":   0.979049344069813284\n",
       ":   0.979049344069813285\n",
       ":   0.979049344069813286\n",
       ":   0.979049344069813287\n",
       ":   0.979049344069813288\n",
       ":   0.979049344069813289\n",
       ":   0.979049344069813290\n",
       ":   0.979049344069813291\n",
       ":   0.979049344069813292\n",
       ":   0.0586010255272559293\n",
       ":   0.0586010255272559294\n",
       ":   0.0586010255272559295\n",
       ":   0.0586010255272559296\n",
       ":   0.0586010255272559297\n",
       ":   0.0586010255272559298\n",
       ":   0.0586010255272559299\n",
       ":   0.0586010255272559300\n",
       ":   0.0586010255272559301\n",
       ":   0.0586010255272559302\n",
       ":   0.0586010255272559303\n",
       ":   0.0586010255272559304\n",
       ":   0.0586010255272559305\n",
       ":   0.0586010255272559306\n",
       ":   0.0586010255272559307\n",
       ":   0.0586010255272559308\n",
       ":   0.0586010255272559309\n",
       ":   0.0586010255272559310\n",
       ":   0.0586010255272559311\n",
       ":   0.0586010255272559312\n",
       ":   0.0586010255272559313\n",
       ":   0.0586010255272559314\n",
       ":   0.0586010255272559315\n",
       ":   0.0586010255272559316\n",
       ":   0.0586010255272559317\n",
       ":   0.0586010255272559318\n",
       ":   0.0586010255272559319\n",
       ":   0.0586010255272559320\n",
       ":   0.0586010255272559321\n",
       ":   0.0586010255272559322\n",
       ":   0.0586010255272559323\n",
       ":   0.0586010255272559324\n",
       ":   0.0586010255272559325\n",
       ":   0.0586010255272559326\n",
       ":   0.0586010255272559327\n",
       ":   0.0586010255272559328\n",
       ":   0.0586010255272559329\n",
       ":   0.0586010255272559330\n",
       ":   0.0586010255272559331\n",
       ":   0.0586010255272559332\n",
       ":   0.0586010255272559333\n",
       ":   0.0586010255272559334\n",
       ":   0.0586010255272559335\n",
       ":   0.0586010255272559336\n",
       ":   0.0586010255272559337\n",
       ":   0.0586010255272559338\n",
       ":   0.0586010255272559339\n",
       ":   0.0586010255272559340\n",
       ":   0.0586010255272559341\n",
       ":   0.0586010255272559342\n",
       ":   0.0586010255272559343\n",
       ":   0.0586010255272559344\n",
       ":   0.0586010255272559345\n",
       ":   0.164027868915411346\n",
       ":   0.164027868915411347\n",
       ":   0.164027868915411348\n",
       ":   0.164027868915411349\n",
       ":   0.164027868915411350\n",
       ":   0.164027868915411351\n",
       ":   0.164027868915411352\n",
       ":   0.164027868915411353\n",
       ":   0.164027868915411354\n",
       ":   0.164027868915411355\n",
       ":   0.164027868915411356\n",
       ":   0.164027868915411357\n",
       ":   0.164027868915411358\n",
       ":   0.164027868915411359\n",
       ":   0.164027868915411360\n",
       ":   0.164027868915411361\n",
       ":   0.164027868915411362\n",
       ":   0.164027868915411363\n",
       ":   0.164027868915411364\n",
       ":   0.164027868915411365\n",
       ":   0.164027868915411366\n",
       ":   0.164027868915411367\n",
       ":   0.164027868915411368\n",
       ":   0.164027868915411369\n",
       ":   0.164027868915411370\n",
       ":   0.164027868915411371\n",
       ":   0.164027868915411372\n",
       ":   0.164027868915411373\n",
       ":   0.164027868915411374\n",
       ":   0.164027868915411375\n",
       ":   0.164027868915411376\n",
       ":   0.164027868915411377\n",
       ":   0.164027868915411378\n",
       ":   0.164027868915411379\n",
       ":   0.164027868915411380\n",
       ":   0.164027868915411381\n",
       ":   0.164027868915411382\n",
       ":   0.164027868915411383\n",
       ":   0.164027868915411384\n",
       ":   0.164027868915411385\n",
       ":   0.164027868915411386\n",
       ":   0.164027868915411387\n",
       ":   0.164027868915411388\n",
       ":   0.164027868915411389\n",
       ":   0.164027868915411390\n",
       ":   0.164027868915411391\n",
       ":   0.164027868915411392\n",
       ":   0.36211900587817393\n",
       ":   0.36211900587817394\n",
       ":   0.36211900587817395\n",
       ":   0.36211900587817396\n",
       ":   0.36211900587817397\n",
       ":   0.36211900587817398\n",
       ":   0.36211900587817399\n",
       ":   0.36211900587817400\n",
       ":   0.36211900587817401\n",
       ":   0.36211900587817402\n",
       ":   0.36211900587817403\n",
       ":   0.36211900587817404\n",
       ":   0.36211900587817405\n",
       ":   0.36211900587817406\n",
       ":   0.36211900587817407\n",
       ":   0.36211900587817408\n",
       ":   0.36211900587817409\n",
       ":   0.36211900587817410\n",
       ":   0.36211900587817411\n",
       ":   0.36211900587817412\n",
       ":   0.36211900587817413\n",
       ":   0.36211900587817414\n",
       ":   0.36211900587817415\n",
       ":   0.36211900587817416\n",
       ":   0.36211900587817417\n",
       ":   0.36211900587817418\n",
       ":   0.36211900587817419\n",
       ":   0.36211900587817420\n",
       ":   0.36211900587817421\n",
       ":   0.36211900587817422\n",
       ":   0.36211900587817423\n",
       ":   0.36211900587817424\n",
       ":   0.36211900587817425\n",
       ":   0.36211900587817426\n",
       ":   0.36211900587817427\n",
       ":   0.36211900587817428\n",
       ":   0.36211900587817429\n",
       ":   0.36211900587817430\n",
       ":   0.36211900587817431\n",
       ":   0.36211900587817432\n",
       ":   0.36211900587817433\n",
       ":   0.36211900587817434\n",
       ":   0.36211900587817435\n",
       ":   0.36211900587817436\n",
       ":   0.605314906319576437\n",
       ":   0.605314906319576438\n",
       ":   0.605314906319576439\n",
       ":   0.605314906319576440\n",
       ":   0.605314906319576441\n",
       ":   0.605314906319576442\n",
       ":   0.605314906319576443\n",
       ":   0.605314906319576444\n",
       ":   0.605314906319576445\n",
       ":   0.605314906319576446\n",
       ":   0.605314906319576447\n",
       ":   0.605314906319576448\n",
       ":   0.605314906319576449\n",
       ":   0.605314906319576450\n",
       ":   0.605314906319576451\n",
       ":   0.605314906319576452\n",
       ":   0.605314906319576453\n",
       ":   0.605314906319576454\n",
       ":   0.605314906319576455\n",
       ":   0.605314906319576456\n",
       ":   0.605314906319576457\n",
       ":   0.605314906319576458\n",
       ":   0.605314906319576459\n",
       ":   0.605314906319576460\n",
       ":   0.605314906319576461\n",
       ":   0.605314906319576462\n",
       ":   0.605314906319576463\n",
       ":   0.605314906319576464\n",
       ":   0.795171771913179465\n",
       ":   0.795171771913179466\n",
       ":   0.795171771913179467\n",
       ":   0.795171771913179468\n",
       ":   0.795171771913179469\n",
       ":   0.795171771913179470\n",
       ":   0.795171771913179471\n",
       ":   0.795171771913179472\n",
       ":   0.795171771913179473\n",
       ":   0.795171771913179474\n",
       ":   0.795171771913179475\n",
       ":   0.903235819357937476\n",
       ":   0.903235819357937477\n",
       ":   0.903235819357937478\n",
       ":   0.903235819357937479\n",
       ":   0.903235819357937480\n",
       ":   0.903235819357937481\n",
       ":   0.955196106797305\n",
       "\n"
      ],
      "text/plain": [
       "         1          2          3          4          5          6          7 \n",
       "0.05860103 0.05860103 0.05860103 0.05860103 0.05860103 0.05860103 0.16402787 \n",
       "         8          9         10         11         12         13         14 \n",
       "0.16402787 0.16402787 0.16402787 0.16402787 0.16402787 0.16402787 0.16402787 \n",
       "        15         16         17         18         19         20         21 \n",
       "0.16402787 0.16402787 0.16402787 0.16402787 0.16402787 0.36211901 0.36211901 \n",
       "        22         23         24         25         26         27         28 \n",
       "0.36211901 0.36211901 0.36211901 0.36211901 0.36211901 0.36211901 0.36211901 \n",
       "        29         30         31         32         33         34         35 \n",
       "0.36211901 0.36211901 0.36211901 0.36211901 0.36211901 0.36211901 0.36211901 \n",
       "        36         37         38         39         40         41         42 \n",
       "0.36211901 0.36211901 0.60531491 0.60531491 0.60531491 0.60531491 0.60531491 \n",
       "        43         44         45         46         47         48         49 \n",
       "0.60531491 0.60531491 0.60531491 0.60531491 0.60531491 0.60531491 0.60531491 \n",
       "        50         51         52         53         54         55         56 \n",
       "0.60531491 0.60531491 0.60531491 0.60531491 0.60531491 0.60531491 0.60531491 \n",
       "        57         58         59         60         61         62         63 \n",
       "0.60531491 0.60531491 0.60531491 0.60531491 0.60531491 0.60531491 0.60531491 \n",
       "        64         65         66         67         68         69         70 \n",
       "0.60531491 0.60531491 0.79517177 0.79517177 0.79517177 0.79517177 0.79517177 \n",
       "        71         72         73         74         75         76         77 \n",
       "0.79517177 0.79517177 0.79517177 0.79517177 0.79517177 0.79517177 0.79517177 \n",
       "        78         79         80         81         82         83         84 \n",
       "0.79517177 0.79517177 0.79517177 0.79517177 0.79517177 0.79517177 0.79517177 \n",
       "        85         86         87         88         89         90         91 \n",
       "0.79517177 0.79517177 0.79517177 0.79517177 0.79517177 0.79517177 0.79517177 \n",
       "        92         93         94         95         96         97         98 \n",
       "0.79517177 0.79517177 0.79517177 0.79517177 0.79517177 0.79517177 0.79517177 \n",
       "        99        100        101        102        103        104        105 \n",
       "0.79517177 0.79517177 0.79517177 0.79517177 0.79517177 0.79517177 0.79517177 \n",
       "       106        107        108        109        110        111        112 \n",
       "0.79517177 0.79517177 0.79517177 0.79517177 0.79517177 0.79517177 0.79517177 \n",
       "       113        114        115        116        117        118        119 \n",
       "0.79517177 0.79517177 0.79517177 0.79517177 0.79517177 0.90323582 0.90323582 \n",
       "       120        121        122        123        124        125        126 \n",
       "0.90323582 0.90323582 0.90323582 0.90323582 0.90323582 0.90323582 0.90323582 \n",
       "       127        128        129        130        131        132        133 \n",
       "0.90323582 0.90323582 0.90323582 0.90323582 0.90323582 0.90323582 0.90323582 \n",
       "       134        135        136        137        138        139        140 \n",
       "0.90323582 0.90323582 0.90323582 0.90323582 0.90323582 0.90323582 0.90323582 \n",
       "       141        142        143        144        145        146        147 \n",
       "0.90323582 0.90323582 0.90323582 0.90323582 0.90323582 0.90323582 0.90323582 \n",
       "       148        149        150        151        152        153        154 \n",
       "0.90323582 0.90323582 0.90323582 0.90323582 0.90323582 0.90323582 0.90323582 \n",
       "       155        156        157        158        159        160        161 \n",
       "0.90323582 0.90323582 0.90323582 0.90323582 0.90323582 0.90323582 0.90323582 \n",
       "       162        163        164        165        166        167        168 \n",
       "0.90323582 0.90323582 0.90323582 0.90323582 0.90323582 0.90323582 0.90323582 \n",
       "       169        170        171        172        173        174        175 \n",
       "0.90323582 0.90323582 0.95519611 0.95519611 0.95519611 0.95519611 0.95519611 \n",
       "       176        177        178        179        180        181        182 \n",
       "0.95519611 0.95519611 0.95519611 0.95519611 0.95519611 0.95519611 0.95519611 \n",
       "       183        184        185        186        187        188        189 \n",
       "0.95519611 0.95519611 0.95519611 0.95519611 0.95519611 0.95519611 0.95519611 \n",
       "       190        191        192        193        194        195        196 \n",
       "0.95519611 0.95519611 0.95519611 0.95519611 0.95519611 0.95519611 0.95519611 \n",
       "       197        198        199        200        201        202        203 \n",
       "0.95519611 0.95519611 0.95519611 0.95519611 0.95519611 0.95519611 0.95519611 \n",
       "       204        205        206        207        208        209        210 \n",
       "0.95519611 0.95519611 0.95519611 0.95519611 0.95519611 0.95519611 0.95519611 \n",
       "       211        212        213        214        215        216        217 \n",
       "0.95519611 0.95519611 0.95519611 0.95519611 0.95519611 0.95519611 0.95519611 \n",
       "       218        219        220        221        222        223        224 \n",
       "0.95519611 0.95519611 0.95519611 0.95519611 0.95519611 0.95519611 0.95519611 \n",
       "       225        226        227        228        229        230        231 \n",
       "0.95519611 0.95519611 0.95519611 0.95519611 0.95519611 0.95519611 0.95519611 \n",
       "       232        233        234        235        236        237        238 \n",
       "0.97904934 0.97904934 0.97904934 0.97904934 0.97904934 0.97904934 0.97904934 \n",
       "       239        240        241        242        243        244        245 \n",
       "0.97904934 0.97904934 0.97904934 0.97904934 0.97904934 0.97904934 0.97904934 \n",
       "       246        247        248        249        250        251        252 \n",
       "0.97904934 0.97904934 0.97904934 0.97904934 0.97904934 0.97904934 0.97904934 \n",
       "       253        254        255        256        257        258        259 \n",
       "0.97904934 0.97904934 0.97904934 0.97904934 0.97904934 0.97904934 0.97904934 \n",
       "       260        261        262        263        264        265        266 \n",
       "0.97904934 0.97904934 0.97904934 0.97904934 0.97904934 0.97904934 0.97904934 \n",
       "       267        268        269        270        271        272        273 \n",
       "0.97904934 0.97904934 0.97904934 0.97904934 0.97904934 0.97904934 0.97904934 \n",
       "       274        275        276        277        278        279        280 \n",
       "0.97904934 0.97904934 0.97904934 0.97904934 0.97904934 0.97904934 0.97904934 \n",
       "       281        282        283        284        285        286        287 \n",
       "0.97904934 0.97904934 0.97904934 0.97904934 0.97904934 0.97904934 0.97904934 \n",
       "       288        289        290        291        292        293        294 \n",
       "0.97904934 0.97904934 0.97904934 0.97904934 0.05860103 0.05860103 0.05860103 \n",
       "       295        296        297        298        299        300        301 \n",
       "0.05860103 0.05860103 0.05860103 0.05860103 0.05860103 0.05860103 0.05860103 \n",
       "       302        303        304        305        306        307        308 \n",
       "0.05860103 0.05860103 0.05860103 0.05860103 0.05860103 0.05860103 0.05860103 \n",
       "       309        310        311        312        313        314        315 \n",
       "0.05860103 0.05860103 0.05860103 0.05860103 0.05860103 0.05860103 0.05860103 \n",
       "       316        317        318        319        320        321        322 \n",
       "0.05860103 0.05860103 0.05860103 0.05860103 0.05860103 0.05860103 0.05860103 \n",
       "       323        324        325        326        327        328        329 \n",
       "0.05860103 0.05860103 0.05860103 0.05860103 0.05860103 0.05860103 0.05860103 \n",
       "       330        331        332        333        334        335        336 \n",
       "0.05860103 0.05860103 0.05860103 0.05860103 0.05860103 0.05860103 0.05860103 \n",
       "       337        338        339        340        341        342        343 \n",
       "0.05860103 0.05860103 0.05860103 0.05860103 0.05860103 0.05860103 0.05860103 \n",
       "       344        345        346        347        348        349        350 \n",
       "0.05860103 0.16402787 0.16402787 0.16402787 0.16402787 0.16402787 0.16402787 \n",
       "       351        352        353        354        355        356        357 \n",
       "0.16402787 0.16402787 0.16402787 0.16402787 0.16402787 0.16402787 0.16402787 \n",
       "       358        359        360        361        362        363        364 \n",
       "0.16402787 0.16402787 0.16402787 0.16402787 0.16402787 0.16402787 0.16402787 \n",
       "       365        366        367        368        369        370        371 \n",
       "0.16402787 0.16402787 0.16402787 0.16402787 0.16402787 0.16402787 0.16402787 \n",
       "       372        373        374        375        376        377        378 \n",
       "0.16402787 0.16402787 0.16402787 0.16402787 0.16402787 0.16402787 0.16402787 \n",
       "       379        380        381        382        383        384        385 \n",
       "0.16402787 0.16402787 0.16402787 0.16402787 0.16402787 0.16402787 0.16402787 \n",
       "       386        387        388        389        390        391        392 \n",
       "0.16402787 0.16402787 0.16402787 0.16402787 0.16402787 0.16402787 0.36211901 \n",
       "       393        394        395        396        397        398        399 \n",
       "0.36211901 0.36211901 0.36211901 0.36211901 0.36211901 0.36211901 0.36211901 \n",
       "       400        401        402        403        404        405        406 \n",
       "0.36211901 0.36211901 0.36211901 0.36211901 0.36211901 0.36211901 0.36211901 \n",
       "       407        408        409        410        411        412        413 \n",
       "0.36211901 0.36211901 0.36211901 0.36211901 0.36211901 0.36211901 0.36211901 \n",
       "       414        415        416        417        418        419        420 \n",
       "0.36211901 0.36211901 0.36211901 0.36211901 0.36211901 0.36211901 0.36211901 \n",
       "       421        422        423        424        425        426        427 \n",
       "0.36211901 0.36211901 0.36211901 0.36211901 0.36211901 0.36211901 0.36211901 \n",
       "       428        429        430        431        432        433        434 \n",
       "0.36211901 0.36211901 0.36211901 0.36211901 0.36211901 0.36211901 0.36211901 \n",
       "       435        436        437        438        439        440        441 \n",
       "0.36211901 0.60531491 0.60531491 0.60531491 0.60531491 0.60531491 0.60531491 \n",
       "       442        443        444        445        446        447        448 \n",
       "0.60531491 0.60531491 0.60531491 0.60531491 0.60531491 0.60531491 0.60531491 \n",
       "       449        450        451        452        453        454        455 \n",
       "0.60531491 0.60531491 0.60531491 0.60531491 0.60531491 0.60531491 0.60531491 \n",
       "       456        457        458        459        460        461        462 \n",
       "0.60531491 0.60531491 0.60531491 0.60531491 0.60531491 0.60531491 0.60531491 \n",
       "       463        464        465        466        467        468        469 \n",
       "0.60531491 0.79517177 0.79517177 0.79517177 0.79517177 0.79517177 0.79517177 \n",
       "       470        471        472        473        474        475        476 \n",
       "0.79517177 0.79517177 0.79517177 0.79517177 0.79517177 0.90323582 0.90323582 \n",
       "       477        478        479        480        481 \n",
       "0.90323582 0.90323582 0.90323582 0.90323582 0.95519611 "
      ]
     },
     "metadata": {},
     "output_type": "display_data"
    }
   ],
   "source": [
    "fit_tmp = glm(cbind(y, n- y)~dose, data = beetle_n1, family = binomial(link = \"logit\"))\n",
    "fit_tmp$fitted"
   ]
  },
  {
   "cell_type": "code",
   "execution_count": 99,
   "metadata": {},
   "outputs": [
    {
     "data": {
      "text/html": [
       "<table>\n",
       "<thead><tr><th scope=col>dose</th><th scope=col>n</th><th scope=col>y</th></tr></thead>\n",
       "<tbody>\n",
       "\t<tr><td>1.6907</td><td>1     </td><td>1     </td></tr>\n",
       "\t<tr><td>1.6907</td><td>1     </td><td>1     </td></tr>\n",
       "\t<tr><td>1.6907</td><td>1     </td><td>1     </td></tr>\n",
       "\t<tr><td>1.6907</td><td>1     </td><td>1     </td></tr>\n",
       "\t<tr><td>1.6907</td><td>1     </td><td>1     </td></tr>\n",
       "\t<tr><td>1.6907</td><td>1     </td><td>1     </td></tr>\n",
       "\t<tr><td>1.7242</td><td>1     </td><td>1     </td></tr>\n",
       "\t<tr><td>1.7242</td><td>1     </td><td>1     </td></tr>\n",
       "\t<tr><td>1.7242</td><td>1     </td><td>1     </td></tr>\n",
       "\t<tr><td>1.7242</td><td>1     </td><td>1     </td></tr>\n",
       "\t<tr><td>1.7242</td><td>1     </td><td>1     </td></tr>\n",
       "\t<tr><td>1.7242</td><td>1     </td><td>1     </td></tr>\n",
       "\t<tr><td>1.7242</td><td>1     </td><td>1     </td></tr>\n",
       "\t<tr><td>1.7242</td><td>1     </td><td>1     </td></tr>\n",
       "\t<tr><td>1.7242</td><td>1     </td><td>1     </td></tr>\n",
       "\t<tr><td>1.7242</td><td>1     </td><td>1     </td></tr>\n",
       "\t<tr><td>1.7242</td><td>1     </td><td>1     </td></tr>\n",
       "\t<tr><td>1.7242</td><td>1     </td><td>1     </td></tr>\n",
       "\t<tr><td>1.7242</td><td>1     </td><td>1     </td></tr>\n",
       "\t<tr><td>1.7552</td><td>1     </td><td>1     </td></tr>\n",
       "\t<tr><td>1.7552</td><td>1     </td><td>1     </td></tr>\n",
       "\t<tr><td>1.7552</td><td>1     </td><td>1     </td></tr>\n",
       "\t<tr><td>1.7552</td><td>1     </td><td>1     </td></tr>\n",
       "\t<tr><td>1.7552</td><td>1     </td><td>1     </td></tr>\n",
       "\t<tr><td>1.7552</td><td>1     </td><td>1     </td></tr>\n",
       "\t<tr><td>1.7552</td><td>1     </td><td>1     </td></tr>\n",
       "\t<tr><td>1.7552</td><td>1     </td><td>1     </td></tr>\n",
       "\t<tr><td>1.7552</td><td>1     </td><td>1     </td></tr>\n",
       "\t<tr><td>1.7552</td><td>1     </td><td>1     </td></tr>\n",
       "\t<tr><td>1.7552</td><td>1     </td><td>1     </td></tr>\n",
       "\t<tr><td>⋮</td><td>⋮</td><td>⋮</td></tr>\n",
       "\t<tr><td>1.7842</td><td>1     </td><td>0     </td></tr>\n",
       "\t<tr><td>1.7842</td><td>1     </td><td>0     </td></tr>\n",
       "\t<tr><td>1.7842</td><td>1     </td><td>0     </td></tr>\n",
       "\t<tr><td>1.7842</td><td>1     </td><td>0     </td></tr>\n",
       "\t<tr><td>1.7842</td><td>1     </td><td>0     </td></tr>\n",
       "\t<tr><td>1.7842</td><td>1     </td><td>0     </td></tr>\n",
       "\t<tr><td>1.7842</td><td>1     </td><td>0     </td></tr>\n",
       "\t<tr><td>1.7842</td><td>1     </td><td>0     </td></tr>\n",
       "\t<tr><td>1.7842</td><td>1     </td><td>0     </td></tr>\n",
       "\t<tr><td>1.7842</td><td>1     </td><td>0     </td></tr>\n",
       "\t<tr><td>1.7842</td><td>1     </td><td>0     </td></tr>\n",
       "\t<tr><td>1.7842</td><td>1     </td><td>0     </td></tr>\n",
       "\t<tr><td>1.8113</td><td>1     </td><td>0     </td></tr>\n",
       "\t<tr><td>1.8113</td><td>1     </td><td>0     </td></tr>\n",
       "\t<tr><td>1.8113</td><td>1     </td><td>0     </td></tr>\n",
       "\t<tr><td>1.8113</td><td>1     </td><td>0     </td></tr>\n",
       "\t<tr><td>1.8113</td><td>1     </td><td>0     </td></tr>\n",
       "\t<tr><td>1.8113</td><td>1     </td><td>0     </td></tr>\n",
       "\t<tr><td>1.8113</td><td>1     </td><td>0     </td></tr>\n",
       "\t<tr><td>1.8113</td><td>1     </td><td>0     </td></tr>\n",
       "\t<tr><td>1.8113</td><td>1     </td><td>0     </td></tr>\n",
       "\t<tr><td>1.8113</td><td>1     </td><td>0     </td></tr>\n",
       "\t<tr><td>1.8113</td><td>1     </td><td>0     </td></tr>\n",
       "\t<tr><td>1.8369</td><td>1     </td><td>0     </td></tr>\n",
       "\t<tr><td>1.8369</td><td>1     </td><td>0     </td></tr>\n",
       "\t<tr><td>1.8369</td><td>1     </td><td>0     </td></tr>\n",
       "\t<tr><td>1.8369</td><td>1     </td><td>0     </td></tr>\n",
       "\t<tr><td>1.8369</td><td>1     </td><td>0     </td></tr>\n",
       "\t<tr><td>1.8369</td><td>1     </td><td>0     </td></tr>\n",
       "\t<tr><td>1.8610</td><td>1     </td><td>0     </td></tr>\n",
       "</tbody>\n",
       "</table>\n"
      ],
      "text/latex": [
       "\\begin{tabular}{r|lll}\n",
       " dose & n & y\\\\\n",
       "\\hline\n",
       "\t 1.6907 & 1      & 1     \\\\\n",
       "\t 1.6907 & 1      & 1     \\\\\n",
       "\t 1.6907 & 1      & 1     \\\\\n",
       "\t 1.6907 & 1      & 1     \\\\\n",
       "\t 1.6907 & 1      & 1     \\\\\n",
       "\t 1.6907 & 1      & 1     \\\\\n",
       "\t 1.7242 & 1      & 1     \\\\\n",
       "\t 1.7242 & 1      & 1     \\\\\n",
       "\t 1.7242 & 1      & 1     \\\\\n",
       "\t 1.7242 & 1      & 1     \\\\\n",
       "\t 1.7242 & 1      & 1     \\\\\n",
       "\t 1.7242 & 1      & 1     \\\\\n",
       "\t 1.7242 & 1      & 1     \\\\\n",
       "\t 1.7242 & 1      & 1     \\\\\n",
       "\t 1.7242 & 1      & 1     \\\\\n",
       "\t 1.7242 & 1      & 1     \\\\\n",
       "\t 1.7242 & 1      & 1     \\\\\n",
       "\t 1.7242 & 1      & 1     \\\\\n",
       "\t 1.7242 & 1      & 1     \\\\\n",
       "\t 1.7552 & 1      & 1     \\\\\n",
       "\t 1.7552 & 1      & 1     \\\\\n",
       "\t 1.7552 & 1      & 1     \\\\\n",
       "\t 1.7552 & 1      & 1     \\\\\n",
       "\t 1.7552 & 1      & 1     \\\\\n",
       "\t 1.7552 & 1      & 1     \\\\\n",
       "\t 1.7552 & 1      & 1     \\\\\n",
       "\t 1.7552 & 1      & 1     \\\\\n",
       "\t 1.7552 & 1      & 1     \\\\\n",
       "\t 1.7552 & 1      & 1     \\\\\n",
       "\t 1.7552 & 1      & 1     \\\\\n",
       "\t ⋮ & ⋮ & ⋮\\\\\n",
       "\t 1.7842 & 1      & 0     \\\\\n",
       "\t 1.7842 & 1      & 0     \\\\\n",
       "\t 1.7842 & 1      & 0     \\\\\n",
       "\t 1.7842 & 1      & 0     \\\\\n",
       "\t 1.7842 & 1      & 0     \\\\\n",
       "\t 1.7842 & 1      & 0     \\\\\n",
       "\t 1.7842 & 1      & 0     \\\\\n",
       "\t 1.7842 & 1      & 0     \\\\\n",
       "\t 1.7842 & 1      & 0     \\\\\n",
       "\t 1.7842 & 1      & 0     \\\\\n",
       "\t 1.7842 & 1      & 0     \\\\\n",
       "\t 1.7842 & 1      & 0     \\\\\n",
       "\t 1.8113 & 1      & 0     \\\\\n",
       "\t 1.8113 & 1      & 0     \\\\\n",
       "\t 1.8113 & 1      & 0     \\\\\n",
       "\t 1.8113 & 1      & 0     \\\\\n",
       "\t 1.8113 & 1      & 0     \\\\\n",
       "\t 1.8113 & 1      & 0     \\\\\n",
       "\t 1.8113 & 1      & 0     \\\\\n",
       "\t 1.8113 & 1      & 0     \\\\\n",
       "\t 1.8113 & 1      & 0     \\\\\n",
       "\t 1.8113 & 1      & 0     \\\\\n",
       "\t 1.8113 & 1      & 0     \\\\\n",
       "\t 1.8369 & 1      & 0     \\\\\n",
       "\t 1.8369 & 1      & 0     \\\\\n",
       "\t 1.8369 & 1      & 0     \\\\\n",
       "\t 1.8369 & 1      & 0     \\\\\n",
       "\t 1.8369 & 1      & 0     \\\\\n",
       "\t 1.8369 & 1      & 0     \\\\\n",
       "\t 1.8610 & 1      & 0     \\\\\n",
       "\\end{tabular}\n"
      ],
      "text/markdown": [
       "\n",
       "dose | n | y | \n",
       "|---|---|---|---|---|---|---|---|---|---|---|---|---|---|---|---|---|---|---|---|---|---|---|---|---|---|---|---|---|---|---|---|---|---|---|---|---|---|---|---|---|---|---|---|---|---|---|---|---|---|---|---|---|---|---|---|---|---|---|---|---|\n",
       "| 1.6907 | 1      | 1      | \n",
       "| 1.6907 | 1      | 1      | \n",
       "| 1.6907 | 1      | 1      | \n",
       "| 1.6907 | 1      | 1      | \n",
       "| 1.6907 | 1      | 1      | \n",
       "| 1.6907 | 1      | 1      | \n",
       "| 1.7242 | 1      | 1      | \n",
       "| 1.7242 | 1      | 1      | \n",
       "| 1.7242 | 1      | 1      | \n",
       "| 1.7242 | 1      | 1      | \n",
       "| 1.7242 | 1      | 1      | \n",
       "| 1.7242 | 1      | 1      | \n",
       "| 1.7242 | 1      | 1      | \n",
       "| 1.7242 | 1      | 1      | \n",
       "| 1.7242 | 1      | 1      | \n",
       "| 1.7242 | 1      | 1      | \n",
       "| 1.7242 | 1      | 1      | \n",
       "| 1.7242 | 1      | 1      | \n",
       "| 1.7242 | 1      | 1      | \n",
       "| 1.7552 | 1      | 1      | \n",
       "| 1.7552 | 1      | 1      | \n",
       "| 1.7552 | 1      | 1      | \n",
       "| 1.7552 | 1      | 1      | \n",
       "| 1.7552 | 1      | 1      | \n",
       "| 1.7552 | 1      | 1      | \n",
       "| 1.7552 | 1      | 1      | \n",
       "| 1.7552 | 1      | 1      | \n",
       "| 1.7552 | 1      | 1      | \n",
       "| 1.7552 | 1      | 1      | \n",
       "| 1.7552 | 1      | 1      | \n",
       "| ⋮ | ⋮ | ⋮ | \n",
       "| 1.7842 | 1      | 0      | \n",
       "| 1.7842 | 1      | 0      | \n",
       "| 1.7842 | 1      | 0      | \n",
       "| 1.7842 | 1      | 0      | \n",
       "| 1.7842 | 1      | 0      | \n",
       "| 1.7842 | 1      | 0      | \n",
       "| 1.7842 | 1      | 0      | \n",
       "| 1.7842 | 1      | 0      | \n",
       "| 1.7842 | 1      | 0      | \n",
       "| 1.7842 | 1      | 0      | \n",
       "| 1.7842 | 1      | 0      | \n",
       "| 1.7842 | 1      | 0      | \n",
       "| 1.8113 | 1      | 0      | \n",
       "| 1.8113 | 1      | 0      | \n",
       "| 1.8113 | 1      | 0      | \n",
       "| 1.8113 | 1      | 0      | \n",
       "| 1.8113 | 1      | 0      | \n",
       "| 1.8113 | 1      | 0      | \n",
       "| 1.8113 | 1      | 0      | \n",
       "| 1.8113 | 1      | 0      | \n",
       "| 1.8113 | 1      | 0      | \n",
       "| 1.8113 | 1      | 0      | \n",
       "| 1.8113 | 1      | 0      | \n",
       "| 1.8369 | 1      | 0      | \n",
       "| 1.8369 | 1      | 0      | \n",
       "| 1.8369 | 1      | 0      | \n",
       "| 1.8369 | 1      | 0      | \n",
       "| 1.8369 | 1      | 0      | \n",
       "| 1.8369 | 1      | 0      | \n",
       "| 1.8610 | 1      | 0      | \n",
       "\n",
       "\n"
      ],
      "text/plain": [
       "    dose   n y\n",
       "1   1.6907 1 1\n",
       "2   1.6907 1 1\n",
       "3   1.6907 1 1\n",
       "4   1.6907 1 1\n",
       "5   1.6907 1 1\n",
       "6   1.6907 1 1\n",
       "7   1.7242 1 1\n",
       "8   1.7242 1 1\n",
       "9   1.7242 1 1\n",
       "10  1.7242 1 1\n",
       "11  1.7242 1 1\n",
       "12  1.7242 1 1\n",
       "13  1.7242 1 1\n",
       "14  1.7242 1 1\n",
       "15  1.7242 1 1\n",
       "16  1.7242 1 1\n",
       "17  1.7242 1 1\n",
       "18  1.7242 1 1\n",
       "19  1.7242 1 1\n",
       "20  1.7552 1 1\n",
       "21  1.7552 1 1\n",
       "22  1.7552 1 1\n",
       "23  1.7552 1 1\n",
       "24  1.7552 1 1\n",
       "25  1.7552 1 1\n",
       "26  1.7552 1 1\n",
       "27  1.7552 1 1\n",
       "28  1.7552 1 1\n",
       "29  1.7552 1 1\n",
       "30  1.7552 1 1\n",
       "⋮   ⋮      ⋮ ⋮\n",
       "452 1.7842 1 0\n",
       "453 1.7842 1 0\n",
       "454 1.7842 1 0\n",
       "455 1.7842 1 0\n",
       "456 1.7842 1 0\n",
       "457 1.7842 1 0\n",
       "458 1.7842 1 0\n",
       "459 1.7842 1 0\n",
       "460 1.7842 1 0\n",
       "461 1.7842 1 0\n",
       "462 1.7842 1 0\n",
       "463 1.7842 1 0\n",
       "464 1.8113 1 0\n",
       "465 1.8113 1 0\n",
       "466 1.8113 1 0\n",
       "467 1.8113 1 0\n",
       "468 1.8113 1 0\n",
       "469 1.8113 1 0\n",
       "470 1.8113 1 0\n",
       "471 1.8113 1 0\n",
       "472 1.8113 1 0\n",
       "473 1.8113 1 0\n",
       "474 1.8113 1 0\n",
       "475 1.8369 1 0\n",
       "476 1.8369 1 0\n",
       "477 1.8369 1 0\n",
       "478 1.8369 1 0\n",
       "479 1.8369 1 0\n",
       "480 1.8369 1 0\n",
       "481 1.8610 1 0"
      ]
     },
     "metadata": {},
     "output_type": "display_data"
    }
   ],
   "source": [
    "beetle_n1"
   ]
  },
  {
   "cell_type": "code",
   "execution_count": 106,
   "metadata": {},
   "outputs": [],
   "source": [
    "?glm"
   ]
  },
  {
   "cell_type": "code",
   "execution_count": null,
   "metadata": {},
   "outputs": [],
   "source": []
  }
 ],
 "metadata": {
  "kernelspec": {
   "display_name": "R",
   "language": "R",
   "name": "ir"
  },
  "language_info": {
   "codemirror_mode": "r",
   "file_extension": ".r",
   "mimetype": "text/x-r-source",
   "name": "R",
   "pygments_lexer": "r",
   "version": "3.5.1"
  }
 },
 "nbformat": 4,
 "nbformat_minor": 2
}
