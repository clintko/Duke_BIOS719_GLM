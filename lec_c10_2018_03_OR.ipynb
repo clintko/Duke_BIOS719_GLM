{
 "cells": [
  {
   "cell_type": "markdown",
   "metadata": {},
   "source": []
  },
  {
   "cell_type": "code",
   "execution_count": null,
   "metadata": {},
   "outputs": [],
   "source": []
  },
  {
   "cell_type": "markdown",
   "metadata": {},
   "source": []
  },
  {
   "cell_type": "code",
   "execution_count": 3,
   "metadata": {},
   "outputs": [
    {
     "name": "stdout",
     "output_type": "stream",
     "text": [
      "    d=1 d=2\n",
      "x=1  10  20\n",
      "x=2  20   5\n"
     ]
    }
   ],
   "source": [
    "mat = matrix(c(10, 20, 20, 5), 2, 2)\n",
    "rownames(mat) = c(\"x=1\", \"x=2\")\n",
    "colnames(mat) = c(\"d=1\", \"d=2\")\n",
    "print(mat)"
   ]
  },
  {
   "cell_type": "code",
   "execution_count": 6,
   "metadata": {},
   "outputs": [
    {
     "name": "stdout",
     "output_type": "stream",
     "text": [
      "      d=1 d=2 Total\n",
      "x=1    10  20    30\n",
      "x=2    20   5    25\n",
      "Total  30  25    55\n"
     ]
    }
   ],
   "source": [
    "mat = matrix(c(10, 20, 30,\n",
    "               20,  5, 25,\n",
    "               30, 25, 55), \n",
    "             3, 3)\n",
    "\n",
    "rownames(mat) = c(\"x=1\", \"x=2\", \"Total\")\n",
    "colnames(mat) = c(\"d=1\", \"d=2\", \"Total\")\n",
    "print(mat)"
   ]
  },
  {
   "cell_type": "markdown",
   "metadata": {},
   "source": [
    "Estimated odds of **no disease** for x = 1\n",
    "\n",
    "$$\\frac{P(d = 1 | x = 1)}{P(d = 0 | x = 1)} = \\frac{20 / 30}{10 / 30} = 20 / 10 = 2$$\n",
    "\n",
    "Estimated odds of **no disease** for x = 0\n",
    "\n",
    "$$\\frac{P(d = 1 | x = 0)}{P(d = 0 | x = 0)} = \\frac{5 / 25}{20 / 25} = 5 / 20 = 1/4$$\n",
    "\n",
    "\n",
    "Odds of no disease ration of those with x = 0 over those with x = 1\n",
    "\n",
    "$$\\frac{1/4}{2} = 1/8$$\n"
   ]
  },
  {
   "cell_type": "code",
   "execution_count": null,
   "metadata": {},
   "outputs": [],
   "source": []
  },
  {
   "cell_type": "code",
   "execution_count": null,
   "metadata": {},
   "outputs": [],
   "source": []
  }
 ],
 "metadata": {
  "kernelspec": {
   "display_name": "R",
   "language": "R",
   "name": "ir"
  },
  "language_info": {
   "codemirror_mode": "r",
   "file_extension": ".r",
   "mimetype": "text/x-r-source",
   "name": "R",
   "pygments_lexer": "r",
   "version": "3.5.1"
  }
 },
 "nbformat": 4,
 "nbformat_minor": 2
}
