{
 "cells": [
  {
   "cell_type": "code",
   "execution_count": 11,
   "metadata": {},
   "outputs": [
    {
     "name": "stderr",
     "output_type": "stream",
     "text": [
      "Parsed with column specification:\n",
      "cols(\n",
      "  patient = col_integer(),\n",
      "  treatment = col_integer(),\n",
      "  gender = col_integer(),\n",
      "  age = col_integer(),\n",
      "  visit1 = col_integer(),\n",
      "  visit2 = col_integer(),\n",
      "  visit3 = col_integer(),\n",
      "  visit4 = col_integer()\n",
      ")\n"
     ]
    },
    {
     "data": {
      "text/html": [
       "<table>\n",
       "<thead><tr><th scope=col>trt</th><th scope=col>age</th><th scope=col>gender</th><th scope=col>y</th><th scope=col>n</th></tr></thead>\n",
       "<tbody>\n",
       "\t<tr><td>Placebo</td><td>13     </td><td>Male   </td><td> 4     </td><td> 7     </td></tr>\n",
       "\t<tr><td>Placebo</td><td>13     </td><td>Female </td><td>10     </td><td>12     </td></tr>\n",
       "\t<tr><td>Placebo</td><td>14     </td><td>Male   </td><td> 5     </td><td> 7     </td></tr>\n",
       "\t<tr><td>Placebo</td><td>14     </td><td>Female </td><td> 4     </td><td> 4     </td></tr>\n",
       "\t<tr><td>Placebo</td><td>15     </td><td>Male   </td><td> 2     </td><td> 3     </td></tr>\n",
       "\t<tr><td>Placebo</td><td>19     </td><td>Male   </td><td> 3     </td><td> 6     </td></tr>\n",
       "</tbody>\n",
       "</table>\n"
      ],
      "text/latex": [
       "\\begin{tabular}{r|lllll}\n",
       " trt & age & gender & y & n\\\\\n",
       "\\hline\n",
       "\t Placebo & 13      & Male    &  4      &  7     \\\\\n",
       "\t Placebo & 13      & Female  & 10      & 12     \\\\\n",
       "\t Placebo & 14      & Male    &  5      &  7     \\\\\n",
       "\t Placebo & 14      & Female  &  4      &  4     \\\\\n",
       "\t Placebo & 15      & Male    &  2      &  3     \\\\\n",
       "\t Placebo & 19      & Male    &  3      &  6     \\\\\n",
       "\\end{tabular}\n"
      ],
      "text/markdown": [
       "\n",
       "trt | age | gender | y | n | \n",
       "|---|---|---|---|---|---|\n",
       "| Placebo | 13      | Male    |  4      |  7      | \n",
       "| Placebo | 13      | Female  | 10      | 12      | \n",
       "| Placebo | 14      | Male    |  5      |  7      | \n",
       "| Placebo | 14      | Female  |  4      |  4      | \n",
       "| Placebo | 15      | Male    |  2      |  3      | \n",
       "| Placebo | 19      | Male    |  3      |  6      | \n",
       "\n",
       "\n"
      ],
      "text/plain": [
       "  trt     age gender y  n \n",
       "1 Placebo 13  Male    4  7\n",
       "2 Placebo 13  Female 10 12\n",
       "3 Placebo 14  Male    5  7\n",
       "4 Placebo 14  Female  4  4\n",
       "5 Placebo 15  Male    2  3\n",
       "6 Placebo 19  Male    3  6"
      ]
     },
     "metadata": {},
     "output_type": "display_data"
    }
   ],
   "source": [
    "library(lmtest)\n",
    "suppressWarnings(suppressMessages(library(ResourceSelection)))\n",
    "source(\"./codesnippet_r/final_proj_config.R\")\n",
    "source(\"./codesnippet_r/fun_walds.R\")\n",
    "source(\"./codesnippet_r/fun_hosmerlem.R\")\n",
    "source(\"./codesnippet_r/fun_concordance.R\")\n",
    "head(dat_v1)"
   ]
  },
  {
   "cell_type": "code",
   "execution_count": 12,
   "metadata": {},
   "outputs": [
    {
     "data": {
      "text/plain": [
       "\n",
       "Call:\n",
       "glm(formula = cbind(y, n - y) ~ age + gender, family = binomial(link = \"logit\"), \n",
       "    data = dat, x = T)\n",
       "\n",
       "Deviance Residuals: \n",
       "    Min       1Q   Median       3Q      Max  \n",
       "-2.3225  -0.9379   0.3233   0.9459   2.0805  \n",
       "\n",
       "Coefficients:\n",
       "             Estimate Std. Error z value Pr(>|z|)    \n",
       "(Intercept)   0.27923    0.41526   0.672 0.501313    \n",
       "age           0.05104    0.01498   3.408 0.000654 ***\n",
       "genderFemale  0.80035    0.33042   2.422 0.015425 *  \n",
       "---\n",
       "Signif. codes:  0 ‘***’ 0.001 ‘**’ 0.01 ‘*’ 0.05 ‘.’ 0.1 ‘ ’ 1\n",
       "\n",
       "(Dispersion parameter for binomial family taken to be 1)\n",
       "\n",
       "    Null deviance: 98.638  on 58  degrees of freedom\n",
       "Residual deviance: 76.930  on 56  degrees of freedom\n",
       "AIC: 152.53\n",
       "\n",
       "Number of Fisher Scoring iterations: 5\n"
      ]
     },
     "metadata": {},
     "output_type": "display_data"
    }
   ],
   "source": [
    "### initialization\n",
    "dat = dat_v1\n",
    "\n",
    "### fit the model\n",
    "fit_logit = glm(cbind(y, n-y) ~ age + gender, data = dat, family = binomial(link = \"logit\"), x = T)\n",
    "summary(fit_logit)"
   ]
  },
  {
   "cell_type": "code",
   "execution_count": 13,
   "metadata": {},
   "outputs": [
    {
     "data": {
      "text/html": [
       "<table>\n",
       "<thead><tr><th scope=col>trt</th><th scope=col>gender</th><th scope=col>age</th><th scope=col>y</th><th scope=col>n</th></tr></thead>\n",
       "<tbody>\n",
       "\t<tr><td>0 </td><td>0 </td><td>28</td><td>1 </td><td>1 </td></tr>\n",
       "\t<tr><td>0 </td><td>1 </td><td>19</td><td>1 </td><td>1 </td></tr>\n",
       "\t<tr><td>0 </td><td>0 </td><td>15</td><td>0 </td><td>1 </td></tr>\n",
       "\t<tr><td>0 </td><td>0 </td><td>63</td><td>1 </td><td>1 </td></tr>\n",
       "\t<tr><td>0 </td><td>1 </td><td>35</td><td>1 </td><td>1 </td></tr>\n",
       "\t<tr><td>0 </td><td>1 </td><td>13</td><td>1 </td><td>1 </td></tr>\n",
       "</tbody>\n",
       "</table>\n"
      ],
      "text/latex": [
       "\\begin{tabular}{r|lllll}\n",
       " trt & gender & age & y & n\\\\\n",
       "\\hline\n",
       "\t 0  & 0  & 28 & 1  & 1 \\\\\n",
       "\t 0  & 1  & 19 & 1  & 1 \\\\\n",
       "\t 0  & 0  & 15 & 0  & 1 \\\\\n",
       "\t 0  & 0  & 63 & 1  & 1 \\\\\n",
       "\t 0  & 1  & 35 & 1  & 1 \\\\\n",
       "\t 0  & 1  & 13 & 1  & 1 \\\\\n",
       "\\end{tabular}\n"
      ],
      "text/markdown": [
       "\n",
       "trt | gender | age | y | n | \n",
       "|---|---|---|---|---|---|\n",
       "| 0  | 0  | 28 | 1  | 1  | \n",
       "| 0  | 1  | 19 | 1  | 1  | \n",
       "| 0  | 0  | 15 | 0  | 1  | \n",
       "| 0  | 0  | 63 | 1  | 1  | \n",
       "| 0  | 1  | 35 | 1  | 1  | \n",
       "| 0  | 1  | 13 | 1  | 1  | \n",
       "\n",
       "\n"
      ],
      "text/plain": [
       "  trt gender age y n\n",
       "1 0   0      28  1 1\n",
       "2 0   1      19  1 1\n",
       "3 0   0      15  0 1\n",
       "4 0   0      63  1 1\n",
       "5 0   1      35  1 1\n",
       "6 0   1      13  1 1"
      ]
     },
     "metadata": {},
     "output_type": "display_data"
    },
    {
     "data": {
      "text/plain": [
       "\n",
       "Call:\n",
       "glm(formula = cbind(y, n - y) ~ age + gender, family = binomial(link = \"logit\"), \n",
       "    data = dat, x = T)\n",
       "\n",
       "Deviance Residuals: \n",
       "    Min       1Q   Median       3Q      Max  \n",
       "-2.3225  -0.9379   0.3233   0.9459   2.0805  \n",
       "\n",
       "Coefficients:\n",
       "             Estimate Std. Error z value Pr(>|z|)    \n",
       "(Intercept)   0.27923    0.41526   0.672 0.501313    \n",
       "age           0.05104    0.01498   3.408 0.000654 ***\n",
       "genderFemale  0.80035    0.33042   2.422 0.015425 *  \n",
       "---\n",
       "Signif. codes:  0 ‘***’ 0.001 ‘**’ 0.01 ‘*’ 0.05 ‘.’ 0.1 ‘ ’ 1\n",
       "\n",
       "(Dispersion parameter for binomial family taken to be 1)\n",
       "\n",
       "    Null deviance: 98.638  on 58  degrees of freedom\n",
       "Residual deviance: 76.930  on 56  degrees of freedom\n",
       "AIC: 152.53\n",
       "\n",
       "Number of Fisher Scoring iterations: 5\n"
      ]
     },
     "metadata": {},
     "output_type": "display_data"
    }
   ],
   "source": [
    "### n = 1 situation\n",
    "df = dat_raw %>% select(trt, gender, age, visit1) %>% rename(y = visit1) %>% mutate(n = 1)\n",
    "dat_v1_n1 = df\n",
    "head(dat_v1_n1)\n",
    "\n",
    "### fit the model\n",
    "fit_logit_n1 = glm(cbind(y, n-y) ~ age + gender, data = dat_v1_n1, family = binomial(link = \"logit\"), x = T)\n",
    "summary(fit_logit)"
   ]
  },
  {
   "cell_type": "code",
   "execution_count": 14,
   "metadata": {},
   "outputs": [
    {
     "data": {
      "text/html": [
       "<dl>\n",
       "\t<dt>$Concordance</dt>\n",
       "\t\t<dd>0.665685954015473</dd>\n",
       "\t<dt>$Discordance</dt>\n",
       "\t\t<dd>0.309215066652138</dd>\n",
       "\t<dt>$Tied</dt>\n",
       "\t\t<dd>0.0250989793323889</dd>\n",
       "\t<dt>$Pairs</dt>\n",
       "\t\t<dd>27531</dd>\n",
       "\t<dt>$`Somers D`</dt>\n",
       "\t\t<dd>0.356470887363336</dd>\n",
       "\t<dt>$gamma</dt>\n",
       "\t\t<dd>0.365648286140089</dd>\n",
       "\t<dt>$`tau-a`</dt>\n",
       "\t\t<dd>0.0786693386773547</dd>\n",
       "\t<dt>$c</dt>\n",
       "\t\t<dd>0.678235443681668</dd>\n",
       "</dl>\n"
      ],
      "text/latex": [
       "\\begin{description}\n",
       "\\item[\\$Concordance] 0.665685954015473\n",
       "\\item[\\$Discordance] 0.309215066652138\n",
       "\\item[\\$Tied] 0.0250989793323889\n",
       "\\item[\\$Pairs] 27531\n",
       "\\item[\\$`Somers D`] 0.356470887363336\n",
       "\\item[\\$gamma] 0.365648286140089\n",
       "\\item[\\$`tau-a`] 0.0786693386773547\n",
       "\\item[\\$c] 0.678235443681668\n",
       "\\end{description}\n"
      ],
      "text/markdown": [
       "$Concordance\n",
       ":   0.665685954015473\n",
       "$Discordance\n",
       ":   0.309215066652138\n",
       "$Tied\n",
       ":   0.0250989793323889\n",
       "$Pairs\n",
       ":   27531\n",
       "$`Somers D`\n",
       ":   0.356470887363336\n",
       "$gamma\n",
       ":   0.365648286140089\n",
       "$`tau-a`\n",
       ":   0.0786693386773547\n",
       "$c\n",
       ":   0.678235443681668\n",
       "\n",
       "\n"
      ],
      "text/plain": [
       "$Concordance\n",
       "[1] 0.665686\n",
       "\n",
       "$Discordance\n",
       "[1] 0.3092151\n",
       "\n",
       "$Tied\n",
       "[1] 0.02509898\n",
       "\n",
       "$Pairs\n",
       "[1] 27531\n",
       "\n",
       "$`Somers D`\n",
       "[1] 0.3564709\n",
       "\n",
       "$gamma\n",
       "[1] 0.3656483\n",
       "\n",
       "$`tau-a`\n",
       "[1] 0.07866934\n",
       "\n",
       "$c\n",
       "Area under the curve: 0.6782\n"
      ]
     },
     "metadata": {},
     "output_type": "display_data"
    }
   ],
   "source": [
    "concordance(fit_logit_n1)"
   ]
  },
  {
   "cell_type": "code",
   "execution_count": 15,
   "metadata": {},
   "outputs": [
    {
     "data": {
      "image/png": "[encoded data removed]",
      "text/plain": [
       "plot without title"
      ]
     },
     "metadata": {},
     "output_type": "display_data"
    }
   ],
   "source": [
    "df = data.frame(cbind(fit_logit_n1$y, fit_logit_n1$fitted.values))\n",
    "colnames(df) = c('obs','fitted')\n",
    "rocobj = roc(df$obs, df$fitted)\n",
    "\n",
    "options(repr.options)\n",
    "plot(rocobj, \n",
    "     print.auc=TRUE, auc.polygon=TRUE, \n",
    "     #grid=c(0.1, 0.2), grid.col=c(\"grey90\", \"grey90\"), \n",
    "     max.auc.polygon=TRUE,\n",
    "     auc.polygon.col=\"steelblue\",\n",
    "     print.thres=FALSE)"
   ]
  },
  {
   "cell_type": "code",
   "execution_count": null,
   "metadata": {},
   "outputs": [],
   "source": []
  }
 ],
 "metadata": {
  "kernelspec": {
   "display_name": "R",
   "language": "R",
   "name": "ir"
  },
  "language_info": {
   "codemirror_mode": "r",
   "file_extension": ".r",
   "mimetype": "text/x-r-source",
   "name": "R",
   "pygments_lexer": "r",
   "version": "3.5.1"
  }
 },
 "nbformat": 4,
 "nbformat_minor": 2
}
