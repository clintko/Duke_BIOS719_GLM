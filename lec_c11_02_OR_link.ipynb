{
 "cells": [
  {
   "cell_type": "markdown",
   "metadata": {},
   "source": [
    "# Set environment"
   ]
  },
  {
   "cell_type": "code",
   "execution_count": 2,
   "metadata": {},
   "outputs": [
    {
     "name": "stderr",
     "output_type": "stream",
     "text": [
      "── Attaching packages ─────────────────────────────────────── tidyverse 1.2.1 ──\n",
      "✔ ggplot2 3.0.0     ✔ purrr   0.2.5\n",
      "✔ tibble  1.4.2     ✔ dplyr   0.7.6\n",
      "✔ tidyr   0.8.1     ✔ stringr 1.3.1\n",
      "✔ readr   1.1.1     ✔ forcats 0.3.0\n",
      "── Conflicts ────────────────────────────────────────── tidyverse_conflicts() ──\n",
      "✖ dplyr::filter() masks stats::filter()\n",
      "✖ dplyr::lag()    masks stats::lag()\n"
     ]
    }
   ],
   "source": [
    "library(tidyverse)\n",
    "library(IRdisplay)"
   ]
  },
  {
   "cell_type": "code",
   "execution_count": 3,
   "metadata": {},
   "outputs": [
    {
     "data": {
      "text/html": [
       "<table>\n",
       "<thead><tr><th scope=col>dose</th><th scope=col>n</th><th scope=col>y</th><th scope=col>n_y</th></tr></thead>\n",
       "<tbody>\n",
       "\t<tr><td>1.6907</td><td>59    </td><td> 6    </td><td>53    </td></tr>\n",
       "\t<tr><td>1.7242</td><td>60    </td><td>13    </td><td>47    </td></tr>\n",
       "\t<tr><td>1.7552</td><td>62    </td><td>18    </td><td>44    </td></tr>\n",
       "\t<tr><td>1.7842</td><td>56    </td><td>28    </td><td>28    </td></tr>\n",
       "\t<tr><td>1.8113</td><td>63    </td><td>52    </td><td>11    </td></tr>\n",
       "\t<tr><td>1.8369</td><td>59    </td><td>53    </td><td> 6    </td></tr>\n",
       "\t<tr><td>1.8610</td><td>62    </td><td>61    </td><td> 1    </td></tr>\n",
       "\t<tr><td>1.8839</td><td>60    </td><td>60    </td><td> 0    </td></tr>\n",
       "</tbody>\n",
       "</table>\n"
      ],
      "text/latex": [
       "\\begin{tabular}{r|llll}\n",
       " dose & n & y & n\\_y\\\\\n",
       "\\hline\n",
       "\t 1.6907 & 59     &  6     & 53    \\\\\n",
       "\t 1.7242 & 60     & 13     & 47    \\\\\n",
       "\t 1.7552 & 62     & 18     & 44    \\\\\n",
       "\t 1.7842 & 56     & 28     & 28    \\\\\n",
       "\t 1.8113 & 63     & 52     & 11    \\\\\n",
       "\t 1.8369 & 59     & 53     &  6    \\\\\n",
       "\t 1.8610 & 62     & 61     &  1    \\\\\n",
       "\t 1.8839 & 60     & 60     &  0    \\\\\n",
       "\\end{tabular}\n"
      ],
      "text/markdown": [
       "\n",
       "dose | n | y | n_y | \n",
       "|---|---|---|---|---|---|---|---|\n",
       "| 1.6907 | 59     |  6     | 53     | \n",
       "| 1.7242 | 60     | 13     | 47     | \n",
       "| 1.7552 | 62     | 18     | 44     | \n",
       "| 1.7842 | 56     | 28     | 28     | \n",
       "| 1.8113 | 63     | 52     | 11     | \n",
       "| 1.8369 | 59     | 53     |  6     | \n",
       "| 1.8610 | 62     | 61     |  1     | \n",
       "| 1.8839 | 60     | 60     |  0     | \n",
       "\n",
       "\n"
      ],
      "text/plain": [
       "  dose   n  y  n_y\n",
       "1 1.6907 59  6 53 \n",
       "2 1.7242 60 13 47 \n",
       "3 1.7552 62 18 44 \n",
       "4 1.7842 56 28 28 \n",
       "5 1.8113 63 52 11 \n",
       "6 1.8369 59 53  6 \n",
       "7 1.8610 62 61  1 \n",
       "8 1.8839 60 60  0 "
      ]
     },
     "metadata": {},
     "output_type": "display_data"
    }
   ],
   "source": [
    "source(\"./data/beetle.R\")\n",
    "beetle"
   ]
  },
  {
   "cell_type": "code",
   "execution_count": 4,
   "metadata": {},
   "outputs": [],
   "source": [
    "fit_logit   = glm(cbind(y, n-y) ~ dose, data = beetle, binomial(link = \"logit\"))\n",
    "fit_cloglog = glm(cbind(y, n-y) ~ dose, data = beetle, binomial(link = \"cloglog\"))"
   ]
  },
  {
   "cell_type": "code",
   "execution_count": 5,
   "metadata": {},
   "outputs": [
    {
     "data": {
      "text/html": [
       "<dl class=dl-horizontal>\n",
       "\t<dt>(Intercept)</dt>\n",
       "\t\t<dd>-60.7174545613745</dd>\n",
       "\t<dt>dose</dt>\n",
       "\t\t<dd>34.2703257339996</dd>\n",
       "</dl>\n"
      ],
      "text/latex": [
       "\\begin{description*}\n",
       "\\item[(Intercept)] -60.7174545613745\n",
       "\\item[dose] 34.2703257339996\n",
       "\\end{description*}\n"
      ],
      "text/markdown": [
       "(Intercept)\n",
       ":   -60.7174545613745dose\n",
       ":   34.2703257339996\n",
       "\n"
      ],
      "text/plain": [
       "(Intercept)        dose \n",
       "  -60.71745    34.27033 "
      ]
     },
     "metadata": {},
     "output_type": "display_data"
    }
   ],
   "source": [
    "fit_logit$coef"
   ]
  },
  {
   "cell_type": "code",
   "execution_count": 6,
   "metadata": {},
   "outputs": [
    {
     "data": {
      "text/html": [
       "<dl class=dl-horizontal>\n",
       "\t<dt>(Intercept)</dt>\n",
       "\t\t<dd>-39.5723092142106</dd>\n",
       "\t<dt>dose</dt>\n",
       "\t\t<dd>22.0411690452657</dd>\n",
       "</dl>\n"
      ],
      "text/latex": [
       "\\begin{description*}\n",
       "\\item[(Intercept)] -39.5723092142106\n",
       "\\item[dose] 22.0411690452657\n",
       "\\end{description*}\n"
      ],
      "text/markdown": [
       "(Intercept)\n",
       ":   -39.5723092142106dose\n",
       ":   22.0411690452657\n",
       "\n"
      ],
      "text/plain": [
       "(Intercept)        dose \n",
       "  -39.57231    22.04117 "
      ]
     },
     "metadata": {},
     "output_type": "display_data"
    }
   ],
   "source": [
    "fit_cloglog$coef"
   ]
  },
  {
   "cell_type": "markdown",
   "metadata": {},
   "source": [
    "- pattern 1 dose = 1.8\n",
    "- pattern 2 dose = 1.81"
   ]
  },
  {
   "cell_type": "code",
   "execution_count": 7,
   "metadata": {},
   "outputs": [],
   "source": [
    "pattern1 = c(1, 1.80)\n",
    "pattern2 = c(1, 1.81)"
   ]
  },
  {
   "cell_type": "markdown",
   "metadata": {},
   "source": [
    "# link: logit\n",
    "\n",
    "$g(p) = logit(p) = log(\\frac{p}{1-p}) = log(odds)$\n",
    "\n",
    "OR_<sub>pattern 2 vs pattern 1</sub>\n",
    "\n",
    "$= \\frac{\n",
    "    odds (pattern 2)\n",
    "}{\n",
    "    odds (pattern 1)\n",
    "}$\n",
    "\n",
    "$= \\frac{\n",
    "    exp \\big( \\beta_1 + \\beta_2 * 1.81 \\big)\n",
    "}{\n",
    "    exp \\big( \\beta_1 + \\beta_2 * 1.80 \\big)\n",
    "}$\n",
    "\n",
    "$= exp \\big( \\beta_2 * 0.01 \\big)$"
   ]
  },
  {
   "cell_type": "markdown",
   "metadata": {},
   "source": [
    "$$\\eta = \\beta_1 + \\beta_2 * x$$"
   ]
  },
  {
   "cell_type": "code",
   "execution_count": 8,
   "metadata": {},
   "outputs": [
    {
     "data": {
      "text/html": [
       "0.969131759824876"
      ],
      "text/latex": [
       "0.969131759824876"
      ],
      "text/markdown": [
       "0.969131759824876"
      ],
      "text/plain": [
       "[1] 0.9691318"
      ]
     },
     "metadata": {},
     "output_type": "display_data"
    }
   ],
   "source": [
    "eta1 = pattern1 %*% fit_logit$coef %>% as.vector\n",
    "display(eta1)"
   ]
  },
  {
   "cell_type": "code",
   "execution_count": 9,
   "metadata": {},
   "outputs": [
    {
     "data": {
      "text/html": [
       "1.31183501716487"
      ],
      "text/latex": [
       "1.31183501716487"
      ],
      "text/markdown": [
       "1.31183501716487"
      ],
      "text/plain": [
       "[1] 1.311835"
      ]
     },
     "metadata": {},
     "output_type": "display_data"
    }
   ],
   "source": [
    "eta2 = pattern2 %*% fit_logit$coef %>% as.vector\n",
    "display(eta2)"
   ]
  },
  {
   "cell_type": "markdown",
   "metadata": {},
   "source": [
    "$$g(p) = logit(p) = log(\\frac{p}{1-p})$$\n",
    "\n",
    "$$p = g^{-1}(\\eta) = \\frac{1}{1 + exp(\\eta)}$$"
   ]
  },
  {
   "cell_type": "code",
   "execution_count": 10,
   "metadata": {},
   "outputs": [],
   "source": [
    "g_inv = function(eta){\n",
    "    1 / (1 + exp(-eta))\n",
    "} # end func"
   ]
  },
  {
   "cell_type": "code",
   "execution_count": 11,
   "metadata": {},
   "outputs": [
    {
     "data": {
      "text/html": [
       "0.724946405284653"
      ],
      "text/latex": [
       "0.724946405284653"
      ],
      "text/markdown": [
       "0.724946405284653"
      ],
      "text/plain": [
       "[1] 0.7249464"
      ]
     },
     "metadata": {},
     "output_type": "display_data"
    }
   ],
   "source": [
    "p1 = g_inv(eta1)\n",
    "display(p1)"
   ]
  },
  {
   "cell_type": "code",
   "execution_count": 12,
   "metadata": {},
   "outputs": [
    {
     "data": {
      "text/html": [
       "0.787820058644169"
      ],
      "text/latex": [
       "0.787820058644169"
      ],
      "text/markdown": [
       "0.787820058644169"
      ],
      "text/plain": [
       "[1] 0.7878201"
      ]
     },
     "metadata": {},
     "output_type": "display_data"
    }
   ],
   "source": [
    "p2 = g_inv(eta2)\n",
    "display(p2)"
   ]
  },
  {
   "cell_type": "markdown",
   "metadata": {},
   "source": [
    "$$odds = \\frac{p}{1-p}$$"
   ]
  },
  {
   "cell_type": "code",
   "execution_count": 13,
   "metadata": {},
   "outputs": [
    {
     "data": {
      "text/html": [
       "2.63565508400244"
      ],
      "text/latex": [
       "2.63565508400244"
      ],
      "text/markdown": [
       "2.63565508400244"
      ],
      "text/plain": [
       "[1] 2.635655"
      ]
     },
     "metadata": {},
     "output_type": "display_data"
    }
   ],
   "source": [
    "odds1 = p1 / (1 - p1)\n",
    "display(odds1)"
   ]
  },
  {
   "cell_type": "code",
   "execution_count": 14,
   "metadata": {},
   "outputs": [
    {
     "data": {
      "text/html": [
       "3.71298084828375"
      ],
      "text/latex": [
       "3.71298084828375"
      ],
      "text/markdown": [
       "3.71298084828375"
      ],
      "text/plain": [
       "[1] 3.712981"
      ]
     },
     "metadata": {},
     "output_type": "display_data"
    }
   ],
   "source": [
    "odds2 = p2 / (1 - p2)\n",
    "display(odds2)"
   ]
  },
  {
   "cell_type": "markdown",
   "metadata": {},
   "source": [
    "$$OR_{\\text{pattern 2 vs pattern 1}} = \\frac{\n",
    "    odds (\\text{pattern 2})\n",
    "}{\n",
    "    odds (\\text{pattern 1})\n",
    "}$$"
   ]
  },
  {
   "cell_type": "code",
   "execution_count": 15,
   "metadata": {},
   "outputs": [
    {
     "data": {
      "text/html": [
       "1.40875066347654"
      ],
      "text/latex": [
       "1.40875066347654"
      ],
      "text/markdown": [
       "1.40875066347654"
      ],
      "text/plain": [
       "[1] 1.408751"
      ]
     },
     "metadata": {},
     "output_type": "display_data"
    }
   ],
   "source": [
    "odds2 / odds1"
   ]
  },
  {
   "cell_type": "markdown",
   "metadata": {},
   "source": [
    "since the regression use logit link, we can calculate the odds ratio from $\\beta$ directly"
   ]
  },
  {
   "cell_type": "code",
   "execution_count": 16,
   "metadata": {},
   "outputs": [
    {
     "data": {
      "text/html": [
       "<strong>dose:</strong> 1.40875066347653"
      ],
      "text/latex": [
       "\\textbf{dose:} 1.40875066347653"
      ],
      "text/markdown": [
       "**dose:** 1.40875066347653"
      ],
      "text/plain": [
       "    dose \n",
       "1.408751 "
      ]
     },
     "metadata": {},
     "output_type": "display_data"
    }
   ],
   "source": [
    "exp(fit_logit$coefficients[2] * (0.01))"
   ]
  },
  {
   "cell_type": "markdown",
   "metadata": {},
   "source": [
    "# link: cloglog"
   ]
  },
  {
   "cell_type": "markdown",
   "metadata": {},
   "source": [
    "$$\\eta = \\beta_1 + \\beta_2 * x$$"
   ]
  },
  {
   "cell_type": "code",
   "execution_count": 17,
   "metadata": {},
   "outputs": [
    {
     "data": {
      "text/html": [
       "0.101795067267666"
      ],
      "text/latex": [
       "0.101795067267666"
      ],
      "text/markdown": [
       "0.101795067267666"
      ],
      "text/plain": [
       "[1] 0.1017951"
      ]
     },
     "metadata": {},
     "output_type": "display_data"
    }
   ],
   "source": [
    "eta1 = pattern1 %*% fit_cloglog$coef %>% as.vector\n",
    "display(eta1)"
   ]
  },
  {
   "cell_type": "code",
   "execution_count": 18,
   "metadata": {},
   "outputs": [
    {
     "data": {
      "text/html": [
       "0.322206757720323"
      ],
      "text/latex": [
       "0.322206757720323"
      ],
      "text/markdown": [
       "0.322206757720323"
      ],
      "text/plain": [
       "[1] 0.3222068"
      ]
     },
     "metadata": {},
     "output_type": "display_data"
    }
   ],
   "source": [
    "eta2 = pattern2 %*% fit_cloglog$coef %>% as.vector\n",
    "display(eta2)"
   ]
  },
  {
   "cell_type": "markdown",
   "metadata": {},
   "source": [
    "$$g(p) = log[-log(1-p)] = \\eta$$\n",
    "\n",
    "$$p = g^{-1}(\\eta) = 1 - exp(-exp(\\eta))$$\n"
   ]
  },
  {
   "cell_type": "code",
   "execution_count": 19,
   "metadata": {},
   "outputs": [],
   "source": [
    "g_inv = function(eta){\n",
    "    1 - exp(-exp(eta))\n",
    "} # end func"
   ]
  },
  {
   "cell_type": "code",
   "execution_count": 20,
   "metadata": {},
   "outputs": [
    {
     "data": {
      "text/html": [
       "0.669502622893438"
      ],
      "text/latex": [
       "0.669502622893438"
      ],
      "text/markdown": [
       "0.669502622893438"
      ],
      "text/plain": [
       "[1] 0.6695026"
      ]
     },
     "metadata": {},
     "output_type": "display_data"
    }
   ],
   "source": [
    "p1 = g_inv(eta1)\n",
    "display(p1)"
   ]
  },
  {
   "cell_type": "code",
   "execution_count": 21,
   "metadata": {},
   "outputs": [
    {
     "data": {
      "text/html": [
       "0.748464238644934"
      ],
      "text/latex": [
       "0.748464238644934"
      ],
      "text/markdown": [
       "0.748464238644934"
      ],
      "text/plain": [
       "[1] 0.7484642"
      ]
     },
     "metadata": {},
     "output_type": "display_data"
    }
   ],
   "source": [
    "p2 = g_inv(eta2)\n",
    "display(p2)"
   ]
  },
  {
   "cell_type": "markdown",
   "metadata": {},
   "source": [
    "$$odds = \\frac{p}{1-p}$$"
   ]
  },
  {
   "cell_type": "code",
   "execution_count": 22,
   "metadata": {},
   "outputs": [
    {
     "data": {
      "text/html": [
       "2.02574262087886"
      ],
      "text/latex": [
       "2.02574262087886"
      ],
      "text/markdown": [
       "2.02574262087886"
      ],
      "text/plain": [
       "[1] 2.025743"
      ]
     },
     "metadata": {},
     "output_type": "display_data"
    }
   ],
   "source": [
    "odds1 = p1 / (1 - p1)\n",
    "display(odds1)"
   ]
  },
  {
   "cell_type": "code",
   "execution_count": 23,
   "metadata": {},
   "outputs": [
    {
     "data": {
      "text/html": [
       "2.97557784472805"
      ],
      "text/latex": [
       "2.97557784472805"
      ],
      "text/markdown": [
       "2.97557784472805"
      ],
      "text/plain": [
       "[1] 2.975578"
      ]
     },
     "metadata": {},
     "output_type": "display_data"
    }
   ],
   "source": [
    "odds2 = p2 / (1 - p2)\n",
    "display(odds2)"
   ]
  },
  {
   "cell_type": "markdown",
   "metadata": {},
   "source": [
    "$$OR_{\\text{pattern 2 vs pattern 1}} = \\frac{\n",
    "    odds (\\text{pattern 2})\n",
    "}{\n",
    "    odds (\\text{pattern 1})\n",
    "}$$"
   ]
  },
  {
   "cell_type": "code",
   "execution_count": 24,
   "metadata": {},
   "outputs": [
    {
     "data": {
      "text/html": [
       "1.46888247996535"
      ],
      "text/latex": [
       "1.46888247996535"
      ],
      "text/markdown": [
       "1.46888247996535"
      ],
      "text/plain": [
       "[1] 1.468882"
      ]
     },
     "metadata": {},
     "output_type": "display_data"
    }
   ],
   "source": [
    "odds2 / odds1"
   ]
  },
  {
   "cell_type": "markdown",
   "metadata": {},
   "source": [
    "# Compare link logit and cloglog"
   ]
  },
  {
   "cell_type": "code",
   "execution_count": 25,
   "metadata": {},
   "outputs": [],
   "source": [
    "fit_logit   = glm(cbind(y, n-y) ~ dose, data = beetle, binomial(link = \"logit\"))\n",
    "fit_cloglog = glm(cbind(y, n-y) ~ dose, data = beetle, binomial(link = \"cloglog\"))"
   ]
  },
  {
   "cell_type": "code",
   "execution_count": 26,
   "metadata": {},
   "outputs": [],
   "source": [
    "g_inv_logit = function(eta){\n",
    "    1 / (1 + exp(-eta))\n",
    "} # end func\n",
    "\n",
    "g_inv_cloglog = function(eta){\n",
    "    1 - exp(-exp(eta))\n",
    "} # end func"
   ]
  },
  {
   "cell_type": "code",
   "execution_count": 27,
   "metadata": {},
   "outputs": [],
   "source": [
    "get_odds = function(p){\n",
    "    p / (1-p)\n",
    "}"
   ]
  },
  {
   "cell_type": "code",
   "execution_count": 28,
   "metadata": {},
   "outputs": [
    {
     "data": {
      "text/html": [
       "<table>\n",
       "<thead><tr><th></th><th scope=col>logit</th><th scope=col>cloglog</th></tr></thead>\n",
       "<tbody>\n",
       "\t<tr><th scope=row>1.81 vs 1.80</th><td>NA</td><td>NA</td></tr>\n",
       "\t<tr><th scope=row>1.71 vs 1.70</th><td>NA</td><td>NA</td></tr>\n",
       "</tbody>\n",
       "</table>\n"
      ],
      "text/latex": [
       "\\begin{tabular}{r|ll}\n",
       "  & logit & cloglog\\\\\n",
       "\\hline\n",
       "\t1.81 vs 1.80 & NA & NA\\\\\n",
       "\t1.71 vs 1.70 & NA & NA\\\\\n",
       "\\end{tabular}\n"
      ],
      "text/markdown": [
       "\n",
       "| <!--/--> | logit | cloglog | \n",
       "|---|---|\n",
       "| 1.81 vs 1.80 | NA | NA | \n",
       "| 1.71 vs 1.70 | NA | NA | \n",
       "\n",
       "\n"
      ],
      "text/plain": [
       "             logit cloglog\n",
       "1.81 vs 1.80 NA    NA     \n",
       "1.71 vs 1.70 NA    NA     "
      ]
     },
     "metadata": {},
     "output_type": "display_data"
    }
   ],
   "source": [
    "mat = matrix(c(NA, NA, NA, NA), 2, 2)\n",
    "rownames(mat) = c(\"1.81 vs 1.80\", \"1.71 vs 1.70\")\n",
    "colnames(mat) = c(\"logit\", \"cloglog\")\n",
    "mat"
   ]
  },
  {
   "cell_type": "code",
   "execution_count": 29,
   "metadata": {},
   "outputs": [
    {
     "data": {
      "text/html": [
       "<table>\n",
       "<thead><tr><th></th><th scope=col>logit</th><th scope=col>cloglog</th></tr></thead>\n",
       "<tbody>\n",
       "\t<tr><th scope=row>1.81 vs 1.80</th><td>1.408751</td><td>1.468882</td></tr>\n",
       "\t<tr><th scope=row>1.71 vs 1.70</th><td>1.408751</td><td>1.265946</td></tr>\n",
       "</tbody>\n",
       "</table>\n"
      ],
      "text/latex": [
       "\\begin{tabular}{r|ll}\n",
       "  & logit & cloglog\\\\\n",
       "\\hline\n",
       "\t1.81 vs 1.80 & 1.408751 & 1.468882\\\\\n",
       "\t1.71 vs 1.70 & 1.408751 & 1.265946\\\\\n",
       "\\end{tabular}\n"
      ],
      "text/markdown": [
       "\n",
       "| <!--/--> | logit | cloglog | \n",
       "|---|---|\n",
       "| 1.81 vs 1.80 | 1.408751 | 1.468882 | \n",
       "| 1.71 vs 1.70 | 1.408751 | 1.265946 | \n",
       "\n",
       "\n"
      ],
      "text/plain": [
       "             logit    cloglog \n",
       "1.81 vs 1.80 1.408751 1.468882\n",
       "1.71 vs 1.70 1.408751 1.265946"
      ]
     },
     "metadata": {},
     "output_type": "display_data"
    }
   ],
   "source": [
    "pattern1 = c(1, 1.80)\n",
    "pattern2 = c(1, 1.81)\n",
    "\n",
    "odds1 = pattern1 %*% fit_logit$coef %>% g_inv_logit %>% get_odds\n",
    "odds2 = pattern2 %*% fit_logit$coef %>% g_inv_logit %>% get_odds\n",
    "mat[\"1.81 vs 1.80\", \"logit\"] = odds2 / odds1\n",
    "\n",
    "odds1 = pattern1 %*% fit_cloglog$coef %>% g_inv_cloglog %>% get_odds\n",
    "odds2 = pattern2 %*% fit_cloglog$coef %>% g_inv_cloglog %>% get_odds\n",
    "mat[\"1.81 vs 1.80\", \"cloglog\"] = odds2 / odds1\n",
    "\n",
    "pattern1 = c(1, 1.70)\n",
    "pattern2 = c(1, 1.71)\n",
    "\n",
    "odds1 = pattern1 %*% fit_logit$coef %>% g_inv_logit %>% get_odds\n",
    "odds2 = pattern2 %*% fit_logit$coef %>% g_inv_logit %>% get_odds\n",
    "mat[\"1.71 vs 1.70\", \"logit\"] = odds2 / odds1\n",
    "\n",
    "odds1 = pattern1 %*% fit_cloglog$coef %>% g_inv_cloglog %>% get_odds\n",
    "odds2 = pattern2 %*% fit_cloglog$coef %>% g_inv_cloglog %>% get_odds\n",
    "mat[\"1.71 vs 1.70\", \"cloglog\"] = odds2 / odds1\n",
    "\n",
    "display(mat)"
   ]
  },
  {
   "cell_type": "markdown",
   "metadata": {},
   "source": [
    "observation:\n",
    "\n",
    "In logit model, the **OR associated with 0.01 unit increase in dose** <font color = \"red\">does not depend</font> on dose\n",
    "\n",
    "In cloglog model, the **OR associated with 0.01 unit increase in dose** <font color = \"red\">depend</font> on dose"
   ]
  },
  {
   "cell_type": "markdown",
   "metadata": {},
   "source": [
    "The question is: <font color = \"red\">what link function to choose?</font> For logit and cloglog related link functions, there is a way to test which link function is better. \n",
    "\n",
    "Before introducing the test, we need to introduce the **general family of link functions**"
   ]
  },
  {
   "cell_type": "markdown",
   "metadata": {},
   "source": [
    "# General family of link functions\n",
    "\n",
    "[Aranda-Ordaz F (1981). \"On two families of transformations to additivity for binary response data\"](https://academic.oup.com/biomet/article-abstract/68/2/357/260360?redirectedFrom=PDF)"
   ]
  },
  {
   "cell_type": "markdown",
   "metadata": {},
   "source": [
    "$$g(p_i; \\alpha) = log \\Big\\{ \n",
    "    \\frac{\n",
    "        (1 - p_i)^{-\\alpha} - 1\n",
    "    }{\n",
    "        \\alpha\n",
    "    }\n",
    "\\Big\\}$$"
   ]
  },
  {
   "cell_type": "markdown",
   "metadata": {},
   "source": [
    "<font color = \"blue\">$\\alpha = 1$</font>\n",
    "\n",
    "$g(p_i; \\alpha) = log \\Big\\{ \n",
    "    \\frac{\n",
    "        (1 - p_i)^{-1} - 1\n",
    "    }{\n",
    "        1\n",
    "    }\n",
    "\\Big\\} = log \\Big\\{ \\frac{p_i}{1 - p_i} \\Big\\}$\n",
    "\n",
    "<font color = \"blue\">$\\alpha \\rightarrow 0$</font>\n",
    "\n",
    "$g(p_i; \\alpha) \\rightarrow log[-log(1-p)]$"
   ]
  },
  {
   "cell_type": "markdown",
   "metadata": {},
   "source": [
    "**1st order approximation of Taylor expansion**\n",
    "\n",
    "Suppose the true $\\alpha$ is $\\alpha_0$"
   ]
  },
  {
   "cell_type": "markdown",
   "metadata": {},
   "source": [
    "$$g(p_i ; \\alpha) \\sim g(p_i ; \\alpha_0) + (\\alpha - \\alpha_0) \\frac{\\partial g(p_i ; \\alpha)}{\\partial \\alpha} \\Big|_{\\alpha_0}$$"
   ]
  },
  {
   "cell_type": "markdown",
   "metadata": {},
   "source": [
    "$$g(p_i ; \\alpha) = \\eta_i \\sim g(p_i ; \\alpha_0) - \\gamma z_i$$ where $$\\gamma = \\alpha_0 - \\alpha ; z_i = \\frac{\\partial g(p_i ; \\alpha)}{\\partial \\alpha} \\Big|_{\\alpha_0}$$"
   ]
  },
  {
   "cell_type": "markdown",
   "metadata": {},
   "source": [
    "After rearrange\n",
    "$$g(p_i ; \\alpha_0) \\sim \\eta_i + \\gamma z_i$$"
   ]
  },
  {
   "cell_type": "markdown",
   "metadata": {},
   "source": [
    "recall that \n",
    "$$z_i = \\frac{\\partial g(p_i ; \\alpha)}{\\partial \\alpha} \\Big|_{\\alpha_0}$$\n",
    "\n",
    "Where we could derive \n",
    "\n",
    "$\\frac{\\partial g(p_i ; \\alpha)}{\\partial \\alpha}$\n",
    "\n",
    "$= \\frac{\\log{(1 - p_i)}}{(1 - p_i)^\\alpha - 1} - \\alpha^{-1}$"
   ]
  },
  {
   "cell_type": "code",
   "execution_count": 30,
   "metadata": {},
   "outputs": [],
   "source": [
    "dG = function(p, alpha){\n",
    "    log(1 - p) / ((1 - p)^alpha - 1) - alpha^{-1}\n",
    "} # end func"
   ]
  },
  {
   "cell_type": "markdown",
   "metadata": {},
   "source": [
    "## original model $\\alpha_0 = 1$"
   ]
  },
  {
   "cell_type": "code",
   "execution_count": 31,
   "metadata": {},
   "outputs": [],
   "source": [
    "fit_logit = glm(cbind(y, n - y) ~ dose, data = beetle, family = binomial(link = \"logit\"))"
   ]
  },
  {
   "cell_type": "markdown",
   "metadata": {},
   "source": [
    "## fit a glm model to test current $\\alpha$"
   ]
  },
  {
   "cell_type": "markdown",
   "metadata": {},
   "source": [
    "calculate $z_i$ using $\\hat{p_i}$ and $\\alpha$"
   ]
  },
  {
   "cell_type": "code",
   "execution_count": 35,
   "metadata": {},
   "outputs": [
    {
     "data": {
      "text/html": [
       "<table>\n",
       "<thead><tr><th scope=col>dose</th><th scope=col>n</th><th scope=col>y</th><th scope=col>n_y</th><th scope=col>z</th></tr></thead>\n",
       "<tbody>\n",
       "\t<tr><td>1.6907    </td><td>59        </td><td> 6        </td><td>53        </td><td>0.03049800</td></tr>\n",
       "\t<tr><td>1.7242    </td><td>60        </td><td>13        </td><td>47        </td><td>0.09225343</td></tr>\n",
       "\t<tr><td>1.7552    </td><td>62        </td><td>18        </td><td>44        </td><td>0.24159057</td></tr>\n",
       "\t<tr><td>1.7842    </td><td>56        </td><td>28        </td><td>28        </td><td>0.53584036</td></tr>\n",
       "\t<tr><td>1.8113    </td><td>63        </td><td>52        </td><td>11        </td><td>0.99401390</td></tr>\n",
       "\t<tr><td>1.8369    </td><td>59        </td><td>53        </td><td> 6        </td><td>1.58567955</td></tr>\n",
       "\t<tr><td>1.8610    </td><td>62        </td><td>61        </td><td> 1        </td><td>2.25112322</td></tr>\n",
       "\t<tr><td>1.8839    </td><td>60        </td><td>60        </td><td> 0        </td><td>2.94830490</td></tr>\n",
       "</tbody>\n",
       "</table>\n"
      ],
      "text/latex": [
       "\\begin{tabular}{r|lllll}\n",
       " dose & n & y & n\\_y & z\\\\\n",
       "\\hline\n",
       "\t 1.6907     & 59         &  6         & 53         & 0.03049800\\\\\n",
       "\t 1.7242     & 60         & 13         & 47         & 0.09225343\\\\\n",
       "\t 1.7552     & 62         & 18         & 44         & 0.24159057\\\\\n",
       "\t 1.7842     & 56         & 28         & 28         & 0.53584036\\\\\n",
       "\t 1.8113     & 63         & 52         & 11         & 0.99401390\\\\\n",
       "\t 1.8369     & 59         & 53         &  6         & 1.58567955\\\\\n",
       "\t 1.8610     & 62         & 61         &  1         & 2.25112322\\\\\n",
       "\t 1.8839     & 60         & 60         &  0         & 2.94830490\\\\\n",
       "\\end{tabular}\n"
      ],
      "text/markdown": [
       "\n",
       "dose | n | y | n_y | z | \n",
       "|---|---|---|---|---|---|---|---|\n",
       "| 1.6907     | 59         |  6         | 53         | 0.03049800 | \n",
       "| 1.7242     | 60         | 13         | 47         | 0.09225343 | \n",
       "| 1.7552     | 62         | 18         | 44         | 0.24159057 | \n",
       "| 1.7842     | 56         | 28         | 28         | 0.53584036 | \n",
       "| 1.8113     | 63         | 52         | 11         | 0.99401390 | \n",
       "| 1.8369     | 59         | 53         |  6         | 1.58567955 | \n",
       "| 1.8610     | 62         | 61         |  1         | 2.25112322 | \n",
       "| 1.8839     | 60         | 60         |  0         | 2.94830490 | \n",
       "\n",
       "\n"
      ],
      "text/plain": [
       "  dose   n  y  n_y z         \n",
       "1 1.6907 59  6 53  0.03049800\n",
       "2 1.7242 60 13 47  0.09225343\n",
       "3 1.7552 62 18 44  0.24159057\n",
       "4 1.7842 56 28 28  0.53584036\n",
       "5 1.8113 63 52 11  0.99401390\n",
       "6 1.8369 59 53  6  1.58567955\n",
       "7 1.8610 62 61  1  2.25112322\n",
       "8 1.8839 60 60  0  2.94830490"
      ]
     },
     "metadata": {},
     "output_type": "display_data"
    }
   ],
   "source": [
    "tmp   = beetle\n",
    "tmp$z = dG(fit_logit$fitted.values, 1)\n",
    "display(tmp)"
   ]
  },
  {
   "cell_type": "markdown",
   "metadata": {},
   "source": [
    "fit into regression model to get $\\gamma$\n",
    "\n",
    "$g(p_i ; \\alpha_0) \\sim \\eta_i + \\gamma z_i$"
   ]
  },
  {
   "cell_type": "code",
   "execution_count": 36,
   "metadata": {},
   "outputs": [
    {
     "data": {
      "text/plain": [
       "\n",
       "Call:  glm(formula = cbind(y, n - y) ~ dose + z, family = binomial(link = \"logit\"), \n",
       "    data = tmp)\n",
       "\n",
       "Coefficients:\n",
       "(Intercept)         dose            z  \n",
       "    -25.956       14.105        1.664  \n",
       "\n",
       "Degrees of Freedom: 7 Total (i.e. Null);  5 Residual\n",
       "Null Deviance:\t    284.2 \n",
       "Residual Deviance: 2.953 \tAIC: 35.15"
      ]
     },
     "metadata": {},
     "output_type": "display_data"
    }
   ],
   "source": [
    "fit_link = glm(cbind(y, n - y) ~ dose + z, data = tmp, family = binomial(link = \"logit\"))\n",
    "fit_link"
   ]
  },
  {
   "cell_type": "code",
   "execution_count": 42,
   "metadata": {},
   "outputs": [
    {
     "data": {
      "text/html": [
       "<strong>z:</strong> 1.66377486139612"
      ],
      "text/latex": [
       "\\textbf{z:} 1.66377486139612"
      ],
      "text/markdown": [
       "**z:** 1.66377486139612"
      ],
      "text/plain": [
       "       z \n",
       "1.663775 "
      ]
     },
     "metadata": {},
     "output_type": "display_data"
    }
   ],
   "source": [
    "gamma = fit_link$coef[\"z\"]\n",
    "display(gamma)"
   ]
  },
  {
   "cell_type": "markdown",
   "metadata": {},
   "source": [
    "## test whether the parameter $\\gamma$ is significant or not \n",
    "\n",
    "if <font color = \"blue\">not significant</font>, we could not reject $\\gamma = 0$; that is, not rejecting $\\alpha = \\alpha_0$\n",
    "\n",
    "if <font color = \"red\">significant</font>, we reject $\\gamma = 0$; that is, decide $\\alpha \\neq \\alpha_0$"
   ]
  },
  {
   "cell_type": "code",
   "execution_count": 38,
   "metadata": {},
   "outputs": [
    {
     "data": {
      "text/html": [
       "<table>\n",
       "<thead><tr><th></th><th scope=col>Df</th><th scope=col>Deviance</th><th scope=col>Resid. Df</th><th scope=col>Resid. Dev</th><th scope=col>Pr(&gt;Chi)</th></tr></thead>\n",
       "<tbody>\n",
       "\t<tr><th scope=row>NULL</th><td>NA          </td><td>        NA  </td><td>7           </td><td>284.202449  </td><td>          NA</td></tr>\n",
       "\t<tr><th scope=row>dose</th><td> 1          </td><td>272.970218  </td><td>6           </td><td> 11.232231  </td><td>2.556089e-61</td></tr>\n",
       "\t<tr><th scope=row>z</th><td> 1          </td><td>  8.279424  </td><td>5           </td><td>  2.952807  </td><td>4.009684e-03</td></tr>\n",
       "</tbody>\n",
       "</table>\n"
      ],
      "text/latex": [
       "\\begin{tabular}{r|lllll}\n",
       "  & Df & Deviance & Resid. Df & Resid. Dev & Pr(>Chi)\\\\\n",
       "\\hline\n",
       "\tNULL & NA           &         NA   & 7            & 284.202449   &           NA\\\\\n",
       "\tdose &  1           & 272.970218   & 6            &  11.232231   & 2.556089e-61\\\\\n",
       "\tz &  1           &   8.279424   & 5            &   2.952807   & 4.009684e-03\\\\\n",
       "\\end{tabular}\n"
      ],
      "text/markdown": [
       "\n",
       "| <!--/--> | Df | Deviance | Resid. Df | Resid. Dev | Pr(>Chi) | \n",
       "|---|---|---|\n",
       "| NULL | NA           |         NA   | 7            | 284.202449   |           NA | \n",
       "| dose |  1           | 272.970218   | 6            |  11.232231   | 2.556089e-61 | \n",
       "| z |  1           |   8.279424   | 5            |   2.952807   | 4.009684e-03 | \n",
       "\n",
       "\n"
      ],
      "text/plain": [
       "     Df Deviance   Resid. Df Resid. Dev Pr(>Chi)    \n",
       "NULL NA         NA 7         284.202449           NA\n",
       "dose  1 272.970218 6          11.232231 2.556089e-61\n",
       "z     1   8.279424 5           2.952807 4.009684e-03"
      ]
     },
     "metadata": {},
     "output_type": "display_data"
    }
   ],
   "source": [
    "anova(fit_link, test = \"Chisq\")"
   ]
  },
  {
   "cell_type": "markdown",
   "metadata": {},
   "source": [
    "## Since it is significant, we need to calculate possible $\\alpha$\n",
    "\n",
    "current $\\alpha_0 = 1$ and $\\gamma = \\alpha_0 - \\alpha$\n",
    "\n",
    "Therefore, a new $\\hat{\\alpha} =  \\alpha_0 - \\gamma$"
   ]
  },
  {
   "cell_type": "code",
   "execution_count": 43,
   "metadata": {},
   "outputs": [
    {
     "data": {
      "text/html": [
       "<strong>z:</strong> -0.663774861396117"
      ],
      "text/latex": [
       "\\textbf{z:} -0.663774861396117"
      ],
      "text/markdown": [
       "**z:** -0.663774861396117"
      ],
      "text/plain": [
       "         z \n",
       "-0.6637749 "
      ]
     },
     "metadata": {},
     "output_type": "display_data"
    }
   ],
   "source": [
    "alpha_hat = 1 - gamma\n",
    "display(alpha_hat)"
   ]
  },
  {
   "cell_type": "markdown",
   "metadata": {},
   "source": [
    "Since $0 < \\alpha \\leq 1$, we could suggest a better $\\hat{\\alpha} = 0$; that is, we will fit a **cloglog** link"
   ]
  },
  {
   "cell_type": "code",
   "execution_count": 44,
   "metadata": {},
   "outputs": [],
   "source": [
    "fit_logit   = glm(cbind(y, n-y) ~ dose, data = beetle, binomial(link = \"logit\"))\n",
    "fit_cloglog = glm(cbind(y, n-y) ~ dose, data = beetle, binomial(link = \"cloglog\"))"
   ]
  },
  {
   "cell_type": "markdown",
   "metadata": {},
   "source": [
    "### compare two models"
   ]
  },
  {
   "cell_type": "markdown",
   "metadata": {},
   "source": [
    "predicted values"
   ]
  },
  {
   "cell_type": "code",
   "execution_count": 86,
   "metadata": {},
   "outputs": [
    {
     "data": {
      "text/html": [
       "<table>\n",
       "<thead><tr><th></th><th scope=col>y</th><th scope=col>logit</th><th scope=col>cloglog</th></tr></thead>\n",
       "<tbody>\n",
       "\t<tr><th scope=row>1</th><td> 6       </td><td> 3.457461</td><td> 5.58945 </td></tr>\n",
       "\t<tr><th scope=row>2</th><td>13       </td><td> 9.841672</td><td>11.28068 </td></tr>\n",
       "\t<tr><th scope=row>3</th><td>18       </td><td>22.451378</td><td>20.95422 </td></tr>\n",
       "\t<tr><th scope=row>4</th><td>28       </td><td>33.897635</td><td>30.36944 </td></tr>\n",
       "\t<tr><th scope=row>5</th><td>52       </td><td>50.095822</td><td>47.77642 </td></tr>\n",
       "\t<tr><th scope=row>6</th><td>53       </td><td>53.290913</td><td>54.14273 </td></tr>\n",
       "\t<tr><th scope=row>7</th><td>61       </td><td>59.222159</td><td>61.11331 </td></tr>\n",
       "\t<tr><th scope=row>8</th><td>60       </td><td>58.742961</td><td>59.94723 </td></tr>\n",
       "</tbody>\n",
       "</table>\n"
      ],
      "text/latex": [
       "\\begin{tabular}{r|lll}\n",
       "  & y & logit & cloglog\\\\\n",
       "\\hline\n",
       "\t1 &  6        &  3.457461 &  5.58945 \\\\\n",
       "\t2 & 13        &  9.841672 & 11.28068 \\\\\n",
       "\t3 & 18        & 22.451378 & 20.95422 \\\\\n",
       "\t4 & 28        & 33.897635 & 30.36944 \\\\\n",
       "\t5 & 52        & 50.095822 & 47.77642 \\\\\n",
       "\t6 & 53        & 53.290913 & 54.14273 \\\\\n",
       "\t7 & 61        & 59.222159 & 61.11331 \\\\\n",
       "\t8 & 60        & 58.742961 & 59.94723 \\\\\n",
       "\\end{tabular}\n"
      ],
      "text/markdown": [
       "\n",
       "| <!--/--> | y | logit | cloglog | \n",
       "|---|---|---|---|---|---|---|---|\n",
       "| 1 |  6        |  3.457461 |  5.58945  | \n",
       "| 2 | 13        |  9.841672 | 11.28068  | \n",
       "| 3 | 18        | 22.451378 | 20.95422  | \n",
       "| 4 | 28        | 33.897635 | 30.36944  | \n",
       "| 5 | 52        | 50.095822 | 47.77642  | \n",
       "| 6 | 53        | 53.290913 | 54.14273  | \n",
       "| 7 | 61        | 59.222159 | 61.11331  | \n",
       "| 8 | 60        | 58.742961 | 59.94723  | \n",
       "\n",
       "\n"
      ],
      "text/plain": [
       "  y  logit     cloglog \n",
       "1  6  3.457461  5.58945\n",
       "2 13  9.841672 11.28068\n",
       "3 18 22.451378 20.95422\n",
       "4 28 33.897635 30.36944\n",
       "5 52 50.095822 47.77642\n",
       "6 53 53.290913 54.14273\n",
       "7 61 59.222159 61.11331\n",
       "8 60 58.742961 59.94723"
      ]
     },
     "metadata": {},
     "output_type": "display_data"
    }
   ],
   "source": [
    "mat = cbind(beetle$y, beetle$n * fit_logit$fitted.values, beetle$n * fit_cloglog$fitted.values)\n",
    "colnames(mat) = c(\"y\", \"logit\", \"cloglog\")\n",
    "display(mat)"
   ]
  },
  {
   "cell_type": "markdown",
   "metadata": {},
   "source": [
    "model comparison"
   ]
  },
  {
   "cell_type": "code",
   "execution_count": 80,
   "metadata": {},
   "outputs": [
    {
     "data": {
      "text/html": [
       "<table>\n",
       "<thead><tr><th></th><th scope=col>logit</th><th scope=col>cloglog</th></tr></thead>\n",
       "<tbody>\n",
       "\t<tr><th scope=row>Deviance</th><td>11.23223 </td><td> 3.446439</td></tr>\n",
       "\t<tr><th scope=row>Pearson X2</th><td>10.02682 </td><td> 3.294694</td></tr>\n",
       "\t<tr><th scope=row>AIC</th><td>41.43027 </td><td>33.644477</td></tr>\n",
       "</tbody>\n",
       "</table>\n"
      ],
      "text/latex": [
       "\\begin{tabular}{r|ll}\n",
       "  & logit & cloglog\\\\\n",
       "\\hline\n",
       "\tDeviance & 11.23223  &  3.446439\\\\\n",
       "\tPearson X2 & 10.02682  &  3.294694\\\\\n",
       "\tAIC & 41.43027  & 33.644477\\\\\n",
       "\\end{tabular}\n"
      ],
      "text/markdown": [
       "\n",
       "| <!--/--> | logit | cloglog | \n",
       "|---|---|---|\n",
       "| Deviance | 11.23223  |  3.446439 | \n",
       "| Pearson X2 | 10.02682  |  3.294694 | \n",
       "| AIC | 41.43027  | 33.644477 | \n",
       "\n",
       "\n"
      ],
      "text/plain": [
       "           logit    cloglog  \n",
       "Deviance   11.23223  3.446439\n",
       "Pearson X2 10.02682  3.294694\n",
       "AIC        41.43027 33.644477"
      ]
     },
     "metadata": {},
     "output_type": "display_data"
    }
   ],
   "source": [
    "mat = rbind(\n",
    "    ### deviance\n",
    "    c(fit_logit$deviance, \n",
    "      fit_cloglog$deviance),\n",
    "    \n",
    "    ### Pearson X2\n",
    "    c(sum(residuals(fit_logit,   type = \"pearson\")^2),\n",
    "      sum(residuals(fit_cloglog, type = \"pearson\")^2)),\n",
    "    \n",
    "    ### AIC\n",
    "    c(fit_logit$aic,\n",
    "      fit_cloglog$aic)\n",
    ") # end cbind\n",
    "\n",
    "rownames(mat) = c(\"Deviance\", \"Pearson X2\", \"AIC\")\n",
    "colnames(mat) = c(\"logit\", \"cloglog\")\n",
    "\n",
    "display(mat)"
   ]
  },
  {
   "cell_type": "markdown",
   "metadata": {},
   "source": [
    "Since they are not nested model, it is not exactly correct to compare using deviance. But expected value of deviance is the degree of freedom (n - p = 8 - 2 = 6). \n",
    "\n",
    "Another index to compare is AIC"
   ]
  },
  {
   "cell_type": "markdown",
   "metadata": {},
   "source": [
    "### Appendix: residuals of chi-square\n",
    "$$\\frac{y_i - n_i \\pi_i}{\\sqrt{n_i \\pi_i (1 - \\pi_i)}}$$"
   ]
  },
  {
   "cell_type": "markdown",
   "metadata": {},
   "source": [
    "calculate manually"
   ]
  },
  {
   "cell_type": "code",
   "execution_count": 73,
   "metadata": {},
   "outputs": [
    {
     "data": {
      "text/html": [
       "<dl class=dl-horizontal>\n",
       "\t<dt>1</dt>\n",
       "\t\t<dd>1.4092960458004</dd>\n",
       "\t<dt>2</dt>\n",
       "\t\t<dd>1.10110026185729</dd>\n",
       "\t<dt>3</dt>\n",
       "\t\t<dd>-1.17625958373682</dd>\n",
       "\t<dt>4</dt>\n",
       "\t\t<dd>-1.61238152281741</dd>\n",
       "\t<dt>5</dt>\n",
       "\t\t<dd>0.594445400684914</dd>\n",
       "\t<dt>6</dt>\n",
       "\t\t<dd>-0.128109031412368</dd>\n",
       "\t<dt>7</dt>\n",
       "\t\t<dd>1.09142278645206</dd>\n",
       "\t<dt>8</dt>\n",
       "\t\t<dd>1.13311019483318</dd>\n",
       "</dl>\n"
      ],
      "text/latex": [
       "\\begin{description*}\n",
       "\\item[1] 1.4092960458004\n",
       "\\item[2] 1.10110026185729\n",
       "\\item[3] -1.17625958373682\n",
       "\\item[4] -1.61238152281741\n",
       "\\item[5] 0.594445400684914\n",
       "\\item[6] -0.128109031412368\n",
       "\\item[7] 1.09142278645206\n",
       "\\item[8] 1.13311019483318\n",
       "\\end{description*}\n"
      ],
      "text/markdown": [
       "1\n",
       ":   1.40929604580042\n",
       ":   1.101100261857293\n",
       ":   -1.176259583736824\n",
       ":   -1.612381522817415\n",
       ":   0.5944454006849146\n",
       ":   -0.1281090314123687\n",
       ":   1.091422786452068\n",
       ":   1.13311019483318\n",
       "\n"
      ],
      "text/plain": [
       "         1          2          3          4          5          6          7 \n",
       " 1.4092960  1.1011003 -1.1762596 -1.6123815  0.5944454 -0.1281090  1.0914228 \n",
       "         8 \n",
       " 1.1331102 "
      ]
     },
     "metadata": {},
     "output_type": "display_data"
    }
   ],
   "source": [
    "(beetle$y - beetle$n * fit_logit$fitted.values) / (beetle$n * fit_logit$fitted.values * (1 - fit_logit$fitted.values))^0.5"
   ]
  },
  {
   "cell_type": "markdown",
   "metadata": {},
   "source": [
    "use function residuals with type = \"pearson\""
   ]
  },
  {
   "cell_type": "code",
   "execution_count": 69,
   "metadata": {},
   "outputs": [
    {
     "data": {
      "text/html": [
       "<dl class=dl-horizontal>\n",
       "\t<dt>1</dt>\n",
       "\t\t<dd>1.4092960458004</dd>\n",
       "\t<dt>2</dt>\n",
       "\t\t<dd>1.10110026185729</dd>\n",
       "\t<dt>3</dt>\n",
       "\t\t<dd>-1.17625958373682</dd>\n",
       "\t<dt>4</dt>\n",
       "\t\t<dd>-1.61238152281741</dd>\n",
       "\t<dt>5</dt>\n",
       "\t\t<dd>0.594445400684913</dd>\n",
       "\t<dt>6</dt>\n",
       "\t\t<dd>-0.128109031412367</dd>\n",
       "\t<dt>7</dt>\n",
       "\t\t<dd>1.09142278645206</dd>\n",
       "\t<dt>8</dt>\n",
       "\t\t<dd>1.13311019483318</dd>\n",
       "</dl>\n"
      ],
      "text/latex": [
       "\\begin{description*}\n",
       "\\item[1] 1.4092960458004\n",
       "\\item[2] 1.10110026185729\n",
       "\\item[3] -1.17625958373682\n",
       "\\item[4] -1.61238152281741\n",
       "\\item[5] 0.594445400684913\n",
       "\\item[6] -0.128109031412367\n",
       "\\item[7] 1.09142278645206\n",
       "\\item[8] 1.13311019483318\n",
       "\\end{description*}\n"
      ],
      "text/markdown": [
       "1\n",
       ":   1.40929604580042\n",
       ":   1.101100261857293\n",
       ":   -1.176259583736824\n",
       ":   -1.612381522817415\n",
       ":   0.5944454006849136\n",
       ":   -0.1281090314123677\n",
       ":   1.091422786452068\n",
       ":   1.13311019483318\n",
       "\n"
      ],
      "text/plain": [
       "         1          2          3          4          5          6          7 \n",
       " 1.4092960  1.1011003 -1.1762596 -1.6123815  0.5944454 -0.1281090  1.0914228 \n",
       "         8 \n",
       " 1.1331102 "
      ]
     },
     "metadata": {},
     "output_type": "display_data"
    }
   ],
   "source": [
    "residuals(fit_logit, type = \"pearson\")"
   ]
  },
  {
   "cell_type": "markdown",
   "metadata": {},
   "source": [
    "calcualte pearson chi-square"
   ]
  },
  {
   "cell_type": "code",
   "execution_count": 82,
   "metadata": {},
   "outputs": [
    {
     "data": {
      "text/html": [
       "10.0268175855731"
      ],
      "text/latex": [
       "10.0268175855731"
      ],
      "text/markdown": [
       "10.0268175855731"
      ],
      "text/plain": [
       "[1] 10.02682"
      ]
     },
     "metadata": {},
     "output_type": "display_data"
    }
   ],
   "source": [
    "sum(residuals(fit_logit,   type = \"pearson\")^2)"
   ]
  }
 ],
 "metadata": {
  "kernelspec": {
   "display_name": "R",
   "language": "R",
   "name": "ir"
  },
  "language_info": {
   "codemirror_mode": "r",
   "file_extension": ".r",
   "mimetype": "text/x-r-source",
   "name": "R",
   "pygments_lexer": "r",
   "version": "3.5.1"
  }
 },
 "nbformat": 4,
 "nbformat_minor": 2
}
