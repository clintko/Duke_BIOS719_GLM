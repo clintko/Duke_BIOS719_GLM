{
 "cells": [
  {
   "cell_type": "markdown",
   "metadata": {},
   "source": [
    "# About the notebook"
   ]
  },
  {
   "cell_type": "markdown",
   "metadata": {},
   "source": [
    "### Goal: \n",
    "**in analysis one, fit the model with different model complexities and test interactions using logistic regression (link = \"logit\")**"
   ]
  },
  {
   "cell_type": "markdown",
   "metadata": {},
   "source": [
    "### Recall the question in Analysis 1\n",
    "**Consider the respiratory status at visit 1 as the outcome. Fit an appropriate model evaluating the treatment effect with a possible adjustment for gender and age. Interpret the results.**"
   ]
  },
  {
   "cell_type": "markdown",
   "metadata": {},
   "source": [
    "# Import data"
   ]
  },
  {
   "cell_type": "code",
   "execution_count": 1,
   "metadata": {},
   "outputs": [
    {
     "name": "stderr",
     "output_type": "stream",
     "text": [
      "Loading required package: zoo\n",
      "\n",
      "Attaching package: ‘zoo’\n",
      "\n",
      "The following objects are masked from ‘package:base’:\n",
      "\n",
      "    as.Date, as.Date.numeric\n",
      "\n",
      "Parsed with column specification:\n",
      "cols(\n",
      "  patient = col_integer(),\n",
      "  treatment = col_integer(),\n",
      "  gender = col_integer(),\n",
      "  age = col_integer(),\n",
      "  visit1 = col_integer(),\n",
      "  visit2 = col_integer(),\n",
      "  visit3 = col_integer(),\n",
      "  visit4 = col_integer()\n",
      ")\n"
     ]
    },
    {
     "data": {
      "text/html": [
       "<table>\n",
       "<thead><tr><th scope=col>trt</th><th scope=col>age</th><th scope=col>gender</th><th scope=col>y</th><th scope=col>n</th></tr></thead>\n",
       "<tbody>\n",
       "\t<tr><td>Placebo</td><td>13     </td><td>Male   </td><td> 4     </td><td> 7     </td></tr>\n",
       "\t<tr><td>Placebo</td><td>13     </td><td>Female </td><td>10     </td><td>12     </td></tr>\n",
       "\t<tr><td>Placebo</td><td>14     </td><td>Male   </td><td> 5     </td><td> 7     </td></tr>\n",
       "\t<tr><td>Placebo</td><td>14     </td><td>Female </td><td> 4     </td><td> 4     </td></tr>\n",
       "\t<tr><td>Placebo</td><td>15     </td><td>Male   </td><td> 2     </td><td> 3     </td></tr>\n",
       "\t<tr><td>Placebo</td><td>19     </td><td>Male   </td><td> 3     </td><td> 6     </td></tr>\n",
       "</tbody>\n",
       "</table>\n"
      ],
      "text/latex": [
       "\\begin{tabular}{r|lllll}\n",
       " trt & age & gender & y & n\\\\\n",
       "\\hline\n",
       "\t Placebo & 13      & Male    &  4      &  7     \\\\\n",
       "\t Placebo & 13      & Female  & 10      & 12     \\\\\n",
       "\t Placebo & 14      & Male    &  5      &  7     \\\\\n",
       "\t Placebo & 14      & Female  &  4      &  4     \\\\\n",
       "\t Placebo & 15      & Male    &  2      &  3     \\\\\n",
       "\t Placebo & 19      & Male    &  3      &  6     \\\\\n",
       "\\end{tabular}\n"
      ],
      "text/markdown": [
       "\n",
       "trt | age | gender | y | n | \n",
       "|---|---|---|---|---|---|\n",
       "| Placebo | 13      | Male    |  4      |  7      | \n",
       "| Placebo | 13      | Female  | 10      | 12      | \n",
       "| Placebo | 14      | Male    |  5      |  7      | \n",
       "| Placebo | 14      | Female  |  4      |  4      | \n",
       "| Placebo | 15      | Male    |  2      |  3      | \n",
       "| Placebo | 19      | Male    |  3      |  6      | \n",
       "\n",
       "\n"
      ],
      "text/plain": [
       "  trt     age gender y  n \n",
       "1 Placebo 13  Male    4  7\n",
       "2 Placebo 13  Female 10 12\n",
       "3 Placebo 14  Male    5  7\n",
       "4 Placebo 14  Female  4  4\n",
       "5 Placebo 15  Male    2  3\n",
       "6 Placebo 19  Male    3  6"
      ]
     },
     "metadata": {},
     "output_type": "display_data"
    }
   ],
   "source": [
    "library(lmtest)\n",
    "source(\"./codesnippet_r/final_proj_config.R\")\n",
    "source(\"./codesnippet_r/fun_walds.R\")\n",
    "source(\"./codesnippet_r/fun_hosmerlem.R\")\n",
    "head(dat_v1)"
   ]
  },
  {
   "cell_type": "markdown",
   "metadata": {},
   "source": [
    "# fit model with all pairwise interactions of variables"
   ]
  },
  {
   "cell_type": "markdown",
   "metadata": {},
   "source": [
    "**First we fitted the model with all pairwise interactions of variables. It turns out that the coefficients of all the interaction terms were not significiant under the level 0.05**"
   ]
  },
  {
   "cell_type": "code",
   "execution_count": 2,
   "metadata": {},
   "outputs": [
    {
     "data": {
      "text/plain": [
       "\n",
       "Call:\n",
       "glm(formula = cbind(y, n - y) ~ .^2, family = binomial(link = \"logit\"), \n",
       "    data = df, x = T)\n",
       "\n",
       "Deviance Residuals: \n",
       "    Min       1Q   Median       3Q      Max  \n",
       "-2.2980  -0.9938   0.3317   0.9959   2.0354  \n",
       "\n",
       "Coefficients:\n",
       "                       Estimate Std. Error z value Pr(>|z|)   \n",
       "(Intercept)            -0.08805    0.61265  -0.144  0.88572   \n",
       "trtActive               0.67119    0.85265   0.787  0.43118   \n",
       "age                     0.05770    0.02212   2.609  0.00907 **\n",
       "genderFemale            1.14961    0.99831   1.152  0.24951   \n",
       "trtActive:age          -0.01005    0.03099  -0.324  0.74562   \n",
       "trtActive:genderFemale -0.01147    0.73253  -0.016  0.98751   \n",
       "age:genderFemale       -0.01051    0.03566  -0.295  0.76815   \n",
       "---\n",
       "Signif. codes:  0 ‘***’ 0.001 ‘**’ 0.01 ‘*’ 0.05 ‘.’ 0.1 ‘ ’ 1\n",
       "\n",
       "(Dispersion parameter for binomial family taken to be 1)\n",
       "\n",
       "    Null deviance: 98.638  on 58  degrees of freedom\n",
       "Residual deviance: 74.755  on 52  degrees of freedom\n",
       "AIC: 158.35\n",
       "\n",
       "Number of Fisher Scoring iterations: 5\n"
      ]
     },
     "metadata": {},
     "output_type": "display_data"
    }
   ],
   "source": [
    "### initialization\n",
    "df = dat_v1\n",
    "\n",
    "### fit the model\n",
    "fit_logit_int = glm(cbind(y, n-y) ~ .^2, data = df, family = binomial(link = \"logit\"), x = T)\n",
    "summary(fit_logit_int)"
   ]
  },
  {
   "cell_type": "markdown",
   "metadata": {},
   "source": [
    "**We can further perform the Wald test for all the interaction terms. The wald's statistics of interaction terms is about 0.00006 (p value ~ 0.99). Therefore, under level 0.05, we do not think there are interactions between variables and thus drop the interaction terms in our model**"
   ]
  },
  {
   "cell_type": "code",
   "execution_count": 3,
   "metadata": {},
   "outputs": [
    {
     "data": {
      "text/html": [
       "<dl>\n",
       "\t<dt>$df</dt>\n",
       "\t\t<dd>3</dd>\n",
       "\t<dt>$walds</dt>\n",
       "\t\t<dd><table>\n",
       "<tbody>\n",
       "\t<tr><td>6.864368e-05</td></tr>\n",
       "</tbody>\n",
       "</table>\n",
       "</dd>\n",
       "\t<dt>$pval</dt>\n",
       "\t\t<dd><table>\n",
       "<tbody>\n",
       "\t<tr><td>0.9999998</td></tr>\n",
       "</tbody>\n",
       "</table>\n",
       "</dd>\n",
       "</dl>\n"
      ],
      "text/latex": [
       "\\begin{description}\n",
       "\\item[\\$df] 3\n",
       "\\item[\\$walds] \\begin{tabular}{l}\n",
       "\t 6.864368e-05\\\\\n",
       "\\end{tabular}\n",
       "\n",
       "\\item[\\$pval] \\begin{tabular}{l}\n",
       "\t 0.9999998\\\\\n",
       "\\end{tabular}\n",
       "\n",
       "\\end{description}\n"
      ],
      "text/markdown": [
       "$df\n",
       ":   3\n",
       "$walds\n",
       ":   \n",
       "| 6.864368e-05 | \n",
       "\n",
       "\n",
       "\n",
       "$pval\n",
       ":   \n",
       "| 0.9999998 | \n",
       "\n",
       "\n",
       "\n",
       "\n",
       "\n"
      ],
      "text/plain": [
       "$df\n",
       "[1] 3\n",
       "\n",
       "$walds\n",
       "             [,1]\n",
       "[1,] 6.864368e-05\n",
       "\n",
       "$pval\n",
       "          [,1]\n",
       "[1,] 0.9999998\n"
      ]
     },
     "metadata": {},
     "output_type": "display_data"
    }
   ],
   "source": [
    "### contrast matrix\n",
    "L = diag(7)[, -c(1:4)]\n",
    "\n",
    "### wald statistics to test all interaction terms together\n",
    "fun_walds_glm(fit_logit_int, L)"
   ]
  },
  {
   "cell_type": "markdown",
   "metadata": {},
   "source": [
    "**Since we want to drop the interaction terms, we now have models with linear terms of each variables**"
   ]
  },
  {
   "cell_type": "code",
   "execution_count": 4,
   "metadata": {},
   "outputs": [
    {
     "data": {
      "text/plain": [
       "\n",
       "Call:\n",
       "glm(formula = cbind(y, n - y) ~ ., family = binomial(link = \"logit\"), \n",
       "    data = dat, x = T)\n",
       "\n",
       "Deviance Residuals: \n",
       "    Min       1Q   Median       3Q      Max  \n",
       "-2.2463  -1.0027   0.2848   1.0096   1.9923  \n",
       "\n",
       "Coefficients:\n",
       "             Estimate Std. Error z value Pr(>|z|)    \n",
       "(Intercept)   0.09702    0.43521   0.223 0.823587    \n",
       "trtActive     0.39495    0.28262   1.397 0.162268    \n",
       "age           0.05092    0.01497   3.402 0.000669 ***\n",
       "genderFemale  0.85036    0.33305   2.553 0.010672 *  \n",
       "---\n",
       "Signif. codes:  0 ‘***’ 0.001 ‘**’ 0.01 ‘*’ 0.05 ‘.’ 0.1 ‘ ’ 1\n",
       "\n",
       "(Dispersion parameter for binomial family taken to be 1)\n",
       "\n",
       "    Null deviance: 98.638  on 58  degrees of freedom\n",
       "Residual deviance: 74.945  on 55  degrees of freedom\n",
       "AIC: 152.54\n",
       "\n",
       "Number of Fisher Scoring iterations: 5\n"
      ]
     },
     "metadata": {},
     "output_type": "display_data"
    }
   ],
   "source": [
    "### initialization\n",
    "dat = dat_v1\n",
    "\n",
    "### fit the model\n",
    "fit_logit = glm(cbind(y, n-y) ~ ., data = dat, family = binomial(link = \"logit\"), x = T)\n",
    "summary(fit_logit)"
   ]
  },
  {
   "cell_type": "markdown",
   "metadata": {},
   "source": [
    "**Notice that the effect of treatment is not significant; Therefore, remove...**"
   ]
  },
  {
   "cell_type": "code",
   "execution_count": 5,
   "metadata": {},
   "outputs": [
    {
     "data": {
      "text/plain": [
       "\n",
       "Call:\n",
       "glm(formula = cbind(y, n - y) ~ age + gender, family = binomial(link = \"logit\"), \n",
       "    data = dat, x = T)\n",
       "\n",
       "Deviance Residuals: \n",
       "    Min       1Q   Median       3Q      Max  \n",
       "-2.3225  -0.9379   0.3233   0.9459   2.0805  \n",
       "\n",
       "Coefficients:\n",
       "             Estimate Std. Error z value Pr(>|z|)    \n",
       "(Intercept)   0.27923    0.41526   0.672 0.501313    \n",
       "age           0.05104    0.01498   3.408 0.000654 ***\n",
       "genderFemale  0.80035    0.33042   2.422 0.015425 *  \n",
       "---\n",
       "Signif. codes:  0 ‘***’ 0.001 ‘**’ 0.01 ‘*’ 0.05 ‘.’ 0.1 ‘ ’ 1\n",
       "\n",
       "(Dispersion parameter for binomial family taken to be 1)\n",
       "\n",
       "    Null deviance: 98.638  on 58  degrees of freedom\n",
       "Residual deviance: 76.930  on 56  degrees of freedom\n",
       "AIC: 152.53\n",
       "\n",
       "Number of Fisher Scoring iterations: 5\n"
      ]
     },
     "metadata": {},
     "output_type": "display_data"
    }
   ],
   "source": [
    "### initialization\n",
    "dat = dat_v1\n",
    "\n",
    "### fit the model\n",
    "fit_logit = glm(cbind(y, n-y) ~ age + gender, data = dat, family = binomial(link = \"logit\"), x = T)\n",
    "summary(fit_logit)"
   ]
  },
  {
   "cell_type": "markdown",
   "metadata": {},
   "source": [
    "# How well the model fit?"
   ]
  },
  {
   "cell_type": "markdown",
   "metadata": {},
   "source": [
    "**We can plot the standardized residuals to check how the model fit the data.**"
   ]
  },
  {
   "cell_type": "code",
   "execution_count": 6,
   "metadata": {},
   "outputs": [
    {
     "data": {
      "text/html": [
       "<table>\n",
       "<thead><tr><th scope=col>trt</th><th scope=col>age</th><th scope=col>gender</th><th scope=col>y</th><th scope=col>n</th><th scope=col>spres</th><th scope=col>sdres</th><th scope=col>lres</th><th scope=col>ares</th><th scope=col>h</th></tr></thead>\n",
       "<tbody>\n",
       "\t<tr><td>Placebo    </td><td>13         </td><td>Male       </td><td> 4         </td><td> 7         </td><td>-0.91309320</td><td>-0.87594932</td><td>-0.8791876 </td><td>-0.87852299</td><td>0.08553036 </td></tr>\n",
       "\t<tr><td>Placebo    </td><td>13         </td><td>Female     </td><td>10         </td><td>12         </td><td>-0.19255517</td><td>-0.18955753</td><td>-0.1901462 </td><td>-0.18957759</td><td>0.19514260 </td></tr>\n",
       "\t<tr><td>Placebo    </td><td>14         </td><td>Male       </td><td> 5         </td><td> 7         </td><td>-0.09645658</td><td>-0.09589151</td><td>-0.0959346 </td><td>-0.09589527</td><td>0.07604650 </td></tr>\n",
       "</tbody>\n",
       "</table>\n"
      ],
      "text/latex": [
       "\\begin{tabular}{r|llllllllll}\n",
       " trt & age & gender & y & n & spres & sdres & lres & ares & h\\\\\n",
       "\\hline\n",
       "\t Placebo     & 13          & Male        &  4          &  7          & -0.91309320 & -0.87594932 & -0.8791876  & -0.87852299 & 0.08553036 \\\\\n",
       "\t Placebo     & 13          & Female      & 10          & 12          & -0.19255517 & -0.18955753 & -0.1901462  & -0.18957759 & 0.19514260 \\\\\n",
       "\t Placebo     & 14          & Male        &  5          &  7          & -0.09645658 & -0.09589151 & -0.0959346  & -0.09589527 & 0.07604650 \\\\\n",
       "\\end{tabular}\n"
      ],
      "text/markdown": [
       "\n",
       "trt | age | gender | y | n | spres | sdres | lres | ares | h | \n",
       "|---|---|---|\n",
       "| Placebo     | 13          | Male        |  4          |  7          | -0.91309320 | -0.87594932 | -0.8791876  | -0.87852299 | 0.08553036  | \n",
       "| Placebo     | 13          | Female      | 10          | 12          | -0.19255517 | -0.18955753 | -0.1901462  | -0.18957759 | 0.19514260  | \n",
       "| Placebo     | 14          | Male        |  5          |  7          | -0.09645658 | -0.09589151 | -0.0959346  | -0.09589527 | 0.07604650  | \n",
       "\n",
       "\n"
      ],
      "text/plain": [
       "  trt     age gender y  n  spres       sdres       lres       ares       \n",
       "1 Placebo 13  Male    4  7 -0.91309320 -0.87594932 -0.8791876 -0.87852299\n",
       "2 Placebo 13  Female 10 12 -0.19255517 -0.18955753 -0.1901462 -0.18957759\n",
       "3 Placebo 14  Male    5  7 -0.09645658 -0.09589151 -0.0959346 -0.09589527\n",
       "  h         \n",
       "1 0.08553036\n",
       "2 0.19514260\n",
       "3 0.07604650"
      ]
     },
     "metadata": {},
     "output_type": "display_data"
    }
   ],
   "source": [
    "df = cbind(dat, f.glm.diag(fit_logit))\n",
    "head(df, 3)"
   ]
  },
  {
   "cell_type": "code",
   "execution_count": 7,
   "metadata": {},
   "outputs": [
    {
     "data": {
      "image/png": "[encoded data removed]",
      "text/plain": [
       "plot without title"
      ]
     },
     "metadata": {},
     "output_type": "display_data"
    }
   ],
   "source": [
    "df  = cbind(dat, f.glm.diag(fit_logit))\n",
    "\n",
    "gp  = ggplot(df, aes(x = y, y = sdres))\n",
    "gp  = gp +\n",
    "    geom_point() + \n",
    "    ylim(c(-4, 4)) + \n",
    "    geom_hline(yintercept = 0, lty = 2) +\n",
    "    geom_smooth(method = \"loess\", span = 0.8) +\n",
    "    labs(title = \"cbind(y, n-y) ~ age + gender\",\n",
    "         x = \"y\", y = \"standardized\\ndeviane residual\")\n",
    "\n",
    "options(repr.plot.height = 3, repr.plot.width = 5)\n",
    "print(gp)"
   ]
  },
  {
   "cell_type": "markdown",
   "metadata": {},
   "source": [
    "## Hosmolimashow"
   ]
  },
  {
   "cell_type": "code",
   "execution_count": 8,
   "metadata": {},
   "outputs": [
    {
     "data": {
      "text/html": [
       "<dl>\n",
       "\t<dt>$chisq</dt>\n",
       "\t\t<dd>30008.5143573308</dd>\n",
       "\t<dt>$p.value</dt>\n",
       "\t\t<dd>0</dd>\n",
       "</dl>\n"
      ],
      "text/latex": [
       "\\begin{description}\n",
       "\\item[\\$chisq] 30008.5143573308\n",
       "\\item[\\$p.value] 0\n",
       "\\end{description}\n"
      ],
      "text/markdown": [
       "$chisq\n",
       ":   30008.5143573308\n",
       "$p.value\n",
       ":   0\n",
       "\n",
       "\n"
      ],
      "text/plain": [
       "$chisq\n",
       "[1] 30008.51\n",
       "\n",
       "$p.value\n",
       "[1] 0\n"
      ]
     },
     "metadata": {},
     "output_type": "display_data"
    }
   ],
   "source": [
    "### initialization\n",
    "dat = dat_v1\n",
    "\n",
    "###\n",
    "fun_hosmerlem(dat$y, fit_logit$fitted.values, g = 2)"
   ]
  },
  {
   "cell_type": "markdown",
   "metadata": {},
   "source": [
    "# test for higher order term"
   ]
  },
  {
   "cell_type": "code",
   "execution_count": 9,
   "metadata": {},
   "outputs": [],
   "source": [
    "### initialization\n",
    "dat = dat_v1\n",
    "\n",
    "### fit the model\n",
    "fit_logit    = glm(cbind(y, n-y) ~ age + gender, data = dat, family = binomial(link = \"logit\"), x = T)\n",
    "fit_logit_sq = glm(cbind(y, n-y) ~ age + I(age^2) + gender, data = dat, family = binomial(link = \"logit\"), x = T)"
   ]
  },
  {
   "cell_type": "markdown",
   "metadata": {},
   "source": [
    "We do not reject the null. Therefore, I do not add squared term into our model"
   ]
  },
  {
   "cell_type": "code",
   "execution_count": 10,
   "metadata": {},
   "outputs": [
    {
     "data": {
      "text/html": [
       "<table>\n",
       "<thead><tr><th scope=col>#Df</th><th scope=col>LogLik</th><th scope=col>Df</th><th scope=col>Chisq</th><th scope=col>Pr(&gt;Chisq)</th></tr></thead>\n",
       "<tbody>\n",
       "\t<tr><td>3         </td><td>-73.26519 </td><td>NA        </td><td>      NA  </td><td>        NA</td></tr>\n",
       "\t<tr><td>4         </td><td>-71.87173 </td><td> 1        </td><td>2.786921  </td><td>0.09503669</td></tr>\n",
       "</tbody>\n",
       "</table>\n"
      ],
      "text/latex": [
       "\\begin{tabular}{r|lllll}\n",
       " \\#Df & LogLik & Df & Chisq & Pr(>Chisq)\\\\\n",
       "\\hline\n",
       "\t 3          & -73.26519  & NA         &       NA   &         NA\\\\\n",
       "\t 4          & -71.87173  &  1         & 2.786921   & 0.09503669\\\\\n",
       "\\end{tabular}\n"
      ],
      "text/markdown": [
       "\n",
       "#Df | LogLik | Df | Chisq | Pr(>Chisq) | \n",
       "|---|---|\n",
       "| 3          | -73.26519  | NA         |       NA   |         NA | \n",
       "| 4          | -71.87173  |  1         | 2.786921   | 0.09503669 | \n",
       "\n",
       "\n"
      ],
      "text/plain": [
       "  #Df LogLik    Df Chisq    Pr(>Chisq)\n",
       "1 3   -73.26519 NA       NA         NA\n",
       "2 4   -71.87173  1 2.786921 0.09503669"
      ]
     },
     "metadata": {},
     "output_type": "display_data"
    }
   ],
   "source": [
    "lrtest(fit_logit, fit_logit_sq)"
   ]
  },
  {
   "cell_type": "markdown",
   "metadata": {},
   "source": [
    "# Test if we need to use different link to update "
   ]
  },
  {
   "cell_type": "code",
   "execution_count": 13,
   "metadata": {},
   "outputs": [
    {
     "data": {
      "text/html": [
       "<table>\n",
       "<thead><tr><th scope=col>trt</th><th scope=col>age</th><th scope=col>gender</th><th scope=col>y</th><th scope=col>n</th><th scope=col>z</th></tr></thead>\n",
       "<tbody>\n",
       "\t<tr><td>Placebo  </td><td>13       </td><td>Male     </td><td> 4       </td><td> 7       </td><td>0.7671691</td></tr>\n",
       "\t<tr><td>Placebo  </td><td>13       </td><td>Female   </td><td>10       </td><td>12       </td><td>1.2375987</td></tr>\n",
       "\t<tr><td>Placebo  </td><td>14       </td><td>Male     </td><td> 5       </td><td> 7       </td><td>0.7932055</td></tr>\n",
       "</tbody>\n",
       "</table>\n"
      ],
      "text/latex": [
       "\\begin{tabular}{r|llllll}\n",
       " trt & age & gender & y & n & z\\\\\n",
       "\\hline\n",
       "\t Placebo   & 13        & Male      &  4        &  7        & 0.7671691\\\\\n",
       "\t Placebo   & 13        & Female    & 10        & 12        & 1.2375987\\\\\n",
       "\t Placebo   & 14        & Male      &  5        &  7        & 0.7932055\\\\\n",
       "\\end{tabular}\n"
      ],
      "text/markdown": [
       "\n",
       "trt | age | gender | y | n | z | \n",
       "|---|---|---|\n",
       "| Placebo   | 13        | Male      |  4        |  7        | 0.7671691 | \n",
       "| Placebo   | 13        | Female    | 10        | 12        | 1.2375987 | \n",
       "| Placebo   | 14        | Male      |  5        |  7        | 0.7932055 | \n",
       "\n",
       "\n"
      ],
      "text/plain": [
       "  trt     age gender y  n  z        \n",
       "1 Placebo 13  Male    4  7 0.7671691\n",
       "2 Placebo 13  Female 10 12 1.2375987\n",
       "3 Placebo 14  Male    5  7 0.7932055"
      ]
     },
     "metadata": {},
     "output_type": "display_data"
    }
   ],
   "source": [
    "dG = function(p, alpha){\n",
    "    log(1 - p) / ((1 - p)^alpha - 1) - alpha^{-1}\n",
    "} # end func\n",
    "\n",
    "dat   = dat_v1\n",
    "fit_logit    = glm(cbind(y, n-y) ~ age + gender, data = dat, family = binomial(link = \"logit\"), x = T)\n",
    "\n",
    "dat$z = dG(fit_logit$fitted.values, 1)\n",
    "head(dat, 3)"
   ]
  },
  {
   "cell_type": "markdown",
   "metadata": {},
   "source": [
    "Since the z term is not significant under level 0.05, we decided not to change our link for other $\\alpha$"
   ]
  },
  {
   "cell_type": "code",
   "execution_count": 12,
   "metadata": {},
   "outputs": [
    {
     "data": {
      "text/html": [
       "<table>\n",
       "<thead><tr><th></th><th scope=col>Df</th><th scope=col>Deviance</th><th scope=col>Resid. Df</th><th scope=col>Resid. Dev</th><th scope=col>Pr(&gt;Chi)</th></tr></thead>\n",
       "<tbody>\n",
       "\t<tr><th scope=row>NULL</th><td>NA          </td><td>       NA   </td><td>58          </td><td>98.63849    </td><td>          NA</td></tr>\n",
       "\t<tr><th scope=row>age</th><td> 1          </td><td>15.175859   </td><td>57          </td><td>83.46263    </td><td>9.794765e-05</td></tr>\n",
       "\t<tr><th scope=row>gender</th><td> 1          </td><td> 6.532274   </td><td>56          </td><td>76.93036    </td><td>1.059345e-02</td></tr>\n",
       "\t<tr><th scope=row>z</th><td> 1          </td><td> 2.238972   </td><td>55          </td><td>74.69139    </td><td>1.345704e-01</td></tr>\n",
       "</tbody>\n",
       "</table>\n"
      ],
      "text/latex": [
       "\\begin{tabular}{r|lllll}\n",
       "  & Df & Deviance & Resid. Df & Resid. Dev & Pr(>Chi)\\\\\n",
       "\\hline\n",
       "\tNULL & NA           &        NA    & 58           & 98.63849     &           NA\\\\\n",
       "\tage &  1           & 15.175859    & 57           & 83.46263     & 9.794765e-05\\\\\n",
       "\tgender &  1           &  6.532274    & 56           & 76.93036     & 1.059345e-02\\\\\n",
       "\tz &  1           &  2.238972    & 55           & 74.69139     & 1.345704e-01\\\\\n",
       "\\end{tabular}\n"
      ],
      "text/markdown": [
       "\n",
       "| <!--/--> | Df | Deviance | Resid. Df | Resid. Dev | Pr(>Chi) | \n",
       "|---|---|---|---|\n",
       "| NULL | NA           |        NA    | 58           | 98.63849     |           NA | \n",
       "| age |  1           | 15.175859    | 57           | 83.46263     | 9.794765e-05 | \n",
       "| gender |  1           |  6.532274    | 56           | 76.93036     | 1.059345e-02 | \n",
       "| z |  1           |  2.238972    | 55           | 74.69139     | 1.345704e-01 | \n",
       "\n",
       "\n"
      ],
      "text/plain": [
       "       Df Deviance  Resid. Df Resid. Dev Pr(>Chi)    \n",
       "NULL   NA        NA 58        98.63849             NA\n",
       "age     1 15.175859 57        83.46263   9.794765e-05\n",
       "gender  1  6.532274 56        76.93036   1.059345e-02\n",
       "z       1  2.238972 55        74.69139   1.345704e-01"
      ]
     },
     "metadata": {},
     "output_type": "display_data"
    }
   ],
   "source": [
    "fit_link = glm(cbind(y, n - y) ~ age + gender + z, data = dat, family = binomial(link = \"logit\"))\n",
    "anova(fit_link, test = \"Chisq\")"
   ]
  },
  {
   "cell_type": "markdown",
   "metadata": {},
   "source": [
    "# What if we try to fit the model by categorizing age and test if the effect of age  is linear or nonlinear?"
   ]
  },
  {
   "cell_type": "markdown",
   "metadata": {},
   "source": [
    "This part can be done later."
   ]
  }
 ],
 "metadata": {
  "kernelspec": {
   "display_name": "R",
   "language": "R",
   "name": "ir"
  },
  "language_info": {
   "codemirror_mode": "r",
   "file_extension": ".r",
   "mimetype": "text/x-r-source",
   "name": "R",
   "pygments_lexer": "r",
   "version": "3.5.1"
  }
 },
 "nbformat": 4,
 "nbformat_minor": 2
}
