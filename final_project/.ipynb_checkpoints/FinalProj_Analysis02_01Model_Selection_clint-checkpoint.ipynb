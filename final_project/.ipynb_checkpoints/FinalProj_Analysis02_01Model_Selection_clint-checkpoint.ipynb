{
 "cells": [
  {
   "cell_type": "markdown",
   "metadata": {},
   "source": [
    "# About the notebook"
   ]
  },
  {
   "cell_type": "markdown",
   "metadata": {},
   "source": [
    "### Goal: \n",
    "**in analysis one, fit the model with different model complexities and test interactions using logistic regression (link = \"logit\")**"
   ]
  },
  {
   "cell_type": "markdown",
   "metadata": {},
   "source": [
    "### Recall the question in Analysis 4\n",
    "**Consider the respiratory status at visit 4 as the outcome. Fit an appropriate model evaluating the treatment effect with a possible adjustment for gender and age. Interpret the results.**"
   ]
  },
  {
   "cell_type": "markdown",
   "metadata": {},
   "source": [
    "# Import data"
   ]
  },
  {
   "cell_type": "code",
   "execution_count": 1,
   "metadata": {},
   "outputs": [
    {
     "name": "stderr",
     "output_type": "stream",
     "text": [
      "Loading required package: zoo\n",
      "\n",
      "Attaching package: ‘zoo’\n",
      "\n",
      "The following objects are masked from ‘package:base’:\n",
      "\n",
      "    as.Date, as.Date.numeric\n",
      "\n",
      "ResourceSelection 0.3-2 \t 2017-02-28\n",
      "Parsed with column specification:\n",
      "cols(\n",
      "  patient = col_integer(),\n",
      "  treatment = col_integer(),\n",
      "  gender = col_integer(),\n",
      "  age = col_integer(),\n",
      "  visit1 = col_integer(),\n",
      "  visit2 = col_integer(),\n",
      "  visit3 = col_integer(),\n",
      "  visit4 = col_integer()\n",
      ")\n"
     ]
    },
    {
     "data": {
      "text/html": [
       "<table>\n",
       "<thead><tr><th scope=col>trt</th><th scope=col>age</th><th scope=col>gender</th><th scope=col>y</th><th scope=col>n</th></tr></thead>\n",
       "<tbody>\n",
       "\t<tr><td>Placebo</td><td>13     </td><td>Male   </td><td> 6     </td><td> 7     </td></tr>\n",
       "\t<tr><td>Placebo</td><td>13     </td><td>Female </td><td>10     </td><td>12     </td></tr>\n",
       "\t<tr><td>Placebo</td><td>14     </td><td>Male   </td><td> 5     </td><td> 7     </td></tr>\n",
       "\t<tr><td>Placebo</td><td>14     </td><td>Female </td><td> 3     </td><td> 4     </td></tr>\n",
       "\t<tr><td>Placebo</td><td>15     </td><td>Male   </td><td> 2     </td><td> 3     </td></tr>\n",
       "\t<tr><td>Placebo</td><td>19     </td><td>Male   </td><td> 6     </td><td> 6     </td></tr>\n",
       "</tbody>\n",
       "</table>\n"
      ],
      "text/latex": [
       "\\begin{tabular}{r|lllll}\n",
       " trt & age & gender & y & n\\\\\n",
       "\\hline\n",
       "\t Placebo & 13      & Male    &  6      &  7     \\\\\n",
       "\t Placebo & 13      & Female  & 10      & 12     \\\\\n",
       "\t Placebo & 14      & Male    &  5      &  7     \\\\\n",
       "\t Placebo & 14      & Female  &  3      &  4     \\\\\n",
       "\t Placebo & 15      & Male    &  2      &  3     \\\\\n",
       "\t Placebo & 19      & Male    &  6      &  6     \\\\\n",
       "\\end{tabular}\n"
      ],
      "text/markdown": [
       "\n",
       "trt | age | gender | y | n | \n",
       "|---|---|---|---|---|---|\n",
       "| Placebo | 13      | Male    |  6      |  7      | \n",
       "| Placebo | 13      | Female  | 10      | 12      | \n",
       "| Placebo | 14      | Male    |  5      |  7      | \n",
       "| Placebo | 14      | Female  |  3      |  4      | \n",
       "| Placebo | 15      | Male    |  2      |  3      | \n",
       "| Placebo | 19      | Male    |  6      |  6      | \n",
       "\n",
       "\n"
      ],
      "text/plain": [
       "  trt     age gender y  n \n",
       "1 Placebo 13  Male    6  7\n",
       "2 Placebo 13  Female 10 12\n",
       "3 Placebo 14  Male    5  7\n",
       "4 Placebo 14  Female  3  4\n",
       "5 Placebo 15  Male    2  3\n",
       "6 Placebo 19  Male    6  6"
      ]
     },
     "metadata": {},
     "output_type": "display_data"
    }
   ],
   "source": [
    "library(lmtest)\n",
    "library(ResourceSelection)\n",
    "source(\"./codesnippet_r/final_proj_config.R\")\n",
    "source(\"./codesnippet_r/fun_walds.R\")\n",
    "source(\"./codesnippet_r/fun_hosmerlem.R\")\n",
    "head(dat_v4)"
   ]
  },
  {
   "cell_type": "markdown",
   "metadata": {},
   "source": [
    "# fit model with all pairwise interactions of variables"
   ]
  },
  {
   "cell_type": "markdown",
   "metadata": {},
   "source": [
    "**First we fitted the model with all pairwise interactions of variables. It turns out that the coefficients of all the interaction terms were not significiant under the level 0.05**"
   ]
  },
  {
   "cell_type": "code",
   "execution_count": 2,
   "metadata": {},
   "outputs": [
    {
     "data": {
      "text/plain": [
       "\n",
       "Call:\n",
       "glm(formula = cbind(y, n - y) ~ .^2, family = binomial(link = \"logit\"), \n",
       "    data = df, x = T)\n",
       "\n",
       "Deviance Residuals: \n",
       "     Min        1Q    Median        3Q       Max  \n",
       "-1.80428  -0.47886   0.03675   0.63275   2.44158  \n",
       "\n",
       "Coefficients:\n",
       "                        Estimate Std. Error z value Pr(>|z|)  \n",
       "(Intercept)             0.637200   0.620899   1.026   0.3048  \n",
       "trtActive              -0.821295   0.750428  -1.094   0.2738  \n",
       "age                     0.039098   0.021519   1.817   0.0692 .\n",
       "genderFemale           -0.402695   0.842024  -0.478   0.6325  \n",
       "trtActive:age          -0.007802   0.025685  -0.304   0.7613  \n",
       "trtActive:genderFemale -0.878452   0.611393  -1.437   0.1508  \n",
       "age:genderFemale        0.054947   0.030353   1.810   0.0703 .\n",
       "---\n",
       "Signif. codes:  0 ‘***’ 0.001 ‘**’ 0.01 ‘*’ 0.05 ‘.’ 0.1 ‘ ’ 1\n",
       "\n",
       "(Dispersion parameter for binomial family taken to be 1)\n",
       "\n",
       "    Null deviance: 98.669  on 58  degrees of freedom\n",
       "Residual deviance: 46.756  on 52  degrees of freedom\n",
       "AIC: 156.65\n",
       "\n",
       "Number of Fisher Scoring iterations: 5\n"
      ]
     },
     "metadata": {},
     "output_type": "display_data"
    }
   ],
   "source": [
    "### initialization\n",
    "df = dat_v4\n",
    "\n",
    "### fit the model\n",
    "fit_logit_int = glm(cbind(y, n-y) ~ .^2, data = df, family = binomial(link = \"logit\"), x = T)\n",
    "summary(fit_logit_int)"
   ]
  },
  {
   "cell_type": "markdown",
   "metadata": {},
   "source": [
    "**We can further perform the Wald test for all the interaction terms. The wald's statistics of interaction terms is about 0.00006 (p value ~ 0.99). Therefore, under level 0.05, we do not think there are interactions between variables and thus drop the interaction terms in our model**"
   ]
  },
  {
   "cell_type": "code",
   "execution_count": 3,
   "metadata": {},
   "outputs": [
    {
     "data": {
      "text/html": [
       "<dl>\n",
       "\t<dt>$df</dt>\n",
       "\t\t<dd>3</dd>\n",
       "\t<dt>$walds</dt>\n",
       "\t\t<dd><table>\n",
       "<tbody>\n",
       "\t<tr><td>0.2890502</td></tr>\n",
       "</tbody>\n",
       "</table>\n",
       "</dd>\n",
       "\t<dt>$pval</dt>\n",
       "\t\t<dd><table>\n",
       "<tbody>\n",
       "\t<tr><td>0.9620745</td></tr>\n",
       "</tbody>\n",
       "</table>\n",
       "</dd>\n",
       "</dl>\n"
      ],
      "text/latex": [
       "\\begin{description}\n",
       "\\item[\\$df] 3\n",
       "\\item[\\$walds] \\begin{tabular}{l}\n",
       "\t 0.2890502\\\\\n",
       "\\end{tabular}\n",
       "\n",
       "\\item[\\$pval] \\begin{tabular}{l}\n",
       "\t 0.9620745\\\\\n",
       "\\end{tabular}\n",
       "\n",
       "\\end{description}\n"
      ],
      "text/markdown": [
       "$df\n",
       ":   3\n",
       "$walds\n",
       ":   \n",
       "| 0.2890502 | \n",
       "\n",
       "\n",
       "\n",
       "$pval\n",
       ":   \n",
       "| 0.9620745 | \n",
       "\n",
       "\n",
       "\n",
       "\n",
       "\n"
      ],
      "text/plain": [
       "$df\n",
       "[1] 3\n",
       "\n",
       "$walds\n",
       "          [,1]\n",
       "[1,] 0.2890502\n",
       "\n",
       "$pval\n",
       "          [,1]\n",
       "[1,] 0.9620745\n"
      ]
     },
     "metadata": {},
     "output_type": "display_data"
    }
   ],
   "source": [
    "### contrast matrix\n",
    "L = diag(7)[, -c(1:4)]\n",
    "\n",
    "### wald statistics to test all interaction terms together\n",
    "fun_walds_glm(fit_logit_int, L)"
   ]
  },
  {
   "cell_type": "markdown",
   "metadata": {},
   "source": [
    "**Since we want to drop the interaction terms, we now have models with linear terms of each variables**"
   ]
  },
  {
   "cell_type": "code",
   "execution_count": 4,
   "metadata": {},
   "outputs": [
    {
     "data": {
      "text/plain": [
       "\n",
       "Call:\n",
       "glm(formula = cbind(y, n - y) ~ ., family = binomial(link = \"logit\"), \n",
       "    data = dat, x = T)\n",
       "\n",
       "Deviance Residuals: \n",
       "     Min        1Q    Median        3Q       Max  \n",
       "-2.05258  -0.51486  -0.08353   0.64461   2.57404  \n",
       "\n",
       "Coefficients:\n",
       "             Estimate Std. Error z value Pr(>|z|)    \n",
       "(Intercept)   0.56038    0.37521   1.494 0.135298    \n",
       "trtActive    -1.18407    0.24544  -4.824  1.4e-06 ***\n",
       "age           0.04552    0.01230   3.701 0.000214 ***\n",
       "genderFemale  0.56527    0.26566   2.128 0.033349 *  \n",
       "---\n",
       "Signif. codes:  0 ‘***’ 0.001 ‘**’ 0.01 ‘*’ 0.05 ‘.’ 0.1 ‘ ’ 1\n",
       "\n",
       "(Dispersion parameter for binomial family taken to be 1)\n",
       "\n",
       "    Null deviance: 98.669  on 58  degrees of freedom\n",
       "Residual deviance: 51.340  on 55  degrees of freedom\n",
       "AIC: 155.24\n",
       "\n",
       "Number of Fisher Scoring iterations: 4\n"
      ]
     },
     "metadata": {},
     "output_type": "display_data"
    }
   ],
   "source": [
    "### initialization\n",
    "dat = dat_v4\n",
    "\n",
    "### fit the model\n",
    "fit_logit = glm(cbind(y, n-y) ~ ., data = dat, family = binomial(link = \"logit\"), x = T)\n",
    "summary(fit_logit)"
   ]
  },
  {
   "cell_type": "markdown",
   "metadata": {},
   "source": [
    "# How well the model fit?"
   ]
  },
  {
   "cell_type": "markdown",
   "metadata": {},
   "source": [
    "**We can plot the standardized residuals to check how the model fit the data.**"
   ]
  },
  {
   "cell_type": "code",
   "execution_count": 6,
   "metadata": {},
   "outputs": [
    {
     "data": {
      "text/html": [
       "<table>\n",
       "<thead><tr><th scope=col>trt</th><th scope=col>age</th><th scope=col>gender</th><th scope=col>y</th><th scope=col>n</th><th scope=col>spres</th><th scope=col>sdres</th><th scope=col>lres</th><th scope=col>ares</th><th scope=col>h</th></tr></thead>\n",
       "<tbody>\n",
       "\t<tr><td>Placebo   </td><td>13        </td><td>Male      </td><td> 6        </td><td> 7        </td><td>1.2901346 </td><td>1.3872365 </td><td>1.3803984 </td><td>1.3999925 </td><td>0.07279546</td></tr>\n",
       "\t<tr><td>Placebo   </td><td>13        </td><td>Female    </td><td>10        </td><td>12        </td><td>0.5974349 </td><td>0.6205290 </td><td>0.6165560 </td><td>0.6211694 </td><td>0.17473420</td></tr>\n",
       "\t<tr><td>Placebo   </td><td>14        </td><td>Male      </td><td> 5        </td><td> 7        </td><td>0.4232094 </td><td>0.4307637 </td><td>0.4302694 </td><td>0.4310915 </td><td>0.06597185</td></tr>\n",
       "</tbody>\n",
       "</table>\n"
      ],
      "text/latex": [
       "\\begin{tabular}{r|llllllllll}\n",
       " trt & age & gender & y & n & spres & sdres & lres & ares & h\\\\\n",
       "\\hline\n",
       "\t Placebo    & 13         & Male       &  6         &  7         & 1.2901346  & 1.3872365  & 1.3803984  & 1.3999925  & 0.07279546\\\\\n",
       "\t Placebo    & 13         & Female     & 10         & 12         & 0.5974349  & 0.6205290  & 0.6165560  & 0.6211694  & 0.17473420\\\\\n",
       "\t Placebo    & 14         & Male       &  5         &  7         & 0.4232094  & 0.4307637  & 0.4302694  & 0.4310915  & 0.06597185\\\\\n",
       "\\end{tabular}\n"
      ],
      "text/markdown": [
       "\n",
       "trt | age | gender | y | n | spres | sdres | lres | ares | h | \n",
       "|---|---|---|\n",
       "| Placebo    | 13         | Male       |  6         |  7         | 1.2901346  | 1.3872365  | 1.3803984  | 1.3999925  | 0.07279546 | \n",
       "| Placebo    | 13         | Female     | 10         | 12         | 0.5974349  | 0.6205290  | 0.6165560  | 0.6211694  | 0.17473420 | \n",
       "| Placebo    | 14         | Male       |  5         |  7         | 0.4232094  | 0.4307637  | 0.4302694  | 0.4310915  | 0.06597185 | \n",
       "\n",
       "\n"
      ],
      "text/plain": [
       "  trt     age gender y  n  spres     sdres     lres      ares      h         \n",
       "1 Placebo 13  Male    6  7 1.2901346 1.3872365 1.3803984 1.3999925 0.07279546\n",
       "2 Placebo 13  Female 10 12 0.5974349 0.6205290 0.6165560 0.6211694 0.17473420\n",
       "3 Placebo 14  Male    5  7 0.4232094 0.4307637 0.4302694 0.4310915 0.06597185"
      ]
     },
     "metadata": {},
     "output_type": "display_data"
    }
   ],
   "source": [
    "df = cbind(dat, f.glm.diag(fit_logit))\n",
    "head(df, 3)"
   ]
  },
  {
   "cell_type": "code",
   "execution_count": 7,
   "metadata": {},
   "outputs": [
    {
     "data": {
      "image/png": "[encoded data removed]",
      "text/plain": [
       "plot without title"
      ]
     },
     "metadata": {},
     "output_type": "display_data"
    }
   ],
   "source": [
    "df  = cbind(dat, f.glm.diag(fit_logit))\n",
    "\n",
    "gp  = ggplot(df, aes(x = y, y = sdres))\n",
    "gp  = gp +\n",
    "    geom_point() + \n",
    "    ylim(c(-4, 4)) + \n",
    "    geom_hline(yintercept = 0, lty = 2) +\n",
    "    geom_smooth(method = \"loess\", span = 0.8) +\n",
    "    labs(title = \"cbind(y, n-y) ~ age + gender\",\n",
    "         x = \"y\", y = \"standardized\\ndeviane residual\")\n",
    "\n",
    "options(repr.plot.height = 3, repr.plot.width = 5)\n",
    "print(gp)"
   ]
  },
  {
   "cell_type": "markdown",
   "metadata": {},
   "source": [
    "## Hosmolimashow"
   ]
  },
  {
   "cell_type": "code",
   "execution_count": 8,
   "metadata": {},
   "outputs": [
    {
     "data": {
      "text/html": [
       "<dl>\n",
       "\t<dt>$chisq</dt>\n",
       "\t\t<dd>17676.3518844742</dd>\n",
       "\t<dt>$p.value</dt>\n",
       "\t\t<dd>0</dd>\n",
       "</dl>\n"
      ],
      "text/latex": [
       "\\begin{description}\n",
       "\\item[\\$chisq] 17676.3518844742\n",
       "\\item[\\$p.value] 0\n",
       "\\end{description}\n"
      ],
      "text/markdown": [
       "$chisq\n",
       ":   17676.3518844742\n",
       "$p.value\n",
       ":   0\n",
       "\n",
       "\n"
      ],
      "text/plain": [
       "$chisq\n",
       "[1] 17676.35\n",
       "\n",
       "$p.value\n",
       "[1] 0\n"
      ]
     },
     "metadata": {},
     "output_type": "display_data"
    }
   ],
   "source": [
    "### initialization\n",
    "dat = dat_v4\n",
    "\n",
    "###\n",
    "fun_hosmerlem(dat$y, fit_logit$fitted.values, g = 10)"
   ]
  },
  {
   "cell_type": "code",
   "execution_count": 9,
   "metadata": {},
   "outputs": [
    {
     "data": {
      "text/plain": [
       "\n",
       "\tHosmer and Lemeshow goodness of fit (GOF) test\n",
       "\n",
       "data:  dat$y, fit_logit$fitted.values\n",
       "X-squared = 17675, df = 8, p-value < 2.2e-16\n"
      ]
     },
     "metadata": {},
     "output_type": "display_data"
    }
   ],
   "source": [
    "### initialization\n",
    "dat = dat_v4\n",
    "\n",
    "hoslem.test(dat$y, fit_logit$fitted.values, g = 10)"
   ]
  },
  {
   "cell_type": "markdown",
   "metadata": {},
   "source": [
    "# test for higher order term"
   ]
  },
  {
   "cell_type": "code",
   "execution_count": 14,
   "metadata": {},
   "outputs": [],
   "source": [
    "### initialization\n",
    "dat = dat_v4\n",
    "\n",
    "### fit the model\n",
    "fit_logit    = glm(cbind(y, n-y) ~ trt + age + gender, data = dat, family = binomial(link = \"logit\"), x = T)\n",
    "fit_logit_sq = glm(cbind(y, n-y) ~ trt + age + I(age^2) + gender, data = dat, family = binomial(link = \"logit\"), x = T)"
   ]
  },
  {
   "cell_type": "markdown",
   "metadata": {},
   "source": [
    "We do not reject the null. Therefore, I do not add squared term into our model"
   ]
  },
  {
   "cell_type": "code",
   "execution_count": 15,
   "metadata": {},
   "outputs": [
    {
     "data": {
      "text/html": [
       "<table>\n",
       "<thead><tr><th scope=col>#Df</th><th scope=col>LogLik</th><th scope=col>Df</th><th scope=col>Chisq</th><th scope=col>Pr(&gt;Chisq)</th></tr></thead>\n",
       "<tbody>\n",
       "\t<tr><td>4         </td><td>-73.61813 </td><td>NA        </td><td>      NA  </td><td>        NA</td></tr>\n",
       "\t<tr><td>5         </td><td>-70.76912 </td><td> 1        </td><td>5.698016  </td><td>0.01698411</td></tr>\n",
       "</tbody>\n",
       "</table>\n"
      ],
      "text/latex": [
       "\\begin{tabular}{r|lllll}\n",
       " \\#Df & LogLik & Df & Chisq & Pr(>Chisq)\\\\\n",
       "\\hline\n",
       "\t 4          & -73.61813  & NA         &       NA   &         NA\\\\\n",
       "\t 5          & -70.76912  &  1         & 5.698016   & 0.01698411\\\\\n",
       "\\end{tabular}\n"
      ],
      "text/markdown": [
       "\n",
       "#Df | LogLik | Df | Chisq | Pr(>Chisq) | \n",
       "|---|---|\n",
       "| 4          | -73.61813  | NA         |       NA   |         NA | \n",
       "| 5          | -70.76912  |  1         | 5.698016   | 0.01698411 | \n",
       "\n",
       "\n"
      ],
      "text/plain": [
       "  #Df LogLik    Df Chisq    Pr(>Chisq)\n",
       "1 4   -73.61813 NA       NA         NA\n",
       "2 5   -70.76912  1 5.698016 0.01698411"
      ]
     },
     "metadata": {},
     "output_type": "display_data"
    }
   ],
   "source": [
    "lrtest(fit_logit, fit_logit_sq)"
   ]
  },
  {
   "cell_type": "markdown",
   "metadata": {},
   "source": [
    "# Test if we need to use different link to update "
   ]
  },
  {
   "cell_type": "code",
   "execution_count": 16,
   "metadata": {},
   "outputs": [
    {
     "data": {
      "text/html": [
       "<table>\n",
       "<thead><tr><th scope=col>trt</th><th scope=col>age</th><th scope=col>gender</th><th scope=col>y</th><th scope=col>n</th><th scope=col>z</th></tr></thead>\n",
       "<tbody>\n",
       "\t<tr><td>Placebo  </td><td>13       </td><td>Male     </td><td> 6       </td><td> 7       </td><td>0.8774674</td></tr>\n",
       "\t<tr><td>Placebo  </td><td>13       </td><td>Female   </td><td>10       </td><td>12       </td><td>1.2204750</td></tr>\n",
       "\t<tr><td>Placebo  </td><td>14       </td><td>Male     </td><td> 5       </td><td> 7       </td><td>0.9026835</td></tr>\n",
       "</tbody>\n",
       "</table>\n"
      ],
      "text/latex": [
       "\\begin{tabular}{r|llllll}\n",
       " trt & age & gender & y & n & z\\\\\n",
       "\\hline\n",
       "\t Placebo   & 13        & Male      &  6        &  7        & 0.8774674\\\\\n",
       "\t Placebo   & 13        & Female    & 10        & 12        & 1.2204750\\\\\n",
       "\t Placebo   & 14        & Male      &  5        &  7        & 0.9026835\\\\\n",
       "\\end{tabular}\n"
      ],
      "text/markdown": [
       "\n",
       "trt | age | gender | y | n | z | \n",
       "|---|---|---|\n",
       "| Placebo   | 13        | Male      |  6        |  7        | 0.8774674 | \n",
       "| Placebo   | 13        | Female    | 10        | 12        | 1.2204750 | \n",
       "| Placebo   | 14        | Male      |  5        |  7        | 0.9026835 | \n",
       "\n",
       "\n"
      ],
      "text/plain": [
       "  trt     age gender y  n  z        \n",
       "1 Placebo 13  Male    6  7 0.8774674\n",
       "2 Placebo 13  Female 10 12 1.2204750\n",
       "3 Placebo 14  Male    5  7 0.9026835"
      ]
     },
     "metadata": {},
     "output_type": "display_data"
    }
   ],
   "source": [
    "dG = function(p, alpha){\n",
    "    log(1 - p) / ((1 - p)^alpha - 1) - alpha^{-1}\n",
    "} # end func\n",
    "\n",
    "dat   = dat_v4\n",
    "fit_logit    = glm(cbind(y, n-y) ~ trt + age + gender, data = dat, family = binomial(link = \"logit\"), x = T)\n",
    "\n",
    "dat$z = dG(fit_logit$fitted.values, 1)\n",
    "head(dat, 3)"
   ]
  },
  {
   "cell_type": "markdown",
   "metadata": {},
   "source": [
    "Since the z term is not significant under level 0.05, we decided not to change our link for other $\\alpha$"
   ]
  },
  {
   "cell_type": "code",
   "execution_count": 17,
   "metadata": {},
   "outputs": [
    {
     "data": {
      "text/html": [
       "<table>\n",
       "<thead><tr><th></th><th scope=col>Df</th><th scope=col>Deviance</th><th scope=col>Resid. Df</th><th scope=col>Resid. Dev</th><th scope=col>Pr(&gt;Chi)</th></tr></thead>\n",
       "<tbody>\n",
       "\t<tr><th scope=row>NULL</th><td>NA          </td><td>          NA</td><td>58          </td><td>98.66933    </td><td>          NA</td></tr>\n",
       "\t<tr><th scope=row>trt</th><td> 1          </td><td>24.180442126</td><td>57          </td><td>74.48889    </td><td>8.771857e-07</td></tr>\n",
       "\t<tr><th scope=row>age</th><td> 1          </td><td>18.403738703</td><td>56          </td><td>56.08515    </td><td>1.787070e-05</td></tr>\n",
       "\t<tr><th scope=row>gender</th><td> 1          </td><td> 4.744782295</td><td>55          </td><td>51.34036    </td><td>2.938727e-02</td></tr>\n",
       "\t<tr><th scope=row>z</th><td> 1          </td><td> 0.001807716</td><td>54          </td><td>51.33856    </td><td>9.660864e-01</td></tr>\n",
       "</tbody>\n",
       "</table>\n"
      ],
      "text/latex": [
       "\\begin{tabular}{r|lllll}\n",
       "  & Df & Deviance & Resid. Df & Resid. Dev & Pr(>Chi)\\\\\n",
       "\\hline\n",
       "\tNULL & NA           &           NA & 58           & 98.66933     &           NA\\\\\n",
       "\ttrt &  1           & 24.180442126 & 57           & 74.48889     & 8.771857e-07\\\\\n",
       "\tage &  1           & 18.403738703 & 56           & 56.08515     & 1.787070e-05\\\\\n",
       "\tgender &  1           &  4.744782295 & 55           & 51.34036     & 2.938727e-02\\\\\n",
       "\tz &  1           &  0.001807716 & 54           & 51.33856     & 9.660864e-01\\\\\n",
       "\\end{tabular}\n"
      ],
      "text/markdown": [
       "\n",
       "| <!--/--> | Df | Deviance | Resid. Df | Resid. Dev | Pr(>Chi) | \n",
       "|---|---|---|---|---|\n",
       "| NULL | NA           |           NA | 58           | 98.66933     |           NA | \n",
       "| trt |  1           | 24.180442126 | 57           | 74.48889     | 8.771857e-07 | \n",
       "| age |  1           | 18.403738703 | 56           | 56.08515     | 1.787070e-05 | \n",
       "| gender |  1           |  4.744782295 | 55           | 51.34036     | 2.938727e-02 | \n",
       "| z |  1           |  0.001807716 | 54           | 51.33856     | 9.660864e-01 | \n",
       "\n",
       "\n"
      ],
      "text/plain": [
       "       Df Deviance     Resid. Df Resid. Dev Pr(>Chi)    \n",
       "NULL   NA           NA 58        98.66933             NA\n",
       "trt     1 24.180442126 57        74.48889   8.771857e-07\n",
       "age     1 18.403738703 56        56.08515   1.787070e-05\n",
       "gender  1  4.744782295 55        51.34036   2.938727e-02\n",
       "z       1  0.001807716 54        51.33856   9.660864e-01"
      ]
     },
     "metadata": {},
     "output_type": "display_data"
    }
   ],
   "source": [
    "fit_link = glm(cbind(y, n - y) ~ trt + age + gender + z, data = dat, family = binomial(link = \"logit\"))\n",
    "anova(fit_link, test = \"Chisq\")"
   ]
  },
  {
   "cell_type": "markdown",
   "metadata": {},
   "source": [
    "# What if we try to fit the model by categorizing age and test if the effect of age  is linear or nonlinear?"
   ]
  },
  {
   "cell_type": "markdown",
   "metadata": {},
   "source": [
    "This part can be done later."
   ]
  }
 ],
 "metadata": {
  "kernelspec": {
   "display_name": "R",
   "language": "R",
   "name": "ir"
  },
  "language_info": {
   "codemirror_mode": "r",
   "file_extension": ".r",
   "mimetype": "text/x-r-source",
   "name": "R",
   "pygments_lexer": "r",
   "version": "3.5.1"
  }
 },
 "nbformat": 4,
 "nbformat_minor": 2
}
