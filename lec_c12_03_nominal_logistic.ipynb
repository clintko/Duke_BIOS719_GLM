{
 "cells": [
  {
   "cell_type": "markdown",
   "metadata": {},
   "source": [
    "# Background"
   ]
  },
  {
   "cell_type": "code",
   "execution_count": null,
   "metadata": {},
   "outputs": [],
   "source": []
  },
  {
   "cell_type": "markdown",
   "metadata": {},
   "source": [
    "# Set environment"
   ]
  },
  {
   "cell_type": "code",
   "execution_count": 49,
   "metadata": {},
   "outputs": [],
   "source": [
    "library(\"tidyverse\")\n",
    "library(\"nnet\")\n",
    "library(IRdisplay)"
   ]
  },
  {
   "cell_type": "markdown",
   "metadata": {},
   "source": [
    "# Data"
   ]
  },
  {
   "cell_type": "code",
   "execution_count": 52,
   "metadata": {},
   "outputs": [
    {
     "data": {
      "text/html": [
       "<table>\n",
       "<thead><tr><th></th><th scope=col>women</th><th scope=col>men</th></tr></thead>\n",
       "<tbody>\n",
       "\t<tr><th scope=row>1:no/little</th><td>40</td><td>65</td></tr>\n",
       "\t<tr><th scope=row>2:important</th><td>47</td><td>47</td></tr>\n",
       "\t<tr><th scope=row>3:very-important</th><td>63</td><td>38</td></tr>\n",
       "</tbody>\n",
       "</table>\n"
      ],
      "text/latex": [
       "\\begin{tabular}{r|ll}\n",
       "  & women & men\\\\\n",
       "\\hline\n",
       "\t1:no/little & 40 & 65\\\\\n",
       "\t2:important & 47 & 47\\\\\n",
       "\t3:very-important & 63 & 38\\\\\n",
       "\\end{tabular}\n"
      ],
      "text/markdown": [
       "\n",
       "| <!--/--> | women | men | \n",
       "|---|---|---|\n",
       "| 1:no/little | 40 | 65 | \n",
       "| 2:important | 47 | 47 | \n",
       "| 3:very-important | 63 | 38 | \n",
       "\n",
       "\n"
      ],
      "text/plain": [
       "                 women men\n",
       "1:no/little      40    65 \n",
       "2:important      47    47 \n",
       "3:very-important 63    38 "
      ]
     },
     "metadata": {},
     "output_type": "display_data"
    },
    {
     "data": {
      "text/html": [
       "<table>\n",
       "<thead><tr><th></th><th scope=col>response</th><th scope=col>gender</th></tr></thead>\n",
       "<tbody>\n",
       "\t<tr><th scope=row>270</th><td>3:very-important</td><td>men             </td></tr>\n",
       "\t<tr><th scope=row>80</th><td>2:important     </td><td>women           </td></tr>\n",
       "\t<tr><th scope=row>111</th><td>3:very-important</td><td>women           </td></tr>\n",
       "\t<tr><th scope=row>171</th><td>1:no/little     </td><td>men             </td></tr>\n",
       "\t<tr><th scope=row>269</th><td>3:very-important</td><td>men             </td></tr>\n",
       "\t<tr><th scope=row>60</th><td>2:important     </td><td>women           </td></tr>\n",
       "\t<tr><th scope=row>265</th><td>3:very-important</td><td>men             </td></tr>\n",
       "\t<tr><th scope=row>277</th><td>3:very-important</td><td>men             </td></tr>\n",
       "\t<tr><th scope=row>193</th><td>1:no/little     </td><td>men             </td></tr>\n",
       "\t<tr><th scope=row>184</th><td>1:no/little     </td><td>men             </td></tr>\n",
       "</tbody>\n",
       "</table>\n"
      ],
      "text/latex": [
       "\\begin{tabular}{r|ll}\n",
       "  & response & gender\\\\\n",
       "\\hline\n",
       "\t270 & 3:very-important & men             \\\\\n",
       "\t80 & 2:important      & women           \\\\\n",
       "\t111 & 3:very-important & women           \\\\\n",
       "\t171 & 1:no/little      & men             \\\\\n",
       "\t269 & 3:very-important & men             \\\\\n",
       "\t60 & 2:important      & women           \\\\\n",
       "\t265 & 3:very-important & men             \\\\\n",
       "\t277 & 3:very-important & men             \\\\\n",
       "\t193 & 1:no/little      & men             \\\\\n",
       "\t184 & 1:no/little      & men             \\\\\n",
       "\\end{tabular}\n"
      ],
      "text/markdown": [
       "\n",
       "| <!--/--> | response | gender | \n",
       "|---|---|---|---|---|---|---|---|---|---|\n",
       "| 270 | 3:very-important | men              | \n",
       "| 80 | 2:important      | women            | \n",
       "| 111 | 3:very-important | women            | \n",
       "| 171 | 1:no/little      | men              | \n",
       "| 269 | 3:very-important | men              | \n",
       "| 60 | 2:important      | women            | \n",
       "| 265 | 3:very-important | men              | \n",
       "| 277 | 3:very-important | men              | \n",
       "| 193 | 1:no/little      | men              | \n",
       "| 184 | 1:no/little      | men              | \n",
       "\n",
       "\n"
      ],
      "text/plain": [
       "    response         gender\n",
       "270 3:very-important men   \n",
       "80  2:important      women \n",
       "111 3:very-important women \n",
       "171 1:no/little      men   \n",
       "269 3:very-important men   \n",
       "60  2:important      women \n",
       "265 3:very-important men   \n",
       "277 3:very-important men   \n",
       "193 1:no/little      men   \n",
       "184 1:no/little      men   "
      ]
     },
     "metadata": {},
     "output_type": "display_data"
    }
   ],
   "source": [
    "source(\"./data/cars.R\")\n",
    "display(cars)\n",
    "\n",
    "set.seed(0)\n",
    "display(cars_n1 %>% sample_n(10))"
   ]
  },
  {
   "cell_type": "markdown",
   "metadata": {},
   "source": [
    "**Notation:**\n",
    "\n",
    "There are three groups $J = 3$\n",
    "\n",
    "$\\pi_j$ is the probability of each group\n",
    "\n",
    "- $\\pi_1 = P(1:no/little)$\n",
    "\n",
    "- $\\pi_2 = P(2:important)$\n",
    "\n",
    "- $\\pi_3 = P(3:very important)$"
   ]
  },
  {
   "cell_type": "markdown",
   "metadata": {},
   "source": [
    "**model:**\n",
    "\n",
    "$$log \\big( \\frac{\\pi_2}{\\pi_1} \\big) = \\beta_{02} + \\beta_{12} * x$$\n",
    "\n",
    "$$log \\big( \\frac{\\pi_3}{\\pi_1} \\big) = \\beta_{03} + \\beta_{13} * x$$"
   ]
  },
  {
   "cell_type": "markdown",
   "metadata": {},
   "source": [
    "$$OR_2 = \\frac{\n",
    "    \\text{generalized odds(j = 2 vs j = 1) for x = 1}\n",
    "}{\n",
    "    \\text{generalized odds(j = 2 vs j = 1) for x = 0}\n",
    "} = \\frac{\n",
    "    \\Big( \\frac{\\pi_2}{\\pi_1} \\Big)_{x = 1}\n",
    "}{\n",
    "    \\Big( \\frac{\\pi_2}{\\pi_1} \\Big)_{x = 0}\n",
    "} = e^{\\beta_{12}}$$\n",
    "\n",
    "$$OR_3 = \\frac{\n",
    "    \\text{generalized odds(j = 3 vs j = 1) for x = 1}\n",
    "}{\n",
    "    \\text{generalized odds(j = 3 vs j = 1) for x = 0}\n",
    "} = \\frac{\n",
    "    \\Big( \\frac{\\pi_3}{\\pi_1} \\Big)_{x = 1}\n",
    "}{\n",
    "    \\Big( \\frac{\\pi_3}{\\pi_1} \\Big)_{x = 0}\n",
    "} = e^{\\beta_{13}}$$\n"
   ]
  },
  {
   "cell_type": "markdown",
   "metadata": {},
   "source": [
    "**The data**\n",
    "\n",
    "| Category         | women | men |   \n",
    "|------------------|-------|-----|   \n",
    "| 1:no/little      |  40   |  65 |   \n",
    "| 2:important      |  47   |  47 |   \n",
    "| 3:very-important |  63   |  38 |   "
   ]
  },
  {
   "cell_type": "markdown",
   "metadata": {},
   "source": [
    "**Calculation**  \n",
    "\n",
    "Total = 40 + 47 + 63 + 65 + 47 + 38 = 300\n",
    "\n",
    "P(women) = (40 + 47 + 63) / 300 = 1/2  \n",
    "\n",
    "\n",
    "- P(1:no/little | women) = 40 / 150 = 0.2667\n",
    "- P(2:important | women) = 47 / 150 = 0.3133\n",
    "- P(3:very-impo | women) = 63 / 150 = 0.4200\n",
    "\n",
    "P(men) = (40 + 47 + 63) / 300 = 1/2  \n",
    "\n",
    "- P(1:no/little | men) = 65 / 150 = 0.4333\n",
    "- P(2:important | men) = 47 / 150 = 0.3133\n",
    "- P(3:very-impo | men) = 38 / 150 = 0.2533\n"
   ]
  },
  {
   "cell_type": "markdown",
   "metadata": {},
   "source": [
    "**generalized odds**\n",
    "\n",
    "| Category         | women (x=0)       | men (x=1)        |   \n",
    "|------------------|-------------------|------------------|   \n",
    "| 1:no/little      |  1                |  1               |   \n",
    "| 2:important      |  0.3133 / 0.2667  |  0.3133 / 0.4333 |   \n",
    "| 3:very-important |  0.4200 / 0.2667  |  0.2533 / 0.4333 |   \n",
    "\n",
    "\n",
    "| Category         | women (x=0) | men (x=1) |   \n",
    "|------------------|-------------|-----------|   \n",
    "| 1:no/little      |  1          |  1        |   \n",
    "| 2:important      |  1.1747     |  0.7231   |   \n",
    "| 3:very-important |  1.5748     |  0.5846   |   "
   ]
  },
  {
   "cell_type": "markdown",
   "metadata": {},
   "source": [
    "**generalized odds ratio**\n",
    "\n",
    "j-th odds for pattern 1 (x = 1; men) divided by j-th odds for pattern 2 (x = 0; women)\n",
    "\n",
    "\n",
    "$OR_{j = 2} = \\frac{\n",
    "    \\text{odds of 2:important | x = 1}\n",
    "}{\n",
    "    \\text{odds of 2:important | x = 0}\n",
    "} = \\frac{0.7231}{1.1747} = 0.6156$\n",
    "\n",
    "$OR_{j = 3} = \\frac{\n",
    "    \\text{odds of 3:very important | x = 1}\n",
    "}{\n",
    "    \\text{odds of 3:very important | x = 0}\n",
    "} = \\frac{0.5846}{1.5748} = 0.3712$"
   ]
  },
  {
   "cell_type": "markdown",
   "metadata": {},
   "source": [
    "**From the model**\n",
    "\n",
    "$OR_{j = 2} = e^{\\beta_{12}} = 0.6156 \\Rightarrow \\beta_{12} = -0.485$\n",
    "\n",
    "$OR_{j = 3} = e^{\\beta_{13}} = 0.3712 \\Rightarrow \\beta_{13} = -0.991$\n",
    "\n",
    "$log \\big( \\frac{\\pi_2}{\\pi_1} \\big) = \\beta_{02} + \\beta_{12} * x \\Rightarrow \\beta_{02} = log(1.1747) = 0.161$\n",
    "\n",
    "$log \\big( \\frac{\\pi_3}{\\pi_1} \\big) = \\beta_{03} + \\beta_{13} * x \\Rightarrow \\beta_{03} = log(1.5748) = 0.454$\n"
   ]
  },
  {
   "cell_type": "markdown",
   "metadata": {},
   "source": [
    "# Perform nominal logistics regression"
   ]
  },
  {
   "cell_type": "code",
   "execution_count": 69,
   "metadata": {},
   "outputs": [
    {
     "data": {
      "text/html": [
       "<table>\n",
       "<thead><tr><th scope=col>count</th><th scope=col>gender</th><th scope=col>response</th></tr></thead>\n",
       "<tbody>\n",
       "\t<tr><td>40              </td><td>women           </td><td>1:no/little     </td></tr>\n",
       "\t<tr><td>47              </td><td>women           </td><td>2:important     </td></tr>\n",
       "\t<tr><td>63              </td><td>women           </td><td>3:very-important</td></tr>\n",
       "\t<tr><td>65              </td><td>men             </td><td>1:no/little     </td></tr>\n",
       "\t<tr><td>47              </td><td>men             </td><td>2:important     </td></tr>\n",
       "\t<tr><td>38              </td><td>men             </td><td>3:very-important</td></tr>\n",
       "</tbody>\n",
       "</table>\n"
      ],
      "text/latex": [
       "\\begin{tabular}{r|lll}\n",
       " count & gender & response\\\\\n",
       "\\hline\n",
       "\t 40               & women            & 1:no/little     \\\\\n",
       "\t 47               & women            & 2:important     \\\\\n",
       "\t 63               & women            & 3:very-important\\\\\n",
       "\t 65               & men              & 1:no/little     \\\\\n",
       "\t 47               & men              & 2:important     \\\\\n",
       "\t 38               & men              & 3:very-important\\\\\n",
       "\\end{tabular}\n"
      ],
      "text/markdown": [
       "\n",
       "count | gender | response | \n",
       "|---|---|---|---|---|---|\n",
       "| 40               | women            | 1:no/little      | \n",
       "| 47               | women            | 2:important      | \n",
       "| 63               | women            | 3:very-important | \n",
       "| 65               | men              | 1:no/little      | \n",
       "| 47               | men              | 2:important      | \n",
       "| 38               | men              | 3:very-important | \n",
       "\n",
       "\n"
      ],
      "text/plain": [
       "  count gender response        \n",
       "1 40    women  1:no/little     \n",
       "2 47    women  2:important     \n",
       "3 63    women  3:very-important\n",
       "4 65    men    1:no/little     \n",
       "5 47    men    2:important     \n",
       "6 38    men    3:very-important"
      ]
     },
     "metadata": {},
     "output_type": "display_data"
    }
   ],
   "source": [
    "cars = data.frame(\n",
    "    count    = c(40, 47, 63, 65, 47, 38),\n",
    "    gender   = c(\"women\", \"women\", \"women\", \"men\", \"men\", \"men\"),\n",
    "    response = c(\"1:no/little\", \"2:important\", \"3:very-important\", \"1:no/little\", \"2:important\", \"3:very-important\"))\n",
    "    \n",
    "cars$response <- relevel(cars$response, ref = \"1:no/little\")\n",
    "cars$gender   <- relevel(cars$gender,   ref = \"women\")\n",
    "\n",
    "display(cars)"
   ]
  },
  {
   "cell_type": "code",
   "execution_count": 80,
   "metadata": {},
   "outputs": [
    {
     "name": "stdout",
     "output_type": "stream",
     "text": [
      "# weights:  9 (4 variable)\n",
      "initial  value 329.583687 \n",
      "final  value 323.140601 \n",
      "converged\n"
     ]
    }
   ],
   "source": [
    "cars$response <- relevel(cars$response, ref = \"1:no/little\")\n",
    "cars$gender   <- relevel(cars$gender,   ref = \"women\")\n",
    "test          <- multinom(response ~ gender, weights = count, data = cars)"
   ]
  },
  {
   "cell_type": "code",
   "execution_count": 81,
   "metadata": {},
   "outputs": [
    {
     "data": {
      "text/plain": [
       "Call:\n",
       "multinom(formula = response ~ gender, data = cars, weights = count)\n",
       "\n",
       "Coefficients:\n",
       "                 (Intercept)  gendermen\n",
       "2:important        0.1612636 -0.4855074\n",
       "3:very-important   0.4542540 -0.9910557\n",
       "\n",
       "Std. Errors:\n",
       "                 (Intercept) gendermen\n",
       "2:important        0.2151200 0.2879893\n",
       "3:very-important   0.2021706 0.2873557\n",
       "\n",
       "Residual Deviance: 646.2812 \n",
       "AIC: 654.2812 "
      ]
     },
     "metadata": {},
     "output_type": "display_data"
    }
   ],
   "source": [
    "test_sum = summary(test)\n",
    "test_sum"
   ]
  },
  {
   "cell_type": "code",
   "execution_count": 72,
   "metadata": {},
   "outputs": [
    {
     "data": {
      "text/html": [
       "646.281202257193"
      ],
      "text/latex": [
       "646.281202257193"
      ],
      "text/markdown": [
       "646.281202257193"
      ],
      "text/plain": [
       "[1] 646.2812"
      ]
     },
     "metadata": {},
     "output_type": "display_data"
    }
   ],
   "source": [
    "test$deviance"
   ]
  },
  {
   "cell_type": "code",
   "execution_count": 55,
   "metadata": {},
   "outputs": [
    {
     "data": {
      "text/plain": [
       "\n",
       "\tPearson's Chi-squared test\n",
       "\n",
       "data:  cars\n",
       "X-squared = 12.14, df = 2, p-value = 0.002311\n"
      ]
     },
     "metadata": {},
     "output_type": "display_data"
    }
   ],
   "source": [
    "chisq.test(cars)"
   ]
  }
 ],
 "metadata": {
  "kernelspec": {
   "display_name": "R",
   "language": "R",
   "name": "ir"
  },
  "language_info": {
   "codemirror_mode": "r",
   "file_extension": ".r",
   "mimetype": "text/x-r-source",
   "name": "R",
   "pygments_lexer": "r",
   "version": "3.5.1"
  }
 },
 "nbformat": 4,
 "nbformat_minor": 2
}
