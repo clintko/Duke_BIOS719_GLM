{
 "cells": [
  {
   "cell_type": "markdown",
   "metadata": {},
   "source": [
    "# set environment"
   ]
  },
  {
   "cell_type": "code",
   "execution_count": 1,
   "metadata": {},
   "outputs": [
    {
     "name": "stderr",
     "output_type": "stream",
     "text": [
      "── Attaching packages ─────────────────────────────────────── tidyverse 1.2.1 ──\n",
      "✔ ggplot2 3.0.0     ✔ purrr   0.2.5\n",
      "✔ tibble  1.4.2     ✔ dplyr   0.7.6\n",
      "✔ tidyr   0.8.1     ✔ stringr 1.3.1\n",
      "✔ readr   1.1.1     ✔ forcats 0.3.0\n",
      "── Conflicts ────────────────────────────────────────── tidyverse_conflicts() ──\n",
      "✖ dplyr::filter() masks stats::filter()\n",
      "✖ dplyr::lag()    masks stats::lag()\n"
     ]
    }
   ],
   "source": [
    "library(tidyverse)\n",
    "library(IRdisplay)"
   ]
  },
  {
   "cell_type": "code",
   "execution_count": 2,
   "metadata": {},
   "outputs": [
    {
     "data": {
      "text/html": [
       "<table>\n",
       "<thead><tr><th scope=col>dose</th><th scope=col>n</th><th scope=col>y</th><th scope=col>n_y</th></tr></thead>\n",
       "<tbody>\n",
       "\t<tr><td>1.6907</td><td>59    </td><td> 6    </td><td>53    </td></tr>\n",
       "\t<tr><td>1.7242</td><td>60    </td><td>13    </td><td>47    </td></tr>\n",
       "\t<tr><td>1.7552</td><td>62    </td><td>18    </td><td>44    </td></tr>\n",
       "\t<tr><td>1.7842</td><td>56    </td><td>28    </td><td>28    </td></tr>\n",
       "\t<tr><td>1.8113</td><td>63    </td><td>52    </td><td>11    </td></tr>\n",
       "\t<tr><td>1.8369</td><td>59    </td><td>53    </td><td> 6    </td></tr>\n",
       "\t<tr><td>1.8610</td><td>62    </td><td>61    </td><td> 1    </td></tr>\n",
       "\t<tr><td>1.8839</td><td>60    </td><td>60    </td><td> 0    </td></tr>\n",
       "</tbody>\n",
       "</table>\n"
      ],
      "text/latex": [
       "\\begin{tabular}{r|llll}\n",
       " dose & n & y & n\\_y\\\\\n",
       "\\hline\n",
       "\t 1.6907 & 59     &  6     & 53    \\\\\n",
       "\t 1.7242 & 60     & 13     & 47    \\\\\n",
       "\t 1.7552 & 62     & 18     & 44    \\\\\n",
       "\t 1.7842 & 56     & 28     & 28    \\\\\n",
       "\t 1.8113 & 63     & 52     & 11    \\\\\n",
       "\t 1.8369 & 59     & 53     &  6    \\\\\n",
       "\t 1.8610 & 62     & 61     &  1    \\\\\n",
       "\t 1.8839 & 60     & 60     &  0    \\\\\n",
       "\\end{tabular}\n"
      ],
      "text/markdown": [
       "\n",
       "dose | n | y | n_y | \n",
       "|---|---|---|---|---|---|---|---|\n",
       "| 1.6907 | 59     |  6     | 53     | \n",
       "| 1.7242 | 60     | 13     | 47     | \n",
       "| 1.7552 | 62     | 18     | 44     | \n",
       "| 1.7842 | 56     | 28     | 28     | \n",
       "| 1.8113 | 63     | 52     | 11     | \n",
       "| 1.8369 | 59     | 53     |  6     | \n",
       "| 1.8610 | 62     | 61     |  1     | \n",
       "| 1.8839 | 60     | 60     |  0     | \n",
       "\n",
       "\n"
      ],
      "text/plain": [
       "  dose   n  y  n_y\n",
       "1 1.6907 59  6 53 \n",
       "2 1.7242 60 13 47 \n",
       "3 1.7552 62 18 44 \n",
       "4 1.7842 56 28 28 \n",
       "5 1.8113 63 52 11 \n",
       "6 1.8369 59 53  6 \n",
       "7 1.8610 62 61  1 \n",
       "8 1.8839 60 60  0 "
      ]
     },
     "metadata": {},
     "output_type": "display_data"
    }
   ],
   "source": [
    "source(\"./data/beetle.R\")\n",
    "beetle"
   ]
  },
  {
   "cell_type": "code",
   "execution_count": 5,
   "metadata": {},
   "outputs": [
    {
     "data": {
      "text/html": [
       "<table>\n",
       "<thead><tr><th></th><th scope=col>logit</th><th scope=col>cloglog</th></tr></thead>\n",
       "<tbody>\n",
       "\t<tr><th scope=row>linear</th><td>41.43027</td><td>35.39294</td></tr>\n",
       "\t<tr><th scope=row>square</th><td>33.64448</td><td>35.60866</td></tr>\n",
       "</tbody>\n",
       "</table>\n"
      ],
      "text/latex": [
       "\\begin{tabular}{r|ll}\n",
       "  & logit & cloglog\\\\\n",
       "\\hline\n",
       "\tlinear & 41.43027 & 35.39294\\\\\n",
       "\tsquare & 33.64448 & 35.60866\\\\\n",
       "\\end{tabular}\n"
      ],
      "text/markdown": [
       "\n",
       "| <!--/--> | logit | cloglog | \n",
       "|---|---|\n",
       "| linear | 41.43027 | 35.39294 | \n",
       "| square | 33.64448 | 35.60866 | \n",
       "\n",
       "\n"
      ],
      "text/plain": [
       "       logit    cloglog \n",
       "linear 41.43027 35.39294\n",
       "square 33.64448 35.60866"
      ]
     },
     "metadata": {},
     "output_type": "display_data"
    }
   ],
   "source": [
    "fit_logit    = glm(cbind(y, n - y) ~ dose,             data = beetle, family = binomial(link = \"logit\"))\n",
    "fit_logit_sq = glm(cbind(y, n - y) ~ dose + I(dose^2), data = beetle, family = binomial(link = \"logit\"))\n",
    "\n",
    "fit_cloglog    = glm(cbind(y, n - y) ~ dose,             data = beetle, family = binomial(link = \"cloglog\"))\n",
    "fit_cloglog_sq = glm(cbind(y, n - y) ~ dose + I(dose^2), data = beetle, family = binomial(link = \"cloglog\"))\n",
    "\n",
    "mat = matrix(c(NA, NA, NA, NA), 2, 2)\n",
    "rownames(mat) = c(\"linear\", \"square\")\n",
    "colnames(mat) = c(\"logit\", \"cloglog\")\n",
    "\n",
    "mat[\"linear\", \"logit\"  ] = fit_logit$aic\n",
    "mat[\"linear\", \"cloglog\"] = fit_logit_sq$aic\n",
    "mat[\"square\", \"logit\"  ] = fit_cloglog$aic\n",
    "mat[\"square\", \"cloglog\"] = fit_cloglog_sq$aic\n",
    "\n",
    "display(mat)"
   ]
  },
  {
   "cell_type": "code",
   "execution_count": 6,
   "metadata": {},
   "outputs": [
    {
     "data": {
      "text/html": [
       "<table>\n",
       "<thead><tr><th scope=col>dose</th><th scope=col>n</th><th scope=col>y</th><th scope=col>n_y</th><th scope=col>z</th></tr></thead>\n",
       "<tbody>\n",
       "\t<tr><td>1.6907    </td><td>59        </td><td> 6        </td><td>53        </td><td>0.03049800</td></tr>\n",
       "\t<tr><td>1.7242    </td><td>60        </td><td>13        </td><td>47        </td><td>0.09225343</td></tr>\n",
       "\t<tr><td>1.7552    </td><td>62        </td><td>18        </td><td>44        </td><td>0.24159057</td></tr>\n",
       "\t<tr><td>1.7842    </td><td>56        </td><td>28        </td><td>28        </td><td>0.53584036</td></tr>\n",
       "\t<tr><td>1.8113    </td><td>63        </td><td>52        </td><td>11        </td><td>0.99401390</td></tr>\n",
       "\t<tr><td>1.8369    </td><td>59        </td><td>53        </td><td> 6        </td><td>1.58567955</td></tr>\n",
       "\t<tr><td>1.8610    </td><td>62        </td><td>61        </td><td> 1        </td><td>2.25112322</td></tr>\n",
       "\t<tr><td>1.8839    </td><td>60        </td><td>60        </td><td> 0        </td><td>2.94830490</td></tr>\n",
       "</tbody>\n",
       "</table>\n"
      ],
      "text/latex": [
       "\\begin{tabular}{r|lllll}\n",
       " dose & n & y & n\\_y & z\\\\\n",
       "\\hline\n",
       "\t 1.6907     & 59         &  6         & 53         & 0.03049800\\\\\n",
       "\t 1.7242     & 60         & 13         & 47         & 0.09225343\\\\\n",
       "\t 1.7552     & 62         & 18         & 44         & 0.24159057\\\\\n",
       "\t 1.7842     & 56         & 28         & 28         & 0.53584036\\\\\n",
       "\t 1.8113     & 63         & 52         & 11         & 0.99401390\\\\\n",
       "\t 1.8369     & 59         & 53         &  6         & 1.58567955\\\\\n",
       "\t 1.8610     & 62         & 61         &  1         & 2.25112322\\\\\n",
       "\t 1.8839     & 60         & 60         &  0         & 2.94830490\\\\\n",
       "\\end{tabular}\n"
      ],
      "text/markdown": [
       "\n",
       "dose | n | y | n_y | z | \n",
       "|---|---|---|---|---|---|---|---|\n",
       "| 1.6907     | 59         |  6         | 53         | 0.03049800 | \n",
       "| 1.7242     | 60         | 13         | 47         | 0.09225343 | \n",
       "| 1.7552     | 62         | 18         | 44         | 0.24159057 | \n",
       "| 1.7842     | 56         | 28         | 28         | 0.53584036 | \n",
       "| 1.8113     | 63         | 52         | 11         | 0.99401390 | \n",
       "| 1.8369     | 59         | 53         |  6         | 1.58567955 | \n",
       "| 1.8610     | 62         | 61         |  1         | 2.25112322 | \n",
       "| 1.8839     | 60         | 60         |  0         | 2.94830490 | \n",
       "\n",
       "\n"
      ],
      "text/plain": [
       "  dose   n  y  n_y z         \n",
       "1 1.6907 59  6 53  0.03049800\n",
       "2 1.7242 60 13 47  0.09225343\n",
       "3 1.7552 62 18 44  0.24159057\n",
       "4 1.7842 56 28 28  0.53584036\n",
       "5 1.8113 63 52 11  0.99401390\n",
       "6 1.8369 59 53  6  1.58567955\n",
       "7 1.8610 62 61  1  2.25112322\n",
       "8 1.8839 60 60  0  2.94830490"
      ]
     },
     "metadata": {},
     "output_type": "display_data"
    }
   ],
   "source": [
    "dG = function(p, alpha){\n",
    "    log(1 - p) / ((1 - p)^alpha - 1) - alpha^{-1}\n",
    "} # end func\n",
    "\n",
    "tmp   = beetle\n",
    "tmp$z = dG(fit_logit$fitted.values, 1)\n",
    "display(tmp)"
   ]
  },
  {
   "cell_type": "code",
   "execution_count": 10,
   "metadata": {},
   "outputs": [
    {
     "data": {
      "text/html": [
       "<table>\n",
       "<thead><tr><th></th><th scope=col>Df</th><th scope=col>Deviance</th><th scope=col>Resid. Df</th><th scope=col>Resid. Dev</th><th scope=col>Pr(&gt;Chi)</th></tr></thead>\n",
       "<tbody>\n",
       "\t<tr><th scope=row>NULL</th><td>NA          </td><td>        NA  </td><td>7           </td><td>284.202449  </td><td>          NA</td></tr>\n",
       "\t<tr><th scope=row>dose</th><td> 1          </td><td>272.970218  </td><td>6           </td><td> 11.232231  </td><td>2.556089e-61</td></tr>\n",
       "\t<tr><th scope=row>z</th><td> 1          </td><td>  8.279424  </td><td>5           </td><td>  2.952807  </td><td>4.009684e-03</td></tr>\n",
       "</tbody>\n",
       "</table>\n"
      ],
      "text/latex": [
       "\\begin{tabular}{r|lllll}\n",
       "  & Df & Deviance & Resid. Df & Resid. Dev & Pr(>Chi)\\\\\n",
       "\\hline\n",
       "\tNULL & NA           &         NA   & 7            & 284.202449   &           NA\\\\\n",
       "\tdose &  1           & 272.970218   & 6            &  11.232231   & 2.556089e-61\\\\\n",
       "\tz &  1           &   8.279424   & 5            &   2.952807   & 4.009684e-03\\\\\n",
       "\\end{tabular}\n"
      ],
      "text/markdown": [
       "\n",
       "| <!--/--> | Df | Deviance | Resid. Df | Resid. Dev | Pr(>Chi) | \n",
       "|---|---|---|\n",
       "| NULL | NA           |         NA   | 7            | 284.202449   |           NA | \n",
       "| dose |  1           | 272.970218   | 6            |  11.232231   | 2.556089e-61 | \n",
       "| z |  1           |   8.279424   | 5            |   2.952807   | 4.009684e-03 | \n",
       "\n",
       "\n"
      ],
      "text/plain": [
       "     Df Deviance   Resid. Df Resid. Dev Pr(>Chi)    \n",
       "NULL NA         NA 7         284.202449           NA\n",
       "dose  1 272.970218 6          11.232231 2.556089e-61\n",
       "z     1   8.279424 5           2.952807 4.009684e-03"
      ]
     },
     "metadata": {},
     "output_type": "display_data"
    }
   ],
   "source": [
    "fit_link = glm(cbind(y, n - y) ~ dose + z, data = tmp, family = binomial(link = \"logit\"))\n",
    "anova(fit_link, test = \"Chisq\")"
   ]
  },
  {
   "attachments": {},
   "cell_type": "markdown",
   "metadata": {},
   "source": [
    "Here we try loglog link with the addition of square term\n",
    "\n",
    "The loglog link is able to take care of the non-linear relationship. Therefore, the square term is not really significant"
   ]
  },
  {
   "cell_type": "code",
   "execution_count": 11,
   "metadata": {},
   "outputs": [
    {
     "data": {
      "text/html": [
       "<table>\n",
       "<thead><tr><th></th><th scope=col>Df</th><th scope=col>Deviance</th><th scope=col>Resid. Df</th><th scope=col>Resid. Dev</th><th scope=col>Pr(&gt;Chi)</th></tr></thead>\n",
       "<tbody>\n",
       "\t<tr><th scope=row>NULL</th><td>NA          </td><td>         NA </td><td>7           </td><td>284.202449  </td><td>          NA</td></tr>\n",
       "\t<tr><th scope=row>dose</th><td> 1          </td><td>272.9702184 </td><td>6           </td><td> 11.232231  </td><td>2.556089e-61</td></tr>\n",
       "\t<tr><th scope=row>I(dose^2)</th><td> 1          </td><td>  8.0373258 </td><td>5           </td><td>  3.194905  </td><td>4.582314e-03</td></tr>\n",
       "\t<tr><th scope=row>z</th><td> 1          </td><td>  0.2851347 </td><td>4           </td><td>  2.909771  </td><td>5.933553e-01</td></tr>\n",
       "</tbody>\n",
       "</table>\n"
      ],
      "text/latex": [
       "\\begin{tabular}{r|lllll}\n",
       "  & Df & Deviance & Resid. Df & Resid. Dev & Pr(>Chi)\\\\\n",
       "\\hline\n",
       "\tNULL & NA           &          NA  & 7            & 284.202449   &           NA\\\\\n",
       "\tdose &  1           & 272.9702184  & 6            &  11.232231   & 2.556089e-61\\\\\n",
       "\tI(dose\\textasciicircum{}2) &  1           &   8.0373258  & 5            &   3.194905   & 4.582314e-03\\\\\n",
       "\tz &  1           &   0.2851347  & 4            &   2.909771   & 5.933553e-01\\\\\n",
       "\\end{tabular}\n"
      ],
      "text/markdown": [
       "\n",
       "| <!--/--> | Df | Deviance | Resid. Df | Resid. Dev | Pr(>Chi) | \n",
       "|---|---|---|---|\n",
       "| NULL | NA           |          NA  | 7            | 284.202449   |           NA | \n",
       "| dose |  1           | 272.9702184  | 6            |  11.232231   | 2.556089e-61 | \n",
       "| I(dose^2) |  1           |   8.0373258  | 5            |   3.194905   | 4.582314e-03 | \n",
       "| z |  1           |   0.2851347  | 4            |   2.909771   | 5.933553e-01 | \n",
       "\n",
       "\n"
      ],
      "text/plain": [
       "          Df Deviance    Resid. Df Resid. Dev Pr(>Chi)    \n",
       "NULL      NA          NA 7         284.202449           NA\n",
       "dose       1 272.9702184 6          11.232231 2.556089e-61\n",
       "I(dose^2)  1   8.0373258 5           3.194905 4.582314e-03\n",
       "z          1   0.2851347 4           2.909771 5.933553e-01"
      ]
     },
     "metadata": {},
     "output_type": "display_data"
    }
   ],
   "source": [
    "fit_link = glm(cbind(y, n - y) ~ dose + I(dose^2) + z, data = tmp, family = binomial(link = \"logit\"))\n",
    "anova(fit_link, test = \"Chisq\")"
   ]
  },
  {
   "cell_type": "code",
   "execution_count": 12,
   "metadata": {},
   "outputs": [
    {
     "data": {
      "text/html": [
       "<table>\n",
       "<thead><tr><th></th><th scope=col>Df</th><th scope=col>Deviance</th><th scope=col>Resid. Df</th><th scope=col>Resid. Dev</th><th scope=col>Pr(&gt;Chi)</th></tr></thead>\n",
       "<tbody>\n",
       "\t<tr><th scope=row>NULL</th><td>NA          </td><td>          NA</td><td>7           </td><td>284.202449  </td><td>          NA</td></tr>\n",
       "\t<tr><th scope=row>dose</th><td> 1          </td><td>280.75601075</td><td>6           </td><td>  3.446439  </td><td>5.138650e-63</td></tr>\n",
       "\t<tr><th scope=row>z</th><td> 1          </td><td>  0.01965545</td><td>5           </td><td>  3.426783  </td><td>8.885036e-01</td></tr>\n",
       "</tbody>\n",
       "</table>\n"
      ],
      "text/latex": [
       "\\begin{tabular}{r|lllll}\n",
       "  & Df & Deviance & Resid. Df & Resid. Dev & Pr(>Chi)\\\\\n",
       "\\hline\n",
       "\tNULL & NA           &           NA & 7            & 284.202449   &           NA\\\\\n",
       "\tdose &  1           & 280.75601075 & 6            &   3.446439   & 5.138650e-63\\\\\n",
       "\tz &  1           &   0.01965545 & 5            &   3.426783   & 8.885036e-01\\\\\n",
       "\\end{tabular}\n"
      ],
      "text/markdown": [
       "\n",
       "| <!--/--> | Df | Deviance | Resid. Df | Resid. Dev | Pr(>Chi) | \n",
       "|---|---|---|\n",
       "| NULL | NA           |           NA | 7            | 284.202449   |           NA | \n",
       "| dose |  1           | 280.75601075 | 6            |   3.446439   | 5.138650e-63 | \n",
       "| z |  1           |   0.01965545 | 5            |   3.426783   | 8.885036e-01 | \n",
       "\n",
       "\n"
      ],
      "text/plain": [
       "     Df Deviance     Resid. Df Resid. Dev Pr(>Chi)    \n",
       "NULL NA           NA 7         284.202449           NA\n",
       "dose  1 280.75601075 6           3.446439 5.138650e-63\n",
       "z     1   0.01965545 5           3.426783 8.885036e-01"
      ]
     },
     "metadata": {},
     "output_type": "display_data"
    }
   ],
   "source": [
    "fit_link = glm(cbind(y, n - y) ~ dose + z, data = tmp, family = binomial(link = \"cloglog\"))\n",
    "anova(fit_link, test = \"Chisq\")"
   ]
  },
  {
   "cell_type": "code",
   "execution_count": 13,
   "metadata": {},
   "outputs": [
    {
     "data": {
      "text/html": [
       "<table>\n",
       "<thead><tr><th></th><th scope=col>Df</th><th scope=col>Deviance</th><th scope=col>Resid. Df</th><th scope=col>Resid. Dev</th><th scope=col>Pr(&gt;Chi)</th></tr></thead>\n",
       "<tbody>\n",
       "\t<tr><th scope=row>NULL</th><td>NA          </td><td>         NA </td><td>7           </td><td>284.202449  </td><td>          NA</td></tr>\n",
       "\t<tr><th scope=row>dose</th><td> 1          </td><td>280.7560107 </td><td>6           </td><td>  3.446439  </td><td>5.138650e-63</td></tr>\n",
       "\t<tr><th scope=row>I(dose^2)</th><td> 1          </td><td>  0.0358181 </td><td>5           </td><td>  3.410621  </td><td>8.498916e-01</td></tr>\n",
       "\t<tr><th scope=row>z</th><td> 1          </td><td>  0.3023616 </td><td>4           </td><td>  3.108259  </td><td>5.824057e-01</td></tr>\n",
       "</tbody>\n",
       "</table>\n"
      ],
      "text/latex": [
       "\\begin{tabular}{r|lllll}\n",
       "  & Df & Deviance & Resid. Df & Resid. Dev & Pr(>Chi)\\\\\n",
       "\\hline\n",
       "\tNULL & NA           &          NA  & 7            & 284.202449   &           NA\\\\\n",
       "\tdose &  1           & 280.7560107  & 6            &   3.446439   & 5.138650e-63\\\\\n",
       "\tI(dose\\textasciicircum{}2) &  1           &   0.0358181  & 5            &   3.410621   & 8.498916e-01\\\\\n",
       "\tz &  1           &   0.3023616  & 4            &   3.108259   & 5.824057e-01\\\\\n",
       "\\end{tabular}\n"
      ],
      "text/markdown": [
       "\n",
       "| <!--/--> | Df | Deviance | Resid. Df | Resid. Dev | Pr(>Chi) | \n",
       "|---|---|---|---|\n",
       "| NULL | NA           |          NA  | 7            | 284.202449   |           NA | \n",
       "| dose |  1           | 280.7560107  | 6            |   3.446439   | 5.138650e-63 | \n",
       "| I(dose^2) |  1           |   0.0358181  | 5            |   3.410621   | 8.498916e-01 | \n",
       "| z |  1           |   0.3023616  | 4            |   3.108259   | 5.824057e-01 | \n",
       "\n",
       "\n"
      ],
      "text/plain": [
       "          Df Deviance    Resid. Df Resid. Dev Pr(>Chi)    \n",
       "NULL      NA          NA 7         284.202449           NA\n",
       "dose       1 280.7560107 6           3.446439 5.138650e-63\n",
       "I(dose^2)  1   0.0358181 5           3.410621 8.498916e-01\n",
       "z          1   0.3023616 4           3.108259 5.824057e-01"
      ]
     },
     "metadata": {},
     "output_type": "display_data"
    }
   ],
   "source": [
    "fit_link = glm(cbind(y, n - y) ~ dose + I(dose^2) + z, data = tmp, family = binomial(link = \"cloglog\"))\n",
    "anova(fit_link, test = \"Chisq\")"
   ]
  }
 ],
 "metadata": {
  "kernelspec": {
   "display_name": "R",
   "language": "R",
   "name": "ir"
  },
  "language_info": {
   "codemirror_mode": "r",
   "file_extension": ".r",
   "mimetype": "text/x-r-source",
   "name": "R",
   "pygments_lexer": "r",
   "version": "3.5.1"
  }
 },
 "nbformat": 4,
 "nbformat_minor": 2
}
