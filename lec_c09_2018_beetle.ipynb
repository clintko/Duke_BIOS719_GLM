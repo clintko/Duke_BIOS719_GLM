{
 "cells": [
  {
   "cell_type": "markdown",
   "metadata": {},
   "source": [
    "# Background"
   ]
  },
  {
   "cell_type": "markdown",
   "metadata": {},
   "source": [
    "### setup regression"
   ]
  },
  {
   "cell_type": "markdown",
   "metadata": {},
   "source": [
    "Distribution\n",
    "- $Y_i \\sim Bin(n_i, \\pi_i)$\n",
    "- $E[P_i] = \\pi_i$\n",
    "- $P_i = \\frac{Y_i}{n_i}$"
   ]
  },
  {
   "cell_type": "markdown",
   "metadata": {},
   "source": [
    "link function $g(\\pi_i) = x_i^T \\beta = \\eta_i$\n",
    "- logit\n",
    "    - <font color = 'blue'>$g(\\pi_i) = \\log \\Big( \\frac{\\pi_i}{1 - \\pi_i} \\Big)$\n",
    "- probit\n",
    "    - <font color = 'blue'>$g(\\pi_i) = \\Phi^{-1}(\\pi_i)$\n",
    "- complementary log-log\n",
    "    - <font color = 'blue'>$g(\\pi_i) = \\log[-\\log(1 - \\pi_i)]$"
   ]
  },
  {
   "cell_type": "markdown",
   "metadata": {},
   "source": [
    "# Set environment"
   ]
  },
  {
   "cell_type": "code",
   "execution_count": 6,
   "metadata": {},
   "outputs": [],
   "source": [
    "library(tidyverse)\n",
    "library(IRdisplay)"
   ]
  },
  {
   "cell_type": "markdown",
   "metadata": {},
   "source": [
    "# import data"
   ]
  },
  {
   "cell_type": "code",
   "execution_count": 19,
   "metadata": {},
   "outputs": [
    {
     "data": {
      "text/html": [
       "<font color = 'blue' size = 3>Table 7.2 Beetle mortality data</font>"
      ]
     },
     "metadata": {},
     "output_type": "display_data"
    },
    {
     "data": {
      "text/html": [
       "<table>\n",
       "<thead><tr><th scope=col>dose</th><th scope=col>n</th><th scope=col>y</th><th scope=col>n_y</th></tr></thead>\n",
       "<tbody>\n",
       "\t<tr><td>1.6907</td><td>59    </td><td> 6    </td><td>53    </td></tr>\n",
       "\t<tr><td>1.7242</td><td>60    </td><td>13    </td><td>47    </td></tr>\n",
       "\t<tr><td>1.7552</td><td>62    </td><td>18    </td><td>44    </td></tr>\n",
       "\t<tr><td>1.7842</td><td>56    </td><td>28    </td><td>28    </td></tr>\n",
       "\t<tr><td>1.8113</td><td>63    </td><td>52    </td><td>11    </td></tr>\n",
       "\t<tr><td>1.8369</td><td>59    </td><td>53    </td><td> 6    </td></tr>\n",
       "\t<tr><td>1.8610</td><td>62    </td><td>61    </td><td> 1    </td></tr>\n",
       "\t<tr><td>1.8839</td><td>60    </td><td>60    </td><td> 0    </td></tr>\n",
       "</tbody>\n",
       "</table>\n"
      ],
      "text/latex": [
       "\\begin{tabular}{r|llll}\n",
       " dose & n & y & n\\_y\\\\\n",
       "\\hline\n",
       "\t 1.6907 & 59     &  6     & 53    \\\\\n",
       "\t 1.7242 & 60     & 13     & 47    \\\\\n",
       "\t 1.7552 & 62     & 18     & 44    \\\\\n",
       "\t 1.7842 & 56     & 28     & 28    \\\\\n",
       "\t 1.8113 & 63     & 52     & 11    \\\\\n",
       "\t 1.8369 & 59     & 53     &  6    \\\\\n",
       "\t 1.8610 & 62     & 61     &  1    \\\\\n",
       "\t 1.8839 & 60     & 60     &  0    \\\\\n",
       "\\end{tabular}\n"
      ],
      "text/markdown": [
       "\n",
       "dose | n | y | n_y | \n",
       "|---|---|---|---|---|---|---|---|\n",
       "| 1.6907 | 59     |  6     | 53     | \n",
       "| 1.7242 | 60     | 13     | 47     | \n",
       "| 1.7552 | 62     | 18     | 44     | \n",
       "| 1.7842 | 56     | 28     | 28     | \n",
       "| 1.8113 | 63     | 52     | 11     | \n",
       "| 1.8369 | 59     | 53     |  6     | \n",
       "| 1.8610 | 62     | 61     |  1     | \n",
       "| 1.8839 | 60     | 60     |  0     | \n",
       "\n",
       "\n"
      ],
      "text/plain": [
       "  dose   n  y  n_y\n",
       "1 1.6907 59  6 53 \n",
       "2 1.7242 60 13 47 \n",
       "3 1.7552 62 18 44 \n",
       "4 1.7842 56 28 28 \n",
       "5 1.8113 63 52 11 \n",
       "6 1.8369 59 53  6 \n",
       "7 1.8610 62 61  1 \n",
       "8 1.8839 60 60  0 "
      ]
     },
     "metadata": {},
     "output_type": "display_data"
    }
   ],
   "source": [
    "dat_beetle = data.frame(\n",
    "    dose = c(1.6907, 1.7242, 1.7552, 1.7842, 1.8113, 1.8369, 1.8610, 1.8839),\n",
    "    n = c(59, 60, 62, 56, 63, 59, 62, 60),\n",
    "    y = c( 6, 13, 18, 28, 52, 53, 61, 60)\n",
    ")\n",
    "dat_beetle = dat_beetle %>% mutate(n_y = n - y)\n",
    "\n",
    "# display data\n",
    "display_html(\"<font color = 'blue' size = 3>Table 7.2 Beetle mortality data</font>\")\n",
    "display(dat_beetle)"
   ]
  },
  {
   "cell_type": "code",
   "execution_count": 31,
   "metadata": {},
   "outputs": [
    {
     "data": {
      "text/html": [
       "<font color = 'blue' size = 3>$n_i = 1$ situation</font>"
      ]
     },
     "metadata": {},
     "output_type": "display_data"
    },
    {
     "data": {
      "text/html": [
       "<table>\n",
       "<thead><tr><th scope=col>dose</th><th scope=col>n</th><th scope=col>y</th></tr></thead>\n",
       "<tbody>\n",
       "\t<tr><td>1.6907</td><td>1     </td><td>1     </td></tr>\n",
       "\t<tr><td>1.6907</td><td>1     </td><td>1     </td></tr>\n",
       "\t<tr><td>1.6907</td><td>1     </td><td>1     </td></tr>\n",
       "\t<tr><td>1.6907</td><td>1     </td><td>1     </td></tr>\n",
       "\t<tr><td>1.6907</td><td>1     </td><td>1     </td></tr>\n",
       "\t<tr><td>1.6907</td><td>1     </td><td>1     </td></tr>\n",
       "\t<tr><td>1.7242</td><td>1     </td><td>1     </td></tr>\n",
       "\t<tr><td>1.7242</td><td>1     </td><td>1     </td></tr>\n",
       "\t<tr><td>1.7242</td><td>1     </td><td>1     </td></tr>\n",
       "\t<tr><td>1.7242</td><td>1     </td><td>1     </td></tr>\n",
       "</tbody>\n",
       "</table>\n"
      ],
      "text/latex": [
       "\\begin{tabular}{r|lll}\n",
       " dose & n & y\\\\\n",
       "\\hline\n",
       "\t 1.6907 & 1      & 1     \\\\\n",
       "\t 1.6907 & 1      & 1     \\\\\n",
       "\t 1.6907 & 1      & 1     \\\\\n",
       "\t 1.6907 & 1      & 1     \\\\\n",
       "\t 1.6907 & 1      & 1     \\\\\n",
       "\t 1.6907 & 1      & 1     \\\\\n",
       "\t 1.7242 & 1      & 1     \\\\\n",
       "\t 1.7242 & 1      & 1     \\\\\n",
       "\t 1.7242 & 1      & 1     \\\\\n",
       "\t 1.7242 & 1      & 1     \\\\\n",
       "\\end{tabular}\n"
      ],
      "text/markdown": [
       "\n",
       "dose | n | y | \n",
       "|---|---|---|---|---|---|---|---|---|---|\n",
       "| 1.6907 | 1      | 1      | \n",
       "| 1.6907 | 1      | 1      | \n",
       "| 1.6907 | 1      | 1      | \n",
       "| 1.6907 | 1      | 1      | \n",
       "| 1.6907 | 1      | 1      | \n",
       "| 1.6907 | 1      | 1      | \n",
       "| 1.7242 | 1      | 1      | \n",
       "| 1.7242 | 1      | 1      | \n",
       "| 1.7242 | 1      | 1      | \n",
       "| 1.7242 | 1      | 1      | \n",
       "\n",
       "\n"
      ],
      "text/plain": [
       "   dose   n y\n",
       "1  1.6907 1 1\n",
       "2  1.6907 1 1\n",
       "3  1.6907 1 1\n",
       "4  1.6907 1 1\n",
       "5  1.6907 1 1\n",
       "6  1.6907 1 1\n",
       "7  1.7242 1 1\n",
       "8  1.7242 1 1\n",
       "9  1.7242 1 1\n",
       "10 1.7242 1 1"
      ]
     },
     "metadata": {},
     "output_type": "display_data"
    },
    {
     "data": {
      "text/html": [
       "<table>\n",
       "<thead><tr><th></th><th scope=col>dose</th><th scope=col>n</th><th scope=col>y</th></tr></thead>\n",
       "<tbody>\n",
       "\t<tr><th scope=row>472</th><td>1.8113</td><td>1     </td><td>0     </td></tr>\n",
       "\t<tr><th scope=row>473</th><td>1.8113</td><td>1     </td><td>0     </td></tr>\n",
       "\t<tr><th scope=row>474</th><td>1.8113</td><td>1     </td><td>0     </td></tr>\n",
       "\t<tr><th scope=row>475</th><td>1.8369</td><td>1     </td><td>0     </td></tr>\n",
       "\t<tr><th scope=row>476</th><td>1.8369</td><td>1     </td><td>0     </td></tr>\n",
       "\t<tr><th scope=row>477</th><td>1.8369</td><td>1     </td><td>0     </td></tr>\n",
       "\t<tr><th scope=row>478</th><td>1.8369</td><td>1     </td><td>0     </td></tr>\n",
       "\t<tr><th scope=row>479</th><td>1.8369</td><td>1     </td><td>0     </td></tr>\n",
       "\t<tr><th scope=row>480</th><td>1.8369</td><td>1     </td><td>0     </td></tr>\n",
       "\t<tr><th scope=row>481</th><td>1.8610</td><td>1     </td><td>0     </td></tr>\n",
       "</tbody>\n",
       "</table>\n"
      ],
      "text/latex": [
       "\\begin{tabular}{r|lll}\n",
       "  & dose & n & y\\\\\n",
       "\\hline\n",
       "\t472 & 1.8113 & 1      & 0     \\\\\n",
       "\t473 & 1.8113 & 1      & 0     \\\\\n",
       "\t474 & 1.8113 & 1      & 0     \\\\\n",
       "\t475 & 1.8369 & 1      & 0     \\\\\n",
       "\t476 & 1.8369 & 1      & 0     \\\\\n",
       "\t477 & 1.8369 & 1      & 0     \\\\\n",
       "\t478 & 1.8369 & 1      & 0     \\\\\n",
       "\t479 & 1.8369 & 1      & 0     \\\\\n",
       "\t480 & 1.8369 & 1      & 0     \\\\\n",
       "\t481 & 1.8610 & 1      & 0     \\\\\n",
       "\\end{tabular}\n"
      ],
      "text/markdown": [
       "\n",
       "| <!--/--> | dose | n | y | \n",
       "|---|---|---|---|---|---|---|---|---|---|\n",
       "| 472 | 1.8113 | 1      | 0      | \n",
       "| 473 | 1.8113 | 1      | 0      | \n",
       "| 474 | 1.8113 | 1      | 0      | \n",
       "| 475 | 1.8369 | 1      | 0      | \n",
       "| 476 | 1.8369 | 1      | 0      | \n",
       "| 477 | 1.8369 | 1      | 0      | \n",
       "| 478 | 1.8369 | 1      | 0      | \n",
       "| 479 | 1.8369 | 1      | 0      | \n",
       "| 480 | 1.8369 | 1      | 0      | \n",
       "| 481 | 1.8610 | 1      | 0      | \n",
       "\n",
       "\n"
      ],
      "text/plain": [
       "    dose   n y\n",
       "472 1.8113 1 0\n",
       "473 1.8113 1 0\n",
       "474 1.8113 1 0\n",
       "475 1.8369 1 0\n",
       "476 1.8369 1 0\n",
       "477 1.8369 1 0\n",
       "478 1.8369 1 0\n",
       "479 1.8369 1 0\n",
       "480 1.8369 1 0\n",
       "481 1.8610 1 0"
      ]
     },
     "metadata": {},
     "output_type": "display_data"
    }
   ],
   "source": [
    "dat_beetle_n1 = as.data.frame(rbind(\n",
    "    cbind(dose = rep(dat_beetle[, \"dose\"], dat_beetle[, \"y\"]  ), n = 1, y = 1),\n",
    "    cbind(dose = rep(dat_beetle[, \"dose\"], dat_beetle[, \"n_y\"]), n = 1, y = 0)\n",
    "))\n",
    "\n",
    "# display data\n",
    "display_html(\"<font color = 'blue' size = 3>$n_i = 1$ situation</font>\")\n",
    "display(dat_beetle_n1 %>% head(10))\n",
    "display(dat_beetle_n1 %>% tail(10))"
   ]
  },
  {
   "cell_type": "markdown",
   "metadata": {},
   "source": [
    "# Fit model"
   ]
  },
  {
   "cell_type": "markdown",
   "metadata": {},
   "source": [
    "### <font color = 'blue'>Grouped data situation</font>"
   ]
  },
  {
   "cell_type": "code",
   "execution_count": 23,
   "metadata": {},
   "outputs": [
    {
     "data": {
      "text/plain": [
       "\n",
       "Call:\n",
       "glm(formula = cbind(y, n - y) ~ dose, family = binomial(link = \"logit\"), \n",
       "    data = dat_beetle)\n",
       "\n",
       "Deviance Residuals: \n",
       "    Min       1Q   Median       3Q      Max  \n",
       "-1.5941  -0.3944   0.8329   1.2592   1.5940  \n",
       "\n",
       "Coefficients:\n",
       "            Estimate Std. Error z value Pr(>|z|)    \n",
       "(Intercept)  -60.717      5.181  -11.72   <2e-16 ***\n",
       "dose          34.270      2.912   11.77   <2e-16 ***\n",
       "---\n",
       "Signif. codes:  0 ‘***’ 0.001 ‘**’ 0.01 ‘*’ 0.05 ‘.’ 0.1 ‘ ’ 1\n",
       "\n",
       "(Dispersion parameter for binomial family taken to be 1)\n",
       "\n",
       "    Null deviance: 284.202  on 7  degrees of freedom\n",
       "Residual deviance:  11.232  on 6  degrees of freedom\n",
       "AIC: 41.43\n",
       "\n",
       "Number of Fisher Scoring iterations: 4\n"
      ]
     },
     "metadata": {},
     "output_type": "display_data"
    }
   ],
   "source": [
    "beetle_logit = glm(cbind(y, n - y) ~ dose, data = dat_beetle, family = binomial(link = 'logit'))\n",
    "summary(beetle_logit)"
   ]
  },
  {
   "cell_type": "markdown",
   "metadata": {},
   "source": [
    "### <font color = 'blue'>$n_i = 1$ Situation"
   ]
  },
  {
   "cell_type": "code",
   "execution_count": 33,
   "metadata": {},
   "outputs": [
    {
     "data": {
      "text/plain": [
       "\n",
       "Call:\n",
       "glm(formula = cbind(y, n - y) ~ dose, family = binomial(link = \"logit\"), \n",
       "    data = dat_beetle_n1)\n",
       "\n",
       "Deviance Residuals: \n",
       "    Min       1Q   Median       3Q      Max  \n",
       "-2.4922  -0.5986   0.2058   0.4512   2.3820  \n",
       "\n",
       "Coefficients:\n",
       "            Estimate Std. Error z value Pr(>|z|)    \n",
       "(Intercept)  -60.717      5.181  -11.72   <2e-16 ***\n",
       "dose          34.270      2.912   11.77   <2e-16 ***\n",
       "---\n",
       "Signif. codes:  0 ‘***’ 0.001 ‘**’ 0.01 ‘*’ 0.05 ‘.’ 0.1 ‘ ’ 1\n",
       "\n",
       "(Dispersion parameter for binomial family taken to be 1)\n",
       "\n",
       "    Null deviance: 645.44  on 480  degrees of freedom\n",
       "Residual deviance: 372.47  on 479  degrees of freedom\n",
       "AIC: 376.47\n",
       "\n",
       "Number of Fisher Scoring iterations: 5\n"
      ]
     },
     "metadata": {},
     "output_type": "display_data"
    }
   ],
   "source": [
    "beetle_logit2 = glm(cbind(y, n - y) ~ dose, data = dat_beetle_n1, family = binomial(link = 'logit'))\n",
    "summary(beetle_logit2)"
   ]
  },
  {
   "cell_type": "code",
   "execution_count": 43,
   "metadata": {},
   "outputs": [
    {
     "data": {
      "text/plain": [
       "\n",
       "Call:\n",
       "glm(formula = y ~ dose, family = binomial(link = \"logit\"), data = dat_beetle_n1)\n",
       "\n",
       "Deviance Residuals: \n",
       "    Min       1Q   Median       3Q      Max  \n",
       "-2.4922  -0.5986   0.2058   0.4512   2.3820  \n",
       "\n",
       "Coefficients:\n",
       "            Estimate Std. Error z value Pr(>|z|)    \n",
       "(Intercept)  -60.717      5.181  -11.72   <2e-16 ***\n",
       "dose          34.270      2.912   11.77   <2e-16 ***\n",
       "---\n",
       "Signif. codes:  0 ‘***’ 0.001 ‘**’ 0.01 ‘*’ 0.05 ‘.’ 0.1 ‘ ’ 1\n",
       "\n",
       "(Dispersion parameter for binomial family taken to be 1)\n",
       "\n",
       "    Null deviance: 645.44  on 480  degrees of freedom\n",
       "Residual deviance: 372.47  on 479  degrees of freedom\n",
       "AIC: 376.47\n",
       "\n",
       "Number of Fisher Scoring iterations: 5\n"
      ]
     },
     "metadata": {},
     "output_type": "display_data"
    }
   ],
   "source": [
    "beetle_logit_n1 = glm(y ~ dose, data = dat_beetle_n1, family = binomial(link = 'logit'))\n",
    "summary(beetle_logit_n1)"
   ]
  },
  {
   "cell_type": "markdown",
   "metadata": {},
   "source": [
    "**Observation 01** the coefficients are the same"
   ]
  },
  {
   "cell_type": "markdown",
   "metadata": {},
   "source": [
    "<font color = 'blue' size = 3>Grouped data situation</font>\n",
    "\n",
    "\n",
    "<font color = 'blue' size = 3>$n_i = 1$ situation</font>\n",
    "\n"
   ]
  },
  {
   "cell_type": "code",
   "execution_count": 44,
   "metadata": {},
   "outputs": [
    {
     "data": {
      "text/html": [
       "<font color = 'blue' size = 3>Grouped data situation\n"
      ]
     },
     "metadata": {},
     "output_type": "display_data"
    },
    {
     "name": "stdout",
     "output_type": "stream",
     "text": [
      "(Intercept)        dose \n",
      "  -60.71745    34.27033 \n"
     ]
    },
    {
     "data": {
      "text/html": [
       "<font color = 'blue' size = 3>$n_i = 1$ situation\n"
      ]
     },
     "metadata": {},
     "output_type": "display_data"
    },
    {
     "name": "stdout",
     "output_type": "stream",
     "text": [
      "(Intercept)        dose \n",
      "  -60.71745    34.27033 \n"
     ]
    }
   ],
   "source": [
    "display_html(\"<font color = 'blue' size = 3>Grouped data situation\\n\")\n",
    "print(beetle_logit$coefficients)\n",
    "\n",
    "display_html(\"<font color = 'blue' size = 3>$n_i = 1$ situation\\n\")\n",
    "print(beetle_logit_n1$coefficients)"
   ]
  },
  {
   "cell_type": "markdown",
   "metadata": {},
   "source": [
    "Observation 02 deviance"
   ]
  },
  {
   "cell_type": "code",
   "execution_count": 45,
   "metadata": {},
   "outputs": [
    {
     "data": {
      "text/html": [
       "<font color = 'blue' size = 3>Grouped data situation\n"
      ]
     },
     "metadata": {},
     "output_type": "display_data"
    },
    {
     "name": "stdout",
     "output_type": "stream",
     "text": [
      "[1] 11.23223\n"
     ]
    },
    {
     "data": {
      "text/html": [
       "<font color = 'blue' size = 3>$n_i = 1$ situation\n"
      ]
     },
     "metadata": {},
     "output_type": "display_data"
    },
    {
     "name": "stdout",
     "output_type": "stream",
     "text": [
      "[1] 372.4708\n"
     ]
    }
   ],
   "source": [
    "display_html(\"<font color = 'blue' size = 3>Grouped data situation\\n\")\n",
    "print(beetle_logit$deviance)\n",
    "\n",
    "display_html(\"<font color = 'blue' size = 3>$n_i = 1$ situation\\n\")\n",
    "print(beetle_logit_n1$deviance)"
   ]
  },
  {
   "cell_type": "code",
   "execution_count": null,
   "metadata": {},
   "outputs": [],
   "source": []
  }
 ],
 "metadata": {
  "kernelspec": {
   "display_name": "R",
   "language": "R",
   "name": "ir"
  },
  "language_info": {
   "codemirror_mode": "r",
   "file_extension": ".r",
   "mimetype": "text/x-r-source",
   "name": "R",
   "pygments_lexer": "r",
   "version": "3.5.1"
  }
 },
 "nbformat": 4,
 "nbformat_minor": 2
}
