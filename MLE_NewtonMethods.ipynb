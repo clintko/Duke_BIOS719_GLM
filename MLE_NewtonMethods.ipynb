{
 "cells": [
  {
   "cell_type": "markdown",
   "metadata": {},
   "source": [
    "# Set environment"
   ]
  },
  {
   "cell_type": "code",
   "execution_count": 61,
   "metadata": {},
   "outputs": [],
   "source": [
    "library(tidyverse)\n",
    "library(gridExtra)\n",
    "library(IRdisplay)\n",
    "library(latex2exp)\n",
    "options(repr.plot.width = 4, repr.plot.height = 4)"
   ]
  },
  {
   "cell_type": "markdown",
   "metadata": {},
   "source": [
    "# Likelihood function"
   ]
  },
  {
   "cell_type": "markdown",
   "metadata": {},
   "source": [
    "Likelihood function is a function of parameters based on the observations you have in hand. The function taking the same form of joint probability distribution function (pdf) so, at the first place, it looks like an relabel of the joint pdf, while the meanings of likelihood function and joint pdf are very different."
   ]
  },
  {
   "cell_type": "markdown",
   "metadata": {},
   "source": [
    "$$L(\\theta | X) = f(X | \\theta)$$"
   ]
  },
  {
   "cell_type": "markdown",
   "metadata": {},
   "source": [
    "# Maximum Likelihood function"
   ]
  },
  {
   "cell_type": "markdown",
   "metadata": {},
   "source": [
    "# Newton method"
   ]
  },
  {
   "cell_type": "markdown",
   "metadata": {},
   "source": [
    "# Examples"
   ]
  },
  {
   "cell_type": "markdown",
   "metadata": {},
   "source": [
    "## Example 01 MLE and Normal distribution"
   ]
  },
  {
   "cell_type": "markdown",
   "metadata": {},
   "source": [
    "## Example 02 MLE and Poisson distribution"
   ]
  },
  {
   "cell_type": "markdown",
   "metadata": {},
   "source": [
    "$$f(y_i ; \\theta) = \\frac{\\theta^{y_i} e^{-\\theta}}{{y_i}!}; y_i = 0, 1, 2, 3, ...$$"
   ]
  },
  {
   "cell_type": "markdown",
   "metadata": {},
   "source": [
    "$$L(\\theta | y_1 ... y_n) = \\prod f(y_i; \\theta) = \\frac{\\theta^{\\sum y_i} e^{-n\\theta}}{y_1!y_2!...y_n!}$$"
   ]
  },
  {
   "cell_type": "markdown",
   "metadata": {},
   "source": [
    "#### $$l(\\theta | y_1 ... y_n) = ln(L) = \\big(\\sum y_i\\big) ln(\\theta) - n\\theta - \\sum\\big(ln(y_i!)\\big)$$"
   ]
  },
  {
   "cell_type": "markdown",
   "metadata": {},
   "source": [
    "$$\\frac{dl}{d\\theta} = \\frac{1}{\\theta} \\sum y_i - n$$"
   ]
  },
  {
   "cell_type": "markdown",
   "metadata": {},
   "source": [
    "$$\\hat{\\theta}_{ML} = \\frac{1}{n} \\sum y_i$$"
   ]
  },
  {
   "cell_type": "code",
   "execution_count": 77,
   "metadata": {},
   "outputs": [],
   "source": [
    "f_poisson <- function(y, theta){\n",
    "    n      <- length(y)\n",
    "    loglik <- sum(y) * log(theta) - n * theta # - sum(log(factorial(y)))\n",
    "    U      <-  (1 / theta)   * sum(y) - n \n",
    "    dU     <- -(1 / theta^2) * sum(y)\n",
    "    return(list(theta = theta, loglik = loglik, U = U, dU = dU))\n",
    "}"
   ]
  },
  {
   "cell_type": "code",
   "execution_count": 12,
   "metadata": {},
   "outputs": [
    {
     "data": {
      "text/html": [
       "<table>\n",
       "<thead><tr><th scope=col>season</th><th scope=col>number</th></tr></thead>\n",
       "<tbody>\n",
       "\t<tr><td> 1</td><td> 6</td></tr>\n",
       "\t<tr><td> 2</td><td> 5</td></tr>\n",
       "\t<tr><td> 3</td><td> 4</td></tr>\n",
       "\t<tr><td> 4</td><td> 6</td></tr>\n",
       "\t<tr><td> 5</td><td> 6</td></tr>\n",
       "\t<tr><td> 6</td><td> 3</td></tr>\n",
       "\t<tr><td> 7</td><td>12</td></tr>\n",
       "\t<tr><td> 8</td><td> 7</td></tr>\n",
       "\t<tr><td> 9</td><td> 4</td></tr>\n",
       "\t<tr><td>10</td><td> 2</td></tr>\n",
       "\t<tr><td>11</td><td> 6</td></tr>\n",
       "\t<tr><td>12</td><td> 7</td></tr>\n",
       "\t<tr><td>13</td><td> 4</td></tr>\n",
       "</tbody>\n",
       "</table>\n"
      ],
      "text/latex": [
       "\\begin{tabular}{r|ll}\n",
       " season & number\\\\\n",
       "\\hline\n",
       "\t  1 &  6\\\\\n",
       "\t  2 &  5\\\\\n",
       "\t  3 &  4\\\\\n",
       "\t  4 &  6\\\\\n",
       "\t  5 &  6\\\\\n",
       "\t  6 &  3\\\\\n",
       "\t  7 & 12\\\\\n",
       "\t  8 &  7\\\\\n",
       "\t  9 &  4\\\\\n",
       "\t 10 &  2\\\\\n",
       "\t 11 &  6\\\\\n",
       "\t 12 &  7\\\\\n",
       "\t 13 &  4\\\\\n",
       "\\end{tabular}\n"
      ],
      "text/markdown": [
       "\n",
       "season | number | \n",
       "|---|---|---|---|---|---|---|---|---|---|---|---|---|\n",
       "|  1 |  6 | \n",
       "|  2 |  5 | \n",
       "|  3 |  4 | \n",
       "|  4 |  6 | \n",
       "|  5 |  6 | \n",
       "|  6 |  3 | \n",
       "|  7 | 12 | \n",
       "|  8 |  7 | \n",
       "|  9 |  4 | \n",
       "| 10 |  2 | \n",
       "| 11 |  6 | \n",
       "| 12 |  7 | \n",
       "| 13 |  4 | \n",
       "\n",
       "\n"
      ],
      "text/plain": [
       "   season number\n",
       "1   1      6    \n",
       "2   2      5    \n",
       "3   3      4    \n",
       "4   4      6    \n",
       "5   5      6    \n",
       "6   6      3    \n",
       "7   7     12    \n",
       "8   8      7    \n",
       "9   9      4    \n",
       "10 10      2    \n",
       "11 11      6    \n",
       "12 12      7    \n",
       "13 13      4    "
      ]
     },
     "metadata": {},
     "output_type": "display_data"
    }
   ],
   "source": [
    "dat <- data.frame(\n",
    "    season = 1:13, \n",
    "    number = c(6, 5, 4, 6, 6, 3, 12, 7, 4, 2, 6, 7, 4))\n",
    "\n",
    "display(dat)"
   ]
  },
  {
   "cell_type": "markdown",
   "metadata": {},
   "source": [
    "### Solve analytically"
   ]
  },
  {
   "cell_type": "code",
   "execution_count": 45,
   "metadata": {},
   "outputs": [
    {
     "data": {
      "text/html": [
       "5.53846153846154"
      ],
      "text/latex": [
       "5.53846153846154"
      ],
      "text/markdown": [
       "5.53846153846154"
      ],
      "text/plain": [
       "[1] 5.538462"
      ]
     },
     "metadata": {},
     "output_type": "display_data"
    }
   ],
   "source": [
    "mean(dat$number)"
   ]
  },
  {
   "cell_type": "code",
   "execution_count": 46,
   "metadata": {},
   "outputs": [
    {
     "data": {
      "text/html": [
       "<dl>\n",
       "\t<dt>$loglik</dt>\n",
       "\t\t<dd>51.2436068319253</dd>\n",
       "\t<dt>$U</dt>\n",
       "\t\t<dd>0</dd>\n",
       "\t<dt>$dU</dt>\n",
       "\t\t<dd>-2.34722222222222</dd>\n",
       "</dl>\n"
      ],
      "text/latex": [
       "\\begin{description}\n",
       "\\item[\\$loglik] 51.2436068319253\n",
       "\\item[\\$U] 0\n",
       "\\item[\\$dU] -2.34722222222222\n",
       "\\end{description}\n"
      ],
      "text/markdown": [
       "$loglik\n",
       ":   51.2436068319253\n",
       "$U\n",
       ":   0\n",
       "$dU\n",
       ":   -2.34722222222222\n",
       "\n",
       "\n"
      ],
      "text/plain": [
       "$loglik\n",
       "[1] 51.24361\n",
       "\n",
       "$U\n",
       "[1] 0\n",
       "\n",
       "$dU\n",
       "[1] -2.347222\n"
      ]
     },
     "metadata": {},
     "output_type": "display_data"
    }
   ],
   "source": [
    "f_poisson(dat$number, mean(dat$number))"
   ]
  },
  {
   "cell_type": "markdown",
   "metadata": {},
   "source": [
    "### Solve by Newton-Raphson algorithm"
   ]
  },
  {
   "cell_type": "code",
   "execution_count": 85,
   "metadata": {},
   "outputs": [],
   "source": [
    "get_next_theta <- function(res_loglik){\n",
    "    theta_next <- res_loglik$theta - res_loglik$U / res_loglik$dU\n",
    "    return(theta_next)\n",
    "} # end func\n",
    "\n",
    "opt_newton <- function(dat_obs, f_loglik, f_next_theta, theta0, niter){\n",
    "    \n",
    "    ###\n",
    "    res <- NULL\n",
    "    theta <- theta0\n",
    "    \n",
    "    ###\n",
    "    for (dummy_num in 1:niter){\n",
    "        \n",
    "        res_loglik <- f_loglik(dat_obs, theta)\n",
    "        \n",
    "        res <- rbind(res, c(res_loglik$theta, res_loglik$loglik, res_loglik$U, res_loglik$dU))\n",
    "        \n",
    "        theta <- f_next_theta(res_loglik)\n",
    "    }\n",
    "    \n",
    "    ###\n",
    "    colnames(res) <- c(\"theta\", \"loglik\", \"U\", \"dU\")\n",
    "    return(res)\n",
    "} # end func"
   ]
  },
  {
   "cell_type": "code",
   "execution_count": 91,
   "metadata": {},
   "outputs": [
    {
     "data": {
      "text/html": [
       "<table>\n",
       "<thead><tr><th scope=col>theta</th><th scope=col>loglik</th><th scope=col>U</th><th scope=col>dU</th></tr></thead>\n",
       "<tbody>\n",
       "\t<tr><td>3.500000    </td><td>44.69893    </td><td>7.571429e+00</td><td>-5.877551   </td></tr>\n",
       "\t<tr><td>4.788194    </td><td>50.51652    </td><td>2.036983e+00</td><td>-3.140429   </td></tr>\n",
       "\t<tr><td>5.436827    </td><td>51.23133    </td><td>2.430192e-01</td><td>-2.435799   </td></tr>\n",
       "\t<tr><td>5.536596    </td><td>51.24360    </td><td>4.379219e-03</td><td>-2.348804   </td></tr>\n",
       "\t<tr><td>5.538461    </td><td>51.24361    </td><td>1.474204e-06</td><td>-2.347223   </td></tr>\n",
       "\t<tr><td>5.538462    </td><td>51.24361    </td><td>1.669775e-13</td><td>-2.347222   </td></tr>\n",
       "\t<tr><td>5.538462    </td><td>51.24361    </td><td>0.000000e+00</td><td>-2.347222   </td></tr>\n",
       "\t<tr><td>5.538462    </td><td>51.24361    </td><td>0.000000e+00</td><td>-2.347222   </td></tr>\n",
       "\t<tr><td>5.538462    </td><td>51.24361    </td><td>0.000000e+00</td><td>-2.347222   </td></tr>\n",
       "\t<tr><td>5.538462    </td><td>51.24361    </td><td>0.000000e+00</td><td>-2.347222   </td></tr>\n",
       "</tbody>\n",
       "</table>\n"
      ],
      "text/latex": [
       "\\begin{tabular}{r|llll}\n",
       " theta & loglik & U & dU\\\\\n",
       "\\hline\n",
       "\t 3.500000     & 44.69893     & 7.571429e+00 & -5.877551   \\\\\n",
       "\t 4.788194     & 50.51652     & 2.036983e+00 & -3.140429   \\\\\n",
       "\t 5.436827     & 51.23133     & 2.430192e-01 & -2.435799   \\\\\n",
       "\t 5.536596     & 51.24360     & 4.379219e-03 & -2.348804   \\\\\n",
       "\t 5.538461     & 51.24361     & 1.474204e-06 & -2.347223   \\\\\n",
       "\t 5.538462     & 51.24361     & 1.669775e-13 & -2.347222   \\\\\n",
       "\t 5.538462     & 51.24361     & 0.000000e+00 & -2.347222   \\\\\n",
       "\t 5.538462     & 51.24361     & 0.000000e+00 & -2.347222   \\\\\n",
       "\t 5.538462     & 51.24361     & 0.000000e+00 & -2.347222   \\\\\n",
       "\t 5.538462     & 51.24361     & 0.000000e+00 & -2.347222   \\\\\n",
       "\\end{tabular}\n"
      ],
      "text/markdown": [
       "\n",
       "theta | loglik | U | dU | \n",
       "|---|---|---|---|---|---|---|---|---|---|\n",
       "| 3.500000     | 44.69893     | 7.571429e+00 | -5.877551    | \n",
       "| 4.788194     | 50.51652     | 2.036983e+00 | -3.140429    | \n",
       "| 5.436827     | 51.23133     | 2.430192e-01 | -2.435799    | \n",
       "| 5.536596     | 51.24360     | 4.379219e-03 | -2.348804    | \n",
       "| 5.538461     | 51.24361     | 1.474204e-06 | -2.347223    | \n",
       "| 5.538462     | 51.24361     | 1.669775e-13 | -2.347222    | \n",
       "| 5.538462     | 51.24361     | 0.000000e+00 | -2.347222    | \n",
       "| 5.538462     | 51.24361     | 0.000000e+00 | -2.347222    | \n",
       "| 5.538462     | 51.24361     | 0.000000e+00 | -2.347222    | \n",
       "| 5.538462     | 51.24361     | 0.000000e+00 | -2.347222    | \n",
       "\n",
       "\n"
      ],
      "text/plain": [
       "   theta    loglik   U            dU       \n",
       "1  3.500000 44.69893 7.571429e+00 -5.877551\n",
       "2  4.788194 50.51652 2.036983e+00 -3.140429\n",
       "3  5.436827 51.23133 2.430192e-01 -2.435799\n",
       "4  5.536596 51.24360 4.379219e-03 -2.348804\n",
       "5  5.538461 51.24361 1.474204e-06 -2.347223\n",
       "6  5.538462 51.24361 1.669775e-13 -2.347222\n",
       "7  5.538462 51.24361 0.000000e+00 -2.347222\n",
       "8  5.538462 51.24361 0.000000e+00 -2.347222\n",
       "9  5.538462 51.24361 0.000000e+00 -2.347222\n",
       "10 5.538462 51.24361 0.000000e+00 -2.347222"
      ]
     },
     "metadata": {},
     "output_type": "display_data"
    }
   ],
   "source": [
    "theta0 <- 3.5\n",
    "res_newton <- opt_newton(dat$number, f_poisson, get_next_theta, theta0, 10) %>% as.data.frame\n",
    "display(res_newton)"
   ]
  },
  {
   "cell_type": "code",
   "execution_count": 103,
   "metadata": {},
   "outputs": [
    {
     "data": {
      "image/png": "[encoded data removed]",
      "text/plain": [
       "plot without title"
      ]
     },
     "metadata": {},
     "output_type": "display_data"
    }
   ],
   "source": [
    "theta    <- seq(3, 6, by = 0.1)\n",
    "df       <- f_poisson(dat$number, theta) %>% do.call(cbind, .) %>% as.data.frame\n",
    "\n",
    "gp  <- ggplot(df)\n",
    "gp <- gp + \n",
    "    ggtitle(\"log-likelihood (loglik)\") +\n",
    "    geom_line(aes(x = theta, y = loglik)) +\n",
    "    geom_point(data = res_newton, aes(x = theta, y = loglik), color = \"blue\") + \n",
    "    geom_hline(yintercept = f_poisson(dat$number, theta_ML)$loglik, \n",
    "               color = \"red\", \n",
    "               size = 0.8) +\n",
    "    geom_vline(xintercept = theta_ML, \n",
    "               linetype = \"dashed\", \n",
    "               color = \"red\", \n",
    "               size = 0.2)\n",
    "\n",
    "################################################\n",
    "### display the images\n",
    "options(repr.plot.width = 9, repr.plot.height = 3)\n",
    "print(gp)\n",
    "options(repr.plot.width = 4, repr.plot.height = 4)"
   ]
  },
  {
   "cell_type": "markdown",
   "metadata": {},
   "source": [
    "### Plot the results"
   ]
  },
  {
   "cell_type": "code",
   "execution_count": 93,
   "metadata": {},
   "outputs": [
    {
     "data": {
      "image/png": "[encoded data removed]",
      "text/plain": [
       "plot without title"
      ]
     },
     "metadata": {},
     "output_type": "display_data"
    }
   ],
   "source": [
    "################################################\n",
    "### intialization\n",
    "theta_ML <- mean(dat$number)\n",
    "theta    <- seq(3, 8, by = 0.1)\n",
    "df       <- f_poisson(dat$number, theta) %>% do.call(cbind, .) %>% as.data.frame\n",
    "\n",
    "################################################\n",
    "### construct the plot\n",
    "gp  <- ggplot(df)\n",
    "\n",
    "gp1 <- gp + \n",
    "    ggtitle(\"log-likelihood (loglik)\") +\n",
    "    geom_line(aes(x = theta, y = loglik)) +\n",
    "    geom_hline(yintercept = f_poisson(dat$number, theta_ML)$loglik, \n",
    "               color = \"red\", \n",
    "               size = 0.8) +\n",
    "    geom_vline(xintercept = theta_ML, \n",
    "               linetype = \"dashed\", \n",
    "               color = \"red\", \n",
    "               size = 0.2)\n",
    "\n",
    "gp2 <- gp + \n",
    "    ggtitle(TeX(\"$\\\\frac{d}{d\\\\theta}loglik$\")) +\n",
    "    geom_line(aes(x = theta, y = U)) + \n",
    "    geom_hline(yintercept = 0, \n",
    "               color = \"red\", \n",
    "               size = 0.8) +\n",
    "    geom_vline(xintercept = theta_ML, \n",
    "               linetype = \"dashed\", \n",
    "               color = \"red\", \n",
    "               size = 0.2)\n",
    "\n",
    "gp3 <- gp + \n",
    "    ggtitle(TeX(\"$\\\\frac{d^2}{d\\\\theta^2}loglik$\")) +\n",
    "    geom_line(aes(x = theta, y = dU)) +\n",
    "    geom_hline(yintercept = f_poisson(dat$number, theta_ML)$dU, \n",
    "               color = \"red\", \n",
    "               size = 0.8) +\n",
    "    geom_vline(xintercept = theta_ML, \n",
    "               linetype = \"dashed\", \n",
    "               color = \"red\", \n",
    "               size = 0.2)\n",
    "\n",
    "################################################\n",
    "### display the images\n",
    "options(repr.plot.width = 9, repr.plot.height = 3)\n",
    "grid.arrange(gp1, gp2, gp3, nrow = 1)\n",
    "options(repr.plot.width = 4, repr.plot.height = 4)"
   ]
  }
 ],
 "metadata": {
  "kernelspec": {
   "display_name": "R",
   "language": "R",
   "name": "ir"
  },
  "language_info": {
   "codemirror_mode": "r",
   "file_extension": ".r",
   "mimetype": "text/x-r-source",
   "name": "R",
   "pygments_lexer": "r",
   "version": "3.4.4"
  }
 },
 "nbformat": 4,
 "nbformat_minor": 2
}
