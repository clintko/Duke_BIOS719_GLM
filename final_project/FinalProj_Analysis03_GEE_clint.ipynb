{
 "cells": [
  {
   "cell_type": "code",
   "execution_count": 2,
   "metadata": {},
   "outputs": [
    {
     "name": "stderr",
     "output_type": "stream",
     "text": [
      "Parsed with column specification:\n",
      "cols(\n",
      "  patient = col_integer(),\n",
      "  treatment = col_integer(),\n",
      "  gender = col_integer(),\n",
      "  age = col_integer(),\n",
      "  visit1 = col_integer(),\n",
      "  visit2 = col_integer(),\n",
      "  visit3 = col_integer(),\n",
      "  visit4 = col_integer()\n",
      ")\n"
     ]
    }
   ],
   "source": [
    "suppressWarnings(suppressMessages(library(gee)))\n",
    "source(\"./codesnippet_r/final_proj_config.R\")\n",
    "source(\"./codesnippet_r/fun_walds.R\")"
   ]
  },
  {
   "cell_type": "code",
   "execution_count": 3,
   "metadata": {},
   "outputs": [
    {
     "data": {
      "text/html": [
       "<table>\n",
       "<thead><tr><th scope=col>patient</th><th scope=col>trt</th><th scope=col>gender</th><th scope=col>age</th><th scope=col>visit</th><th scope=col>value</th></tr></thead>\n",
       "<tbody>\n",
       "\t<tr><td>1 </td><td>0 </td><td>0 </td><td>28</td><td>1 </td><td>1 </td></tr>\n",
       "\t<tr><td>2 </td><td>0 </td><td>1 </td><td>19</td><td>1 </td><td>1 </td></tr>\n",
       "\t<tr><td>3 </td><td>0 </td><td>0 </td><td>15</td><td>1 </td><td>0 </td></tr>\n",
       "\t<tr><td>4 </td><td>0 </td><td>0 </td><td>63</td><td>1 </td><td>1 </td></tr>\n",
       "\t<tr><td>5 </td><td>0 </td><td>1 </td><td>35</td><td>1 </td><td>1 </td></tr>\n",
       "\t<tr><td>6 </td><td>0 </td><td>1 </td><td>13</td><td>1 </td><td>1 </td></tr>\n",
       "</tbody>\n",
       "</table>\n"
      ],
      "text/latex": [
       "\\begin{tabular}{r|llllll}\n",
       " patient & trt & gender & age & visit & value\\\\\n",
       "\\hline\n",
       "\t 1  & 0  & 0  & 28 & 1  & 1 \\\\\n",
       "\t 2  & 0  & 1  & 19 & 1  & 1 \\\\\n",
       "\t 3  & 0  & 0  & 15 & 1  & 0 \\\\\n",
       "\t 4  & 0  & 0  & 63 & 1  & 1 \\\\\n",
       "\t 5  & 0  & 1  & 35 & 1  & 1 \\\\\n",
       "\t 6  & 0  & 1  & 13 & 1  & 1 \\\\\n",
       "\\end{tabular}\n"
      ],
      "text/markdown": [
       "\n",
       "patient | trt | gender | age | visit | value | \n",
       "|---|---|---|---|---|---|\n",
       "| 1  | 0  | 0  | 28 | 1  | 1  | \n",
       "| 2  | 0  | 1  | 19 | 1  | 1  | \n",
       "| 3  | 0  | 0  | 15 | 1  | 0  | \n",
       "| 4  | 0  | 0  | 63 | 1  | 1  | \n",
       "| 5  | 0  | 1  | 35 | 1  | 1  | \n",
       "| 6  | 0  | 1  | 13 | 1  | 1  | \n",
       "\n",
       "\n"
      ],
      "text/plain": [
       "  patient trt gender age visit value\n",
       "1 1       0   0      28  1     1    \n",
       "2 2       0   1      19  1     1    \n",
       "3 3       0   0      15  1     0    \n",
       "4 4       0   0      63  1     1    \n",
       "5 5       0   1      35  1     1    \n",
       "6 6       0   1      13  1     1    "
      ]
     },
     "metadata": {},
     "output_type": "display_data"
    }
   ],
   "source": [
    "head(dat_clust)"
   ]
  },
  {
   "cell_type": "markdown",
   "metadata": {},
   "source": [
    "# correlation within cluster"
   ]
  },
  {
   "cell_type": "code",
   "execution_count": 12,
   "metadata": {},
   "outputs": [
    {
     "data": {
      "text/html": [
       "<table>\n",
       "<thead><tr><th></th><th scope=col>visit1</th><th scope=col>visit2</th><th scope=col>visit3</th><th scope=col>visit4</th></tr></thead>\n",
       "<tbody>\n",
       "\t<tr><th scope=row>visit1</th><td>1.0000000</td><td>0.2944608</td><td>0.2043443</td><td>0.2018988</td></tr>\n",
       "\t<tr><th scope=row>visit2</th><td>0.2944608</td><td>1.0000000</td><td>0.2633659</td><td>0.1690302</td></tr>\n",
       "\t<tr><th scope=row>visit3</th><td>0.2043443</td><td>0.2633659</td><td>1.0000000</td><td>0.3203612</td></tr>\n",
       "\t<tr><th scope=row>visit4</th><td>0.2018988</td><td>0.1690302</td><td>0.3203612</td><td>1.0000000</td></tr>\n",
       "</tbody>\n",
       "</table>\n"
      ],
      "text/latex": [
       "\\begin{tabular}{r|llll}\n",
       "  & visit1 & visit2 & visit3 & visit4\\\\\n",
       "\\hline\n",
       "\tvisit1 & 1.0000000 & 0.2944608 & 0.2043443 & 0.2018988\\\\\n",
       "\tvisit2 & 0.2944608 & 1.0000000 & 0.2633659 & 0.1690302\\\\\n",
       "\tvisit3 & 0.2043443 & 0.2633659 & 1.0000000 & 0.3203612\\\\\n",
       "\tvisit4 & 0.2018988 & 0.1690302 & 0.3203612 & 1.0000000\\\\\n",
       "\\end{tabular}\n"
      ],
      "text/markdown": [
       "\n",
       "| <!--/--> | visit1 | visit2 | visit3 | visit4 | \n",
       "|---|---|---|---|\n",
       "| visit1 | 1.0000000 | 0.2944608 | 0.2043443 | 0.2018988 | \n",
       "| visit2 | 0.2944608 | 1.0000000 | 0.2633659 | 0.1690302 | \n",
       "| visit3 | 0.2043443 | 0.2633659 | 1.0000000 | 0.3203612 | \n",
       "| visit4 | 0.2018988 | 0.1690302 | 0.3203612 | 1.0000000 | \n",
       "\n",
       "\n"
      ],
      "text/plain": [
       "       visit1    visit2    visit3    visit4   \n",
       "visit1 1.0000000 0.2944608 0.2043443 0.2018988\n",
       "visit2 0.2944608 1.0000000 0.2633659 0.1690302\n",
       "visit3 0.2043443 0.2633659 1.0000000 0.3203612\n",
       "visit4 0.2018988 0.1690302 0.3203612 1.0000000"
      ]
     },
     "metadata": {},
     "output_type": "display_data"
    }
   ],
   "source": [
    "dat = dat_raw %>% select(starts_with(\"visit\"))\n",
    "cor(dat)"
   ]
  },
  {
   "cell_type": "markdown",
   "metadata": {},
   "source": [
    "# Fit GEE model"
   ]
  },
  {
   "cell_type": "code",
   "execution_count": 16,
   "metadata": {},
   "outputs": [
    {
     "name": "stderr",
     "output_type": "stream",
     "text": [
      "Beginning Cgee S-function, @(#) geeformula.q 4.13 98/01/27\n",
      "running glm to get initial regression estimate\n"
     ]
    },
    {
     "name": "stdout",
     "output_type": "stream",
     "text": [
      "(Intercept)         trt      gender         age       visit \n",
      " 0.91654548 -0.54262631  0.83033061  0.04568819 -0.20312822 \n"
     ]
    },
    {
     "data": {
      "text/plain": [
       "\n",
       " GEE:  GENERALIZED LINEAR MODELS FOR DEPENDENT DATA\n",
       " gee S-function, version 4.13 modified 98/01/27 (1998) \n",
       "\n",
       "Model:\n",
       " Link:                      Logit \n",
       " Variance to Mean Relation: Binomial \n",
       " Correlation Structure:     Exchangeable \n",
       "\n",
       "Call:\n",
       "gee(formula = value ~ trt + gender + age + visit, id = patient, \n",
       "    data = dat, family = binomial, corstr = \"exchangeable\")\n",
       "\n",
       "Summary of Residuals:\n",
       "       Min         1Q     Median         3Q        Max \n",
       "-0.9690000  0.0514466  0.1077134  0.1900992  0.4840113 \n",
       "\n",
       "\n",
       "Coefficients:\n",
       "               Estimate Naive S.E.   Naive z Robust S.E.  Robust z\n",
       "(Intercept)  0.91654548 0.25002180  3.665862 0.271244558  3.379037\n",
       "trt         -0.54262631 0.12834585 -4.227845 0.128173165 -4.233541\n",
       "gender       0.83033061 0.15202010  5.461979 0.150902655  5.502425\n",
       "age          0.04568819 0.00672315  6.795653 0.007375836  6.194307\n",
       "visit       -0.20312822 0.05735774 -3.541426 0.057131207 -3.555469\n",
       "\n",
       "Estimated Scale Parameter:  1.018529\n",
       "Number of Iterations:  1\n",
       "\n",
       "Working Correlation\n",
       "     [,1] [,2] [,3] [,4]\n",
       "[1,]    1    0    0    0\n",
       "[2,]    0    0    0    0\n",
       "[3,]    0    0    0    0\n",
       "[4,]    0    0    0    0"
      ]
     },
     "metadata": {},
     "output_type": "display_data"
    }
   ],
   "source": [
    "dat = dat_clust\n",
    "dat$visit = as.numeric(dat$visit)\n",
    "\n",
    "fit = gee(value ~ trt + gender + age + visit, \n",
    "          id     = patient, \n",
    "          family = binomial, \n",
    "          data   = dat, \n",
    "          corst  = \"exchangeable\")\n",
    "summary(fit)"
   ]
  },
  {
   "cell_type": "markdown",
   "metadata": {},
   "source": [
    "# Check linear effect of the visit variable"
   ]
  },
  {
   "cell_type": "code",
   "execution_count": 17,
   "metadata": {},
   "outputs": [
    {
     "name": "stderr",
     "output_type": "stream",
     "text": [
      "Beginning Cgee S-function, @(#) geeformula.q 4.13 98/01/27\n",
      "running glm to get initial regression estimate\n"
     ]
    },
    {
     "name": "stdout",
     "output_type": "stream",
     "text": [
      "(Intercept)         trt      gender         age      visit2      visit3 \n",
      " 0.69559482 -0.54268537  0.83040679  0.04569265 -0.14553319 -0.41656196 \n",
      "     visit4 \n",
      "-0.58519448 \n"
     ]
    },
    {
     "data": {
      "text/plain": [
       "\n",
       " GEE:  GENERALIZED LINEAR MODELS FOR DEPENDENT DATA\n",
       " gee S-function, version 4.13 modified 98/01/27 (1998) \n",
       "\n",
       "Model:\n",
       " Link:                      Logit \n",
       " Variance to Mean Relation: Binomial \n",
       " Correlation Structure:     Exchangeable \n",
       "\n",
       "Call:\n",
       "gee(formula = value ~ trt + gender + age + visit, id = patient, \n",
       "    data = dat, family = binomial, corstr = \"exchangeable\")\n",
       "\n",
       "Summary of Residuals:\n",
       "        Min          1Q      Median          3Q         Max \n",
       "-0.97018081  0.05047256  0.10716749  0.19274002  0.48242372 \n",
       "\n",
       "\n",
       "Coefficients:\n",
       "               Estimate  Naive S.E.    Naive z Robust S.E.   Robust z\n",
       "(Intercept)  0.69559482 0.235300239  2.9562011 0.252317933  2.7568188\n",
       "trt         -0.54268537 0.128358401 -4.2278913 0.128182989 -4.2336770\n",
       "gender       0.83040679 0.152033080  5.4620139 0.150949893  5.5012082\n",
       "age          0.04569265 0.006723796  6.7956626 0.007375816  6.1949273\n",
       "visit2      -0.14553319 0.192705945 -0.7552086 0.191505315 -0.7599434\n",
       "visit3      -0.41656196 0.185682852 -2.2434056 0.185048190 -2.2510999\n",
       "visit4      -0.58519448 0.182170607 -3.2123430 0.181706390 -3.2205498\n",
       "\n",
       "Estimated Scale Parameter:  1.018617\n",
       "Number of Iterations:  1\n",
       "\n",
       "Working Correlation\n",
       "     [,1] [,2] [,3] [,4]\n",
       "[1,]    1    0    0    0\n",
       "[2,]    0    0    0    0\n",
       "[3,]    0    0    0    0\n",
       "[4,]    0    0    0    0"
      ]
     },
     "metadata": {},
     "output_type": "display_data"
    }
   ],
   "source": [
    "dat = dat_clust\n",
    "fit = gee(value ~ trt + gender + age + visit, \n",
    "          id     = patient, \n",
    "          family = binomial, \n",
    "          data   = dat, \n",
    "          corst  = \"exchangeable\")\n",
    "summary(fit)"
   ]
  },
  {
   "cell_type": "code",
   "execution_count": null,
   "metadata": {},
   "outputs": [],
   "source": []
  },
  {
   "cell_type": "code",
   "execution_count": null,
   "metadata": {},
   "outputs": [],
   "source": []
  }
 ],
 "metadata": {
  "kernelspec": {
   "display_name": "R",
   "language": "R",
   "name": "ir"
  },
  "language_info": {
   "codemirror_mode": "r",
   "file_extension": ".r",
   "mimetype": "text/x-r-source",
   "name": "R",
   "pygments_lexer": "r",
   "version": "3.5.1"
  }
 },
 "nbformat": 4,
 "nbformat_minor": 2
}
