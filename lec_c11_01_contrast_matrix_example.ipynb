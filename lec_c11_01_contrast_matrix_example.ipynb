{
 "cells": [
  {
   "cell_type": "markdown",
   "metadata": {},
   "source": [
    "# Background"
   ]
  },
  {
   "cell_type": "markdown",
   "metadata": {},
   "source": [
    "| <p align=\"left\">Parameters</p>          | <p align=\"left\">Estimate</p>                      |\n",
    "|-----------------------------------------|---------------------------------------------------|\n",
    "| <p align=\"left\">$L^T \\beta$</p>         | <p align=\"left\">$L^T \\widehat{\\beta}$</p>         |\n",
    "| <p align=\"left\">$\\exp{(L^T \\beta)}$</p> | <p align=\"left\">$\\exp{(L^T \\widehat{\\beta)}}$</p> |\n",
    "| <p align=\"left\">$\\pi = \\frac{1}{1 + \\exp{(L^T \\beta)}}$</p> | <p align=\"left\">$\\widehat{\\pi} = \\frac{1}{1 + \\exp{(L^T \\widehat{\\beta})}}$</p> |"
   ]
  },
  {
   "cell_type": "markdown",
   "metadata": {},
   "source": [
    "| <p align=\"left\">Parameters</p>          | <p align=\"left\">Estimate</p>                      |\n",
    "|-----------------------------------------|---------------------------------------------------|\n",
    "| <p align=\"left\">95% CI for true $L^T \\beta$</p>         | <p align=\"left\">$L^T \\widehat{\\beta} \\pm 1.96 \\sqrt{V(L^T \\widehat{\\beta})}$</p>         |\n",
    "| <p align=\"left\">95% CI for true $\\exp{(L^T \\beta)}$</p> | <p align=\"left\">$exp \\Big(L^T \\widehat{\\beta} \\pm 1.96 \\sqrt{V(L^T \\widehat{\\beta})}\\Big)$</p> |\n",
    "| <p align=\"left\">95% CI for true $\\pi$</p> | <p align=\"left\">$\\frac{1}{1 + exp \\Big(L^T \\widehat{\\beta} \\pm 1.96 \\sqrt{V(L^T \\widehat{\\beta})}\\Big)}$</p> |"
   ]
  },
  {
   "cell_type": "markdown",
   "metadata": {},
   "source": [
    "# Set environment"
   ]
  },
  {
   "cell_type": "code",
   "execution_count": 1,
   "metadata": {},
   "outputs": [
    {
     "name": "stderr",
     "output_type": "stream",
     "text": [
      "── Attaching packages ─────────────────────────────────────── tidyverse 1.2.1 ──\n",
      "✔ ggplot2 3.0.0     ✔ purrr   0.2.5\n",
      "✔ tibble  1.4.2     ✔ dplyr   0.7.6\n",
      "✔ tidyr   0.8.1     ✔ stringr 1.3.1\n",
      "✔ readr   1.1.1     ✔ forcats 0.3.0\n",
      "── Conflicts ────────────────────────────────────────── tidyverse_conflicts() ──\n",
      "✖ dplyr::filter() masks stats::filter()\n",
      "✖ dplyr::lag()    masks stats::lag()\n"
     ]
    }
   ],
   "source": [
    "library(tidyverse)\n",
    "library(IRdisplay)"
   ]
  },
  {
   "cell_type": "markdown",
   "metadata": {},
   "source": [
    "# Import data"
   ]
  },
  {
   "cell_type": "code",
   "execution_count": 2,
   "metadata": {},
   "outputs": [
    {
     "data": {
      "text/html": [
       "<table>\n",
       "<thead><tr><th scope=col>y</th><th scope=col>n</th><th scope=col>storage</th><th scope=col>centrifuge</th><th scope=col>newstor</th><th scope=col>force</th></tr></thead>\n",
       "<tbody>\n",
       "\t<tr><td>55      </td><td>102     </td><td>1       </td><td> 40     </td><td>0       </td><td>3.688879</td></tr>\n",
       "\t<tr><td>52      </td><td> 99     </td><td>1       </td><td>150     </td><td>0       </td><td>5.010635</td></tr>\n",
       "\t<tr><td>57      </td><td>108     </td><td>1       </td><td>350     </td><td>0       </td><td>5.857933</td></tr>\n",
       "\t<tr><td>55      </td><td> 76     </td><td>2       </td><td> 40     </td><td>1       </td><td>3.688879</td></tr>\n",
       "\t<tr><td>50      </td><td> 81     </td><td>2       </td><td>150     </td><td>1       </td><td>5.010635</td></tr>\n",
       "\t<tr><td>50      </td><td> 90     </td><td>2       </td><td>350     </td><td>1       </td><td>5.857933</td></tr>\n",
       "</tbody>\n",
       "</table>\n"
      ],
      "text/latex": [
       "\\begin{tabular}{r|llllll}\n",
       " y & n & storage & centrifuge & newstor & force\\\\\n",
       "\\hline\n",
       "\t 55       & 102      & 1        &  40      & 0        & 3.688879\\\\\n",
       "\t 52       &  99      & 1        & 150      & 0        & 5.010635\\\\\n",
       "\t 57       & 108      & 1        & 350      & 0        & 5.857933\\\\\n",
       "\t 55       &  76      & 2        &  40      & 1        & 3.688879\\\\\n",
       "\t 50       &  81      & 2        & 150      & 1        & 5.010635\\\\\n",
       "\t 50       &  90      & 2        & 350      & 1        & 5.857933\\\\\n",
       "\\end{tabular}\n"
      ],
      "text/markdown": [
       "\n",
       "y | n | storage | centrifuge | newstor | force | \n",
       "|---|---|---|---|---|---|\n",
       "| 55       | 102      | 1        |  40      | 0        | 3.688879 | \n",
       "| 52       |  99      | 1        | 150      | 0        | 5.010635 | \n",
       "| 57       | 108      | 1        | 350      | 0        | 5.857933 | \n",
       "| 55       |  76      | 2        |  40      | 1        | 3.688879 | \n",
       "| 50       |  81      | 2        | 150      | 1        | 5.010635 | \n",
       "| 50       |  90      | 2        | 350      | 1        | 5.857933 | \n",
       "\n",
       "\n"
      ],
      "text/plain": [
       "  y  n   storage centrifuge newstor force   \n",
       "1 55 102 1        40        0       3.688879\n",
       "2 52  99 1       150        0       5.010635\n",
       "3 57 108 1       350        0       5.857933\n",
       "4 55  76 2        40        1       3.688879\n",
       "5 50  81 2       150        1       5.010635\n",
       "6 50  90 2       350        1       5.857933"
      ]
     },
     "metadata": {},
     "output_type": "display_data"
    }
   ],
   "source": [
    "source(\"./data/table_7_5_embryogenic_athers.R\")\n",
    "embryogenic_anthers"
   ]
  },
  {
   "cell_type": "markdown",
   "metadata": {},
   "source": [
    "# Fit model"
   ]
  },
  {
   "cell_type": "markdown",
   "metadata": {},
   "source": [
    "$logit(p) = \\beta_1 + \\beta_2 \\text{newstor}$\n",
    "\n",
    "Note: newstor: \n",
    "- 1 = treatment \n",
    "- 0 = control"
   ]
  },
  {
   "cell_type": "code",
   "execution_count": 3,
   "metadata": {},
   "outputs": [
    {
     "data": {
      "text/plain": [
       "\n",
       "Call:\n",
       "glm(formula = cbind(y, n - y) ~ newstor, family = binomial(link = \"logit\"), \n",
       "    data = embryogenic_anthers)\n",
       "\n",
       "Deviance Residuals: \n",
       "       1         2         3         4         5         6  \n",
       " 0.17150  -0.10947  -0.06177   1.77208  -0.19040  -1.39686  \n",
       "\n",
       "Coefficients:\n",
       "            Estimate Std. Error z value Pr(>|z|)  \n",
       "(Intercept)   0.1231     0.1140   1.080   0.2801  \n",
       "newstor       0.3985     0.1741   2.289   0.0221 *\n",
       "---\n",
       "Signif. codes:  0 ‘***’ 0.001 ‘**’ 0.01 ‘*’ 0.05 ‘.’ 0.1 ‘ ’ 1\n",
       "\n",
       "(Dispersion parameter for binomial family taken to be 1)\n",
       "\n",
       "    Null deviance: 10.452  on 5  degrees of freedom\n",
       "Residual deviance:  5.173  on 4  degrees of freedom\n",
       "AIC: 38.741\n",
       "\n",
       "Number of Fisher Scoring iterations: 3\n"
      ]
     },
     "metadata": {},
     "output_type": "display_data"
    }
   ],
   "source": [
    "fit = glm(cbind(y, n-y) ~ newstor, data = embryogenic_anthers, family = binomial(link = \"logit\"))\n",
    "summary(fit)"
   ]
  },
  {
   "cell_type": "markdown",
   "metadata": {},
   "source": [
    "# Odds ratio<sub>*pattern1 vs pattern2*</sub>"
   ]
  },
  {
   "cell_type": "markdown",
   "metadata": {},
   "source": [
    "- Pattern 1: treatment\n",
    "- Pattern 2: control\n",
    "\n",
    "$\\Rightarrow$ OR<sub>*pattern1 vs pattern2*</sub> \n",
    "\n",
    "$= \\frac{exp\\Big( \\beta_1 + \\beta_2 x 1 \\Big)}{exp\\Big( \\beta_1 + \\beta_2 x 0 \\Big)} = exp\\{\\beta_2\\}$"
   ]
  },
  {
   "cell_type": "markdown",
   "metadata": {},
   "source": [
    "$\\Rightarrow$ Contrast matrix (coefficients of a linear combination of parameters)\n",
    "\n",
    "$L = \\begin{bmatrix} 0 \\\\ 1 \\end{bmatrix}$\n",
    "\n",
    "$L^T \\beta = \\begin{bmatrix} 0 & 1 \\end{bmatrix} \\begin{bmatrix} \\beta_1 \\\\ \\beta_2 \\end{bmatrix} = \\beta_2$\n",
    "\n",
    "$V\\Big( L^T \\beta\\Big) = \n",
    "     \\begin{bmatrix} 0 & 1 \\end{bmatrix} \n",
    "     \\begin{bmatrix} \n",
    "         V(\\beta_1)            & Cov(\\beta_1, \\beta_2) \\\\\n",
    "         Cov(\\beta_1, \\beta_2) & V(\\beta_2)            \\\\\n",
    "     \\end{bmatrix} \n",
    "     \\begin{bmatrix} 0 \\\\ 1 \\end{bmatrix} = \n",
    "     V(\\beta_2)$"
   ]
  },
  {
   "cell_type": "code",
   "execution_count": 4,
   "metadata": {},
   "outputs": [
    {
     "name": "stdout",
     "output_type": "stream",
     "text": [
      "     [,1]\n",
      "[1,]    0\n",
      "[2,]    1\n"
     ]
    }
   ],
   "source": [
    "L = cbind(c(0, 1))\n",
    "print(L)"
   ]
  },
  {
   "cell_type": "markdown",
   "metadata": {},
   "source": [
    "## estimate $L^T \\beta$ and $exp \\big( L^T \\beta \\big)$"
   ]
  },
  {
   "cell_type": "markdown",
   "metadata": {},
   "source": [
    "$\\text{logit(p)} = L^T \\beta$"
   ]
  },
  {
   "cell_type": "code",
   "execution_count": 5,
   "metadata": {},
   "outputs": [
    {
     "data": {
      "text/html": [
       "<table>\n",
       "<tbody>\n",
       "\t<tr><td>0.3985039</td></tr>\n",
       "</tbody>\n",
       "</table>\n"
      ],
      "text/latex": [
       "\\begin{tabular}{l}\n",
       "\t 0.3985039\\\\\n",
       "\\end{tabular}\n"
      ],
      "text/markdown": [
       "\n",
       "| 0.3985039 | \n",
       "\n",
       "\n"
      ],
      "text/plain": [
       "     [,1]     \n",
       "[1,] 0.3985039"
      ]
     },
     "metadata": {},
     "output_type": "display_data"
    }
   ],
   "source": [
    "t(L) %*% fit$coef"
   ]
  },
  {
   "cell_type": "markdown",
   "metadata": {},
   "source": [
    "estimated OR $= exp(L^T \\beta)$"
   ]
  },
  {
   "cell_type": "code",
   "execution_count": 6,
   "metadata": {},
   "outputs": [
    {
     "data": {
      "text/html": [
       "<table>\n",
       "<tbody>\n",
       "\t<tr><td>1.489594</td></tr>\n",
       "</tbody>\n",
       "</table>\n"
      ],
      "text/latex": [
       "\\begin{tabular}{l}\n",
       "\t 1.489594\\\\\n",
       "\\end{tabular}\n"
      ],
      "text/markdown": [
       "\n",
       "| 1.489594 | \n",
       "\n",
       "\n"
      ],
      "text/plain": [
       "     [,1]    \n",
       "[1,] 1.489594"
      ]
     },
     "metadata": {},
     "output_type": "display_data"
    }
   ],
   "source": [
    "t(L) %*% fit$coef %>% exp"
   ]
  },
  {
   "cell_type": "markdown",
   "metadata": {},
   "source": [
    "## estimate var($L^T \\beta$)"
   ]
  },
  {
   "cell_type": "markdown",
   "metadata": {},
   "source": [
    "$cov \\big( \\beta \\big)$"
   ]
  },
  {
   "cell_type": "code",
   "execution_count": 7,
   "metadata": {},
   "outputs": [
    {
     "data": {
      "text/html": [
       "<table>\n",
       "<thead><tr><th></th><th scope=col>(Intercept)</th><th scope=col>newstor</th></tr></thead>\n",
       "<tbody>\n",
       "\t<tr><th scope=row>(Intercept)</th><td> 0.01299411</td><td>-0.01299411</td></tr>\n",
       "\t<tr><th scope=row>newstor</th><td>-0.01299411</td><td> 0.03031520</td></tr>\n",
       "</tbody>\n",
       "</table>\n"
      ],
      "text/latex": [
       "\\begin{tabular}{r|ll}\n",
       "  & (Intercept) & newstor\\\\\n",
       "\\hline\n",
       "\t(Intercept) &  0.01299411 & -0.01299411\\\\\n",
       "\tnewstor & -0.01299411 &  0.03031520\\\\\n",
       "\\end{tabular}\n"
      ],
      "text/markdown": [
       "\n",
       "| <!--/--> | (Intercept) | newstor | \n",
       "|---|---|\n",
       "| (Intercept) |  0.01299411 | -0.01299411 | \n",
       "| newstor | -0.01299411 |  0.03031520 | \n",
       "\n",
       "\n"
      ],
      "text/plain": [
       "            (Intercept) newstor    \n",
       "(Intercept)  0.01299411 -0.01299411\n",
       "newstor     -0.01299411  0.03031520"
      ]
     },
     "metadata": {},
     "output_type": "display_data"
    }
   ],
   "source": [
    "covb = summary(fit)$cov.unscaled\n",
    "display(covb)"
   ]
  },
  {
   "cell_type": "markdown",
   "metadata": {},
   "source": [
    "$L^T cov \\big( \\beta \\big) L$"
   ]
  },
  {
   "cell_type": "code",
   "execution_count": 8,
   "metadata": {},
   "outputs": [
    {
     "data": {
      "text/html": [
       "<table>\n",
       "<tbody>\n",
       "\t<tr><td>0.0303152</td></tr>\n",
       "</tbody>\n",
       "</table>\n"
      ],
      "text/latex": [
       "\\begin{tabular}{l}\n",
       "\t 0.0303152\\\\\n",
       "\\end{tabular}\n"
      ],
      "text/markdown": [
       "\n",
       "| 0.0303152 | \n",
       "\n",
       "\n"
      ],
      "text/plain": [
       "     [,1]     \n",
       "[1,] 0.0303152"
      ]
     },
     "metadata": {},
     "output_type": "display_data"
    }
   ],
   "source": [
    "t(L) %*% covb %*% L"
   ]
  },
  {
   "cell_type": "markdown",
   "metadata": {},
   "source": [
    "standard deviation"
   ]
  },
  {
   "cell_type": "code",
   "execution_count": 9,
   "metadata": {},
   "outputs": [
    {
     "data": {
      "text/html": [
       "<table>\n",
       "<tbody>\n",
       "\t<tr><td>0.1741126</td></tr>\n",
       "</tbody>\n",
       "</table>\n"
      ],
      "text/latex": [
       "\\begin{tabular}{l}\n",
       "\t 0.1741126\\\\\n",
       "\\end{tabular}\n"
      ],
      "text/markdown": [
       "\n",
       "| 0.1741126 | \n",
       "\n",
       "\n"
      ],
      "text/plain": [
       "     [,1]     \n",
       "[1,] 0.1741126"
      ]
     },
     "metadata": {},
     "output_type": "display_data"
    }
   ],
   "source": [
    "t(L) %*% covb %*% L %>% sqrt"
   ]
  },
  {
   "cell_type": "markdown",
   "metadata": {},
   "source": [
    "## 95% CI for true $L^T \\beta$ and true OR"
   ]
  },
  {
   "cell_type": "markdown",
   "metadata": {},
   "source": [
    "95% CI for true $L^T \\beta$"
   ]
  },
  {
   "cell_type": "code",
   "execution_count": 10,
   "metadata": {},
   "outputs": [
    {
     "data": {
      "text/html": [
       "<dl class=dl-horizontal>\n",
       "\t<dt>lower</dt>\n",
       "\t\t<dd>0.0572494115055078</dd>\n",
       "\t<dt>upper</dt>\n",
       "\t\t<dd>0.739758297321323</dd>\n",
       "</dl>\n"
      ],
      "text/latex": [
       "\\begin{description*}\n",
       "\\item[lower] 0.0572494115055078\n",
       "\\item[upper] 0.739758297321323\n",
       "\\end{description*}\n"
      ],
      "text/markdown": [
       "lower\n",
       ":   0.0572494115055078upper\n",
       ":   0.739758297321323\n",
       "\n"
      ],
      "text/plain": [
       "     lower      upper \n",
       "0.05724941 0.73975830 "
      ]
     },
     "metadata": {},
     "output_type": "display_data"
    }
   ],
   "source": [
    "Lb    = t(L) %*% fit$coef   %>% as.vector\n",
    "varLb = t(L) %*% covb %*% L %>% as.vector\n",
    " \n",
    "CILb        = Lb + c(-1, 1) * qnorm(1 - 0.05 / 2) * sqrt(varLb)\n",
    "names(CILb) = c(\"lower\", \"upper\")\n",
    "\n",
    "display(CILb)"
   ]
  },
  {
   "cell_type": "markdown",
   "metadata": {},
   "source": [
    "95% CI for true OR"
   ]
  },
  {
   "cell_type": "code",
   "execution_count": 11,
   "metadata": {},
   "outputs": [
    {
     "data": {
      "text/html": [
       "<dl class=dl-horizontal>\n",
       "\t<dt>lower</dt>\n",
       "\t\t<dd>1.05891988426515</dd>\n",
       "\t<dt>upper</dt>\n",
       "\t\t<dd>2.09542898248372</dd>\n",
       "</dl>\n"
      ],
      "text/latex": [
       "\\begin{description*}\n",
       "\\item[lower] 1.05891988426515\n",
       "\\item[upper] 2.09542898248372\n",
       "\\end{description*}\n"
      ],
      "text/markdown": [
       "lower\n",
       ":   1.05891988426515upper\n",
       ":   2.09542898248372\n",
       "\n"
      ],
      "text/plain": [
       "   lower    upper \n",
       "1.058920 2.095429 "
      ]
     },
     "metadata": {},
     "output_type": "display_data"
    }
   ],
   "source": [
    "exp(CILb)"
   ]
  },
  {
   "cell_type": "markdown",
   "metadata": {},
   "source": [
    "# Another contrast matrix\n",
    "\n",
    "Covariate Pattern $L = \\begin{bmatrix} 1 \\\\ 1 \\end{bmatrix}$  \n",
    "\n",
    "$\\Rightarrow \\beta_1 + \\beta_2$\n",
    "\n",
    "which is the odds of treatment   \n",
    "\n",
    "$\\Rightarrow \\text{logit(p)} = \\beta_1 + \\beta_2 newstor$\n",
    "\n",
    "Therefore, we can **estimate predicted probability of success (and CI) for the pattern**"
   ]
  },
  {
   "cell_type": "code",
   "execution_count": 12,
   "metadata": {},
   "outputs": [
    {
     "name": "stdout",
     "output_type": "stream",
     "text": [
      "     [,1]\n",
      "[1,]    1\n",
      "[2,]    1\n"
     ]
    }
   ],
   "source": [
    "L = cbind(c(1, 1))\n",
    "print(L)"
   ]
  },
  {
   "cell_type": "markdown",
   "metadata": {},
   "source": [
    "## estimate $L^T \\beta$ and $exp \\big( L^T \\beta \\big)$"
   ]
  },
  {
   "cell_type": "code",
   "execution_count": 15,
   "metadata": {},
   "outputs": [
    {
     "name": "stdout",
     "output_type": "stream",
     "text": [
      "[1] 0.5216365\n"
     ]
    }
   ],
   "source": [
    "Lb = t(L) %*% fit$coef %>% as.vector\n",
    "print(Lb)"
   ]
  },
  {
   "cell_type": "code",
   "execution_count": 16,
   "metadata": {},
   "outputs": [
    {
     "data": {
      "text/html": [
       "1.68478260860608"
      ],
      "text/latex": [
       "1.68478260860608"
      ],
      "text/markdown": [
       "1.68478260860608"
      ],
      "text/plain": [
       "[1] 1.684783"
      ]
     },
     "metadata": {},
     "output_type": "display_data"
    }
   ],
   "source": [
    "Lb %>% exp"
   ]
  },
  {
   "cell_type": "markdown",
   "metadata": {},
   "source": [
    "## estimate var($L^T \\beta$)"
   ]
  },
  {
   "cell_type": "code",
   "execution_count": 19,
   "metadata": {},
   "outputs": [
    {
     "data": {
      "text/html": [
       "<table>\n",
       "<thead><tr><th></th><th scope=col>(Intercept)</th><th scope=col>newstor</th></tr></thead>\n",
       "<tbody>\n",
       "\t<tr><th scope=row>(Intercept)</th><td> 0.01299411</td><td>-0.01299411</td></tr>\n",
       "\t<tr><th scope=row>newstor</th><td>-0.01299411</td><td> 0.03031520</td></tr>\n",
       "</tbody>\n",
       "</table>\n"
      ],
      "text/latex": [
       "\\begin{tabular}{r|ll}\n",
       "  & (Intercept) & newstor\\\\\n",
       "\\hline\n",
       "\t(Intercept) &  0.01299411 & -0.01299411\\\\\n",
       "\tnewstor & -0.01299411 &  0.03031520\\\\\n",
       "\\end{tabular}\n"
      ],
      "text/markdown": [
       "\n",
       "| <!--/--> | (Intercept) | newstor | \n",
       "|---|---|\n",
       "| (Intercept) |  0.01299411 | -0.01299411 | \n",
       "| newstor | -0.01299411 |  0.03031520 | \n",
       "\n",
       "\n"
      ],
      "text/plain": [
       "            (Intercept) newstor    \n",
       "(Intercept)  0.01299411 -0.01299411\n",
       "newstor     -0.01299411  0.03031520"
      ]
     },
     "metadata": {},
     "output_type": "display_data"
    }
   ],
   "source": [
    "covb = summary(fit)$cov.unscaled\n",
    "display(covb)"
   ]
  },
  {
   "cell_type": "code",
   "execution_count": 20,
   "metadata": {},
   "outputs": [
    {
     "data": {
      "text/html": [
       "0.0173210879154648"
      ],
      "text/latex": [
       "0.0173210879154648"
      ],
      "text/markdown": [
       "0.0173210879154648"
      ],
      "text/plain": [
       "[1] 0.01732109"
      ]
     },
     "metadata": {},
     "output_type": "display_data"
    }
   ],
   "source": [
    "varLb = t(L) %*% covb %*% L %>% as.vector\n",
    "display(varLb)"
   ]
  },
  {
   "cell_type": "markdown",
   "metadata": {},
   "source": [
    "## 95% CI for true $L^T \\beta$ and true probability"
   ]
  },
  {
   "cell_type": "markdown",
   "metadata": {},
   "source": [
    "95% CI for true $L^T \\beta$"
   ]
  },
  {
   "cell_type": "code",
   "execution_count": 21,
   "metadata": {},
   "outputs": [
    {
     "data": {
      "text/html": [
       "<dl class=dl-horizontal>\n",
       "\t<dt>lower</dt>\n",
       "\t\t<dd>0.263686455581968</dd>\n",
       "\t<dt>upper</dt>\n",
       "\t\t<dd>0.779586624052112</dd>\n",
       "</dl>\n"
      ],
      "text/latex": [
       "\\begin{description*}\n",
       "\\item[lower] 0.263686455581968\n",
       "\\item[upper] 0.779586624052112\n",
       "\\end{description*}\n"
      ],
      "text/markdown": [
       "lower\n",
       ":   0.263686455581968upper\n",
       ":   0.779586624052112\n",
       "\n"
      ],
      "text/plain": [
       "    lower     upper \n",
       "0.2636865 0.7795866 "
      ]
     },
     "metadata": {},
     "output_type": "display_data"
    }
   ],
   "source": [
    "CILb = Lb + c(-1, 1) * qnorm(1 - 0.05 / 2) * sqrt(varLb)\n",
    "names(CILb) = c(\"lower\", \"upper\")\n",
    "\n",
    "display(CILb)"
   ]
  },
  {
   "cell_type": "markdown",
   "metadata": {},
   "source": [
    "95% CI for true odds"
   ]
  },
  {
   "cell_type": "code",
   "execution_count": 23,
   "metadata": {},
   "outputs": [
    {
     "data": {
      "text/html": [
       "<dl class=dl-horizontal>\n",
       "\t<dt>lower</dt>\n",
       "\t\t<dd>1.30171998527287</dd>\n",
       "\t<dt>upper</dt>\n",
       "\t\t<dd>2.18057068369161</dd>\n",
       "</dl>\n"
      ],
      "text/latex": [
       "\\begin{description*}\n",
       "\\item[lower] 1.30171998527287\n",
       "\\item[upper] 2.18057068369161\n",
       "\\end{description*}\n"
      ],
      "text/markdown": [
       "lower\n",
       ":   1.30171998527287upper\n",
       ":   2.18057068369161\n",
       "\n"
      ],
      "text/plain": [
       "   lower    upper \n",
       "1.301720 2.180571 "
      ]
     },
     "metadata": {},
     "output_type": "display_data"
    }
   ],
   "source": [
    "display(CILb %>% exp)"
   ]
  },
  {
   "cell_type": "markdown",
   "metadata": {},
   "source": [
    "95% CI for success probability in treatment"
   ]
  },
  {
   "cell_type": "code",
   "execution_count": 29,
   "metadata": {},
   "outputs": [
    {
     "data": {
      "text/html": [
       "<dl class=dl-horizontal>\n",
       "\t<dt>lower</dt>\n",
       "\t\t<dd>0.565542287333683</dd>\n",
       "\t<dt>upper</dt>\n",
       "\t\t<dd>0.68559101511955</dd>\n",
       "</dl>\n"
      ],
      "text/latex": [
       "\\begin{description*}\n",
       "\\item[lower] 0.565542287333683\n",
       "\\item[upper] 0.68559101511955\n",
       "\\end{description*}\n"
      ],
      "text/markdown": [
       "lower\n",
       ":   0.565542287333683upper\n",
       ":   0.68559101511955\n",
       "\n"
      ],
      "text/plain": [
       "    lower     upper \n",
       "0.5655423 0.6855910 "
      ]
     },
     "metadata": {},
     "output_type": "display_data"
    }
   ],
   "source": [
    "f = function(x){ return(1 / x) }\n",
    "display(CILb %>% `-` %>% exp %>% `+`(., 1) %>% f)"
   ]
  },
  {
   "cell_type": "markdown",
   "metadata": {},
   "source": [
    "# add interaction term\n",
    "\n",
    "$logit(p) = \\beta_1 + \\beta_2 newstor + \\beta_3 newstor * force$\n",
    "\n",
    "- pattern 1: treatment, force = 5  \n",
    "- pattern 2: control, force = 4\n",
    "\n",
    "$OR_{pattern 1 vs pattern 2}$\n",
    "\n",
    "$= \\frac{\n",
    "    exp \\big( \\beta_1 + \\beta_2 * 1 + \\beta_3 * 5 + \\beta_4 * 1 * 5 \\big)\n",
    "}{\n",
    "    exp \\big( \\beta_1 + \\beta_2 * 0 + \\beta_3 * 4 + \\beta_4 * 0 * 4 \\big)\n",
    "}$\n",
    "\n",
    "$= exp \\big( \\beta_2 + \\beta_3 + 5 \\beta_4 \\big)$\n",
    "\n",
    "contrast matrix\n",
    "\n",
    "$L^T = \\begin{bmatrix} 0 & 1 & 1 & 5 \\end{bmatrix}$"
   ]
  },
  {
   "cell_type": "code",
   "execution_count": 30,
   "metadata": {},
   "outputs": [
    {
     "name": "stdout",
     "output_type": "stream",
     "text": [
      "     [,1]\n",
      "[1,]    0\n",
      "[2,]    1\n",
      "[3,]    1\n",
      "[4,]    5\n"
     ]
    }
   ],
   "source": [
    "L = cbind(c(0, 1, 1, 5))\n",
    "print(L)"
   ]
  },
  {
   "cell_type": "markdown",
   "metadata": {},
   "source": [
    "## fit model"
   ]
  },
  {
   "cell_type": "code",
   "execution_count": 31,
   "metadata": {},
   "outputs": [
    {
     "data": {
      "text/html": [
       "<table>\n",
       "<thead><tr><th scope=col>y</th><th scope=col>n</th><th scope=col>storage</th><th scope=col>centrifuge</th><th scope=col>newstor</th><th scope=col>force</th></tr></thead>\n",
       "<tbody>\n",
       "\t<tr><td>55      </td><td>102     </td><td>1       </td><td> 40     </td><td>0       </td><td>3.688879</td></tr>\n",
       "\t<tr><td>52      </td><td> 99     </td><td>1       </td><td>150     </td><td>0       </td><td>5.010635</td></tr>\n",
       "\t<tr><td>57      </td><td>108     </td><td>1       </td><td>350     </td><td>0       </td><td>5.857933</td></tr>\n",
       "\t<tr><td>55      </td><td> 76     </td><td>2       </td><td> 40     </td><td>1       </td><td>3.688879</td></tr>\n",
       "\t<tr><td>50      </td><td> 81     </td><td>2       </td><td>150     </td><td>1       </td><td>5.010635</td></tr>\n",
       "\t<tr><td>50      </td><td> 90     </td><td>2       </td><td>350     </td><td>1       </td><td>5.857933</td></tr>\n",
       "</tbody>\n",
       "</table>\n"
      ],
      "text/latex": [
       "\\begin{tabular}{r|llllll}\n",
       " y & n & storage & centrifuge & newstor & force\\\\\n",
       "\\hline\n",
       "\t 55       & 102      & 1        &  40      & 0        & 3.688879\\\\\n",
       "\t 52       &  99      & 1        & 150      & 0        & 5.010635\\\\\n",
       "\t 57       & 108      & 1        & 350      & 0        & 5.857933\\\\\n",
       "\t 55       &  76      & 2        &  40      & 1        & 3.688879\\\\\n",
       "\t 50       &  81      & 2        & 150      & 1        & 5.010635\\\\\n",
       "\t 50       &  90      & 2        & 350      & 1        & 5.857933\\\\\n",
       "\\end{tabular}\n"
      ],
      "text/markdown": [
       "\n",
       "y | n | storage | centrifuge | newstor | force | \n",
       "|---|---|---|---|---|---|\n",
       "| 55       | 102      | 1        |  40      | 0        | 3.688879 | \n",
       "| 52       |  99      | 1        | 150      | 0        | 5.010635 | \n",
       "| 57       | 108      | 1        | 350      | 0        | 5.857933 | \n",
       "| 55       |  76      | 2        |  40      | 1        | 3.688879 | \n",
       "| 50       |  81      | 2        | 150      | 1        | 5.010635 | \n",
       "| 50       |  90      | 2        | 350      | 1        | 5.857933 | \n",
       "\n",
       "\n"
      ],
      "text/plain": [
       "  y  n   storage centrifuge newstor force   \n",
       "1 55 102 1        40        0       3.688879\n",
       "2 52  99 1       150        0       5.010635\n",
       "3 57 108 1       350        0       5.857933\n",
       "4 55  76 2        40        1       3.688879\n",
       "5 50  81 2       150        1       5.010635\n",
       "6 50  90 2       350        1       5.857933"
      ]
     },
     "metadata": {},
     "output_type": "display_data"
    }
   ],
   "source": [
    "embryogenic_anthers"
   ]
  },
  {
   "cell_type": "code",
   "execution_count": 34,
   "metadata": {},
   "outputs": [
    {
     "name": "stdout",
     "output_type": "stream",
     "text": [
      "\n",
      "Call:  glm(formula = cbind(y, n - y) ~ newstor + force + newstor * force, \n",
      "    family = binomial(link = \"logit\"), data = embryogenic_anthers)\n",
      "\n",
      "Coefficients:\n",
      "  (Intercept)        newstor          force  newstor:force  \n",
      "      0.23389        1.97711       -0.02274       -0.31862  \n",
      "\n",
      "Degrees of Freedom: 5 Total (i.e. Null);  2 Residual\n",
      "Null Deviance:\t    10.45 \n",
      "Residual Deviance: 0.02773 \tAIC: 37.6\n"
     ]
    }
   ],
   "source": [
    "fit = glm(cbind(y, n - y) ~ newstor + force + newstor * force, data = embryogenic_anthers, binomial(link = \"logit\"))\n",
    "print(fit)"
   ]
  },
  {
   "cell_type": "markdown",
   "metadata": {},
   "source": [
    "## Estimation"
   ]
  },
  {
   "cell_type": "markdown",
   "metadata": {},
   "source": [
    "$L^T \\beta$"
   ]
  },
  {
   "cell_type": "code",
   "execution_count": 50,
   "metadata": {},
   "outputs": [
    {
     "data": {
      "text/html": [
       "0.361275061071022"
      ],
      "text/latex": [
       "0.361275061071022"
      ],
      "text/markdown": [
       "0.361275061071022"
      ],
      "text/plain": [
       "[1] 0.3612751"
      ]
     },
     "metadata": {},
     "output_type": "display_data"
    }
   ],
   "source": [
    "Lb   = t(L) %*% fit$coef %>% as.vector\n",
    "display(Lb)"
   ]
  },
  {
   "cell_type": "markdown",
   "metadata": {},
   "source": [
    "$exp \\big( L^T \\beta \\big)$"
   ]
  },
  {
   "cell_type": "code",
   "execution_count": 52,
   "metadata": {},
   "outputs": [
    {
     "data": {
      "text/html": [
       "1.43515816273384"
      ],
      "text/latex": [
       "1.43515816273384"
      ],
      "text/markdown": [
       "1.43515816273384"
      ],
      "text/plain": [
       "[1] 1.435158"
      ]
     },
     "metadata": {},
     "output_type": "display_data"
    }
   ],
   "source": [
    "display(exp(Lb))"
   ]
  },
  {
   "cell_type": "markdown",
   "metadata": {},
   "source": [
    "$cov \\big( \\beta \\big)$"
   ]
  },
  {
   "cell_type": "code",
   "execution_count": 43,
   "metadata": {},
   "outputs": [
    {
     "data": {
      "text/html": [
       "<table>\n",
       "<thead><tr><th></th><th scope=col>(Intercept)</th><th scope=col>newstor</th><th scope=col>force</th><th scope=col>newstor:force</th></tr></thead>\n",
       "<tbody>\n",
       "\t<tr><th scope=row>(Intercept)</th><td> 0.39487339</td><td>-0.39487339</td><td>-0.07838818</td><td> 0.07838818</td></tr>\n",
       "\t<tr><th scope=row>newstor</th><td>-0.39487339</td><td> 0.99605180</td><td> 0.07838818</td><td>-0.19539027</td></tr>\n",
       "\t<tr><th scope=row>force</th><td>-0.07838818</td><td> 0.07838818</td><td> 0.01609076</td><td>-0.01609076</td></tr>\n",
       "\t<tr><th scope=row>newstor:force</th><td> 0.07838818</td><td>-0.19539027</td><td>-0.01609076</td><td> 0.03955189</td></tr>\n",
       "</tbody>\n",
       "</table>\n"
      ],
      "text/latex": [
       "\\begin{tabular}{r|llll}\n",
       "  & (Intercept) & newstor & force & newstor:force\\\\\n",
       "\\hline\n",
       "\t(Intercept) &  0.39487339 & -0.39487339 & -0.07838818 &  0.07838818\\\\\n",
       "\tnewstor & -0.39487339 &  0.99605180 &  0.07838818 & -0.19539027\\\\\n",
       "\tforce & -0.07838818 &  0.07838818 &  0.01609076 & -0.01609076\\\\\n",
       "\tnewstor:force &  0.07838818 & -0.19539027 & -0.01609076 &  0.03955189\\\\\n",
       "\\end{tabular}\n"
      ],
      "text/markdown": [
       "\n",
       "| <!--/--> | (Intercept) | newstor | force | newstor:force | \n",
       "|---|---|---|---|\n",
       "| (Intercept) |  0.39487339 | -0.39487339 | -0.07838818 |  0.07838818 | \n",
       "| newstor | -0.39487339 |  0.99605180 |  0.07838818 | -0.19539027 | \n",
       "| force | -0.07838818 |  0.07838818 |  0.01609076 | -0.01609076 | \n",
       "| newstor:force |  0.07838818 | -0.19539027 | -0.01609076 |  0.03955189 | \n",
       "\n",
       "\n"
      ],
      "text/plain": [
       "              (Intercept) newstor     force       newstor:force\n",
       "(Intercept)    0.39487339 -0.39487339 -0.07838818  0.07838818  \n",
       "newstor       -0.39487339  0.99605180  0.07838818 -0.19539027  \n",
       "force         -0.07838818  0.07838818  0.01609076 -0.01609076  \n",
       "newstor:force  0.07838818 -0.19539027 -0.01609076  0.03955189  "
      ]
     },
     "metadata": {},
     "output_type": "display_data"
    }
   ],
   "source": [
    "covb = summary(fit)$cov.unscaled\n",
    "display(covb)"
   ]
  },
  {
   "cell_type": "markdown",
   "metadata": {},
   "source": [
    "$var \\big( L^T \\beta \\big)$"
   ]
  },
  {
   "cell_type": "code",
   "execution_count": 51,
   "metadata": {},
   "outputs": [
    {
     "data": {
      "text/html": [
       "0.207137299298877"
      ],
      "text/latex": [
       "0.207137299298877"
      ],
      "text/markdown": [
       "0.207137299298877"
      ],
      "text/plain": [
       "[1] 0.2071373"
      ]
     },
     "metadata": {},
     "output_type": "display_data"
    }
   ],
   "source": [
    "varLb = t(L) %*% covb %*% L %>% as.vector\n",
    "display(sqrt(varLb))"
   ]
  },
  {
   "cell_type": "markdown",
   "metadata": {},
   "source": [
    "95% CI for Lb"
   ]
  },
  {
   "cell_type": "code",
   "execution_count": 46,
   "metadata": {},
   "outputs": [
    {
     "data": {
      "text/html": [
       "<ol class=list-inline>\n",
       "\t<li>-0.0447065854096705</li>\n",
       "\t<li>0.767256707551715</li>\n",
       "</ol>\n"
      ],
      "text/latex": [
       "\\begin{enumerate*}\n",
       "\\item -0.0447065854096705\n",
       "\\item 0.767256707551715\n",
       "\\end{enumerate*}\n"
      ],
      "text/markdown": [
       "1. -0.0447065854096705\n",
       "2. 0.767256707551715\n",
       "\n",
       "\n"
      ],
      "text/plain": [
       "[1] -0.04470659  0.76725671"
      ]
     },
     "metadata": {},
     "output_type": "display_data"
    }
   ],
   "source": [
    "CILb  = Lb + c(-1, 1) * qnorm(1 - 0.05 / 2) * sqrt(varLb) \n",
    "display(CILb)"
   ]
  },
  {
   "cell_type": "markdown",
   "metadata": {},
   "source": [
    "95% CI for true OR"
   ]
  },
  {
   "cell_type": "code",
   "execution_count": 48,
   "metadata": {},
   "outputs": [
    {
     "data": {
      "text/html": [
       "<ol class=list-inline>\n",
       "\t<li>0.956278026598539</li>\n",
       "\t<li>2.15384950273071</li>\n",
       "</ol>\n"
      ],
      "text/latex": [
       "\\begin{enumerate*}\n",
       "\\item 0.956278026598539\n",
       "\\item 2.15384950273071\n",
       "\\end{enumerate*}\n"
      ],
      "text/markdown": [
       "1. 0.956278026598539\n",
       "2. 2.15384950273071\n",
       "\n",
       "\n"
      ],
      "text/plain": [
       "[1] 0.956278 2.153850"
      ]
     },
     "metadata": {},
     "output_type": "display_data"
    }
   ],
   "source": [
    "display(CILb %>% exp)"
   ]
  }
 ],
 "metadata": {
  "kernelspec": {
   "display_name": "R",
   "language": "R",
   "name": "ir"
  },
  "language_info": {
   "codemirror_mode": "r",
   "file_extension": ".r",
   "mimetype": "text/x-r-source",
   "name": "R",
   "pygments_lexer": "r",
   "version": "3.5.1"
  }
 },
 "nbformat": 4,
 "nbformat_minor": 2
}
