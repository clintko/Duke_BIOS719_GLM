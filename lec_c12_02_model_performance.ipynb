{
 "cells": [
  {
   "cell_type": "markdown",
   "metadata": {},
   "source": [
    "# Background"
   ]
  },
  {
   "cell_type": "markdown",
   "metadata": {},
   "source": [
    "**calibration:**  \n",
    "Agreement between observed outcomes and predictions\n",
    "\n",
    "**Discrimination:**  \n",
    "Ability of model predictions to discriminate between those with and those without the outcome"
   ]
  },
  {
   "cell_type": "markdown",
   "metadata": {},
   "source": [
    "# set environment"
   ]
  },
  {
   "cell_type": "code",
   "execution_count": 41,
   "metadata": {},
   "outputs": [],
   "source": [
    "library(tidyverse)\n",
    "library(pROC)\n",
    "library(IRdisplay)"
   ]
  },
  {
   "cell_type": "code",
   "execution_count": 18,
   "metadata": {},
   "outputs": [
    {
     "data": {
      "text/html": [
       "<table>\n",
       "<thead><tr><th scope=col>dose</th><th scope=col>n</th><th scope=col>y</th><th scope=col>n_y</th></tr></thead>\n",
       "<tbody>\n",
       "\t<tr><td>1.6907</td><td>59    </td><td> 6    </td><td>53    </td></tr>\n",
       "\t<tr><td>1.7242</td><td>60    </td><td>13    </td><td>47    </td></tr>\n",
       "\t<tr><td>1.7552</td><td>62    </td><td>18    </td><td>44    </td></tr>\n",
       "\t<tr><td>1.7842</td><td>56    </td><td>28    </td><td>28    </td></tr>\n",
       "\t<tr><td>1.8113</td><td>63    </td><td>52    </td><td>11    </td></tr>\n",
       "\t<tr><td>1.8369</td><td>59    </td><td>53    </td><td> 6    </td></tr>\n",
       "\t<tr><td>1.8610</td><td>62    </td><td>61    </td><td> 1    </td></tr>\n",
       "\t<tr><td>1.8839</td><td>60    </td><td>60    </td><td> 0    </td></tr>\n",
       "</tbody>\n",
       "</table>\n"
      ],
      "text/latex": [
       "\\begin{tabular}{r|llll}\n",
       " dose & n & y & n\\_y\\\\\n",
       "\\hline\n",
       "\t 1.6907 & 59     &  6     & 53    \\\\\n",
       "\t 1.7242 & 60     & 13     & 47    \\\\\n",
       "\t 1.7552 & 62     & 18     & 44    \\\\\n",
       "\t 1.7842 & 56     & 28     & 28    \\\\\n",
       "\t 1.8113 & 63     & 52     & 11    \\\\\n",
       "\t 1.8369 & 59     & 53     &  6    \\\\\n",
       "\t 1.8610 & 62     & 61     &  1    \\\\\n",
       "\t 1.8839 & 60     & 60     &  0    \\\\\n",
       "\\end{tabular}\n"
      ],
      "text/markdown": [
       "\n",
       "dose | n | y | n_y | \n",
       "|---|---|---|---|---|---|---|---|\n",
       "| 1.6907 | 59     |  6     | 53     | \n",
       "| 1.7242 | 60     | 13     | 47     | \n",
       "| 1.7552 | 62     | 18     | 44     | \n",
       "| 1.7842 | 56     | 28     | 28     | \n",
       "| 1.8113 | 63     | 52     | 11     | \n",
       "| 1.8369 | 59     | 53     |  6     | \n",
       "| 1.8610 | 62     | 61     |  1     | \n",
       "| 1.8839 | 60     | 60     |  0     | \n",
       "\n",
       "\n"
      ],
      "text/plain": [
       "  dose   n  y  n_y\n",
       "1 1.6907 59  6 53 \n",
       "2 1.7242 60 13 47 \n",
       "3 1.7552 62 18 44 \n",
       "4 1.7842 56 28 28 \n",
       "5 1.8113 63 52 11 \n",
       "6 1.8369 59 53  6 \n",
       "7 1.8610 62 61  1 \n",
       "8 1.8839 60 60  0 "
      ]
     },
     "metadata": {},
     "output_type": "display_data"
    }
   ],
   "source": [
    "source(\"./data/beetle.R\")\n",
    "beetle"
   ]
  },
  {
   "cell_type": "markdown",
   "metadata": {},
   "source": [
    "https://discuss.analyticsvidhya.com/t/how-to-get-the-percentage-concordant-and-discordant-values-for-a-logistic-regression-model-in-r/1458"
   ]
  },
  {
   "cell_type": "code",
   "execution_count": 53,
   "metadata": {},
   "outputs": [],
   "source": [
    "concordance <- function(model){\n",
    "    \n",
    "    # Get all actual observations and their fitted values into a frame\n",
    "    fitted <- data.frame(cbind(model$y, model$fitted.values))\n",
    "    colnames(fitted)<-c('respvar','score')\n",
    "    \n",
    "    # Subset only ones\n",
    "    ones  <- fitted[fitted[,1] == 1,]\n",
    "    # Subset only zeros\n",
    "    zeros <- fitted[fitted[,1] == 0,]\n",
    "    \n",
    "    #print(ones)\n",
    "    #print(zeros)\n",
    "    # Initialise all the values\n",
    "    pairs_tested <- 0\n",
    "    conc         <- 0\n",
    "    disc         <- 0\n",
    "    ties         <- 0\n",
    "      \n",
    "    # Get the values in a for-loop\n",
    "    for(i in 1:nrow(ones)) {\n",
    "          \n",
    "        for(j in 1:nrow(zeros)) {\n",
    "            pairs_tested<-pairs_tested + 1\n",
    "            \n",
    "            if        (ones[i, 2] >  zeros[j, 2]) { \n",
    "                conc <- conc + 1 \n",
    "            } else if (ones[i, 2] == zeros[j, 2]){ \n",
    "                ties <- ties + 1 \n",
    "            } else { \n",
    "                disc <- disc + 1 \n",
    "            } # end if-else\n",
    "        } # end inner for\n",
    "    } # end outer for\n",
    "    \n",
    "    # Calculate concordance, discordance and ties\n",
    "    concordance <- conc / pairs_tested\n",
    "    discordance <- disc / pairs_tested\n",
    "    ties_perc   <- ties / pairs_tested\n",
    "    n           <- nrow(fitted)\n",
    "    \n",
    "    # index\n",
    "    # http://support.sas.com/kb/45/767.html\n",
    "    # http://support.sas.com/documentation/cdl/en/statug/66103/HTML/default/viewer.htm#statug_surveylogistic_details64.htm\n",
    "    return(\n",
    "        list(\n",
    "            \"Concordance\" = concordance,\n",
    "            \"Discordance\" = discordance,\n",
    "            \"Tied\"        = ties_perc,\n",
    "            \"Pairs\"       = pairs_tested,\n",
    "            \n",
    "            ### Somers' D\n",
    "            \"Somers D\"    = (concordance - discordance),\n",
    "            \n",
    "            ### Goodman-Kruskal Gamma\n",
    "            \"gamma\"       = (concordance - discordance) / (concordance + discordance),\n",
    "            \n",
    "            ### Kendall's Tau-a\n",
    "            \"tau-a\"       = (conc - disc) / (0.5 * n * (n - 1)),\n",
    "            \n",
    "            ### c-statistics\n",
    "            \"c\"           = auc(model$y, model$fitted.values)\n",
    "        ) # end list\n",
    "    ) # end return\n",
    "} # end func"
   ]
  },
  {
   "cell_type": "code",
   "execution_count": 54,
   "metadata": {},
   "outputs": [],
   "source": [
    "fit_logit    = glm(cbind(y, n - y) ~ dose, data = beetle,    family = binomial(link = \"logit\"))\n",
    "fit_logit_n1 = glm(cbind(y, n - y) ~ dose, data = beetle_n1, family = binomial(link = \"logit\"))"
   ]
  },
  {
   "cell_type": "code",
   "execution_count": 62,
   "metadata": {},
   "outputs": [
    {
     "data": {
      "text/html": [
       "<dl>\n",
       "\t<dt>$Concordance</dt>\n",
       "\t\t<dd>0.869831795984807</dd>\n",
       "\t<dt>$Discordance</dt>\n",
       "\t\t<dd>0.0676614215952252</dd>\n",
       "\t<dt>$Tied</dt>\n",
       "\t\t<dd>0.0625067824199674</dd>\n",
       "\t<dt>$Pairs</dt>\n",
       "\t\t<dd>55290</dd>\n",
       "\t<dt>$`Somers D`</dt>\n",
       "\t\t<dd>0.802170374389582</dd>\n",
       "\t<dt>$gamma</dt>\n",
       "\t\t<dd>0.85565458965158</dd>\n",
       "\t<dt>$`tau-a`</dt>\n",
       "\t\t<dd>0.384199584199584</dd>\n",
       "\t<dt>$c</dt>\n",
       "\t\t<dd>0.901085187194791</dd>\n",
       "</dl>\n"
      ],
      "text/latex": [
       "\\begin{description}\n",
       "\\item[\\$Concordance] 0.869831795984807\n",
       "\\item[\\$Discordance] 0.0676614215952252\n",
       "\\item[\\$Tied] 0.0625067824199674\n",
       "\\item[\\$Pairs] 55290\n",
       "\\item[\\$`Somers D`] 0.802170374389582\n",
       "\\item[\\$gamma] 0.85565458965158\n",
       "\\item[\\$`tau-a`] 0.384199584199584\n",
       "\\item[\\$c] 0.901085187194791\n",
       "\\end{description}\n"
      ],
      "text/markdown": [
       "$Concordance\n",
       ":   0.869831795984807\n",
       "$Discordance\n",
       ":   0.0676614215952252\n",
       "$Tied\n",
       ":   0.0625067824199674\n",
       "$Pairs\n",
       ":   55290\n",
       "$`Somers D`\n",
       ":   0.802170374389582\n",
       "$gamma\n",
       ":   0.85565458965158\n",
       "$`tau-a`\n",
       ":   0.384199584199584\n",
       "$c\n",
       ":   0.901085187194791\n",
       "\n",
       "\n"
      ],
      "text/plain": [
       "$Concordance\n",
       "[1] 0.8698318\n",
       "\n",
       "$Discordance\n",
       "[1] 0.06766142\n",
       "\n",
       "$Tied\n",
       "[1] 0.06250678\n",
       "\n",
       "$Pairs\n",
       "[1] 55290\n",
       "\n",
       "$`Somers D`\n",
       "[1] 0.8021704\n",
       "\n",
       "$gamma\n",
       "[1] 0.8556546\n",
       "\n",
       "$`tau-a`\n",
       "[1] 0.3841996\n",
       "\n",
       "$c\n",
       "Area under the curve: 0.9011\n"
      ]
     },
     "metadata": {},
     "output_type": "display_data"
    }
   ],
   "source": [
    "res = concordance(fit_logit_n1)\n",
    "display(res)"
   ]
  },
  {
   "cell_type": "code",
   "execution_count": 63,
   "metadata": {},
   "outputs": [
    {
     "ename": "ERROR",
     "evalue": "Error in if (ones[i, 2] > zeros[j, 2]) {: missing value where TRUE/FALSE needed\n",
     "output_type": "error",
     "traceback": [
      "Error in if (ones[i, 2] > zeros[j, 2]) {: missing value where TRUE/FALSE needed\nTraceback:\n",
      "1. concordance(fit_logit)"
     ]
    }
   ],
   "source": [
    "res = concordance(fit_logit)\n",
    "display(res)"
   ]
  },
  {
   "cell_type": "code",
   "execution_count": null,
   "metadata": {},
   "outputs": [],
   "source": []
  },
  {
   "cell_type": "code",
   "execution_count": null,
   "metadata": {},
   "outputs": [],
   "source": []
  }
 ],
 "metadata": {
  "kernelspec": {
   "display_name": "R",
   "language": "R",
   "name": "ir"
  },
  "language_info": {
   "codemirror_mode": "r",
   "file_extension": ".r",
   "mimetype": "text/x-r-source",
   "name": "R",
   "pygments_lexer": "r",
   "version": "3.5.1"
  }
 },
 "nbformat": 4,
 "nbformat_minor": 2
}
