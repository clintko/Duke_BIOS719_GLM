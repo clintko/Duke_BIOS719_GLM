{
 "cells": [
  {
   "cell_type": "markdown",
   "metadata": {},
   "source": [
    "# Flour beetle example"
   ]
  },
  {
   "cell_type": "code",
   "execution_count": null,
   "metadata": {},
   "outputs": [],
   "source": []
  },
  {
   "cell_type": "markdown",
   "metadata": {},
   "source": [
    "# Set environment"
   ]
  },
  {
   "cell_type": "code",
   "execution_count": 1,
   "metadata": {},
   "outputs": [
    {
     "name": "stderr",
     "output_type": "stream",
     "text": [
      "── Attaching packages ─────────────────────────────────────── tidyverse 1.2.1 ──\n",
      "✔ ggplot2 3.0.0     ✔ purrr   0.2.5\n",
      "✔ tibble  1.4.2     ✔ dplyr   0.7.6\n",
      "✔ tidyr   0.8.1     ✔ stringr 1.3.1\n",
      "✔ readr   1.1.1     ✔ forcats 0.3.0\n",
      "── Conflicts ────────────────────────────────────────── tidyverse_conflicts() ──\n",
      "✖ dplyr::filter() masks stats::filter()\n",
      "✖ dplyr::lag()    masks stats::lag()\n"
     ]
    }
   ],
   "source": [
    "library(tidyverse)\n",
    "library(IRdisplay)"
   ]
  },
  {
   "cell_type": "code",
   "execution_count": 13,
   "metadata": {},
   "outputs": [],
   "source": [
    "source(\"./codesnippet_r/f.glm.diag.R\")"
   ]
  },
  {
   "cell_type": "markdown",
   "metadata": {},
   "source": [
    "# Flour Beetle Example"
   ]
  },
  {
   "cell_type": "code",
   "execution_count": 7,
   "metadata": {},
   "outputs": [
    {
     "data": {
      "text/html": [
       "<table>\n",
       "<thead><tr><th scope=col>cs</th><th scope=col>batch</th><th scope=col>y</th><th scope=col>n</th></tr></thead>\n",
       "<tbody>\n",
       "\t<tr><td>49.06</td><td>0    </td><td> 2   </td><td>29   </td></tr>\n",
       "\t<tr><td>49.06</td><td>1    </td><td> 4   </td><td>30   </td></tr>\n",
       "\t<tr><td>52.99</td><td>0    </td><td> 7   </td><td>30   </td></tr>\n",
       "\t<tr><td>52.99</td><td>1    </td><td> 6   </td><td>30   </td></tr>\n",
       "\t<tr><td>56.91</td><td>0    </td><td> 9   </td><td>28   </td></tr>\n",
       "\t<tr><td>56.91</td><td>1    </td><td> 9   </td><td>34   </td></tr>\n",
       "\t<tr><td>60.84</td><td>0    </td><td>14   </td><td>27   </td></tr>\n",
       "\t<tr><td>60.84</td><td>1    </td><td>14   </td><td>29   </td></tr>\n",
       "\t<tr><td>64.76</td><td>0    </td><td>23   </td><td>30   </td></tr>\n",
       "\t<tr><td>64.76</td><td>1    </td><td>29   </td><td>33   </td></tr>\n",
       "\t<tr><td>68.69</td><td>0    </td><td>29   </td><td>31   </td></tr>\n",
       "\t<tr><td>68.69</td><td>1    </td><td>24   </td><td>28   </td></tr>\n",
       "\t<tr><td>72.61</td><td>0    </td><td>29   </td><td>30   </td></tr>\n",
       "\t<tr><td>72.61</td><td>1    </td><td>32   </td><td>32   </td></tr>\n",
       "\t<tr><td>76.54</td><td>0    </td><td>29   </td><td>29   </td></tr>\n",
       "\t<tr><td>76.54</td><td>1    </td><td>31   </td><td>31   </td></tr>\n",
       "</tbody>\n",
       "</table>\n"
      ],
      "text/latex": [
       "\\begin{tabular}{r|llll}\n",
       " cs & batch & y & n\\\\\n",
       "\\hline\n",
       "\t 49.06 & 0     &  2    & 29   \\\\\n",
       "\t 49.06 & 1     &  4    & 30   \\\\\n",
       "\t 52.99 & 0     &  7    & 30   \\\\\n",
       "\t 52.99 & 1     &  6    & 30   \\\\\n",
       "\t 56.91 & 0     &  9    & 28   \\\\\n",
       "\t 56.91 & 1     &  9    & 34   \\\\\n",
       "\t 60.84 & 0     & 14    & 27   \\\\\n",
       "\t 60.84 & 1     & 14    & 29   \\\\\n",
       "\t 64.76 & 0     & 23    & 30   \\\\\n",
       "\t 64.76 & 1     & 29    & 33   \\\\\n",
       "\t 68.69 & 0     & 29    & 31   \\\\\n",
       "\t 68.69 & 1     & 24    & 28   \\\\\n",
       "\t 72.61 & 0     & 29    & 30   \\\\\n",
       "\t 72.61 & 1     & 32    & 32   \\\\\n",
       "\t 76.54 & 0     & 29    & 29   \\\\\n",
       "\t 76.54 & 1     & 31    & 31   \\\\\n",
       "\\end{tabular}\n"
      ],
      "text/markdown": [
       "\n",
       "cs | batch | y | n | \n",
       "|---|---|---|---|---|---|---|---|---|---|---|---|---|---|---|---|\n",
       "| 49.06 | 0     |  2    | 29    | \n",
       "| 49.06 | 1     |  4    | 30    | \n",
       "| 52.99 | 0     |  7    | 30    | \n",
       "| 52.99 | 1     |  6    | 30    | \n",
       "| 56.91 | 0     |  9    | 28    | \n",
       "| 56.91 | 1     |  9    | 34    | \n",
       "| 60.84 | 0     | 14    | 27    | \n",
       "| 60.84 | 1     | 14    | 29    | \n",
       "| 64.76 | 0     | 23    | 30    | \n",
       "| 64.76 | 1     | 29    | 33    | \n",
       "| 68.69 | 0     | 29    | 31    | \n",
       "| 68.69 | 1     | 24    | 28    | \n",
       "| 72.61 | 0     | 29    | 30    | \n",
       "| 72.61 | 1     | 32    | 32    | \n",
       "| 76.54 | 0     | 29    | 29    | \n",
       "| 76.54 | 1     | 31    | 31    | \n",
       "\n",
       "\n"
      ],
      "text/plain": [
       "   cs    batch y  n \n",
       "1  49.06 0      2 29\n",
       "2  49.06 1      4 30\n",
       "3  52.99 0      7 30\n",
       "4  52.99 1      6 30\n",
       "5  56.91 0      9 28\n",
       "6  56.91 1      9 34\n",
       "7  60.84 0     14 27\n",
       "8  60.84 1     14 29\n",
       "9  64.76 0     23 30\n",
       "10 64.76 1     29 33\n",
       "11 68.69 0     29 31\n",
       "12 68.69 1     24 28\n",
       "13 72.61 0     29 30\n",
       "14 72.61 1     32 32\n",
       "15 76.54 0     29 29\n",
       "16 76.54 1     31 31"
      ]
     },
     "metadata": {},
     "output_type": "display_data"
    }
   ],
   "source": [
    "flour = tribble(\n",
    "  ~cs, ~batch, ~y, ~n,\n",
    "  49.06, 0,  2, 29,\n",
    "  49.06, 1,  4, 30,\n",
    "  52.99, 0,  7, 30,\n",
    "  52.99, 1,  6, 30,\n",
    "  56.91, 0,  9, 28,\n",
    "  56.91, 1,  9, 34,\n",
    "  60.84, 0, 14, 27,\n",
    "  60.84, 1, 14, 29,\n",
    "  64.76, 0, 23, 30,\n",
    "  64.76, 1, 29, 33,\n",
    "  68.69, 0, 29, 31,\n",
    "  68.69, 1, 24, 28,\n",
    "  72.61, 0, 29, 30,\n",
    "  72.61, 1, 32, 32,\n",
    "  76.54, 0, 29, 29,\n",
    "  76.54, 1, 31, 31,\n",
    ")\n",
    "\n",
    "display(flour)"
   ]
  },
  {
   "cell_type": "markdown",
   "metadata": {},
   "source": [
    "# fit model"
   ]
  },
  {
   "cell_type": "code",
   "execution_count": 9,
   "metadata": {},
   "outputs": [
    {
     "data": {
      "text/plain": [
       "\n",
       "Call:\n",
       "glm(formula = cbind(y, n - y) ~ cs, family = binomial, data = flour, \n",
       "    x = T)\n",
       "\n",
       "Deviance Residuals: \n",
       "    Min       1Q   Median       3Q      Max  \n",
       "-1.1290  -0.4164   0.2758   0.9271   1.5347  \n",
       "\n",
       "Coefficients:\n",
       "             Estimate Std. Error z value Pr(>|z|)    \n",
       "(Intercept) -14.80845    1.28976  -11.48   <2e-16 ***\n",
       "cs            0.24917    0.02138   11.65   <2e-16 ***\n",
       "---\n",
       "Signif. codes:  0 ‘***’ 0.001 ‘**’ 0.01 ‘*’ 0.05 ‘.’ 0.1 ‘ ’ 1\n",
       "\n",
       "(Dispersion parameter for binomial family taken to be 1)\n",
       "\n",
       "    Null deviance: 289.141  on 15  degrees of freedom\n",
       "Residual deviance:  12.505  on 14  degrees of freedom\n",
       "AIC: 58.474\n",
       "\n",
       "Number of Fisher Scoring iterations: 4\n"
      ]
     },
     "metadata": {},
     "output_type": "display_data"
    }
   ],
   "source": [
    "flour_fit = glm(cbind(y, n-y) ~ cs, data = flour, family = binomial, x = T)\n",
    "summary(flour_fit)"
   ]
  },
  {
   "cell_type": "code",
   "execution_count": 29,
   "metadata": {},
   "outputs": [
    {
     "data": {
      "image/png": "[encoded data removed]",
      "text/plain": [
       "plot without title"
      ]
     },
     "metadata": {},
     "output_type": "display_data"
    }
   ],
   "source": [
    "dat = cbind(flour, f.glm.diag(flour_fit))\n",
    "gp  = ggplot(dat, aes(x = cs, y = sdres))\n",
    "gp  = gp +\n",
    "    geom_point() + \n",
    "    geom_hline(yintercept = 0, lty = 2) +\n",
    "    geom_smooth(method = \"loess\") +\n",
    "    labs(title = \"cbind(y, n-y) ~ cs\",\n",
    "         x = \"concentration\", y = \"standardized\\ndeviane residual\")\n",
    "\n",
    "options(repr.plot.width = 3, repr.plot.height = 3)\n",
    "print(gp)\n",
    "#options(repr.plot.width=8, repr.plot.height=3)"
   ]
  },
  {
   "cell_type": "code",
   "execution_count": 32,
   "metadata": {},
   "outputs": [
    {
     "data": {
      "text/plain": [
       "\n",
       "Call:\n",
       "glm(formula = cbind(y, n - y) ~ cs + I(cs^2), family = binomial, \n",
       "    data = flour, x = T)\n",
       "\n",
       "Deviance Residuals: \n",
       "    Min       1Q   Median       3Q      Max  \n",
       "-1.2811  -0.5418   0.1436   0.4311   1.5281  \n",
       "\n",
       "Coefficients:\n",
       "             Estimate Std. Error z value Pr(>|z|)  \n",
       "(Intercept)  7.968410  11.036327   0.722   0.4703  \n",
       "cs          -0.516593   0.373635  -1.383   0.1668  \n",
       "I(cs^2)      0.006372   0.003143   2.027   0.0426 *\n",
       "---\n",
       "Signif. codes:  0 ‘***’ 0.001 ‘**’ 0.01 ‘*’ 0.05 ‘.’ 0.1 ‘ ’ 1\n",
       "\n",
       "(Dispersion parameter for binomial family taken to be 1)\n",
       "\n",
       "    Null deviance: 289.1413  on 15  degrees of freedom\n",
       "Residual deviance:   7.9273  on 13  degrees of freedom\n",
       "AIC: 55.896\n",
       "\n",
       "Number of Fisher Scoring iterations: 5\n"
      ]
     },
     "metadata": {},
     "output_type": "display_data"
    }
   ],
   "source": [
    "flour_fit_cssq = glm(cbind(y, n-y) ~ cs + I(cs^2), data = flour, family = binomial, x = T)\n",
    "summary(flour_fit_cssq)"
   ]
  },
  {
   "cell_type": "code",
   "execution_count": 33,
   "metadata": {},
   "outputs": [
    {
     "data": {
      "image/png": "[encoded data removed]",
      "text/plain": [
       "plot without title"
      ]
     },
     "metadata": {},
     "output_type": "display_data"
    }
   ],
   "source": [
    "dat = cbind(flour, f.glm.diag(flour_fit_cssq))\n",
    "gp  = ggplot(dat, aes(x = cs, y = sdres))\n",
    "\n",
    "gp  = gp +\n",
    "    geom_point() + \n",
    "    geom_hline(yintercept = 0, lty = 2) +\n",
    "    geom_smooth(method = \"loess\") +\n",
    "    labs(title = \"cbind(y, n-y) ~ cs + cs^2\",\n",
    "         x = \"concentration\", y = \"standardized\\ndeviane residual\")\n",
    "\n",
    "options(repr.plot.width = 3, repr.plot.height = 3)\n",
    "print(gp)\n",
    "#options(repr.plot.width=8, repr.plot.height=3)"
   ]
  },
  {
   "cell_type": "code",
   "execution_count": 36,
   "metadata": {},
   "outputs": [
    {
     "name": "stdout",
     "output_type": "stream",
     "text": [
      "$hat\n",
      "         1          2          3          4          5          6          7 \n",
      "0.34567208 0.35759181 0.15918243 0.15918243 0.16548406 0.20094494 0.19483079 \n",
      "         8          9         10         11         12         13         14 \n",
      "0.20926270 0.17545320 0.19299852 0.18979174 0.17142480 0.15445816 0.16475537 \n",
      "        15         16 \n",
      "0.07683405 0.08213295 \n",
      "\n",
      "$coefficients\n",
      "   (Intercept)           cs       I(cs^2)\n",
      "1   -6.0576438  0.193860386 -1.541371e-03\n",
      "2    2.2864221 -0.073171464  5.817815e-04\n",
      "3    0.7190229 -0.017830737  1.037260e-04\n",
      "4    0.2713826 -0.006729899  3.914958e-05\n",
      "5   -0.3010969  0.010805341 -9.406841e-05\n",
      "6    1.8280013 -0.065600726  5.711024e-04\n",
      "7    0.4901528 -0.016552808  1.362994e-04\n",
      "8    2.0351434 -0.068728242  5.659232e-04\n",
      "9    0.0997207 -0.002692958  1.534729e-05\n",
      "10  -1.4737657  0.039799041 -2.268165e-04\n",
      "11   0.4833269 -0.017773300  1.622902e-04\n",
      "12  -3.3092616  0.121690921 -1.111175e-03\n",
      "13  -2.3001338  0.081486313 -7.157391e-04\n",
      "14   4.1415204 -0.146720699  1.288729e-03\n",
      "15   1.1881164 -0.041591557  3.607288e-04\n",
      "16   1.2773876 -0.044716610  3.878327e-04\n",
      "\n",
      "$sigma\n",
      "        1         2         3         4         5         6         7         8 \n",
      "0.7560998 0.8053494 0.7798024 0.8081640 0.8119902 0.7895140 0.8116533 0.7948411 \n",
      "        9        10        11        12        13        14        15        16 \n",
      "0.8120159 0.6476709 0.8108644 0.7039603 0.7899452 0.7421135 0.8025686 0.8017961 \n",
      "\n",
      "$dev.res\n",
      "         1          2          3          4          5          6          7 \n",
      "-0.8355977  0.3044415  0.7279459  0.2747504  0.1133328 -0.5978708 -0.1329535 \n",
      "         8          9         10         11         12         13         14 \n",
      "-0.5231080 -0.1108027  1.5281155  0.1738753 -1.2810473 -0.6093716  1.0494291 \n",
      "        15         16 \n",
      " 0.4274624  0.4419567 \n",
      "\n",
      "$pear.res\n",
      "         1          2          3          4          5          6          7 \n",
      "-0.7798609  0.3110903  0.7532469  0.2784852  0.1136574 -0.5889597 -0.1330174 \n",
      "         8          9         10         11         12         13         14 \n",
      "-0.5237584 -0.1112903  1.4260614  0.1708499 -1.4365219 -0.6882711  0.7452622 \n",
      "        15         16 \n",
      " 0.3024998  0.3127569 \n",
      "\n"
     ]
    }
   ],
   "source": [
    "print(influence(flour_fit_cssq))"
   ]
  },
  {
   "cell_type": "code",
   "execution_count": null,
   "metadata": {},
   "outputs": [],
   "source": []
  },
  {
   "cell_type": "markdown",
   "metadata": {},
   "source": [
    "# Test and inference"
   ]
  },
  {
   "cell_type": "markdown",
   "metadata": {},
   "source": [
    "### Wald test"
   ]
  },
  {
   "cell_type": "code",
   "execution_count": 37,
   "metadata": {},
   "outputs": [
    {
     "data": {
      "text/plain": [
       "\n",
       "Call:\n",
       "glm(formula = cbind(y, n - y) ~ cs, family = binomial, data = flour, \n",
       "    x = T)\n",
       "\n",
       "Deviance Residuals: \n",
       "    Min       1Q   Median       3Q      Max  \n",
       "-1.1290  -0.4164   0.2758   0.9271   1.5347  \n",
       "\n",
       "Coefficients:\n",
       "             Estimate Std. Error z value Pr(>|z|)    \n",
       "(Intercept) -14.80845    1.28976  -11.48   <2e-16 ***\n",
       "cs            0.24917    0.02138   11.65   <2e-16 ***\n",
       "---\n",
       "Signif. codes:  0 ‘***’ 0.001 ‘**’ 0.01 ‘*’ 0.05 ‘.’ 0.1 ‘ ’ 1\n",
       "\n",
       "(Dispersion parameter for binomial family taken to be 1)\n",
       "\n",
       "    Null deviance: 289.141  on 15  degrees of freedom\n",
       "Residual deviance:  12.505  on 14  degrees of freedom\n",
       "AIC: 58.474\n",
       "\n",
       "Number of Fisher Scoring iterations: 4\n"
      ]
     },
     "metadata": {},
     "output_type": "display_data"
    }
   ],
   "source": [
    "summary(flour_fit)"
   ]
  },
  {
   "cell_type": "markdown",
   "metadata": {},
   "source": [
    "### Likelihood ratio test"
   ]
  },
  {
   "cell_type": "code",
   "execution_count": 38,
   "metadata": {},
   "outputs": [
    {
     "data": {
      "text/html": [
       "<table>\n",
       "<thead><tr><th></th><th scope=col>Df</th><th scope=col>Deviance</th><th scope=col>Resid. Df</th><th scope=col>Resid. Dev</th><th scope=col>Pr(&gt;Chi)</th></tr></thead>\n",
       "<tbody>\n",
       "\t<tr><th scope=row>NULL</th><td>NA          </td><td>        NA  </td><td>15          </td><td>289.141295  </td><td>          NA</td></tr>\n",
       "\t<tr><th scope=row>cs</th><td> 1          </td><td>276.636033  </td><td>14          </td><td> 12.505262  </td><td>4.061425e-62</td></tr>\n",
       "\t<tr><th scope=row>I(cs^2)</th><td> 1          </td><td>  4.577934  </td><td>13          </td><td>  7.927328  </td><td>3.238624e-02</td></tr>\n",
       "</tbody>\n",
       "</table>\n"
      ],
      "text/latex": [
       "\\begin{tabular}{r|lllll}\n",
       "  & Df & Deviance & Resid. Df & Resid. Dev & Pr(>Chi)\\\\\n",
       "\\hline\n",
       "\tNULL & NA           &         NA   & 15           & 289.141295   &           NA\\\\\n",
       "\tcs &  1           & 276.636033   & 14           &  12.505262   & 4.061425e-62\\\\\n",
       "\tI(cs\\textasciicircum{}2) &  1           &   4.577934   & 13           &   7.927328   & 3.238624e-02\\\\\n",
       "\\end{tabular}\n"
      ],
      "text/markdown": [
       "\n",
       "| <!--/--> | Df | Deviance | Resid. Df | Resid. Dev | Pr(>Chi) | \n",
       "|---|---|---|\n",
       "| NULL | NA           |         NA   | 15           | 289.141295   |           NA | \n",
       "| cs |  1           | 276.636033   | 14           |  12.505262   | 4.061425e-62 | \n",
       "| I(cs^2) |  1           |   4.577934   | 13           |   7.927328   | 3.238624e-02 | \n",
       "\n",
       "\n"
      ],
      "text/plain": [
       "        Df Deviance   Resid. Df Resid. Dev Pr(>Chi)    \n",
       "NULL    NA         NA 15        289.141295           NA\n",
       "cs       1 276.636033 14         12.505262 4.061425e-62\n",
       "I(cs^2)  1   4.577934 13          7.927328 3.238624e-02"
      ]
     },
     "metadata": {},
     "output_type": "display_data"
    }
   ],
   "source": [
    "anova(flour_fit_cssq, test = \"Chisq\")"
   ]
  },
  {
   "cell_type": "markdown",
   "metadata": {},
   "source": [
    "### Drop1 test"
   ]
  },
  {
   "cell_type": "code",
   "execution_count": 41,
   "metadata": {},
   "outputs": [
    {
     "data": {
      "text/html": [
       "<table>\n",
       "<thead><tr><th></th><th scope=col>Df</th><th scope=col>Deviance</th><th scope=col>AIC</th><th scope=col>LRT</th><th scope=col>Pr(&gt;Chi)</th></tr></thead>\n",
       "<tbody>\n",
       "\t<tr><th scope=row>&lt;none&gt;</th><td>NA        </td><td> 7.927328 </td><td>55.89589  </td><td>      NA  </td><td>        NA</td></tr>\n",
       "\t<tr><th scope=row>cs</th><td> 1        </td><td> 9.950578 </td><td>55.91914  </td><td>2.023250  </td><td>0.15490728</td></tr>\n",
       "\t<tr><th scope=row>I(cs^2)</th><td> 1        </td><td>12.505262 </td><td>58.47382  </td><td>4.577934  </td><td>0.03238624</td></tr>\n",
       "</tbody>\n",
       "</table>\n"
      ],
      "text/latex": [
       "\\begin{tabular}{r|lllll}\n",
       "  & Df & Deviance & AIC & LRT & Pr(>Chi)\\\\\n",
       "\\hline\n",
       "\t<none> & NA         &  7.927328  & 55.89589   &       NA   &         NA\\\\\n",
       "\tcs &  1         &  9.950578  & 55.91914   & 2.023250   & 0.15490728\\\\\n",
       "\tI(cs\\textasciicircum{}2) &  1         & 12.505262  & 58.47382   & 4.577934   & 0.03238624\\\\\n",
       "\\end{tabular}\n"
      ],
      "text/markdown": [
       "\n",
       "| <!--/--> | Df | Deviance | AIC | LRT | Pr(>Chi) | \n",
       "|---|---|---|\n",
       "| <none> | NA         |  7.927328  | 55.89589   |       NA   |         NA | \n",
       "| cs |  1         |  9.950578  | 55.91914   | 2.023250   | 0.15490728 | \n",
       "| I(cs^2) |  1         | 12.505262  | 58.47382   | 4.577934   | 0.03238624 | \n",
       "\n",
       "\n"
      ],
      "text/plain": [
       "        Df Deviance  AIC      LRT      Pr(>Chi)  \n",
       "<none>  NA  7.927328 55.89589       NA         NA\n",
       "cs       1  9.950578 55.91914 2.023250 0.15490728\n",
       "I(cs^2)  1 12.505262 58.47382 4.577934 0.03238624"
      ]
     },
     "metadata": {},
     "output_type": "display_data"
    }
   ],
   "source": [
    "drop1(flour_fit_cssq, test = \"Chisq\")"
   ]
  },
  {
   "cell_type": "markdown",
   "metadata": {},
   "source": [
    "# Prediction"
   ]
  },
  {
   "cell_type": "code",
   "execution_count": 46,
   "metadata": {},
   "outputs": [
    {
     "data": {
      "text/html": [
       "<dl class=dl-horizontal>\n",
       "\t<dt>1</dt>\n",
       "\t\t<dd>0.0701659029203667</dd>\n",
       "\t<dt>2</dt>\n",
       "\t\t<dd>0.0701659029203667</dd>\n",
       "\t<dt>3</dt>\n",
       "\t\t<dd>0.16729737226103</dd>\n",
       "\t<dt>4</dt>\n",
       "\t\t<dd>0.16729737226103</dd>\n",
       "\t<dt>5</dt>\n",
       "\t\t<dd>0.34792891732979</dd>\n",
       "\t<dt>6</dt>\n",
       "\t\t<dd>0.34792891732979</dd>\n",
       "\t<dt>7</dt>\n",
       "\t\t<dd>0.586880574721414</dd>\n",
       "\t<dt>8</dt>\n",
       "\t\t<dd>0.586880574721414</dd>\n",
       "\t<dt>9</dt>\n",
       "\t\t<dd>0.790481951744897</dd>\n",
       "\t<dt>10</dt>\n",
       "\t\t<dd>0.790481951744897</dd>\n",
       "\t<dt>11</dt>\n",
       "\t\t<dd>0.909461126264501</dd>\n",
       "\t<dt>12</dt>\n",
       "\t\t<dd>0.909461126264501</dd>\n",
       "\t<dt>13</dt>\n",
       "\t\t<dd>0.963869595152768</dd>\n",
       "\t<dt>14</dt>\n",
       "\t\t<dd>0.963869595152768</dd>\n",
       "\t<dt>15</dt>\n",
       "\t\t<dd>0.986116333735456</dd>\n",
       "\t<dt>16</dt>\n",
       "\t\t<dd>0.986116333735456</dd>\n",
       "</dl>\n"
      ],
      "text/latex": [
       "\\begin{description*}\n",
       "\\item[1] 0.0701659029203667\n",
       "\\item[2] 0.0701659029203667\n",
       "\\item[3] 0.16729737226103\n",
       "\\item[4] 0.16729737226103\n",
       "\\item[5] 0.34792891732979\n",
       "\\item[6] 0.34792891732979\n",
       "\\item[7] 0.586880574721414\n",
       "\\item[8] 0.586880574721414\n",
       "\\item[9] 0.790481951744897\n",
       "\\item[10] 0.790481951744897\n",
       "\\item[11] 0.909461126264501\n",
       "\\item[12] 0.909461126264501\n",
       "\\item[13] 0.963869595152768\n",
       "\\item[14] 0.963869595152768\n",
       "\\item[15] 0.986116333735456\n",
       "\\item[16] 0.986116333735456\n",
       "\\end{description*}\n"
      ],
      "text/markdown": [
       "1\n",
       ":   0.07016590292036672\n",
       ":   0.07016590292036673\n",
       ":   0.167297372261034\n",
       ":   0.167297372261035\n",
       ":   0.347928917329796\n",
       ":   0.347928917329797\n",
       ":   0.5868805747214148\n",
       ":   0.5868805747214149\n",
       ":   0.79048195174489710\n",
       ":   0.79048195174489711\n",
       ":   0.90946112626450112\n",
       ":   0.90946112626450113\n",
       ":   0.96386959515276814\n",
       ":   0.96386959515276815\n",
       ":   0.98611633373545616\n",
       ":   0.986116333735456\n",
       "\n"
      ],
      "text/plain": [
       "        1         2         3         4         5         6         7         8 \n",
       "0.0701659 0.0701659 0.1672974 0.1672974 0.3479289 0.3479289 0.5868806 0.5868806 \n",
       "        9        10        11        12        13        14        15        16 \n",
       "0.7904820 0.7904820 0.9094611 0.9094611 0.9638696 0.9638696 0.9861163 0.9861163 "
      ]
     },
     "metadata": {},
     "output_type": "display_data"
    }
   ],
   "source": [
    "flour_fit$fitted.values"
   ]
  },
  {
   "cell_type": "code",
   "execution_count": 58,
   "metadata": {},
   "outputs": [
    {
     "data": {
      "text/html": [
       "<table>\n",
       "<thead><tr><th scope=col>cs</th><th scope=col>batch</th><th scope=col>y</th><th scope=col>n</th><th scope=col>fit_linear</th><th scope=col>fit_square</th></tr></thead>\n",
       "<tbody>\n",
       "\t<tr><td>49.06    </td><td>0        </td><td> 2       </td><td>29       </td><td>0.0701659</td><td>0.1152001</td></tr>\n",
       "\t<tr><td>49.06    </td><td>1        </td><td> 4       </td><td>30       </td><td>0.0701659</td><td>0.1152001</td></tr>\n",
       "\t<tr><td>52.99    </td><td>0        </td><td> 7       </td><td>30       </td><td>0.1672974</td><td>0.1804474</td></tr>\n",
       "\t<tr><td>52.99    </td><td>1        </td><td> 6       </td><td>30       </td><td>0.1672974</td><td>0.1804474</td></tr>\n",
       "\t<tr><td>56.91    </td><td>0        </td><td> 9       </td><td>28       </td><td>0.3479289</td><td>0.3114816</td></tr>\n",
       "\t<tr><td>56.91    </td><td>1        </td><td> 9       </td><td>34       </td><td>0.3479289</td><td>0.3114816</td></tr>\n",
       "\t<tr><td>60.84    </td><td>0        </td><td>14       </td><td>27       </td><td>0.5868806</td><td>0.5312930</td></tr>\n",
       "\t<tr><td>60.84    </td><td>1        </td><td>14       </td><td>29       </td><td>0.5868806</td><td>0.5312930</td></tr>\n",
       "\t<tr><td>64.76    </td><td>0        </td><td>23       </td><td>30       </td><td>0.7904820</td><td>0.7751494</td></tr>\n",
       "\t<tr><td>64.76    </td><td>1        </td><td>29       </td><td>33       </td><td>0.7904820</td><td>0.7751494</td></tr>\n",
       "\t<tr><td>68.69    </td><td>0        </td><td>29       </td><td>31       </td><td>0.9094611</td><td>0.9275281</td></tr>\n",
       "\t<tr><td>68.69    </td><td>1        </td><td>24       </td><td>28       </td><td>0.9094611</td><td>0.9275281</td></tr>\n",
       "\t<tr><td>72.61    </td><td>0        </td><td>29       </td><td>30       </td><td>0.9638696</td><td>0.9829394</td></tr>\n",
       "\t<tr><td>72.61    </td><td>1        </td><td>32       </td><td>32       </td><td>0.9638696</td><td>0.9829394</td></tr>\n",
       "\t<tr><td>76.54    </td><td>0        </td><td>29       </td><td>29       </td><td>0.9861163</td><td>0.9968545</td></tr>\n",
       "\t<tr><td>76.54    </td><td>1        </td><td>31       </td><td>31       </td><td>0.9861163</td><td>0.9968545</td></tr>\n",
       "</tbody>\n",
       "</table>\n"
      ],
      "text/latex": [
       "\\begin{tabular}{r|llllll}\n",
       " cs & batch & y & n & fit\\_linear & fit\\_square\\\\\n",
       "\\hline\n",
       "\t 49.06     & 0         &  2        & 29        & 0.0701659 & 0.1152001\\\\\n",
       "\t 49.06     & 1         &  4        & 30        & 0.0701659 & 0.1152001\\\\\n",
       "\t 52.99     & 0         &  7        & 30        & 0.1672974 & 0.1804474\\\\\n",
       "\t 52.99     & 1         &  6        & 30        & 0.1672974 & 0.1804474\\\\\n",
       "\t 56.91     & 0         &  9        & 28        & 0.3479289 & 0.3114816\\\\\n",
       "\t 56.91     & 1         &  9        & 34        & 0.3479289 & 0.3114816\\\\\n",
       "\t 60.84     & 0         & 14        & 27        & 0.5868806 & 0.5312930\\\\\n",
       "\t 60.84     & 1         & 14        & 29        & 0.5868806 & 0.5312930\\\\\n",
       "\t 64.76     & 0         & 23        & 30        & 0.7904820 & 0.7751494\\\\\n",
       "\t 64.76     & 1         & 29        & 33        & 0.7904820 & 0.7751494\\\\\n",
       "\t 68.69     & 0         & 29        & 31        & 0.9094611 & 0.9275281\\\\\n",
       "\t 68.69     & 1         & 24        & 28        & 0.9094611 & 0.9275281\\\\\n",
       "\t 72.61     & 0         & 29        & 30        & 0.9638696 & 0.9829394\\\\\n",
       "\t 72.61     & 1         & 32        & 32        & 0.9638696 & 0.9829394\\\\\n",
       "\t 76.54     & 0         & 29        & 29        & 0.9861163 & 0.9968545\\\\\n",
       "\t 76.54     & 1         & 31        & 31        & 0.9861163 & 0.9968545\\\\\n",
       "\\end{tabular}\n"
      ],
      "text/markdown": [
       "\n",
       "cs | batch | y | n | fit_linear | fit_square | \n",
       "|---|---|---|---|---|---|---|---|---|---|---|---|---|---|---|---|\n",
       "| 49.06     | 0         |  2        | 29        | 0.0701659 | 0.1152001 | \n",
       "| 49.06     | 1         |  4        | 30        | 0.0701659 | 0.1152001 | \n",
       "| 52.99     | 0         |  7        | 30        | 0.1672974 | 0.1804474 | \n",
       "| 52.99     | 1         |  6        | 30        | 0.1672974 | 0.1804474 | \n",
       "| 56.91     | 0         |  9        | 28        | 0.3479289 | 0.3114816 | \n",
       "| 56.91     | 1         |  9        | 34        | 0.3479289 | 0.3114816 | \n",
       "| 60.84     | 0         | 14        | 27        | 0.5868806 | 0.5312930 | \n",
       "| 60.84     | 1         | 14        | 29        | 0.5868806 | 0.5312930 | \n",
       "| 64.76     | 0         | 23        | 30        | 0.7904820 | 0.7751494 | \n",
       "| 64.76     | 1         | 29        | 33        | 0.7904820 | 0.7751494 | \n",
       "| 68.69     | 0         | 29        | 31        | 0.9094611 | 0.9275281 | \n",
       "| 68.69     | 1         | 24        | 28        | 0.9094611 | 0.9275281 | \n",
       "| 72.61     | 0         | 29        | 30        | 0.9638696 | 0.9829394 | \n",
       "| 72.61     | 1         | 32        | 32        | 0.9638696 | 0.9829394 | \n",
       "| 76.54     | 0         | 29        | 29        | 0.9861163 | 0.9968545 | \n",
       "| 76.54     | 1         | 31        | 31        | 0.9861163 | 0.9968545 | \n",
       "\n",
       "\n"
      ],
      "text/plain": [
       "   cs    batch y  n  fit_linear fit_square\n",
       "1  49.06 0      2 29 0.0701659  0.1152001 \n",
       "2  49.06 1      4 30 0.0701659  0.1152001 \n",
       "3  52.99 0      7 30 0.1672974  0.1804474 \n",
       "4  52.99 1      6 30 0.1672974  0.1804474 \n",
       "5  56.91 0      9 28 0.3479289  0.3114816 \n",
       "6  56.91 1      9 34 0.3479289  0.3114816 \n",
       "7  60.84 0     14 27 0.5868806  0.5312930 \n",
       "8  60.84 1     14 29 0.5868806  0.5312930 \n",
       "9  64.76 0     23 30 0.7904820  0.7751494 \n",
       "10 64.76 1     29 33 0.7904820  0.7751494 \n",
       "11 68.69 0     29 31 0.9094611  0.9275281 \n",
       "12 68.69 1     24 28 0.9094611  0.9275281 \n",
       "13 72.61 0     29 30 0.9638696  0.9829394 \n",
       "14 72.61 1     32 32 0.9638696  0.9829394 \n",
       "15 76.54 0     29 29 0.9861163  0.9968545 \n",
       "16 76.54 1     31 31 0.9861163  0.9968545 "
      ]
     },
     "metadata": {},
     "output_type": "display_data"
    }
   ],
   "source": [
    "fit_linear = flour_fit$fitted.values\n",
    "fit_square = flour_fit_cssq$fitted.values\n",
    "\n",
    "dat = as.data.frame(cbind(flour, fit_linear, fit_square))\n",
    "dat"
   ]
  },
  {
   "cell_type": "markdown",
   "metadata": {},
   "source": [
    "https://stackoverflow.com/questions/10349206/add-legend-to-ggplot2-line-plotmm"
   ]
  },
  {
   "cell_type": "code",
   "execution_count": 67,
   "metadata": {},
   "outputs": [
    {
     "data": {
      "image/png": "[encoded data removed]",
      "text/plain": [
       "plot without title"
      ]
     },
     "metadata": {},
     "output_type": "display_data"
    }
   ],
   "source": [
    "gp = ggplot(dat, aes(x = cs)) +\n",
    "    geom_point(aes(y = y / n)) +\n",
    "    geom_line( aes(y = fit_linear, color = 'fit linear')) +\n",
    "    geom_line( aes(y = fit_square, color = 'fit square')) +\n",
    "    scale_colour_manual(\"\", \n",
    "                      breaks = c(\"fit linear\", \"fit square\"),\n",
    "                      values = c(\"steelblue\",  \"salmon\")) +\n",
    "    labs(y = \"Predicted Probability\\nof Success\",\n",
    "         x = \"Concentration\")\n",
    "\n",
    "options(repr.plot.width = 5, repr.plot.height = 3)\n",
    "print(gp)"
   ]
  },
  {
   "cell_type": "code",
   "execution_count": null,
   "metadata": {},
   "outputs": [],
   "source": []
  },
  {
   "cell_type": "code",
   "execution_count": null,
   "metadata": {},
   "outputs": [],
   "source": []
  }
 ],
 "metadata": {
  "kernelspec": {
   "display_name": "R",
   "language": "R",
   "name": "ir"
  },
  "language_info": {
   "codemirror_mode": "r",
   "file_extension": ".r",
   "mimetype": "text/x-r-source",
   "name": "R",
   "pygments_lexer": "r",
   "version": "3.5.1"
  }
 },
 "nbformat": 4,
 "nbformat_minor": 2
}
