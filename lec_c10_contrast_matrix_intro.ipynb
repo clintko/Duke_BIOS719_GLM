{
 "cells": [
  {
   "cell_type": "markdown",
   "metadata": {},
   "source": [
    "# Contrast matrix"
   ]
  },
  {
   "cell_type": "markdown",
   "metadata": {},
   "source": [
    "In our glm model,  \n",
    "\n",
    "$g(\\mu_i) = x_i^T \\beta$\n",
    "\n",
    "contrast matrix is a linear combination of parameters  \n",
    "\n",
    "$L^T \\beta$\n",
    "\n",
    "where\n",
    "\n",
    "$L = \\begin{bmatrix} a_1 & a_2 & \\dots & a_p \\end{bmatrix}$"
   ]
  },
  {
   "cell_type": "markdown",
   "metadata": {},
   "source": [
    "# Estimation of a linear combination of parameters"
   ]
  },
  {
   "cell_type": "markdown",
   "metadata": {},
   "source": [
    "$L^T \\beta = \\begin{bmatrix} a_1 & a_2 & \\dots & a_p \\end{bmatrix} \\begin{bmatrix} \\beta_1 \\\\ \\beta_2 \\\\ \\vdots \\\\ \\beta_p \\end{bmatrix} = a_1 \\beta_1 + a_2 \\beta_2 + \\dots + a_p \\beta_p$"
   ]
  },
  {
   "cell_type": "markdown",
   "metadata": {},
   "source": [
    "<font color = \"blue\">**Invariance property of MLE**</font>\n",
    "\n",
    "MLE of a function of parameters is teh function of parameter MLEs\n",
    "\n",
    "$$\\widehat{L^T \\beta} = L^T \\widehat{\\beta} = a_1 \\widehat{\\beta_1} + a_2 \\widehat{\\beta_2} + \\dots + a_p \\widehat{\\beta_p}$$\n",
    "\n",
    "$$var(L^T \\widehat{\\beta}) = L^T cov(\\widehat{\\beta}) L = a^T cov(\\widehat{\\beta}) a$$"
   ]
  },
  {
   "cell_type": "markdown",
   "metadata": {},
   "source": [
    "| <p align=\"left\">Parameters</p>          | <p align=\"left\">Estimate</p>                      |\n",
    "|-----------------------------------------|---------------------------------------------------|\n",
    "| <p align=\"left\">$L^T \\beta$</p>         | <p align=\"left\">$L^T \\widehat{\\beta}$</p>         |\n",
    "| <p align=\"left\">$\\exp{(L^T \\beta)}$</p> | <p align=\"left\">$\\exp{(L^T \\widehat{\\beta)}}$</p> |\n",
    "| <p align=\"left\">$\\pi = \\frac{1}{1 + \\exp{(L^T \\beta)}}$</p> | <p align=\"left\">$\\widehat{\\pi} = \\frac{1}{1 + \\exp{(L^T \\widehat{\\beta})}}$</p> |"
   ]
  },
  {
   "cell_type": "markdown",
   "metadata": {},
   "source": [
    "| <p align=\"left\">Parameters</p>          | <p align=\"left\">Estimate</p>                      |\n",
    "|-----------------------------------------|---------------------------------------------------|\n",
    "| <p align=\"left\">95% CI for true $L^T \\beta$</p>         | <p align=\"left\">$L^T \\widehat{\\beta} \\pm 1.96 \\sqrt{V(L^T \\widehat{\\beta})}$</p>         |\n",
    "| <p align=\"left\">95% CI for true $\\exp{(L^T \\beta)}$</p> | <p align=\"left\">$exp \\Big(L^T \\widehat{\\beta} \\pm 1.96 \\sqrt{V(L^T \\widehat{\\beta})}\\Big)$</p> |\n",
    "| <p align=\"left\">95% CI for true $\\pi$</p> | <p align=\"left\">$\\frac{1}{1 + exp \\Big(L^T \\widehat{\\beta} \\pm 1.96 \\sqrt{V(L^T \\widehat{\\beta})}\\Big)}$</p> |"
   ]
  }
 ],
 "metadata": {
  "kernelspec": {
   "display_name": "R",
   "language": "R",
   "name": "ir"
  },
  "language_info": {
   "codemirror_mode": "r",
   "file_extension": ".r",
   "mimetype": "text/x-r-source",
   "name": "R",
   "pygments_lexer": "r",
   "version": "3.5.1"
  }
 },
 "nbformat": 4,
 "nbformat_minor": 2
}
